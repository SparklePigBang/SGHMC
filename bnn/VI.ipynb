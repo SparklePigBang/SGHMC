{
 "cells": [
  {
   "cell_type": "markdown",
   "id": "0cb08079",
   "metadata": {},
   "source": [
    "# Variational Inference and SGHMC\n",
    "\n",
    "The purpose of this notebook is to compare Variational Inference (VI) and Stochastic Gradient Hamiltonian Monte Carlo (SGHMC) is the MNIST Bayesian neural network (BNN) setting.\n",
    "\n",
    "As a fair comparison we allow (VI) 50 epochs to learn the variational parameters of the BNN, we also give SGHMC 50 burn-in epochs so that it has hopefully reached the posterior distribution by this point (or at least found some good parameters). We then sample 80000 samples from the variational posterior and we (approximately) sample 80000 parameters from the true posterior using SGHMC.\n",
    "\n",
    "We the compare the two sample sets using a 50000/10000 train/validation split."
   ]
  },
  {
   "cell_type": "code",
   "execution_count": 1,
   "id": "cf54e144",
   "metadata": {},
   "outputs": [],
   "source": [
    "import sys\n",
    "sys.path.append(\"..\")\n",
    "\n",
    "import time\n",
    "import numpy as np\n",
    "import matplotlib.pyplot as plt\n",
    "\n",
    "import torch\n",
    "from torchvision import datasets, transforms\n",
    "from torch.utils.data import DataLoader\n",
    "import torch.nn.functional as F\n",
    "\n",
    "import seaborn as sns # conda install seaborn\n",
    "import pandas as pd # ^^ this will automatically install pandas\n",
    "\n",
    "import pyro\n",
    "from pyro.infer.mcmc import MCMC\n",
    "import pyro.distributions as dist\n",
    "\n",
    "from kernel.sghmc import SGHMC\n",
    "\n",
    "from pyro.infer import SVI, Trace_ELBO, RenyiELBO\n",
    "from pyro.optim import SGD, Adam, ClippedAdam\n",
    "\n",
    "pyro.set_rng_seed(101)\n",
    "\n",
    "plt.rcParams['figure.dpi'] = 300"
   ]
  },
  {
   "cell_type": "code",
   "execution_count": 2,
   "id": "7e83e9ac",
   "metadata": {},
   "outputs": [],
   "source": [
    "# Simple dataset wrapper class\n",
    "\n",
    "class Dataset(torch.utils.data.Dataset):\n",
    "    def __init__(self, data, targets):\n",
    "        self.data = data\n",
    "        self.targets = targets\n",
    "        \n",
    "    def __len__(self):\n",
    "        return(len(self.data))\n",
    "    \n",
    "    def __getitem__(self, idx):\n",
    "        return self.data[idx], self.targets[idx]"
   ]
  },
  {
   "cell_type": "markdown",
   "id": "500bef4c",
   "metadata": {},
   "source": [
    "### Hyperparams"
   ]
  },
  {
   "cell_type": "code",
   "execution_count": 3,
   "id": "92117e99",
   "metadata": {},
   "outputs": [],
   "source": [
    "BATCH_SIZE = 500\n",
    "NUM_EPOCHS = 800\n",
    "WARMUP_EPOCHS = 50\n",
    "HIDDEN_SIZE = 100"
   ]
  },
  {
   "cell_type": "markdown",
   "id": "d8535bf5",
   "metadata": {},
   "source": [
    "### Download MNIST and setup datasets / dataloaders"
   ]
  },
  {
   "cell_type": "code",
   "execution_count": 4,
   "id": "362cba9c",
   "metadata": {},
   "outputs": [],
   "source": [
    "train_dataset = datasets.MNIST('./data', train=True, download=True)\n",
    "\n",
    "test_dataset = datasets.MNIST('./data', train=False, download=True)\n",
    "\n",
    "nvalid = 10000\n",
    "\n",
    "perm = torch.arange(len(train_dataset))\n",
    "train_idx = perm[nvalid:]\n",
    "val_idx = perm[:nvalid]\n",
    "    \n",
    "mean = 0.1307\n",
    "std = 0.3081\n",
    "\n",
    "# scale and normalise the datasets\n",
    "X_train = (train_dataset.data[train_idx] / 255.0 - mean) / std\n",
    "Y_train = train_dataset.targets[train_idx]\n",
    "\n",
    "X_val = (train_dataset.data[val_idx] / 255.0 - mean) / std\n",
    "Y_val = train_dataset.targets[val_idx]\n",
    "\n",
    "X_test = (test_dataset.data / 255.0 - mean) / std\n",
    "Y_test = test_dataset.targets\n",
    "\n",
    "# redefine the datasets\n",
    "train_dataset = Dataset(X_train, Y_train)\n",
    "val_dataset = Dataset(X_val, Y_val)\n",
    "test_dataset = Dataset(X_test, Y_test)\n",
    "\n",
    "# setup the dataloaders\n",
    "train_loader = DataLoader(train_dataset, batch_size=BATCH_SIZE, shuffle=True)\n",
    "val_loader = DataLoader(val_dataset, batch_size=BATCH_SIZE, shuffle=False)\n",
    "test_loader = DataLoader(test_dataset, batch_size=BATCH_SIZE, shuffle=False)"
   ]
  },
  {
   "cell_type": "markdown",
   "id": "ad5d1906",
   "metadata": {},
   "source": [
    "### Define the Bayesian neural network  model"
   ]
  },
  {
   "cell_type": "code",
   "execution_count": 5,
   "id": "dba9878a",
   "metadata": {},
   "outputs": [],
   "source": [
    "PyroLinear = pyro.nn.PyroModule[torch.nn.Linear]\n",
    "    \n",
    "class BNN(pyro.nn.PyroModule):\n",
    "    \n",
    "    def __init__(self, input_size, hidden_size, output_size, prec=1.):\n",
    "        super().__init__()\n",
    "        # prec is a kwarg that should only used by SGD to set the regularization strength \n",
    "        # recall that a Guassian prior over the weights is equivalent to L2 norm regularization in the non-Bayes setting\n",
    "        \n",
    "        # TODO add gamma priors to precision terms\n",
    "        self.fc1 = PyroLinear(input_size, hidden_size)\n",
    "        self.fc1.weight = pyro.nn.PyroSample(dist.Normal(0., prec).expand([hidden_size, input_size]).to_event(2))\n",
    "        self.fc1.bias   = pyro.nn.PyroSample(dist.Normal(0., prec).expand([hidden_size]).to_event(1))\n",
    "        \n",
    "        self.fc2 = PyroLinear(hidden_size, output_size)\n",
    "        self.fc2.weight = pyro.nn.PyroSample(dist.Normal(0., prec).expand([output_size, hidden_size]).to_event(2))\n",
    "        self.fc2.bias   = pyro.nn.PyroSample(dist.Normal(0., prec).expand([output_size]).to_event(1))\n",
    "        \n",
    "        self.relu = torch.nn.ReLU()\n",
    "        self.log_softmax = torch.nn.LogSoftmax(dim=1)\n",
    "\n",
    "    def forward(self, x, y=None):\n",
    "        x = x.view(-1, 28*28)\n",
    "        x = self.relu(self.fc1(x))\n",
    "        x = self.fc2(x)\n",
    "        x = self.log_softmax(x)# output (log) softmax probabilities of each class\n",
    "        \n",
    "        with pyro.plate(\"data\", x.shape[0]):\n",
    "            obs = pyro.sample(\"obs\", dist.Categorical(logits=x), obs=y)"
   ]
  },
  {
   "cell_type": "markdown",
   "id": "57cdb8d2",
   "metadata": {},
   "source": [
    "### Run VI\n",
    "\n",
    "We run VI using the RenyiELBO to get a tight variational bound, we use the ClippedAdam optimizer which implements weight decay, gradient clipping, and learning rate decay.\n",
    "\n",
    "We run this for 50 epochs but typically the validation loss diverges and so we stop early if the validation loss ever decreases."
   ]
  },
  {
   "cell_type": "code",
   "execution_count": 6,
   "id": "85aee196",
   "metadata": {},
   "outputs": [
    {
     "name": "stdout",
     "output_type": "stream",
     "text": [
      "Epoch 1 avg loss 2.9783\n",
      "test accuracy: 0.7882\n",
      "Epoch 2 avg loss 2.7689\n",
      "test accuracy: 0.8629\n",
      "Epoch 3 avg loss 2.6098\n",
      "test accuracy: 0.8945\n",
      "Epoch 4 avg loss 2.4557\n",
      "test accuracy: 0.9096\n",
      "Epoch 5 avg loss 2.3043\n",
      "test accuracy: 0.9235\n",
      "Epoch 6 avg loss 2.1589\n",
      "test accuracy: 0.9255\n",
      "Epoch 7 avg loss 2.0173\n",
      "test accuracy: 0.9315\n",
      "Epoch 8 avg loss 1.8805\n",
      "test accuracy: 0.934\n",
      "Epoch 9 avg loss 1.7484\n",
      "test accuracy: 0.9344\n",
      "Epoch 10 avg loss 1.6218\n",
      "test accuracy: 0.9366\n",
      "Epoch 11 avg loss 1.5006\n",
      "test accuracy: 0.9345\n"
     ]
    }
   ],
   "source": [
    "pyro.clear_param_store()\n",
    "\n",
    "bnn = BNN(28*28, HIDDEN_SIZE, 10)\n",
    "guide = pyro.infer.autoguide.AutoDiagonalNormal(bnn)\n",
    "\n",
    "svi = SVI(model=bnn, \n",
    "          guide=guide, \n",
    "          optim=ClippedAdam({\"lr\": 1e-3, \"weight_decay\": 1e-3, \"clip_norm\": 1.0}), \n",
    "          loss=RenyiELBO(alpha=0.01, num_particles=2))\n",
    "\n",
    "num_epochs = WARMUP_EPOCHS\n",
    "epoch = 0\n",
    "\n",
    "normalizer = len(train_loader.dataset)\n",
    "\n",
    "test_acc = [0.0]\n",
    "\n",
    "while epoch < num_epochs:\n",
    "    losses = []\n",
    "    for imgs, labels in train_loader:\n",
    "        total_loss = svi.step(imgs, labels)\n",
    "        loss = total_loss / normalizer\n",
    "        losses += [loss]\n",
    "        \n",
    "    epoch += 1\n",
    "        \n",
    "    print('Epoch {} avg loss {:.4f}'.format(epoch, np.mean(losses)))\n",
    "    \n",
    "    predictive = pyro.infer.Predictive(model=bnn, guide=guide, num_samples=100)\n",
    "\n",
    "    with torch.no_grad():\n",
    "        total = 0\n",
    "        correct = 0\n",
    "        for imgs, labels in val_loader:\n",
    "            out = predictive(imgs)\n",
    "            pred = out['obs'].mode(0)[0]\n",
    "            total += labels.shape[0]\n",
    "            correct += int((pred == labels).sum())\n",
    "\n",
    "        print(\"test accuracy:\",correct/ total)\n",
    "        \n",
    "        if (correct / total) < test_acc[-1]:\n",
    "            break\n",
    "        else:\n",
    "            test_acc.append(correct/total)\n",
    "            continue"
   ]
  },
  {
   "cell_type": "markdown",
   "id": "1c5b0ddd",
   "metadata": {},
   "source": [
    "### Sample from the variational posterior\n",
    "\n",
    "We draw 80000 samples (100 at a time) from the variational posterior and record the validation error and accuracy using Bayesian averaging."
   ]
  },
  {
   "cell_type": "code",
   "execution_count": 7,
   "id": "d9baf2f4",
   "metadata": {},
   "outputs": [
    {
     "name": "stdout",
     "output_type": "stream",
     "text": [
      "Epoch [1/800] test accuracy: 0.9351 time: 13.75\n",
      "Epoch [2/800] test accuracy: 0.9381 time: 13.88\n",
      "Epoch [3/800] test accuracy: 0.9375 time: 14.09\n",
      "Epoch [4/800] test accuracy: 0.9377 time: 14.65\n",
      "Epoch [5/800] test accuracy: 0.9375 time: 14.29\n",
      "Epoch [6/800] test accuracy: 0.9369 time: 13.76\n",
      "Epoch [7/800] test accuracy: 0.9367 time: 13.67\n",
      "Epoch [8/800] test accuracy: 0.9369 time: 13.71\n",
      "Epoch [9/800] test accuracy: 0.9368 time: 13.79\n",
      "Epoch [10/800] test accuracy: 0.9366 time: 13.72\n",
      "Epoch [11/800] test accuracy: 0.9367 time: 13.70\n",
      "Epoch [12/800] test accuracy: 0.9366 time: 14.49\n",
      "Epoch [13/800] test accuracy: 0.9365 time: 14.68\n",
      "Epoch [14/800] test accuracy: 0.9366 time: 13.90\n",
      "Epoch [15/800] test accuracy: 0.9365 time: 13.76\n",
      "Epoch [16/800] test accuracy: 0.9367 time: 13.71\n",
      "Epoch [17/800] test accuracy: 0.9365 time: 13.78\n",
      "Epoch [18/800] test accuracy: 0.9366 time: 13.69\n",
      "Epoch [19/800] test accuracy: 0.9365 time: 13.74\n",
      "Epoch [20/800] test accuracy: 0.9365 time: 13.97\n",
      "Epoch [21/800] test accuracy: 0.9366 time: 14.73\n",
      "Epoch [22/800] test accuracy: 0.9365 time: 14.36\n",
      "Epoch [23/800] test accuracy: 0.9368 time: 13.74\n",
      "Epoch [24/800] test accuracy: 0.9369 time: 13.73\n",
      "Epoch [25/800] test accuracy: 0.9371 time: 13.72\n",
      "Epoch [26/800] test accuracy: 0.9372 time: 13.72\n",
      "Epoch [27/800] test accuracy: 0.9367 time: 13.73\n",
      "Epoch [28/800] test accuracy: 0.9368 time: 13.65\n",
      "Epoch [29/800] test accuracy: 0.9369 time: 14.31\n",
      "Epoch [30/800] test accuracy: 0.9365 time: 14.64\n",
      "Epoch [31/800] test accuracy: 0.9365 time: 14.11\n",
      "Epoch [32/800] test accuracy: 0.9368 time: 13.79\n",
      "Epoch [33/800] test accuracy: 0.9369 time: 13.73\n",
      "Epoch [34/800] test accuracy: 0.9371 time: 13.71\n",
      "Epoch [35/800] test accuracy: 0.9369 time: 13.75\n",
      "Epoch [36/800] test accuracy: 0.9369 time: 13.75\n",
      "Epoch [37/800] test accuracy: 0.9371 time: 13.79\n",
      "Epoch [38/800] test accuracy: 0.9370 time: 14.79\n",
      "Epoch [39/800] test accuracy: 0.9369 time: 14.62\n",
      "Epoch [40/800] test accuracy: 0.9368 time: 13.75\n",
      "Epoch [41/800] test accuracy: 0.9368 time: 13.76\n",
      "Epoch [42/800] test accuracy: 0.9367 time: 13.69\n",
      "Epoch [43/800] test accuracy: 0.9371 time: 13.73\n",
      "Epoch [44/800] test accuracy: 0.9370 time: 13.71\n",
      "Epoch [45/800] test accuracy: 0.9370 time: 13.67\n",
      "Epoch [46/800] test accuracy: 0.9370 time: 14.15\n",
      "Epoch [47/800] test accuracy: 0.9369 time: 14.60\n",
      "Epoch [48/800] test accuracy: 0.9367 time: 14.24\n",
      "Epoch [49/800] test accuracy: 0.9369 time: 13.77\n",
      "Epoch [50/800] test accuracy: 0.9368 time: 13.65\n",
      "Epoch [51/800] test accuracy: 0.9370 time: 13.69\n",
      "Epoch [52/800] test accuracy: 0.9369 time: 13.77\n",
      "Epoch [53/800] test accuracy: 0.9369 time: 13.72\n",
      "Epoch [54/800] test accuracy: 0.9369 time: 13.73\n",
      "Epoch [55/800] test accuracy: 0.9370 time: 14.55\n",
      "Epoch [56/800] test accuracy: 0.9369 time: 14.75\n",
      "Epoch [57/800] test accuracy: 0.9371 time: 13.82\n",
      "Epoch [58/800] test accuracy: 0.9370 time: 13.65\n",
      "Epoch [59/800] test accuracy: 0.9370 time: 13.83\n",
      "Epoch [60/800] test accuracy: 0.9372 time: 13.78\n",
      "Epoch [61/800] test accuracy: 0.9372 time: 13.80\n",
      "Epoch [62/800] test accuracy: 0.9372 time: 13.73\n",
      "Epoch [63/800] test accuracy: 0.9372 time: 14.07\n",
      "Epoch [64/800] test accuracy: 0.9372 time: 14.71\n",
      "Epoch [65/800] test accuracy: 0.9374 time: 14.37\n",
      "Epoch [66/800] test accuracy: 0.9374 time: 13.68\n",
      "Epoch [67/800] test accuracy: 0.9374 time: 13.77\n",
      "Epoch [68/800] test accuracy: 0.9374 time: 13.88\n",
      "Epoch [69/800] test accuracy: 0.9374 time: 13.77\n",
      "Epoch [70/800] test accuracy: 0.9373 time: 13.76\n",
      "Epoch [71/800] test accuracy: 0.9373 time: 13.62\n",
      "Epoch [72/800] test accuracy: 0.9373 time: 14.28\n",
      "Epoch [73/800] test accuracy: 0.9374 time: 14.78\n",
      "Epoch [74/800] test accuracy: 0.9373 time: 14.06\n",
      "Epoch [75/800] test accuracy: 0.9373 time: 13.66\n",
      "Epoch [76/800] test accuracy: 0.9371 time: 13.69\n",
      "Epoch [77/800] test accuracy: 0.9371 time: 13.70\n",
      "Epoch [78/800] test accuracy: 0.9371 time: 13.72\n",
      "Epoch [79/800] test accuracy: 0.9370 time: 13.77\n",
      "Epoch [80/800] test accuracy: 0.9370 time: 13.76\n",
      "Epoch [81/800] test accuracy: 0.9370 time: 14.54\n",
      "Epoch [82/800] test accuracy: 0.9371 time: 14.54\n",
      "Epoch [83/800] test accuracy: 0.9372 time: 13.73\n",
      "Epoch [84/800] test accuracy: 0.9372 time: 13.80\n",
      "Epoch [85/800] test accuracy: 0.9374 time: 13.72\n",
      "Epoch [86/800] test accuracy: 0.9373 time: 13.71\n",
      "Epoch [87/800] test accuracy: 0.9374 time: 13.72\n",
      "Epoch [88/800] test accuracy: 0.9374 time: 13.75\n",
      "Epoch [89/800] test accuracy: 0.9373 time: 14.19\n",
      "Epoch [90/800] test accuracy: 0.9373 time: 14.61\n",
      "Epoch [91/800] test accuracy: 0.9374 time: 14.16\n",
      "Epoch [92/800] test accuracy: 0.9373 time: 13.80\n",
      "Epoch [93/800] test accuracy: 0.9372 time: 13.81\n",
      "Epoch [94/800] test accuracy: 0.9372 time: 13.79\n",
      "Epoch [95/800] test accuracy: 0.9373 time: 13.66\n",
      "Epoch [96/800] test accuracy: 0.9372 time: 13.83\n",
      "Epoch [97/800] test accuracy: 0.9371 time: 13.75\n",
      "Epoch [98/800] test accuracy: 0.9371 time: 14.55\n",
      "Epoch [99/800] test accuracy: 0.9371 time: 14.68\n",
      "Epoch [100/800] test accuracy: 0.9371 time: 13.83\n",
      "Epoch [101/800] test accuracy: 0.9371 time: 13.73\n",
      "Epoch [102/800] test accuracy: 0.9370 time: 13.77\n",
      "Epoch [103/800] test accuracy: 0.9370 time: 13.75\n",
      "Epoch [104/800] test accuracy: 0.9370 time: 13.72\n",
      "Epoch [105/800] test accuracy: 0.9371 time: 13.88\n",
      "Epoch [106/800] test accuracy: 0.9371 time: 14.07\n",
      "Epoch [107/800] test accuracy: 0.9370 time: 14.64\n",
      "Epoch [108/800] test accuracy: 0.9370 time: 14.43\n",
      "Epoch [109/800] test accuracy: 0.9370 time: 13.69\n",
      "Epoch [110/800] test accuracy: 0.9370 time: 13.66\n",
      "Epoch [111/800] test accuracy: 0.9371 time: 13.81\n",
      "Epoch [112/800] test accuracy: 0.9372 time: 13.84\n",
      "Epoch [113/800] test accuracy: 0.9370 time: 13.77\n",
      "Epoch [114/800] test accuracy: 0.9370 time: 13.69\n",
      "Epoch [115/800] test accuracy: 0.9370 time: 14.34\n",
      "Epoch [116/800] test accuracy: 0.9371 time: 14.65\n",
      "Epoch [117/800] test accuracy: 0.9370 time: 14.05\n",
      "Epoch [118/800] test accuracy: 0.9372 time: 13.83\n",
      "Epoch [119/800] test accuracy: 0.9371 time: 13.78\n",
      "Epoch [120/800] test accuracy: 0.9371 time: 13.71\n",
      "Epoch [121/800] test accuracy: 0.9371 time: 13.72\n",
      "Epoch [122/800] test accuracy: 0.9372 time: 13.67\n",
      "Epoch [123/800] test accuracy: 0.9371 time: 13.75\n",
      "Epoch [124/800] test accuracy: 0.9371 time: 14.64\n",
      "Epoch [125/800] test accuracy: 0.9371 time: 14.50\n",
      "Epoch [126/800] test accuracy: 0.9372 time: 13.71\n",
      "Epoch [127/800] test accuracy: 0.9371 time: 13.76\n",
      "Epoch [128/800] test accuracy: 0.9372 time: 13.66\n",
      "Epoch [129/800] test accuracy: 0.9371 time: 13.69\n",
      "Epoch [130/800] test accuracy: 0.9372 time: 13.67\n",
      "Epoch [131/800] test accuracy: 0.9371 time: 13.68\n",
      "Epoch [132/800] test accuracy: 0.9371 time: 14.18\n",
      "Epoch [133/800] test accuracy: 0.9372 time: 14.53\n",
      "Epoch [134/800] test accuracy: 0.9372 time: 14.26\n",
      "Epoch [135/800] test accuracy: 0.9372 time: 13.75\n",
      "Epoch [136/800] test accuracy: 0.9372 time: 13.68\n",
      "Epoch [137/800] test accuracy: 0.9372 time: 13.70\n",
      "Epoch [138/800] test accuracy: 0.9372 time: 13.70\n",
      "Epoch [139/800] test accuracy: 0.9372 time: 13.69\n",
      "Epoch [140/800] test accuracy: 0.9372 time: 13.76\n",
      "Epoch [141/800] test accuracy: 0.9372 time: 14.74\n",
      "Epoch [142/800] test accuracy: 0.9371 time: 14.60\n",
      "Epoch [143/800] test accuracy: 0.9371 time: 13.90\n",
      "Epoch [144/800] test accuracy: 0.9371 time: 13.80\n",
      "Epoch [145/800] test accuracy: 0.9371 time: 13.63\n",
      "Epoch [146/800] test accuracy: 0.9371 time: 13.65\n",
      "Epoch [147/800] test accuracy: 0.9371 time: 13.60\n",
      "Epoch [148/800] test accuracy: 0.9371 time: 13.70\n",
      "Epoch [149/800] test accuracy: 0.9371 time: 13.98\n",
      "Epoch [150/800] test accuracy: 0.9372 time: 14.65\n",
      "Epoch [151/800] test accuracy: 0.9372 time: 14.51\n",
      "Epoch [152/800] test accuracy: 0.9371 time: 14.41\n",
      "Epoch [153/800] test accuracy: 0.9372 time: 14.79\n",
      "Epoch [154/800] test accuracy: 0.9372 time: 12.88\n",
      "Epoch [155/800] test accuracy: 0.9372 time: 12.22\n",
      "Epoch [156/800] test accuracy: 0.9373 time: 12.23\n",
      "Epoch [157/800] test accuracy: 0.9372 time: 12.22\n",
      "Epoch [158/800] test accuracy: 0.9373 time: 12.66\n",
      "Epoch [159/800] test accuracy: 0.9372 time: 13.10\n",
      "Epoch [160/800] test accuracy: 0.9371 time: 12.76\n",
      "Epoch [161/800] test accuracy: 0.9370 time: 11.86\n",
      "Epoch [162/800] test accuracy: 0.9370 time: 11.88\n",
      "Epoch [163/800] test accuracy: 0.9370 time: 11.83\n",
      "Epoch [164/800] test accuracy: 0.9370 time: 11.86\n",
      "Epoch [165/800] test accuracy: 0.9370 time: 11.68\n",
      "Epoch [166/800] test accuracy: 0.9371 time: 11.92\n",
      "Epoch [167/800] test accuracy: 0.9372 time: 11.81\n"
     ]
    },
    {
     "name": "stdout",
     "output_type": "stream",
     "text": [
      "Epoch [168/800] test accuracy: 0.9371 time: 12.27\n",
      "Epoch [169/800] test accuracy: 0.9372 time: 13.58\n",
      "Epoch [170/800] test accuracy: 0.9371 time: 13.14\n",
      "Epoch [171/800] test accuracy: 0.9370 time: 11.84\n",
      "Epoch [172/800] test accuracy: 0.9370 time: 11.96\n",
      "Epoch [173/800] test accuracy: 0.9370 time: 11.88\n",
      "Epoch [174/800] test accuracy: 0.9371 time: 11.89\n",
      "Epoch [175/800] test accuracy: 0.9371 time: 11.84\n",
      "Epoch [176/800] test accuracy: 0.9370 time: 11.96\n",
      "Epoch [177/800] test accuracy: 0.9370 time: 11.85\n",
      "Epoch [178/800] test accuracy: 0.9370 time: 12.62\n",
      "Epoch [179/800] test accuracy: 0.9371 time: 13.22\n",
      "Epoch [180/800] test accuracy: 0.9371 time: 12.44\n",
      "Epoch [181/800] test accuracy: 0.9371 time: 11.89\n",
      "Epoch [182/800] test accuracy: 0.9372 time: 11.88\n",
      "Epoch [183/800] test accuracy: 0.9370 time: 11.74\n",
      "Epoch [184/800] test accuracy: 0.9372 time: 11.82\n",
      "Epoch [185/800] test accuracy: 0.9369 time: 11.79\n",
      "Epoch [186/800] test accuracy: 0.9369 time: 11.97\n",
      "Epoch [187/800] test accuracy: 0.9369 time: 11.92\n",
      "Epoch [188/800] test accuracy: 0.9370 time: 12.64\n",
      "Epoch [189/800] test accuracy: 0.9370 time: 13.04\n",
      "Epoch [190/800] test accuracy: 0.9370 time: 12.38\n",
      "Epoch [191/800] test accuracy: 0.9371 time: 11.79\n",
      "Epoch [192/800] test accuracy: 0.9370 time: 11.75\n",
      "Epoch [193/800] test accuracy: 0.9370 time: 12.00\n",
      "Epoch [194/800] test accuracy: 0.9369 time: 11.90\n",
      "Epoch [195/800] test accuracy: 0.9370 time: 11.91\n",
      "Epoch [196/800] test accuracy: 0.9369 time: 11.80\n",
      "Epoch [197/800] test accuracy: 0.9369 time: 11.92\n",
      "Epoch [198/800] test accuracy: 0.9369 time: 12.85\n",
      "Epoch [199/800] test accuracy: 0.9369 time: 13.11\n",
      "Epoch [200/800] test accuracy: 0.9369 time: 12.08\n",
      "Epoch [201/800] test accuracy: 0.9369 time: 11.90\n",
      "Epoch [202/800] test accuracy: 0.9369 time: 11.93\n",
      "Epoch [203/800] test accuracy: 0.9369 time: 11.88\n",
      "Epoch [204/800] test accuracy: 0.9369 time: 12.08\n",
      "Epoch [205/800] test accuracy: 0.9370 time: 11.88\n",
      "Epoch [206/800] test accuracy: 0.9370 time: 11.95\n",
      "Epoch [207/800] test accuracy: 0.9370 time: 11.90\n",
      "Epoch [208/800] test accuracy: 0.9370 time: 12.99\n",
      "Epoch [209/800] test accuracy: 0.9370 time: 13.13\n",
      "Epoch [210/800] test accuracy: 0.9370 time: 12.04\n",
      "Epoch [211/800] test accuracy: 0.9370 time: 11.81\n",
      "Epoch [212/800] test accuracy: 0.9370 time: 11.89\n",
      "Epoch [213/800] test accuracy: 0.9370 time: 11.80\n",
      "Epoch [214/800] test accuracy: 0.9370 time: 11.97\n",
      "Epoch [215/800] test accuracy: 0.9369 time: 11.85\n",
      "Epoch [216/800] test accuracy: 0.9370 time: 11.82\n",
      "Epoch [217/800] test accuracy: 0.9370 time: 11.95\n",
      "Epoch [218/800] test accuracy: 0.9369 time: 13.15\n",
      "Epoch [219/800] test accuracy: 0.9369 time: 13.10\n",
      "Epoch [220/800] test accuracy: 0.9369 time: 11.98\n",
      "Epoch [221/800] test accuracy: 0.9369 time: 11.96\n",
      "Epoch [222/800] test accuracy: 0.9369 time: 11.89\n",
      "Epoch [223/800] test accuracy: 0.9370 time: 11.88\n",
      "Epoch [224/800] test accuracy: 0.9370 time: 11.71\n",
      "Epoch [225/800] test accuracy: 0.9370 time: 11.87\n",
      "Epoch [226/800] test accuracy: 0.9369 time: 12.33\n",
      "Epoch [227/800] test accuracy: 0.9369 time: 12.12\n",
      "Epoch [228/800] test accuracy: 0.9369 time: 13.12\n",
      "Epoch [229/800] test accuracy: 0.9369 time: 12.90\n",
      "Epoch [230/800] test accuracy: 0.9369 time: 11.77\n",
      "Epoch [231/800] test accuracy: 0.9369 time: 11.80\n",
      "Epoch [232/800] test accuracy: 0.9369 time: 11.77\n",
      "Epoch [233/800] test accuracy: 0.9369 time: 11.90\n",
      "Epoch [234/800] test accuracy: 0.9370 time: 11.78\n",
      "Epoch [235/800] test accuracy: 0.9368 time: 11.87\n",
      "Epoch [236/800] test accuracy: 0.9368 time: 11.90\n",
      "Epoch [237/800] test accuracy: 0.9368 time: 12.10\n",
      "Epoch [238/800] test accuracy: 0.9369 time: 13.14\n",
      "Epoch [239/800] test accuracy: 0.9369 time: 12.88\n",
      "Epoch [240/800] test accuracy: 0.9370 time: 11.74\n",
      "Epoch [241/800] test accuracy: 0.9369 time: 11.77\n",
      "Epoch [242/800] test accuracy: 0.9369 time: 11.74\n",
      "Epoch [243/800] test accuracy: 0.9369 time: 11.80\n",
      "Epoch [244/800] test accuracy: 0.9369 time: 11.76\n",
      "Epoch [245/800] test accuracy: 0.9369 time: 11.71\n",
      "Epoch [246/800] test accuracy: 0.9370 time: 11.87\n",
      "Epoch [247/800] test accuracy: 0.9370 time: 12.16\n",
      "Epoch [248/800] test accuracy: 0.9370 time: 12.95\n",
      "Epoch [249/800] test accuracy: 0.9370 time: 12.69\n",
      "Epoch [250/800] test accuracy: 0.9370 time: 12.11\n",
      "Epoch [251/800] test accuracy: 0.9370 time: 11.84\n",
      "Epoch [252/800] test accuracy: 0.9370 time: 11.85\n",
      "Epoch [253/800] test accuracy: 0.9370 time: 11.88\n",
      "Epoch [254/800] test accuracy: 0.9369 time: 11.74\n",
      "Epoch [255/800] test accuracy: 0.9370 time: 11.90\n",
      "Epoch [256/800] test accuracy: 0.9370 time: 11.84\n",
      "Epoch [257/800] test accuracy: 0.9369 time: 12.20\n",
      "Epoch [258/800] test accuracy: 0.9369 time: 12.96\n",
      "Epoch [259/800] test accuracy: 0.9369 time: 12.75\n",
      "Epoch [260/800] test accuracy: 0.9369 time: 11.88\n",
      "Epoch [261/800] test accuracy: 0.9369 time: 11.85\n",
      "Epoch [262/800] test accuracy: 0.9369 time: 11.78\n",
      "Epoch [263/800] test accuracy: 0.9369 time: 11.78\n",
      "Epoch [264/800] test accuracy: 0.9369 time: 11.71\n",
      "Epoch [265/800] test accuracy: 0.9369 time: 11.88\n",
      "Epoch [266/800] test accuracy: 0.9369 time: 11.98\n",
      "Epoch [267/800] test accuracy: 0.9369 time: 12.33\n",
      "Epoch [268/800] test accuracy: 0.9369 time: 13.29\n",
      "Epoch [269/800] test accuracy: 0.9369 time: 12.56\n",
      "Epoch [270/800] test accuracy: 0.9369 time: 11.90\n",
      "Epoch [271/800] test accuracy: 0.9368 time: 11.85\n",
      "Epoch [272/800] test accuracy: 0.9367 time: 11.94\n",
      "Epoch [273/800] test accuracy: 0.9367 time: 11.86\n",
      "Epoch [274/800] test accuracy: 0.9367 time: 11.90\n",
      "Epoch [275/800] test accuracy: 0.9367 time: 11.76\n",
      "Epoch [276/800] test accuracy: 0.9367 time: 11.91\n",
      "Epoch [277/800] test accuracy: 0.9367 time: 12.52\n",
      "Epoch [278/800] test accuracy: 0.9367 time: 13.10\n",
      "Epoch [279/800] test accuracy: 0.9367 time: 12.38\n",
      "Epoch [280/800] test accuracy: 0.9367 time: 11.89\n",
      "Epoch [281/800] test accuracy: 0.9368 time: 11.80\n",
      "Epoch [282/800] test accuracy: 0.9368 time: 11.82\n",
      "Epoch [283/800] test accuracy: 0.9368 time: 11.84\n",
      "Epoch [284/800] test accuracy: 0.9368 time: 11.81\n",
      "Epoch [285/800] test accuracy: 0.9368 time: 11.92\n",
      "Epoch [286/800] test accuracy: 0.9368 time: 11.72\n",
      "Epoch [287/800] test accuracy: 0.9368 time: 12.64\n",
      "Epoch [288/800] test accuracy: 0.9368 time: 13.00\n",
      "Epoch [289/800] test accuracy: 0.9368 time: 12.43\n",
      "Epoch [290/800] test accuracy: 0.9369 time: 12.02\n",
      "Epoch [291/800] test accuracy: 0.9369 time: 11.84\n",
      "Epoch [292/800] test accuracy: 0.9369 time: 11.89\n",
      "Epoch [293/800] test accuracy: 0.9369 time: 11.82\n",
      "Epoch [294/800] test accuracy: 0.9368 time: 11.84\n",
      "Epoch [295/800] test accuracy: 0.9368 time: 11.89\n",
      "Epoch [296/800] test accuracy: 0.9368 time: 12.05\n",
      "Epoch [297/800] test accuracy: 0.9369 time: 12.72\n",
      "Epoch [298/800] test accuracy: 0.9369 time: 13.09\n",
      "Epoch [299/800] test accuracy: 0.9369 time: 12.24\n",
      "Epoch [300/800] test accuracy: 0.9368 time: 11.92\n",
      "Epoch [301/800] test accuracy: 0.9369 time: 11.84\n",
      "Epoch [302/800] test accuracy: 0.9369 time: 11.85\n",
      "Epoch [303/800] test accuracy: 0.9368 time: 11.80\n",
      "Epoch [304/800] test accuracy: 0.9369 time: 11.88\n",
      "Epoch [305/800] test accuracy: 0.9369 time: 11.86\n",
      "Epoch [306/800] test accuracy: 0.9369 time: 12.28\n",
      "Epoch [307/800] test accuracy: 0.9369 time: 12.88\n",
      "Epoch [308/800] test accuracy: 0.9369 time: 13.10\n",
      "Epoch [309/800] test accuracy: 0.9368 time: 12.22\n",
      "Epoch [310/800] test accuracy: 0.9369 time: 11.82\n",
      "Epoch [311/800] test accuracy: 0.9369 time: 11.90\n",
      "Epoch [312/800] test accuracy: 0.9369 time: 11.93\n",
      "Epoch [313/800] test accuracy: 0.9369 time: 11.93\n",
      "Epoch [314/800] test accuracy: 0.9368 time: 11.96\n",
      "Epoch [315/800] test accuracy: 0.9369 time: 11.84\n",
      "Epoch [316/800] test accuracy: 0.9369 time: 11.98\n",
      "Epoch [317/800] test accuracy: 0.9370 time: 13.03\n",
      "Epoch [318/800] test accuracy: 0.9370 time: 13.03\n",
      "Epoch [319/800] test accuracy: 0.9370 time: 11.98\n",
      "Epoch [320/800] test accuracy: 0.9370 time: 11.94\n",
      "Epoch [321/800] test accuracy: 0.9369 time: 11.88\n",
      "Epoch [322/800] test accuracy: 0.9369 time: 12.00\n",
      "Epoch [323/800] test accuracy: 0.9369 time: 11.92\n",
      "Epoch [324/800] test accuracy: 0.9368 time: 11.91\n",
      "Epoch [325/800] test accuracy: 0.9368 time: 11.88\n",
      "Epoch [326/800] test accuracy: 0.9369 time: 12.06\n",
      "Epoch [327/800] test accuracy: 0.9367 time: 13.14\n",
      "Epoch [328/800] test accuracy: 0.9367 time: 12.90\n",
      "Epoch [329/800] test accuracy: 0.9368 time: 11.80\n",
      "Epoch [330/800] test accuracy: 0.9368 time: 11.87\n",
      "Epoch [331/800] test accuracy: 0.9368 time: 11.86\n"
     ]
    },
    {
     "name": "stdout",
     "output_type": "stream",
     "text": [
      "Epoch [332/800] test accuracy: 0.9368 time: 11.88\n",
      "Epoch [333/800] test accuracy: 0.9369 time: 11.80\n",
      "Epoch [334/800] test accuracy: 0.9369 time: 11.89\n",
      "Epoch [335/800] test accuracy: 0.9367 time: 11.80\n",
      "Epoch [336/800] test accuracy: 0.9367 time: 12.10\n",
      "Epoch [337/800] test accuracy: 0.9367 time: 13.01\n",
      "Epoch [338/800] test accuracy: 0.9367 time: 12.82\n",
      "Epoch [339/800] test accuracy: 0.9367 time: 12.01\n",
      "Epoch [340/800] test accuracy: 0.9367 time: 11.86\n",
      "Epoch [341/800] test accuracy: 0.9367 time: 11.87\n",
      "Epoch [342/800] test accuracy: 0.9367 time: 12.01\n",
      "Epoch [343/800] test accuracy: 0.9367 time: 11.84\n",
      "Epoch [344/800] test accuracy: 0.9367 time: 11.77\n",
      "Epoch [345/800] test accuracy: 0.9367 time: 11.74\n",
      "Epoch [346/800] test accuracy: 0.9367 time: 12.16\n",
      "Epoch [347/800] test accuracy: 0.9367 time: 13.06\n",
      "Epoch [348/800] test accuracy: 0.9365 time: 12.78\n",
      "Epoch [349/800] test accuracy: 0.9367 time: 11.85\n",
      "Epoch [350/800] test accuracy: 0.9367 time: 11.87\n",
      "Epoch [351/800] test accuracy: 0.9368 time: 12.02\n",
      "Epoch [352/800] test accuracy: 0.9368 time: 12.03\n",
      "Epoch [353/800] test accuracy: 0.9367 time: 11.86\n",
      "Epoch [354/800] test accuracy: 0.9366 time: 11.80\n",
      "Epoch [355/800] test accuracy: 0.9368 time: 11.89\n",
      "Epoch [356/800] test accuracy: 0.9368 time: 12.27\n",
      "Epoch [357/800] test accuracy: 0.9369 time: 13.10\n",
      "Epoch [358/800] test accuracy: 0.9369 time: 12.63\n",
      "Epoch [359/800] test accuracy: 0.9369 time: 11.88\n",
      "Epoch [360/800] test accuracy: 0.9368 time: 11.85\n",
      "Epoch [361/800] test accuracy: 0.9368 time: 11.87\n",
      "Epoch [362/800] test accuracy: 0.9368 time: 11.76\n",
      "Epoch [363/800] test accuracy: 0.9368 time: 11.73\n",
      "Epoch [364/800] test accuracy: 0.9368 time: 11.86\n",
      "Epoch [365/800] test accuracy: 0.9368 time: 11.77\n",
      "Epoch [366/800] test accuracy: 0.9368 time: 12.43\n",
      "Epoch [367/800] test accuracy: 0.9368 time: 13.13\n",
      "Epoch [368/800] test accuracy: 0.9369 time: 12.58\n",
      "Epoch [369/800] test accuracy: 0.9369 time: 11.79\n",
      "Epoch [370/800] test accuracy: 0.9369 time: 11.88\n",
      "Epoch [371/800] test accuracy: 0.9369 time: 11.82\n",
      "Epoch [372/800] test accuracy: 0.9368 time: 11.89\n",
      "Epoch [373/800] test accuracy: 0.9368 time: 11.80\n",
      "Epoch [374/800] test accuracy: 0.9368 time: 11.84\n",
      "Epoch [375/800] test accuracy: 0.9368 time: 11.85\n",
      "Epoch [376/800] test accuracy: 0.9369 time: 12.49\n",
      "Epoch [377/800] test accuracy: 0.9369 time: 13.23\n",
      "Epoch [378/800] test accuracy: 0.9369 time: 12.46\n",
      "Epoch [379/800] test accuracy: 0.9369 time: 11.92\n",
      "Epoch [380/800] test accuracy: 0.9369 time: 11.89\n",
      "Epoch [381/800] test accuracy: 0.9369 time: 11.83\n",
      "Epoch [382/800] test accuracy: 0.9369 time: 11.87\n",
      "Epoch [383/800] test accuracy: 0.9369 time: 11.80\n",
      "Epoch [384/800] test accuracy: 0.9369 time: 11.83\n",
      "Epoch [385/800] test accuracy: 0.9369 time: 11.80\n",
      "Epoch [386/800] test accuracy: 0.9369 time: 12.61\n",
      "Epoch [387/800] test accuracy: 0.9369 time: 13.06\n",
      "Epoch [388/800] test accuracy: 0.9369 time: 12.46\n",
      "Epoch [389/800] test accuracy: 0.9369 time: 11.84\n",
      "Epoch [390/800] test accuracy: 0.9369 time: 11.86\n",
      "Epoch [391/800] test accuracy: 0.9369 time: 11.94\n",
      "Epoch [392/800] test accuracy: 0.9369 time: 11.86\n",
      "Epoch [393/800] test accuracy: 0.9369 time: 11.94\n",
      "Epoch [394/800] test accuracy: 0.9368 time: 11.87\n",
      "Epoch [395/800] test accuracy: 0.9369 time: 12.15\n",
      "Epoch [396/800] test accuracy: 0.9368 time: 12.79\n",
      "Epoch [397/800] test accuracy: 0.9368 time: 13.08\n",
      "Epoch [398/800] test accuracy: 0.9368 time: 12.21\n",
      "Epoch [399/800] test accuracy: 0.9368 time: 12.02\n",
      "Epoch [400/800] test accuracy: 0.9368 time: 11.88\n",
      "Epoch [401/800] test accuracy: 0.9369 time: 11.91\n",
      "Epoch [402/800] test accuracy: 0.9368 time: 11.86\n",
      "Epoch [403/800] test accuracy: 0.9368 time: 11.86\n",
      "Epoch [404/800] test accuracy: 0.9368 time: 11.76\n",
      "Epoch [405/800] test accuracy: 0.9368 time: 11.97\n",
      "Epoch [406/800] test accuracy: 0.9368 time: 12.92\n",
      "Epoch [407/800] test accuracy: 0.9369 time: 13.08\n",
      "Epoch [408/800] test accuracy: 0.9369 time: 12.10\n",
      "Epoch [409/800] test accuracy: 0.9369 time: 11.80\n",
      "Epoch [410/800] test accuracy: 0.9369 time: 11.87\n",
      "Epoch [411/800] test accuracy: 0.9370 time: 11.91\n",
      "Epoch [412/800] test accuracy: 0.9370 time: 11.79\n",
      "Epoch [413/800] test accuracy: 0.9369 time: 11.79\n",
      "Epoch [414/800] test accuracy: 0.9369 time: 11.79\n",
      "Epoch [415/800] test accuracy: 0.9368 time: 11.78\n",
      "Epoch [416/800] test accuracy: 0.9368 time: 12.98\n",
      "Epoch [417/800] test accuracy: 0.9367 time: 13.26\n",
      "Epoch [418/800] test accuracy: 0.9367 time: 11.93\n",
      "Epoch [419/800] test accuracy: 0.9367 time: 11.81\n",
      "Epoch [420/800] test accuracy: 0.9367 time: 11.93\n",
      "Epoch [421/800] test accuracy: 0.9367 time: 11.82\n",
      "Epoch [422/800] test accuracy: 0.9367 time: 11.75\n",
      "Epoch [423/800] test accuracy: 0.9367 time: 11.76\n",
      "Epoch [424/800] test accuracy: 0.9368 time: 11.87\n",
      "Epoch [425/800] test accuracy: 0.9367 time: 11.87\n",
      "Epoch [426/800] test accuracy: 0.9367 time: 13.22\n",
      "Epoch [427/800] test accuracy: 0.9368 time: 13.04\n",
      "Epoch [428/800] test accuracy: 0.9368 time: 11.97\n",
      "Epoch [429/800] test accuracy: 0.9367 time: 11.80\n",
      "Epoch [430/800] test accuracy: 0.9367 time: 11.86\n",
      "Epoch [431/800] test accuracy: 0.9368 time: 11.87\n",
      "Epoch [432/800] test accuracy: 0.9367 time: 11.87\n",
      "Epoch [433/800] test accuracy: 0.9367 time: 11.78\n",
      "Epoch [434/800] test accuracy: 0.9368 time: 11.83\n",
      "Epoch [435/800] test accuracy: 0.9368 time: 12.07\n",
      "Epoch [436/800] test accuracy: 0.9368 time: 13.18\n",
      "Epoch [437/800] test accuracy: 0.9368 time: 13.08\n",
      "Epoch [438/800] test accuracy: 0.9368 time: 11.93\n",
      "Epoch [439/800] test accuracy: 0.9368 time: 11.94\n",
      "Epoch [440/800] test accuracy: 0.9368 time: 11.98\n",
      "Epoch [441/800] test accuracy: 0.9368 time: 11.96\n",
      "Epoch [442/800] test accuracy: 0.9368 time: 11.90\n",
      "Epoch [443/800] test accuracy: 0.9368 time: 11.86\n",
      "Epoch [444/800] test accuracy: 0.9368 time: 11.81\n",
      "Epoch [445/800] test accuracy: 0.9368 time: 12.23\n",
      "Epoch [446/800] test accuracy: 0.9368 time: 13.04\n",
      "Epoch [447/800] test accuracy: 0.9370 time: 12.84\n",
      "Epoch [448/800] test accuracy: 0.9369 time: 11.87\n",
      "Epoch [449/800] test accuracy: 0.9369 time: 11.93\n",
      "Epoch [450/800] test accuracy: 0.9369 time: 11.87\n",
      "Epoch [451/800] test accuracy: 0.9369 time: 11.89\n",
      "Epoch [452/800] test accuracy: 0.9369 time: 11.94\n",
      "Epoch [453/800] test accuracy: 0.9368 time: 11.95\n",
      "Epoch [454/800] test accuracy: 0.9368 time: 11.90\n",
      "Epoch [455/800] test accuracy: 0.9368 time: 12.36\n",
      "Epoch [456/800] test accuracy: 0.9368 time: 13.10\n",
      "Epoch [457/800] test accuracy: 0.9368 time: 12.66\n",
      "Epoch [458/800] test accuracy: 0.9368 time: 11.96\n",
      "Epoch [459/800] test accuracy: 0.9368 time: 11.82\n",
      "Epoch [460/800] test accuracy: 0.9368 time: 11.96\n",
      "Epoch [461/800] test accuracy: 0.9368 time: 11.94\n",
      "Epoch [462/800] test accuracy: 0.9368 time: 11.81\n",
      "Epoch [463/800] test accuracy: 0.9368 time: 11.93\n",
      "Epoch [464/800] test accuracy: 0.9368 time: 11.87\n",
      "Epoch [465/800] test accuracy: 0.9368 time: 12.50\n",
      "Epoch [466/800] test accuracy: 0.9368 time: 13.78\n",
      "Epoch [467/800] test accuracy: 0.9368 time: 12.95\n",
      "Epoch [468/800] test accuracy: 0.9368 time: 11.85\n",
      "Epoch [469/800] test accuracy: 0.9367 time: 11.95\n",
      "Epoch [470/800] test accuracy: 0.9367 time: 11.84\n",
      "Epoch [471/800] test accuracy: 0.9367 time: 11.84\n",
      "Epoch [472/800] test accuracy: 0.9368 time: 11.91\n",
      "Epoch [473/800] test accuracy: 0.9368 time: 11.92\n",
      "Epoch [474/800] test accuracy: 0.9368 time: 11.79\n",
      "Epoch [475/800] test accuracy: 0.9368 time: 12.73\n",
      "Epoch [476/800] test accuracy: 0.9368 time: 13.22\n",
      "Epoch [477/800] test accuracy: 0.9368 time: 12.36\n",
      "Epoch [478/800] test accuracy: 0.9368 time: 11.89\n",
      "Epoch [479/800] test accuracy: 0.9368 time: 11.91\n",
      "Epoch [480/800] test accuracy: 0.9368 time: 11.93\n",
      "Epoch [481/800] test accuracy: 0.9368 time: 11.93\n",
      "Epoch [482/800] test accuracy: 0.9368 time: 11.86\n",
      "Epoch [483/800] test accuracy: 0.9368 time: 11.90\n",
      "Epoch [484/800] test accuracy: 0.9368 time: 11.82\n",
      "Epoch [485/800] test accuracy: 0.9368 time: 12.86\n",
      "Epoch [486/800] test accuracy: 0.9369 time: 13.18\n",
      "Epoch [487/800] test accuracy: 0.9369 time: 12.00\n",
      "Epoch [488/800] test accuracy: 0.9369 time: 11.88\n",
      "Epoch [489/800] test accuracy: 0.9368 time: 11.93\n",
      "Epoch [490/800] test accuracy: 0.9369 time: 11.77\n",
      "Epoch [491/800] test accuracy: 0.9369 time: 11.97\n",
      "Epoch [492/800] test accuracy: 0.9368 time: 11.91\n",
      "Epoch [493/800] test accuracy: 0.9368 time: 11.86\n",
      "Epoch [494/800] test accuracy: 0.9368 time: 11.86\n",
      "Epoch [495/800] test accuracy: 0.9368 time: 13.06\n"
     ]
    },
    {
     "name": "stdout",
     "output_type": "stream",
     "text": [
      "Epoch [496/800] test accuracy: 0.9368 time: 13.09\n",
      "Epoch [497/800] test accuracy: 0.9368 time: 12.06\n",
      "Epoch [498/800] test accuracy: 0.9368 time: 11.82\n",
      "Epoch [499/800] test accuracy: 0.9368 time: 12.07\n",
      "Epoch [500/800] test accuracy: 0.9368 time: 11.89\n",
      "Epoch [501/800] test accuracy: 0.9368 time: 11.81\n",
      "Epoch [502/800] test accuracy: 0.9368 time: 11.81\n",
      "Epoch [503/800] test accuracy: 0.9368 time: 11.80\n",
      "Epoch [504/800] test accuracy: 0.9368 time: 11.90\n",
      "Epoch [505/800] test accuracy: 0.9368 time: 13.06\n",
      "Epoch [506/800] test accuracy: 0.9368 time: 13.04\n",
      "Epoch [507/800] test accuracy: 0.9368 time: 11.84\n",
      "Epoch [508/800] test accuracy: 0.9368 time: 11.82\n",
      "Epoch [509/800] test accuracy: 0.9368 time: 11.88\n",
      "Epoch [510/800] test accuracy: 0.9368 time: 11.79\n",
      "Epoch [511/800] test accuracy: 0.9368 time: 11.92\n",
      "Epoch [512/800] test accuracy: 0.9368 time: 11.84\n",
      "Epoch [513/800] test accuracy: 0.9368 time: 11.89\n",
      "Epoch [514/800] test accuracy: 0.9369 time: 11.98\n",
      "Epoch [515/800] test accuracy: 0.9368 time: 13.15\n",
      "Epoch [516/800] test accuracy: 0.9368 time: 13.06\n",
      "Epoch [517/800] test accuracy: 0.9368 time: 11.82\n",
      "Epoch [518/800] test accuracy: 0.9368 time: 11.87\n",
      "Epoch [519/800] test accuracy: 0.9369 time: 11.85\n",
      "Epoch [520/800] test accuracy: 0.9369 time: 11.78\n",
      "Epoch [521/800] test accuracy: 0.9369 time: 11.88\n",
      "Epoch [522/800] test accuracy: 0.9369 time: 11.87\n",
      "Epoch [523/800] test accuracy: 0.9370 time: 12.34\n",
      "Epoch [524/800] test accuracy: 0.9370 time: 12.21\n",
      "Epoch [525/800] test accuracy: 0.9370 time: 13.12\n",
      "Epoch [526/800] test accuracy: 0.9370 time: 12.75\n",
      "Epoch [527/800] test accuracy: 0.9369 time: 11.77\n",
      "Epoch [528/800] test accuracy: 0.9369 time: 11.86\n",
      "Epoch [529/800] test accuracy: 0.9369 time: 11.83\n",
      "Epoch [530/800] test accuracy: 0.9370 time: 11.80\n",
      "Epoch [531/800] test accuracy: 0.9369 time: 11.78\n",
      "Epoch [532/800] test accuracy: 0.9369 time: 11.89\n",
      "Epoch [533/800] test accuracy: 0.9369 time: 11.95\n",
      "Epoch [534/800] test accuracy: 0.9369 time: 12.18\n",
      "Epoch [535/800] test accuracy: 0.9369 time: 13.03\n",
      "Epoch [536/800] test accuracy: 0.9369 time: 12.68\n",
      "Epoch [537/800] test accuracy: 0.9369 time: 11.85\n",
      "Epoch [538/800] test accuracy: 0.9369 time: 11.86\n",
      "Epoch [539/800] test accuracy: 0.9369 time: 11.85\n",
      "Epoch [540/800] test accuracy: 0.9369 time: 11.78\n",
      "Epoch [541/800] test accuracy: 0.9369 time: 11.85\n",
      "Epoch [542/800] test accuracy: 0.9369 time: 11.91\n",
      "Epoch [543/800] test accuracy: 0.9369 time: 11.92\n",
      "Epoch [544/800] test accuracy: 0.9369 time: 12.42\n",
      "Epoch [545/800] test accuracy: 0.9369 time: 13.03\n",
      "Epoch [546/800] test accuracy: 0.9369 time: 12.60\n",
      "Epoch [547/800] test accuracy: 0.9369 time: 11.81\n",
      "Epoch [548/800] test accuracy: 0.9368 time: 11.93\n",
      "Epoch [549/800] test accuracy: 0.9369 time: 11.82\n",
      "Epoch [550/800] test accuracy: 0.9369 time: 11.97\n",
      "Epoch [551/800] test accuracy: 0.9369 time: 11.94\n",
      "Epoch [552/800] test accuracy: 0.9369 time: 11.76\n",
      "Epoch [553/800] test accuracy: 0.9369 time: 11.77\n",
      "Epoch [554/800] test accuracy: 0.9369 time: 12.44\n",
      "Epoch [555/800] test accuracy: 0.9369 time: 13.11\n",
      "Epoch [556/800] test accuracy: 0.9369 time: 12.53\n",
      "Epoch [557/800] test accuracy: 0.9369 time: 11.82\n",
      "Epoch [558/800] test accuracy: 0.9369 time: 11.83\n",
      "Epoch [559/800] test accuracy: 0.9369 time: 11.82\n",
      "Epoch [560/800] test accuracy: 0.9369 time: 11.83\n",
      "Epoch [561/800] test accuracy: 0.9369 time: 11.83\n",
      "Epoch [562/800] test accuracy: 0.9369 time: 11.88\n",
      "Epoch [563/800] test accuracy: 0.9369 time: 11.86\n",
      "Epoch [564/800] test accuracy: 0.9369 time: 12.59\n",
      "Epoch [565/800] test accuracy: 0.9369 time: 13.11\n",
      "Epoch [566/800] test accuracy: 0.9369 time: 12.60\n",
      "Epoch [567/800] test accuracy: 0.9369 time: 11.90\n",
      "Epoch [568/800] test accuracy: 0.9369 time: 11.89\n",
      "Epoch [569/800] test accuracy: 0.9369 time: 11.78\n",
      "Epoch [570/800] test accuracy: 0.9369 time: 11.76\n",
      "Epoch [571/800] test accuracy: 0.9369 time: 11.77\n",
      "Epoch [572/800] test accuracy: 0.9369 time: 11.77\n",
      "Epoch [573/800] test accuracy: 0.9369 time: 11.80\n",
      "Epoch [574/800] test accuracy: 0.9369 time: 12.67\n",
      "Epoch [575/800] test accuracy: 0.9369 time: 13.04\n",
      "Epoch [576/800] test accuracy: 0.9369 time: 12.36\n",
      "Epoch [577/800] test accuracy: 0.9370 time: 11.81\n",
      "Epoch [578/800] test accuracy: 0.9369 time: 11.86\n",
      "Epoch [579/800] test accuracy: 0.9370 time: 11.82\n",
      "Epoch [580/800] test accuracy: 0.9370 time: 11.62\n",
      "Epoch [581/800] test accuracy: 0.9370 time: 11.78\n",
      "Epoch [582/800] test accuracy: 0.9370 time: 11.82\n",
      "Epoch [583/800] test accuracy: 0.9370 time: 11.71\n",
      "Epoch [584/800] test accuracy: 0.9370 time: 12.81\n",
      "Epoch [585/800] test accuracy: 0.9370 time: 13.02\n",
      "Epoch [586/800] test accuracy: 0.9371 time: 12.35\n",
      "Epoch [587/800] test accuracy: 0.9371 time: 11.70\n",
      "Epoch [588/800] test accuracy: 0.9371 time: 11.91\n",
      "Epoch [589/800] test accuracy: 0.9371 time: 11.90\n",
      "Epoch [590/800] test accuracy: 0.9371 time: 11.81\n",
      "Epoch [591/800] test accuracy: 0.9371 time: 11.74\n",
      "Epoch [592/800] test accuracy: 0.9371 time: 11.73\n",
      "Epoch [593/800] test accuracy: 0.9371 time: 11.76\n",
      "Epoch [594/800] test accuracy: 0.9371 time: 12.79\n",
      "Epoch [595/800] test accuracy: 0.9371 time: 13.24\n",
      "Epoch [596/800] test accuracy: 0.9371 time: 12.12\n",
      "Epoch [597/800] test accuracy: 0.9371 time: 11.77\n",
      "Epoch [598/800] test accuracy: 0.9371 time: 11.88\n",
      "Epoch [599/800] test accuracy: 0.9371 time: 11.87\n",
      "Epoch [600/800] test accuracy: 0.9371 time: 11.77\n",
      "Epoch [601/800] test accuracy: 0.9371 time: 11.77\n",
      "Epoch [602/800] test accuracy: 0.9371 time: 11.85\n",
      "Epoch [603/800] test accuracy: 0.9371 time: 11.98\n",
      "Epoch [604/800] test accuracy: 0.9370 time: 12.92\n",
      "Epoch [605/800] test accuracy: 0.9370 time: 13.07\n",
      "Epoch [606/800] test accuracy: 0.9370 time: 12.00\n",
      "Epoch [607/800] test accuracy: 0.9371 time: 11.86\n",
      "Epoch [608/800] test accuracy: 0.9370 time: 11.74\n",
      "Epoch [609/800] test accuracy: 0.9370 time: 11.84\n",
      "Epoch [610/800] test accuracy: 0.9370 time: 11.73\n",
      "Epoch [611/800] test accuracy: 0.9370 time: 11.94\n",
      "Epoch [612/800] test accuracy: 0.9371 time: 11.89\n",
      "Epoch [613/800] test accuracy: 0.9371 time: 11.87\n",
      "Epoch [614/800] test accuracy: 0.9371 time: 13.02\n",
      "Epoch [615/800] test accuracy: 0.9371 time: 13.00\n",
      "Epoch [616/800] test accuracy: 0.9371 time: 12.09\n",
      "Epoch [617/800] test accuracy: 0.9372 time: 11.98\n",
      "Epoch [618/800] test accuracy: 0.9372 time: 11.97\n",
      "Epoch [619/800] test accuracy: 0.9371 time: 11.78\n",
      "Epoch [620/800] test accuracy: 0.9371 time: 11.85\n",
      "Epoch [621/800] test accuracy: 0.9370 time: 11.87\n",
      "Epoch [622/800] test accuracy: 0.9370 time: 11.82\n",
      "Epoch [623/800] test accuracy: 0.9371 time: 11.82\n",
      "Epoch [624/800] test accuracy: 0.9371 time: 13.22\n",
      "Epoch [625/800] test accuracy: 0.9371 time: 13.10\n",
      "Epoch [626/800] test accuracy: 0.9371 time: 11.91\n",
      "Epoch [627/800] test accuracy: 0.9371 time: 11.77\n",
      "Epoch [628/800] test accuracy: 0.9371 time: 11.78\n",
      "Epoch [629/800] test accuracy: 0.9371 time: 11.85\n",
      "Epoch [630/800] test accuracy: 0.9371 time: 11.85\n",
      "Epoch [631/800] test accuracy: 0.9370 time: 11.87\n",
      "Epoch [632/800] test accuracy: 0.9370 time: 11.83\n",
      "Epoch [633/800] test accuracy: 0.9370 time: 12.03\n",
      "Epoch [634/800] test accuracy: 0.9370 time: 13.06\n",
      "Epoch [635/800] test accuracy: 0.9370 time: 12.89\n",
      "Epoch [636/800] test accuracy: 0.9369 time: 11.86\n",
      "Epoch [637/800] test accuracy: 0.9370 time: 11.95\n",
      "Epoch [638/800] test accuracy: 0.9370 time: 12.01\n",
      "Epoch [639/800] test accuracy: 0.9370 time: 11.77\n",
      "Epoch [640/800] test accuracy: 0.9370 time: 12.12\n",
      "Epoch [641/800] test accuracy: 0.9370 time: 11.93\n",
      "Epoch [642/800] test accuracy: 0.9370 time: 11.87\n",
      "Epoch [643/800] test accuracy: 0.9369 time: 12.09\n",
      "Epoch [644/800] test accuracy: 0.9370 time: 13.08\n",
      "Epoch [645/800] test accuracy: 0.9369 time: 12.81\n",
      "Epoch [646/800] test accuracy: 0.9370 time: 11.85\n",
      "Epoch [647/800] test accuracy: 0.9371 time: 11.81\n",
      "Epoch [648/800] test accuracy: 0.9371 time: 11.94\n",
      "Epoch [649/800] test accuracy: 0.9371 time: 11.89\n",
      "Epoch [650/800] test accuracy: 0.9370 time: 11.83\n",
      "Epoch [651/800] test accuracy: 0.9370 time: 11.87\n",
      "Epoch [652/800] test accuracy: 0.9370 time: 11.88\n",
      "Epoch [653/800] test accuracy: 0.9369 time: 12.25\n",
      "Epoch [654/800] test accuracy: 0.9369 time: 13.18\n",
      "Epoch [655/800] test accuracy: 0.9369 time: 12.68\n",
      "Epoch [656/800] test accuracy: 0.9370 time: 11.88\n",
      "Epoch [657/800] test accuracy: 0.9369 time: 11.88\n",
      "Epoch [658/800] test accuracy: 0.9369 time: 11.75\n",
      "Epoch [659/800] test accuracy: 0.9369 time: 11.87\n"
     ]
    },
    {
     "name": "stdout",
     "output_type": "stream",
     "text": [
      "Epoch [660/800] test accuracy: 0.9369 time: 11.84\n",
      "Epoch [661/800] test accuracy: 0.9369 time: 11.91\n",
      "Epoch [662/800] test accuracy: 0.9369 time: 11.83\n",
      "Epoch [663/800] test accuracy: 0.9369 time: 12.44\n",
      "Epoch [664/800] test accuracy: 0.9369 time: 13.05\n",
      "Epoch [665/800] test accuracy: 0.9369 time: 12.54\n",
      "Epoch [666/800] test accuracy: 0.9369 time: 11.81\n",
      "Epoch [667/800] test accuracy: 0.9369 time: 11.79\n",
      "Epoch [668/800] test accuracy: 0.9369 time: 11.85\n",
      "Epoch [669/800] test accuracy: 0.9369 time: 11.84\n",
      "Epoch [670/800] test accuracy: 0.9368 time: 11.80\n",
      "Epoch [671/800] test accuracy: 0.9368 time: 11.84\n",
      "Epoch [672/800] test accuracy: 0.9370 time: 11.82\n",
      "Epoch [673/800] test accuracy: 0.9369 time: 12.54\n",
      "Epoch [674/800] test accuracy: 0.9370 time: 13.14\n",
      "Epoch [675/800] test accuracy: 0.9370 time: 12.50\n",
      "Epoch [676/800] test accuracy: 0.9370 time: 11.83\n",
      "Epoch [677/800] test accuracy: 0.9369 time: 11.91\n",
      "Epoch [678/800] test accuracy: 0.9370 time: 11.93\n",
      "Epoch [679/800] test accuracy: 0.9370 time: 11.85\n",
      "Epoch [680/800] test accuracy: 0.9370 time: 11.70\n",
      "Epoch [681/800] test accuracy: 0.9370 time: 11.91\n",
      "Epoch [682/800] test accuracy: 0.9370 time: 11.82\n",
      "Epoch [683/800] test accuracy: 0.9370 time: 12.58\n",
      "Epoch [684/800] test accuracy: 0.9370 time: 13.07\n",
      "Epoch [685/800] test accuracy: 0.9369 time: 12.42\n",
      "Epoch [686/800] test accuracy: 0.9370 time: 11.78\n",
      "Epoch [687/800] test accuracy: 0.9370 time: 11.86\n",
      "Epoch [688/800] test accuracy: 0.9369 time: 11.72\n",
      "Epoch [689/800] test accuracy: 0.9369 time: 11.75\n",
      "Epoch [690/800] test accuracy: 0.9369 time: 11.84\n",
      "Epoch [691/800] test accuracy: 0.9369 time: 11.81\n",
      "Epoch [692/800] test accuracy: 0.9370 time: 12.04\n",
      "Epoch [693/800] test accuracy: 0.9370 time: 12.72\n",
      "Epoch [694/800] test accuracy: 0.9371 time: 13.13\n",
      "Epoch [695/800] test accuracy: 0.9371 time: 12.45\n",
      "Epoch [696/800] test accuracy: 0.9371 time: 11.95\n",
      "Epoch [697/800] test accuracy: 0.9371 time: 11.93\n",
      "Epoch [698/800] test accuracy: 0.9371 time: 11.90\n",
      "Epoch [699/800] test accuracy: 0.9371 time: 11.87\n",
      "Epoch [700/800] test accuracy: 0.9371 time: 11.93\n",
      "Epoch [701/800] test accuracy: 0.9371 time: 11.80\n",
      "Epoch [702/800] test accuracy: 0.9371 time: 11.78\n",
      "Epoch [703/800] test accuracy: 0.9371 time: 12.89\n",
      "Epoch [704/800] test accuracy: 0.9371 time: 13.09\n",
      "Epoch [705/800] test accuracy: 0.9371 time: 12.17\n",
      "Epoch [706/800] test accuracy: 0.9371 time: 11.90\n",
      "Epoch [707/800] test accuracy: 0.9371 time: 11.77\n",
      "Epoch [708/800] test accuracy: 0.9371 time: 11.80\n",
      "Epoch [709/800] test accuracy: 0.9371 time: 11.75\n",
      "Epoch [710/800] test accuracy: 0.9371 time: 11.83\n",
      "Epoch [711/800] test accuracy: 0.9371 time: 11.92\n",
      "Epoch [712/800] test accuracy: 0.9369 time: 11.84\n",
      "Epoch [713/800] test accuracy: 0.9370 time: 12.86\n",
      "Epoch [714/800] test accuracy: 0.9370 time: 13.07\n",
      "Epoch [715/800] test accuracy: 0.9370 time: 12.30\n",
      "Epoch [716/800] test accuracy: 0.9370 time: 11.87\n",
      "Epoch [717/800] test accuracy: 0.9370 time: 11.91\n",
      "Epoch [718/800] test accuracy: 0.9369 time: 11.85\n",
      "Epoch [719/800] test accuracy: 0.9369 time: 11.84\n",
      "Epoch [720/800] test accuracy: 0.9369 time: 11.86\n",
      "Epoch [721/800] test accuracy: 0.9369 time: 11.86\n",
      "Epoch [722/800] test accuracy: 0.9369 time: 11.93\n",
      "Epoch [723/800] test accuracy: 0.9370 time: 13.19\n",
      "Epoch [724/800] test accuracy: 0.9370 time: 12.99\n",
      "Epoch [725/800] test accuracy: 0.9370 time: 12.05\n",
      "Epoch [726/800] test accuracy: 0.9370 time: 11.86\n",
      "Epoch [727/800] test accuracy: 0.9371 time: 11.90\n",
      "Epoch [728/800] test accuracy: 0.9371 time: 11.87\n",
      "Epoch [729/800] test accuracy: 0.9371 time: 11.85\n",
      "Epoch [730/800] test accuracy: 0.9371 time: 11.83\n",
      "Epoch [731/800] test accuracy: 0.9370 time: 11.94\n",
      "Epoch [732/800] test accuracy: 0.9370 time: 12.03\n",
      "Epoch [733/800] test accuracy: 0.9370 time: 13.08\n",
      "Epoch [734/800] test accuracy: 0.9370 time: 13.04\n",
      "Epoch [735/800] test accuracy: 0.9370 time: 11.86\n",
      "Epoch [736/800] test accuracy: 0.9370 time: 11.81\n",
      "Epoch [737/800] test accuracy: 0.9371 time: 11.95\n",
      "Epoch [738/800] test accuracy: 0.9370 time: 11.80\n",
      "Epoch [739/800] test accuracy: 0.9371 time: 11.83\n",
      "Epoch [740/800] test accuracy: 0.9370 time: 11.84\n",
      "Epoch [741/800] test accuracy: 0.9370 time: 11.85\n",
      "Epoch [742/800] test accuracy: 0.9371 time: 12.08\n",
      "Epoch [743/800] test accuracy: 0.9370 time: 13.13\n",
      "Epoch [744/800] test accuracy: 0.9370 time: 12.93\n",
      "Epoch [745/800] test accuracy: 0.9370 time: 11.92\n",
      "Epoch [746/800] test accuracy: 0.9370 time: 11.86\n",
      "Epoch [747/800] test accuracy: 0.9371 time: 11.78\n",
      "Epoch [748/800] test accuracy: 0.9370 time: 11.76\n",
      "Epoch [749/800] test accuracy: 0.9371 time: 11.81\n",
      "Epoch [750/800] test accuracy: 0.9370 time: 11.76\n",
      "Epoch [751/800] test accuracy: 0.9370 time: 11.88\n",
      "Epoch [752/800] test accuracy: 0.9370 time: 12.13\n",
      "Epoch [753/800] test accuracy: 0.9369 time: 13.00\n",
      "Epoch [754/800] test accuracy: 0.9369 time: 12.78\n",
      "Epoch [755/800] test accuracy: 0.9369 time: 11.87\n",
      "Epoch [756/800] test accuracy: 0.9369 time: 11.80\n",
      "Epoch [757/800] test accuracy: 0.9370 time: 11.78\n",
      "Epoch [758/800] test accuracy: 0.9369 time: 11.79\n",
      "Epoch [759/800] test accuracy: 0.9370 time: 11.78\n",
      "Epoch [760/800] test accuracy: 0.9370 time: 11.83\n",
      "Epoch [761/800] test accuracy: 0.9370 time: 12.76\n",
      "Epoch [762/800] test accuracy: 0.9370 time: 13.05\n",
      "Epoch [763/800] test accuracy: 0.9370 time: 13.21\n",
      "Epoch [764/800] test accuracy: 0.9370 time: 12.52\n",
      "Epoch [765/800] test accuracy: 0.9370 time: 11.92\n",
      "Epoch [766/800] test accuracy: 0.9370 time: 11.81\n",
      "Epoch [767/800] test accuracy: 0.9370 time: 11.94\n",
      "Epoch [768/800] test accuracy: 0.9370 time: 11.95\n",
      "Epoch [769/800] test accuracy: 0.9370 time: 11.83\n",
      "Epoch [770/800] test accuracy: 0.9370 time: 11.84\n",
      "Epoch [771/800] test accuracy: 0.9369 time: 11.76\n",
      "Epoch [772/800] test accuracy: 0.9369 time: 12.49\n",
      "Epoch [773/800] test accuracy: 0.9368 time: 13.26\n",
      "Epoch [774/800] test accuracy: 0.9368 time: 12.45\n",
      "Epoch [775/800] test accuracy: 0.9369 time: 11.91\n",
      "Epoch [776/800] test accuracy: 0.9369 time: 11.83\n",
      "Epoch [777/800] test accuracy: 0.9369 time: 11.91\n",
      "Epoch [778/800] test accuracy: 0.9368 time: 11.89\n",
      "Epoch [779/800] test accuracy: 0.9368 time: 11.96\n",
      "Epoch [780/800] test accuracy: 0.9368 time: 11.95\n",
      "Epoch [781/800] test accuracy: 0.9368 time: 11.84\n",
      "Epoch [782/800] test accuracy: 0.9369 time: 12.71\n",
      "Epoch [783/800] test accuracy: 0.9369 time: 13.09\n",
      "Epoch [784/800] test accuracy: 0.9369 time: 12.38\n",
      "Epoch [785/800] test accuracy: 0.9369 time: 11.94\n",
      "Epoch [786/800] test accuracy: 0.9369 time: 11.85\n",
      "Epoch [787/800] test accuracy: 0.9369 time: 12.02\n",
      "Epoch [788/800] test accuracy: 0.9370 time: 11.90\n",
      "Epoch [789/800] test accuracy: 0.9369 time: 11.97\n",
      "Epoch [790/800] test accuracy: 0.9368 time: 11.96\n",
      "Epoch [791/800] test accuracy: 0.9368 time: 11.88\n",
      "Epoch [792/800] test accuracy: 0.9368 time: 12.82\n",
      "Epoch [793/800] test accuracy: 0.9369 time: 13.08\n",
      "Epoch [794/800] test accuracy: 0.9369 time: 12.15\n",
      "Epoch [795/800] test accuracy: 0.9369 time: 11.83\n",
      "Epoch [796/800] test accuracy: 0.9369 time: 11.96\n",
      "Epoch [797/800] test accuracy: 0.9369 time: 12.08\n",
      "Epoch [798/800] test accuracy: 0.9369 time: 12.02\n",
      "Epoch [799/800] test accuracy: 0.9369 time: 11.87\n",
      "Epoch [800/800] test accuracy: 0.9369 time: 11.85\n"
     ]
    }
   ],
   "source": [
    "# full posterior predictive \n",
    "full_predictive = torch.FloatTensor(10000, 10)\n",
    "full_predictive.zero_()\n",
    "\n",
    "vi_test_errs = []\n",
    "\n",
    "for epoch in range(1, 1+NUM_EPOCHS):\n",
    "    predictive = pyro.infer.Predictive(model=bnn, guide=guide, num_samples=100)\n",
    "    start = time.time()\n",
    "    \n",
    "    with torch.no_grad():\n",
    "        epoch_predictive = None\n",
    "        for x, y in val_loader:\n",
    "            if epoch_predictive is None:\n",
    "                epoch_predictive = predictive(x)['obs'].to(torch.int64)\n",
    "            else:\n",
    "                epoch_predictive = torch.cat((epoch_predictive, predictive(x)['obs'].to(torch.int64)), dim=1)\n",
    "                    \n",
    "        for sample in epoch_predictive:\n",
    "            predictive_one_hot = F.one_hot(sample, num_classes=10)\n",
    "            full_predictive = full_predictive + predictive_one_hot\n",
    "                \n",
    "        full_y_hat = torch.argmax(full_predictive, dim=1)\n",
    "        total = Y_val.shape[0]\n",
    "        correct = int((full_y_hat == Y_val).sum())\n",
    "            \n",
    "    end = time.time()\n",
    "        \n",
    "    vi_test_errs.append(1.0 - correct/total)\n",
    "\n",
    "    print(\"Epoch [{}/{}] test accuracy: {:.4f} time: {:.2f}\".format(epoch, NUM_EPOCHS, correct/total, end - start))"
   ]
  },
  {
   "cell_type": "markdown",
   "id": "34d12d02",
   "metadata": {},
   "source": [
    "### Run SGHMC \n",
    "\n",
    "We run SGHMC to sample approximately from the posterior distribution. First we need to redefine the dataset SGHMC seems to work better with scaled values in the range [0.0, 1.0] rather than normalised values."
   ]
  },
  {
   "cell_type": "code",
   "execution_count": 8,
   "id": "d882e7bc",
   "metadata": {},
   "outputs": [],
   "source": [
    "train_dataset = datasets.MNIST('./data', train=True, download=True)\n",
    "\n",
    "test_dataset = datasets.MNIST('./data', train=False, download=True)\n",
    "\n",
    "nvalid = 10000\n",
    "\n",
    "perm = torch.arange(len(train_dataset))\n",
    "train_idx = perm[nvalid:]\n",
    "val_idx = perm[:nvalid]\n",
    "\n",
    "# scale the datasets\n",
    "X_train = train_dataset.data[train_idx] / 255.0\n",
    "Y_train = train_dataset.targets[train_idx]\n",
    "\n",
    "X_val = train_dataset.data[val_idx] / 255.0 \n",
    "Y_val = train_dataset.targets[val_idx]\n",
    "\n",
    "X_test = test_dataset.data / 255.0\n",
    "Y_test = test_dataset.targets\n",
    "\n",
    "# redefine the datasets\n",
    "train_dataset = Dataset(X_train, Y_train)\n",
    "val_dataset = Dataset(X_val, Y_val)\n",
    "test_dataset = Dataset(X_test, Y_test)\n",
    "\n",
    "# setup the dataloaders\n",
    "train_loader = DataLoader(train_dataset, batch_size=BATCH_SIZE, shuffle=True)\n",
    "val_loader = DataLoader(val_dataset, batch_size=BATCH_SIZE, shuffle=False)\n",
    "test_loader = DataLoader(test_dataset, batch_size=BATCH_SIZE, shuffle=False)"
   ]
  },
  {
   "cell_type": "code",
   "execution_count": 9,
   "id": "679d7ce7",
   "metadata": {},
   "outputs": [
    {
     "name": "stderr",
     "output_type": "stream",
     "text": [
      "Sample: 100%|█████████████████████████████████████████████████████████████████| 100/100 [00:02, 46.61it/s, lr=2.00e-06]\n",
      "Sample: 100%|█████████████████████████████████████████████████████████████████| 100/100 [00:01, 55.09it/s, lr=2.00e-06]\n",
      "Sample: 100%|█████████████████████████████████████████████████████████████████| 100/100 [00:01, 53.19it/s, lr=2.00e-06]\n",
      "Sample: 100%|█████████████████████████████████████████████████████████████████| 100/100 [00:01, 54.05it/s, lr=2.00e-06]\n",
      "Sample: 100%|█████████████████████████████████████████████████████████████████| 100/100 [00:01, 53.79it/s, lr=2.00e-06]\n",
      "Sample: 100%|█████████████████████████████████████████████████████████████████| 100/100 [00:01, 54.37it/s, lr=2.00e-06]\n",
      "Sample: 100%|█████████████████████████████████████████████████████████████████| 100/100 [00:01, 51.90it/s, lr=2.00e-06]\n",
      "Sample: 100%|█████████████████████████████████████████████████████████████████| 100/100 [00:02, 49.47it/s, lr=2.00e-06]\n",
      "Sample: 100%|█████████████████████████████████████████████████████████████████| 100/100 [00:01, 51.00it/s, lr=2.00e-06]\n",
      "Sample: 100%|█████████████████████████████████████████████████████████████████| 100/100 [00:01, 50.01it/s, lr=2.00e-06]\n",
      "Sample: 100%|█████████████████████████████████████████████████████████████████| 100/100 [00:02, 49.66it/s, lr=2.00e-06]\n",
      "Sample: 100%|█████████████████████████████████████████████████████████████████| 100/100 [00:01, 50.82it/s, lr=2.00e-06]\n",
      "Sample: 100%|█████████████████████████████████████████████████████████████████| 100/100 [00:02, 49.78it/s, lr=2.00e-06]\n",
      "Sample: 100%|█████████████████████████████████████████████████████████████████| 100/100 [00:01, 50.72it/s, lr=2.00e-06]\n",
      "Sample: 100%|█████████████████████████████████████████████████████████████████| 100/100 [00:02, 49.30it/s, lr=2.00e-06]\n",
      "Sample: 100%|█████████████████████████████████████████████████████████████████| 100/100 [00:02, 49.42it/s, lr=2.00e-06]\n",
      "Sample: 100%|█████████████████████████████████████████████████████████████████| 100/100 [00:01, 50.39it/s, lr=2.00e-06]\n",
      "Sample: 100%|█████████████████████████████████████████████████████████████████| 100/100 [00:02, 49.42it/s, lr=2.00e-06]\n",
      "Sample: 100%|█████████████████████████████████████████████████████████████████| 100/100 [00:02, 49.74it/s, lr=2.00e-06]\n",
      "Sample: 100%|█████████████████████████████████████████████████████████████████| 100/100 [00:01, 50.82it/s, lr=2.00e-06]\n",
      "Sample: 100%|█████████████████████████████████████████████████████████████████| 100/100 [00:01, 52.39it/s, lr=2.00e-06]\n",
      "Sample: 100%|█████████████████████████████████████████████████████████████████| 100/100 [00:01, 54.61it/s, lr=2.00e-06]\n",
      "Sample: 100%|█████████████████████████████████████████████████████████████████| 100/100 [00:01, 53.50it/s, lr=2.00e-06]\n",
      "Sample: 100%|█████████████████████████████████████████████████████████████████| 100/100 [00:01, 54.43it/s, lr=2.00e-06]\n",
      "Sample: 100%|█████████████████████████████████████████████████████████████████| 100/100 [00:01, 53.68it/s, lr=2.00e-06]\n",
      "Sample: 100%|█████████████████████████████████████████████████████████████████| 100/100 [00:01, 54.26it/s, lr=2.00e-06]\n",
      "Sample: 100%|█████████████████████████████████████████████████████████████████| 100/100 [00:01, 54.38it/s, lr=2.00e-06]\n",
      "Sample: 100%|█████████████████████████████████████████████████████████████████| 100/100 [00:01, 53.08it/s, lr=2.00e-06]\n",
      "Sample: 100%|█████████████████████████████████████████████████████████████████| 100/100 [00:01, 54.26it/s, lr=2.00e-06]\n",
      "Sample: 100%|█████████████████████████████████████████████████████████████████| 100/100 [00:01, 53.08it/s, lr=2.00e-06]\n",
      "Sample: 100%|█████████████████████████████████████████████████████████████████| 100/100 [00:01, 54.08it/s, lr=2.00e-06]\n",
      "Sample: 100%|█████████████████████████████████████████████████████████████████| 100/100 [00:01, 54.08it/s, lr=2.00e-06]\n",
      "Sample: 100%|█████████████████████████████████████████████████████████████████| 100/100 [00:01, 53.68it/s, lr=2.00e-06]\n",
      "Sample: 100%|█████████████████████████████████████████████████████████████████| 100/100 [00:01, 54.82it/s, lr=2.00e-06]\n",
      "Sample: 100%|█████████████████████████████████████████████████████████████████| 100/100 [00:01, 53.53it/s, lr=2.00e-06]\n",
      "Sample: 100%|█████████████████████████████████████████████████████████████████| 100/100 [00:01, 53.99it/s, lr=2.00e-06]\n",
      "Sample: 100%|█████████████████████████████████████████████████████████████████| 100/100 [00:01, 53.08it/s, lr=2.00e-06]\n",
      "Sample: 100%|█████████████████████████████████████████████████████████████████| 100/100 [00:01, 53.59it/s, lr=2.00e-06]\n",
      "Sample: 100%|█████████████████████████████████████████████████████████████████| 100/100 [00:01, 54.14it/s, lr=2.00e-06]\n",
      "Sample: 100%|█████████████████████████████████████████████████████████████████| 100/100 [00:01, 53.19it/s, lr=2.00e-06]\n",
      "Sample: 100%|█████████████████████████████████████████████████████████████████| 100/100 [00:01, 54.91it/s, lr=2.00e-06]\n",
      "Sample: 100%|█████████████████████████████████████████████████████████████████| 100/100 [00:01, 53.16it/s, lr=2.00e-06]\n",
      "Sample: 100%|█████████████████████████████████████████████████████████████████| 100/100 [00:01, 55.09it/s, lr=2.00e-06]\n",
      "Sample: 100%|█████████████████████████████████████████████████████████████████| 100/100 [00:01, 53.62it/s, lr=2.00e-06]\n",
      "Sample: 100%|█████████████████████████████████████████████████████████████████| 100/100 [00:01, 55.09it/s, lr=2.00e-06]\n",
      "Sample: 100%|█████████████████████████████████████████████████████████████████| 100/100 [00:01, 54.46it/s, lr=2.00e-06]\n",
      "Sample: 100%|█████████████████████████████████████████████████████████████████| 100/100 [00:01, 54.17it/s, lr=2.00e-06]\n",
      "Sample: 100%|█████████████████████████████████████████████████████████████████| 100/100 [00:01, 53.65it/s, lr=2.00e-06]\n",
      "Sample: 100%|█████████████████████████████████████████████████████████████████| 100/100 [00:01, 52.83it/s, lr=2.00e-06]\n",
      "Sample: 100%|█████████████████████████████████████████████████████████████████| 100/100 [00:01, 54.32it/s, lr=2.00e-06]\n"
     ]
    },
    {
     "name": "stdout",
     "output_type": "stream",
     "text": [
      "Epoch [0/800] test accuracy: 0.9099 time: 4.33\n"
     ]
    },
    {
     "name": "stderr",
     "output_type": "stream",
     "text": [
      "Sample: 100%|█████████████████████████████████████████████████████████████████| 100/100 [00:01, 53.99it/s, lr=2.00e-06]\n"
     ]
    },
    {
     "name": "stdout",
     "output_type": "stream",
     "text": [
      "Epoch [1/800] test accuracy: 0.9111 time: 4.41\n"
     ]
    },
    {
     "name": "stderr",
     "output_type": "stream",
     "text": [
      "Sample: 100%|█████████████████████████████████████████████████████████████████| 100/100 [00:01, 54.91it/s, lr=2.00e-06]\n"
     ]
    },
    {
     "name": "stdout",
     "output_type": "stream",
     "text": [
      "Epoch [2/800] test accuracy: 0.9122 time: 4.32\n"
     ]
    },
    {
     "name": "stderr",
     "output_type": "stream",
     "text": [
      "Sample: 100%|█████████████████████████████████████████████████████████████████| 100/100 [00:01, 53.08it/s, lr=2.00e-06]\n"
     ]
    },
    {
     "name": "stdout",
     "output_type": "stream",
     "text": [
      "Epoch [3/800] test accuracy: 0.9136 time: 4.30\n"
     ]
    },
    {
     "name": "stderr",
     "output_type": "stream",
     "text": [
      "Sample: 100%|█████████████████████████████████████████████████████████████████| 100/100 [00:01, 53.76it/s, lr=2.00e-06]\n"
     ]
    },
    {
     "name": "stdout",
     "output_type": "stream",
     "text": [
      "Epoch [4/800] test accuracy: 0.9150 time: 4.28\n"
     ]
    },
    {
     "name": "stderr",
     "output_type": "stream",
     "text": [
      "Sample: 100%|█████████████████████████████████████████████████████████████████| 100/100 [00:01, 53.94it/s, lr=2.00e-06]\n"
     ]
    },
    {
     "name": "stdout",
     "output_type": "stream",
     "text": [
      "Epoch [5/800] test accuracy: 0.9145 time: 4.34\n"
     ]
    },
    {
     "name": "stderr",
     "output_type": "stream",
     "text": [
      "Sample: 100%|█████████████████████████████████████████████████████████████████| 100/100 [00:01, 52.91it/s, lr=2.00e-06]\n"
     ]
    },
    {
     "name": "stdout",
     "output_type": "stream",
     "text": [
      "Epoch [6/800] test accuracy: 0.9153 time: 4.60\n"
     ]
    },
    {
     "name": "stderr",
     "output_type": "stream",
     "text": [
      "Sample: 100%|█████████████████████████████████████████████████████████████████| 100/100 [00:02, 49.74it/s, lr=2.00e-06]\n"
     ]
    },
    {
     "name": "stdout",
     "output_type": "stream",
     "text": [
      "Epoch [7/800] test accuracy: 0.9158 time: 4.56\n"
     ]
    },
    {
     "name": "stderr",
     "output_type": "stream",
     "text": [
      "Sample: 100%|█████████████████████████████████████████████████████████████████| 100/100 [00:01, 51.29it/s, lr=2.00e-06]\n"
     ]
    },
    {
     "name": "stdout",
     "output_type": "stream",
     "text": [
      "Epoch [8/800] test accuracy: 0.9168 time: 4.54\n"
     ]
    },
    {
     "name": "stderr",
     "output_type": "stream",
     "text": [
      "Sample: 100%|█████████████████████████████████████████████████████████████████| 100/100 [00:01, 50.01it/s, lr=2.00e-06]\n"
     ]
    },
    {
     "name": "stdout",
     "output_type": "stream",
     "text": [
      "Epoch [9/800] test accuracy: 0.9168 time: 4.55\n"
     ]
    },
    {
     "name": "stderr",
     "output_type": "stream",
     "text": [
      "Sample: 100%|█████████████████████████████████████████████████████████████████| 100/100 [00:01, 50.56it/s, lr=2.00e-06]\n"
     ]
    },
    {
     "name": "stdout",
     "output_type": "stream",
     "text": [
      "Epoch [10/800] test accuracy: 0.9171 time: 4.35\n"
     ]
    },
    {
     "name": "stderr",
     "output_type": "stream",
     "text": [
      "Sample: 100%|█████████████████████████████████████████████████████████████████| 100/100 [00:01, 54.20it/s, lr=2.00e-06]\n"
     ]
    },
    {
     "name": "stdout",
     "output_type": "stream",
     "text": [
      "Epoch [11/800] test accuracy: 0.9173 time: 4.25\n"
     ]
    },
    {
     "name": "stderr",
     "output_type": "stream",
     "text": [
      "Sample: 100%|█████████████████████████████████████████████████████████████████| 100/100 [00:01, 55.24it/s, lr=2.00e-06]\n"
     ]
    },
    {
     "name": "stdout",
     "output_type": "stream",
     "text": [
      "Epoch [12/800] test accuracy: 0.9180 time: 4.30\n"
     ]
    },
    {
     "name": "stderr",
     "output_type": "stream",
     "text": [
      "Sample: 100%|█████████████████████████████████████████████████████████████████| 100/100 [00:01, 53.25it/s, lr=2.00e-06]\n"
     ]
    },
    {
     "name": "stdout",
     "output_type": "stream",
     "text": [
      "Epoch [13/800] test accuracy: 0.9184 time: 4.26\n"
     ]
    },
    {
     "name": "stderr",
     "output_type": "stream",
     "text": [
      "Sample: 100%|█████████████████████████████████████████████████████████████████| 100/100 [00:01, 54.97it/s, lr=2.00e-06]\n"
     ]
    },
    {
     "name": "stdout",
     "output_type": "stream",
     "text": [
      "Epoch [14/800] test accuracy: 0.9184 time: 4.31\n"
     ]
    },
    {
     "name": "stderr",
     "output_type": "stream",
     "text": [
      "Sample: 100%|█████████████████████████████████████████████████████████████████| 100/100 [00:01, 52.91it/s, lr=2.00e-06]\n"
     ]
    },
    {
     "name": "stdout",
     "output_type": "stream",
     "text": [
      "Epoch [15/800] test accuracy: 0.9186 time: 4.29\n"
     ]
    },
    {
     "name": "stderr",
     "output_type": "stream",
     "text": [
      "Sample: 100%|█████████████████████████████████████████████████████████████████| 100/100 [00:01, 54.08it/s, lr=2.00e-06]\n"
     ]
    },
    {
     "name": "stdout",
     "output_type": "stream",
     "text": [
      "Epoch [16/800] test accuracy: 0.9190 time: 4.36\n"
     ]
    },
    {
     "name": "stderr",
     "output_type": "stream",
     "text": [
      "Sample: 100%|█████████████████████████████████████████████████████████████████| 100/100 [00:01, 55.00it/s, lr=2.00e-06]\n"
     ]
    },
    {
     "name": "stdout",
     "output_type": "stream",
     "text": [
      "Epoch [17/800] test accuracy: 0.9191 time: 4.29\n"
     ]
    },
    {
     "name": "stderr",
     "output_type": "stream",
     "text": [
      "Sample: 100%|█████████████████████████████████████████████████████████████████| 100/100 [00:01, 54.52it/s, lr=2.00e-06]\n"
     ]
    },
    {
     "name": "stdout",
     "output_type": "stream",
     "text": [
      "Epoch [18/800] test accuracy: 0.9196 time: 4.29\n"
     ]
    },
    {
     "name": "stderr",
     "output_type": "stream",
     "text": [
      "Sample: 100%|█████████████████████████████████████████████████████████████████| 100/100 [00:01, 54.23it/s, lr=2.00e-06]\n"
     ]
    },
    {
     "name": "stdout",
     "output_type": "stream",
     "text": [
      "Epoch [19/800] test accuracy: 0.9200 time: 4.27\n"
     ]
    },
    {
     "name": "stderr",
     "output_type": "stream",
     "text": [
      "Sample: 100%|█████████████████████████████████████████████████████████████████| 100/100 [00:01, 55.12it/s, lr=2.00e-06]\n"
     ]
    },
    {
     "name": "stdout",
     "output_type": "stream",
     "text": [
      "Epoch [20/800] test accuracy: 0.9203 time: 4.30\n"
     ]
    },
    {
     "name": "stderr",
     "output_type": "stream",
     "text": [
      "Sample: 100%|█████████████████████████████████████████████████████████████████| 100/100 [00:01, 54.97it/s, lr=2.00e-06]\n"
     ]
    },
    {
     "name": "stdout",
     "output_type": "stream",
     "text": [
      "Epoch [21/800] test accuracy: 0.9213 time: 4.27\n"
     ]
    },
    {
     "name": "stderr",
     "output_type": "stream",
     "text": [
      "Sample: 100%|█████████████████████████████████████████████████████████████████| 100/100 [00:01, 54.02it/s, lr=2.00e-06]\n"
     ]
    },
    {
     "name": "stdout",
     "output_type": "stream",
     "text": [
      "Epoch [22/800] test accuracy: 0.9217 time: 4.51\n"
     ]
    },
    {
     "name": "stderr",
     "output_type": "stream",
     "text": [
      "Sample: 100%|█████████████████████████████████████████████████████████████████| 100/100 [00:01, 53.11it/s, lr=2.00e-06]\n"
     ]
    },
    {
     "name": "stdout",
     "output_type": "stream",
     "text": [
      "Epoch [23/800] test accuracy: 0.9224 time: 4.31\n"
     ]
    },
    {
     "name": "stderr",
     "output_type": "stream",
     "text": [
      "Sample: 100%|█████████████████████████████████████████████████████████████████| 100/100 [00:01, 53.76it/s, lr=2.00e-06]\n"
     ]
    },
    {
     "name": "stdout",
     "output_type": "stream",
     "text": [
      "Epoch [24/800] test accuracy: 0.9224 time: 4.27\n"
     ]
    },
    {
     "name": "stderr",
     "output_type": "stream",
     "text": [
      "Sample: 100%|█████████████████████████████████████████████████████████████████| 100/100 [00:01, 54.08it/s, lr=2.00e-06]\n"
     ]
    },
    {
     "name": "stdout",
     "output_type": "stream",
     "text": [
      "Epoch [25/800] test accuracy: 0.9227 time: 4.54\n"
     ]
    },
    {
     "name": "stderr",
     "output_type": "stream",
     "text": [
      "Sample: 100%|█████████████████████████████████████████████████████████████████| 100/100 [00:01, 50.16it/s, lr=2.00e-06]\n"
     ]
    },
    {
     "name": "stdout",
     "output_type": "stream",
     "text": [
      "Epoch [26/800] test accuracy: 0.9233 time: 4.61\n"
     ]
    },
    {
     "name": "stderr",
     "output_type": "stream",
     "text": [
      "Sample: 100%|█████████████████████████████████████████████████████████████████| 100/100 [00:02, 49.66it/s, lr=2.00e-06]\n"
     ]
    },
    {
     "name": "stdout",
     "output_type": "stream",
     "text": [
      "Epoch [27/800] test accuracy: 0.9246 time: 4.56\n"
     ]
    },
    {
     "name": "stderr",
     "output_type": "stream",
     "text": [
      "Sample: 100%|█████████████████████████████████████████████████████████████████| 100/100 [00:01, 50.92it/s, lr=2.00e-06]\n"
     ]
    },
    {
     "name": "stdout",
     "output_type": "stream",
     "text": [
      "Epoch [28/800] test accuracy: 0.9255 time: 4.52\n"
     ]
    },
    {
     "name": "stderr",
     "output_type": "stream",
     "text": [
      "Sample: 100%|█████████████████████████████████████████████████████████████████| 100/100 [00:01, 50.23it/s, lr=2.00e-06]\n"
     ]
    },
    {
     "name": "stdout",
     "output_type": "stream",
     "text": [
      "Epoch [29/800] test accuracy: 0.9264 time: 4.39\n"
     ]
    },
    {
     "name": "stderr",
     "output_type": "stream",
     "text": [
      "Sample: 100%|█████████████████████████████████████████████████████████████████| 100/100 [00:01, 54.17it/s, lr=2.00e-06]\n"
     ]
    },
    {
     "name": "stdout",
     "output_type": "stream",
     "text": [
      "Epoch [30/800] test accuracy: 0.9274 time: 4.23\n"
     ]
    },
    {
     "name": "stderr",
     "output_type": "stream",
     "text": [
      "Sample: 100%|█████████████████████████████████████████████████████████████████| 100/100 [00:01, 54.17it/s, lr=2.00e-06]\n"
     ]
    },
    {
     "name": "stdout",
     "output_type": "stream",
     "text": [
      "Epoch [31/800] test accuracy: 0.9275 time: 4.28\n"
     ]
    },
    {
     "name": "stderr",
     "output_type": "stream",
     "text": [
      "Sample: 100%|█████████████████████████████████████████████████████████████████| 100/100 [00:01, 54.76it/s, lr=2.00e-06]\n"
     ]
    },
    {
     "name": "stdout",
     "output_type": "stream",
     "text": [
      "Epoch [32/800] test accuracy: 0.9279 time: 4.34\n"
     ]
    },
    {
     "name": "stderr",
     "output_type": "stream",
     "text": [
      "Sample: 100%|█████████████████████████████████████████████████████████████████| 100/100 [00:01, 53.62it/s, lr=2.00e-06]\n"
     ]
    },
    {
     "name": "stdout",
     "output_type": "stream",
     "text": [
      "Epoch [33/800] test accuracy: 0.9285 time: 4.28\n"
     ]
    },
    {
     "name": "stderr",
     "output_type": "stream",
     "text": [
      "Sample: 100%|█████████████████████████████████████████████████████████████████| 100/100 [00:01, 54.61it/s, lr=2.00e-06]\n"
     ]
    },
    {
     "name": "stdout",
     "output_type": "stream",
     "text": [
      "Epoch [34/800] test accuracy: 0.9289 time: 4.26\n"
     ]
    },
    {
     "name": "stderr",
     "output_type": "stream",
     "text": [
      "Sample: 100%|█████████████████████████████████████████████████████████████████| 100/100 [00:01, 54.91it/s, lr=2.00e-06]\n"
     ]
    },
    {
     "name": "stdout",
     "output_type": "stream",
     "text": [
      "Epoch [35/800] test accuracy: 0.9295 time: 4.25\n"
     ]
    },
    {
     "name": "stderr",
     "output_type": "stream",
     "text": [
      "Sample: 100%|█████████████████████████████████████████████████████████████████| 100/100 [00:01, 53.65it/s, lr=2.00e-06]\n"
     ]
    },
    {
     "name": "stdout",
     "output_type": "stream",
     "text": [
      "Epoch [36/800] test accuracy: 0.9298 time: 4.24\n"
     ]
    },
    {
     "name": "stderr",
     "output_type": "stream",
     "text": [
      "Sample: 100%|█████████████████████████████████████████████████████████████████| 100/100 [00:01, 54.46it/s, lr=2.00e-06]\n"
     ]
    },
    {
     "name": "stdout",
     "output_type": "stream",
     "text": [
      "Epoch [37/800] test accuracy: 0.9299 time: 4.28\n"
     ]
    },
    {
     "name": "stderr",
     "output_type": "stream",
     "text": [
      "Sample: 100%|█████████████████████████████████████████████████████████████████| 100/100 [00:01, 54.14it/s, lr=2.00e-06]\n"
     ]
    },
    {
     "name": "stdout",
     "output_type": "stream",
     "text": [
      "Epoch [38/800] test accuracy: 0.9308 time: 4.29\n"
     ]
    },
    {
     "name": "stderr",
     "output_type": "stream",
     "text": [
      "Sample: 100%|█████████████████████████████████████████████████████████████████| 100/100 [00:01, 55.80it/s, lr=2.00e-06]\n"
     ]
    },
    {
     "name": "stdout",
     "output_type": "stream",
     "text": [
      "Epoch [39/800] test accuracy: 0.9312 time: 4.29\n"
     ]
    },
    {
     "name": "stderr",
     "output_type": "stream",
     "text": [
      "Sample: 100%|█████████████████████████████████████████████████████████████████| 100/100 [00:01, 55.61it/s, lr=2.00e-06]\n"
     ]
    },
    {
     "name": "stdout",
     "output_type": "stream",
     "text": [
      "Epoch [40/800] test accuracy: 0.9314 time: 4.28\n"
     ]
    },
    {
     "name": "stderr",
     "output_type": "stream",
     "text": [
      "Sample: 100%|█████████████████████████████████████████████████████████████████| 100/100 [00:01, 54.76it/s, lr=2.00e-06]\n"
     ]
    },
    {
     "name": "stdout",
     "output_type": "stream",
     "text": [
      "Epoch [41/800] test accuracy: 0.9318 time: 4.27\n"
     ]
    },
    {
     "name": "stderr",
     "output_type": "stream",
     "text": [
      "Sample: 100%|█████████████████████████████████████████████████████████████████| 100/100 [00:01, 54.85it/s, lr=2.00e-06]\n"
     ]
    },
    {
     "name": "stdout",
     "output_type": "stream",
     "text": [
      "Epoch [42/800] test accuracy: 0.9322 time: 4.29\n"
     ]
    },
    {
     "name": "stderr",
     "output_type": "stream",
     "text": [
      "Sample: 100%|█████████████████████████████████████████████████████████████████| 100/100 [00:01, 54.52it/s, lr=2.00e-06]\n"
     ]
    },
    {
     "name": "stdout",
     "output_type": "stream",
     "text": [
      "Epoch [43/800] test accuracy: 0.9324 time: 4.31\n"
     ]
    },
    {
     "name": "stderr",
     "output_type": "stream",
     "text": [
      "Sample: 100%|█████████████████████████████████████████████████████████████████| 100/100 [00:01, 54.26it/s, lr=2.00e-06]\n"
     ]
    },
    {
     "name": "stdout",
     "output_type": "stream",
     "text": [
      "Epoch [44/800] test accuracy: 0.9327 time: 4.48\n"
     ]
    },
    {
     "name": "stderr",
     "output_type": "stream",
     "text": [
      "Sample: 100%|█████████████████████████████████████████████████████████████████| 100/100 [00:01, 50.51it/s, lr=2.00e-06]\n"
     ]
    },
    {
     "name": "stdout",
     "output_type": "stream",
     "text": [
      "Epoch [45/800] test accuracy: 0.9328 time: 4.56\n"
     ]
    },
    {
     "name": "stderr",
     "output_type": "stream",
     "text": [
      "Sample: 100%|█████████████████████████████████████████████████████████████████| 100/100 [00:01, 50.74it/s, lr=2.00e-06]\n"
     ]
    },
    {
     "name": "stdout",
     "output_type": "stream",
     "text": [
      "Epoch [46/800] test accuracy: 0.9327 time: 4.62\n"
     ]
    },
    {
     "name": "stderr",
     "output_type": "stream",
     "text": [
      "Sample: 100%|█████████████████████████████████████████████████████████████████| 100/100 [00:02, 49.42it/s, lr=2.00e-06]\n"
     ]
    },
    {
     "name": "stdout",
     "output_type": "stream",
     "text": [
      "Epoch [47/800] test accuracy: 0.9329 time: 4.56\n"
     ]
    },
    {
     "name": "stderr",
     "output_type": "stream",
     "text": [
      "Sample: 100%|█████████████████████████████████████████████████████████████████| 100/100 [00:01, 50.08it/s, lr=2.00e-06]\n"
     ]
    },
    {
     "name": "stdout",
     "output_type": "stream",
     "text": [
      "Epoch [48/800] test accuracy: 0.9333 time: 4.48\n"
     ]
    },
    {
     "name": "stderr",
     "output_type": "stream",
     "text": [
      "Sample: 100%|█████████████████████████████████████████████████████████████████| 100/100 [00:01, 55.18it/s, lr=2.00e-06]\n"
     ]
    },
    {
     "name": "stdout",
     "output_type": "stream",
     "text": [
      "Epoch [49/800] test accuracy: 0.9332 time: 4.33\n"
     ]
    },
    {
     "name": "stderr",
     "output_type": "stream",
     "text": [
      "Sample: 100%|█████████████████████████████████████████████████████████████████| 100/100 [00:01, 55.21it/s, lr=2.00e-06]\n"
     ]
    },
    {
     "name": "stdout",
     "output_type": "stream",
     "text": [
      "Epoch [50/800] test accuracy: 0.9334 time: 4.23\n"
     ]
    },
    {
     "name": "stderr",
     "output_type": "stream",
     "text": [
      "Sample: 100%|█████████████████████████████████████████████████████████████████| 100/100 [00:01, 55.18it/s, lr=2.00e-06]\n"
     ]
    },
    {
     "name": "stdout",
     "output_type": "stream",
     "text": [
      "Epoch [51/800] test accuracy: 0.9335 time: 4.25\n"
     ]
    },
    {
     "name": "stderr",
     "output_type": "stream",
     "text": [
      "Sample: 100%|█████████████████████████████████████████████████████████████████| 100/100 [00:01, 54.61it/s, lr=2.00e-06]\n"
     ]
    },
    {
     "name": "stdout",
     "output_type": "stream",
     "text": [
      "Epoch [52/800] test accuracy: 0.9336 time: 4.25\n"
     ]
    },
    {
     "name": "stderr",
     "output_type": "stream",
     "text": [
      "Sample: 100%|█████████████████████████████████████████████████████████████████| 100/100 [00:01, 54.88it/s, lr=2.00e-06]\n"
     ]
    },
    {
     "name": "stdout",
     "output_type": "stream",
     "text": [
      "Epoch [53/800] test accuracy: 0.9337 time: 4.23\n"
     ]
    },
    {
     "name": "stderr",
     "output_type": "stream",
     "text": [
      "Sample: 100%|█████████████████████████████████████████████████████████████████| 100/100 [00:01, 54.35it/s, lr=2.00e-06]\n"
     ]
    },
    {
     "name": "stdout",
     "output_type": "stream",
     "text": [
      "Epoch [54/800] test accuracy: 0.9338 time: 4.28\n"
     ]
    },
    {
     "name": "stderr",
     "output_type": "stream",
     "text": [
      "Sample: 100%|█████████████████████████████████████████████████████████████████| 100/100 [00:01, 55.06it/s, lr=2.00e-06]\n"
     ]
    },
    {
     "name": "stdout",
     "output_type": "stream",
     "text": [
      "Epoch [55/800] test accuracy: 0.9341 time: 4.30\n"
     ]
    },
    {
     "name": "stderr",
     "output_type": "stream",
     "text": [
      "Sample: 100%|█████████████████████████████████████████████████████████████████| 100/100 [00:01, 56.02it/s, lr=2.00e-06]\n"
     ]
    },
    {
     "name": "stdout",
     "output_type": "stream",
     "text": [
      "Epoch [56/800] test accuracy: 0.9341 time: 4.35\n"
     ]
    },
    {
     "name": "stderr",
     "output_type": "stream",
     "text": [
      "Sample: 100%|█████████████████████████████████████████████████████████████████| 100/100 [00:01, 53.59it/s, lr=2.00e-06]\n"
     ]
    },
    {
     "name": "stdout",
     "output_type": "stream",
     "text": [
      "Epoch [57/800] test accuracy: 0.9345 time: 4.28\n"
     ]
    },
    {
     "name": "stderr",
     "output_type": "stream",
     "text": [
      "Sample: 100%|█████████████████████████████████████████████████████████████████| 100/100 [00:01, 55.15it/s, lr=2.00e-06]\n"
     ]
    },
    {
     "name": "stdout",
     "output_type": "stream",
     "text": [
      "Epoch [58/800] test accuracy: 0.9345 time: 4.30\n"
     ]
    },
    {
     "name": "stderr",
     "output_type": "stream",
     "text": [
      "Sample: 100%|█████████████████████████████████████████████████████████████████| 100/100 [00:01, 54.38it/s, lr=2.00e-06]\n"
     ]
    },
    {
     "name": "stdout",
     "output_type": "stream",
     "text": [
      "Epoch [59/800] test accuracy: 0.9346 time: 4.24\n"
     ]
    },
    {
     "name": "stderr",
     "output_type": "stream",
     "text": [
      "Sample: 100%|█████████████████████████████████████████████████████████████████| 100/100 [00:01, 54.64it/s, lr=2.00e-06]\n"
     ]
    },
    {
     "name": "stdout",
     "output_type": "stream",
     "text": [
      "Epoch [60/800] test accuracy: 0.9348 time: 4.21\n"
     ]
    },
    {
     "name": "stderr",
     "output_type": "stream",
     "text": [
      "Sample: 100%|█████████████████████████████████████████████████████████████████| 100/100 [00:01, 54.58it/s, lr=2.00e-06]\n"
     ]
    },
    {
     "name": "stdout",
     "output_type": "stream",
     "text": [
      "Epoch [61/800] test accuracy: 0.9351 time: 4.30\n"
     ]
    },
    {
     "name": "stderr",
     "output_type": "stream",
     "text": [
      "Sample: 100%|█████████████████████████████████████████████████████████████████| 100/100 [00:01, 55.27it/s, lr=2.00e-06]\n"
     ]
    },
    {
     "name": "stdout",
     "output_type": "stream",
     "text": [
      "Epoch [62/800] test accuracy: 0.9349 time: 4.31\n"
     ]
    },
    {
     "name": "stderr",
     "output_type": "stream",
     "text": [
      "Sample: 100%|█████████████████████████████████████████████████████████████████| 100/100 [00:01, 54.43it/s, lr=2.00e-06]\n"
     ]
    },
    {
     "name": "stdout",
     "output_type": "stream",
     "text": [
      "Epoch [63/800] test accuracy: 0.9351 time: 4.35\n"
     ]
    },
    {
     "name": "stderr",
     "output_type": "stream",
     "text": [
      "Sample: 100%|█████████████████████████████████████████████████████████████████| 100/100 [00:02, 49.91it/s, lr=2.00e-06]\n"
     ]
    },
    {
     "name": "stdout",
     "output_type": "stream",
     "text": [
      "Epoch [64/800] test accuracy: 0.9353 time: 4.52\n"
     ]
    },
    {
     "name": "stderr",
     "output_type": "stream",
     "text": [
      "Sample: 100%|█████████████████████████████████████████████████████████████████| 100/100 [00:01, 50.74it/s, lr=2.00e-06]\n"
     ]
    },
    {
     "name": "stdout",
     "output_type": "stream",
     "text": [
      "Epoch [65/800] test accuracy: 0.9354 time: 4.52\n"
     ]
    },
    {
     "name": "stderr",
     "output_type": "stream",
     "text": [
      "Sample: 100%|█████████████████████████████████████████████████████████████████| 100/100 [00:01, 50.77it/s, lr=2.00e-06]\n"
     ]
    },
    {
     "name": "stdout",
     "output_type": "stream",
     "text": [
      "Epoch [66/800] test accuracy: 0.9353 time: 4.54\n"
     ]
    },
    {
     "name": "stderr",
     "output_type": "stream",
     "text": [
      "Sample: 100%|█████████████████████████████████████████████████████████████████| 100/100 [00:01, 50.67it/s, lr=2.00e-06]\n"
     ]
    },
    {
     "name": "stdout",
     "output_type": "stream",
     "text": [
      "Epoch [67/800] test accuracy: 0.9355 time: 4.54\n"
     ]
    },
    {
     "name": "stderr",
     "output_type": "stream",
     "text": [
      "Sample: 100%|█████████████████████████████████████████████████████████████████| 100/100 [00:01, 53.79it/s, lr=2.00e-06]\n"
     ]
    },
    {
     "name": "stdout",
     "output_type": "stream",
     "text": [
      "Epoch [68/800] test accuracy: 0.9355 time: 4.27\n"
     ]
    },
    {
     "name": "stderr",
     "output_type": "stream",
     "text": [
      "Sample: 100%|█████████████████████████████████████████████████████████████████| 100/100 [00:01, 54.79it/s, lr=2.00e-06]\n"
     ]
    },
    {
     "name": "stdout",
     "output_type": "stream",
     "text": [
      "Epoch [69/800] test accuracy: 0.9358 time: 4.32\n"
     ]
    },
    {
     "name": "stderr",
     "output_type": "stream",
     "text": [
      "Sample: 100%|█████████████████████████████████████████████████████████████████| 100/100 [00:01, 55.06it/s, lr=2.00e-06]\n"
     ]
    },
    {
     "name": "stdout",
     "output_type": "stream",
     "text": [
      "Epoch [70/800] test accuracy: 0.9362 time: 4.26\n"
     ]
    },
    {
     "name": "stderr",
     "output_type": "stream",
     "text": [
      "Sample: 100%|█████████████████████████████████████████████████████████████████| 100/100 [00:01, 56.27it/s, lr=2.00e-06]\n"
     ]
    },
    {
     "name": "stdout",
     "output_type": "stream",
     "text": [
      "Epoch [71/800] test accuracy: 0.9365 time: 4.27\n"
     ]
    },
    {
     "name": "stderr",
     "output_type": "stream",
     "text": [
      "Sample: 100%|█████████████████████████████████████████████████████████████████| 100/100 [00:01, 54.67it/s, lr=2.00e-06]\n"
     ]
    },
    {
     "name": "stdout",
     "output_type": "stream",
     "text": [
      "Epoch [72/800] test accuracy: 0.9362 time: 4.27\n"
     ]
    },
    {
     "name": "stderr",
     "output_type": "stream",
     "text": [
      "Sample: 100%|█████████████████████████████████████████████████████████████████| 100/100 [00:01, 55.46it/s, lr=2.00e-06]\n"
     ]
    },
    {
     "name": "stdout",
     "output_type": "stream",
     "text": [
      "Epoch [73/800] test accuracy: 0.9363 time: 4.25\n"
     ]
    },
    {
     "name": "stderr",
     "output_type": "stream",
     "text": [
      "Sample: 100%|█████████████████████████████████████████████████████████████████| 100/100 [00:01, 55.15it/s, lr=2.00e-06]\n"
     ]
    },
    {
     "name": "stdout",
     "output_type": "stream",
     "text": [
      "Epoch [74/800] test accuracy: 0.9364 time: 4.24\n"
     ]
    },
    {
     "name": "stderr",
     "output_type": "stream",
     "text": [
      "Sample: 100%|█████████████████████████████████████████████████████████████████| 100/100 [00:01, 55.21it/s, lr=2.00e-06]\n"
     ]
    },
    {
     "name": "stdout",
     "output_type": "stream",
     "text": [
      "Epoch [75/800] test accuracy: 0.9366 time: 4.25\n"
     ]
    },
    {
     "name": "stderr",
     "output_type": "stream",
     "text": [
      "Sample: 100%|█████████████████████████████████████████████████████████████████| 100/100 [00:01, 54.46it/s, lr=2.00e-06]\n"
     ]
    },
    {
     "name": "stdout",
     "output_type": "stream",
     "text": [
      "Epoch [76/800] test accuracy: 0.9367 time: 4.25\n"
     ]
    },
    {
     "name": "stderr",
     "output_type": "stream",
     "text": [
      "Sample: 100%|█████████████████████████████████████████████████████████████████| 100/100 [00:01, 54.49it/s, lr=2.00e-06]\n"
     ]
    },
    {
     "name": "stdout",
     "output_type": "stream",
     "text": [
      "Epoch [77/800] test accuracy: 0.9369 time: 4.29\n"
     ]
    },
    {
     "name": "stderr",
     "output_type": "stream",
     "text": [
      "Sample: 100%|█████████████████████████████████████████████████████████████████| 100/100 [00:01, 54.85it/s, lr=2.00e-06]\n"
     ]
    },
    {
     "name": "stdout",
     "output_type": "stream",
     "text": [
      "Epoch [78/800] test accuracy: 0.9368 time: 4.23\n"
     ]
    },
    {
     "name": "stderr",
     "output_type": "stream",
     "text": [
      "Sample: 100%|█████████████████████████████████████████████████████████████████| 100/100 [00:01, 53.79it/s, lr=2.00e-06]\n"
     ]
    },
    {
     "name": "stdout",
     "output_type": "stream",
     "text": [
      "Epoch [79/800] test accuracy: 0.9368 time: 4.28\n"
     ]
    },
    {
     "name": "stderr",
     "output_type": "stream",
     "text": [
      "Sample: 100%|█████████████████████████████████████████████████████████████████| 100/100 [00:01, 55.30it/s, lr=2.00e-06]\n"
     ]
    },
    {
     "name": "stdout",
     "output_type": "stream",
     "text": [
      "Epoch [80/800] test accuracy: 0.9372 time: 4.29\n"
     ]
    },
    {
     "name": "stderr",
     "output_type": "stream",
     "text": [
      "Sample: 100%|█████████████████████████████████████████████████████████████████| 100/100 [00:01, 55.43it/s, lr=2.00e-06]\n"
     ]
    },
    {
     "name": "stdout",
     "output_type": "stream",
     "text": [
      "Epoch [81/800] test accuracy: 0.9374 time: 4.27\n"
     ]
    },
    {
     "name": "stderr",
     "output_type": "stream",
     "text": [
      "Sample: 100%|█████████████████████████████████████████████████████████████████| 100/100 [00:01, 55.18it/s, lr=2.00e-06]\n"
     ]
    },
    {
     "name": "stdout",
     "output_type": "stream",
     "text": [
      "Epoch [82/800] test accuracy: 0.9374 time: 4.27\n"
     ]
    },
    {
     "name": "stderr",
     "output_type": "stream",
     "text": [
      "Sample: 100%|█████████████████████████████████████████████████████████████████| 100/100 [00:01, 52.22it/s, lr=2.00e-06]\n"
     ]
    },
    {
     "name": "stdout",
     "output_type": "stream",
     "text": [
      "Epoch [83/800] test accuracy: 0.9376 time: 4.56\n"
     ]
    },
    {
     "name": "stderr",
     "output_type": "stream",
     "text": [
      "Sample: 100%|█████████████████████████████████████████████████████████████████| 100/100 [00:01, 50.16it/s, lr=2.00e-06]\n"
     ]
    },
    {
     "name": "stdout",
     "output_type": "stream",
     "text": [
      "Epoch [84/800] test accuracy: 0.9380 time: 4.53\n"
     ]
    },
    {
     "name": "stderr",
     "output_type": "stream",
     "text": [
      "Sample: 100%|█████████████████████████████████████████████████████████████████| 100/100 [00:01, 50.16it/s, lr=2.00e-06]\n"
     ]
    },
    {
     "name": "stdout",
     "output_type": "stream",
     "text": [
      "Epoch [85/800] test accuracy: 0.9380 time: 4.57\n"
     ]
    },
    {
     "name": "stderr",
     "output_type": "stream",
     "text": [
      "Sample: 100%|█████████████████████████████████████████████████████████████████| 100/100 [00:01, 50.41it/s, lr=2.00e-06]\n"
     ]
    },
    {
     "name": "stdout",
     "output_type": "stream",
     "text": [
      "Epoch [86/800] test accuracy: 0.9380 time: 4.53\n"
     ]
    },
    {
     "name": "stderr",
     "output_type": "stream",
     "text": [
      "Sample: 100%|█████████████████████████████████████████████████████████████████| 100/100 [00:01, 50.87it/s, lr=2.00e-06]\n"
     ]
    },
    {
     "name": "stdout",
     "output_type": "stream",
     "text": [
      "Epoch [87/800] test accuracy: 0.9381 time: 4.35\n"
     ]
    },
    {
     "name": "stderr",
     "output_type": "stream",
     "text": [
      "Sample: 100%|█████████████████████████████████████████████████████████████████| 100/100 [00:01, 54.46it/s, lr=2.00e-06]\n"
     ]
    },
    {
     "name": "stdout",
     "output_type": "stream",
     "text": [
      "Epoch [88/800] test accuracy: 0.9380 time: 4.29\n"
     ]
    },
    {
     "name": "stderr",
     "output_type": "stream",
     "text": [
      "Sample: 100%|█████████████████████████████████████████████████████████████████| 100/100 [00:01, 55.40it/s, lr=2.00e-06]\n"
     ]
    },
    {
     "name": "stdout",
     "output_type": "stream",
     "text": [
      "Epoch [89/800] test accuracy: 0.9382 time: 4.28\n"
     ]
    },
    {
     "name": "stderr",
     "output_type": "stream",
     "text": [
      "Sample: 100%|█████████████████████████████████████████████████████████████████| 100/100 [00:01, 54.46it/s, lr=2.00e-06]\n"
     ]
    },
    {
     "name": "stdout",
     "output_type": "stream",
     "text": [
      "Epoch [90/800] test accuracy: 0.9381 time: 4.25\n"
     ]
    },
    {
     "name": "stderr",
     "output_type": "stream",
     "text": [
      "Sample: 100%|█████████████████████████████████████████████████████████████████| 100/100 [00:01, 55.49it/s, lr=2.00e-06]\n"
     ]
    },
    {
     "name": "stdout",
     "output_type": "stream",
     "text": [
      "Epoch [91/800] test accuracy: 0.9382 time: 4.27\n"
     ]
    },
    {
     "name": "stderr",
     "output_type": "stream",
     "text": [
      "Sample: 100%|█████████████████████████████████████████████████████████████████| 100/100 [00:01, 55.09it/s, lr=2.00e-06]\n"
     ]
    },
    {
     "name": "stdout",
     "output_type": "stream",
     "text": [
      "Epoch [92/800] test accuracy: 0.9384 time: 4.30\n"
     ]
    },
    {
     "name": "stderr",
     "output_type": "stream",
     "text": [
      "Sample: 100%|█████████████████████████████████████████████████████████████████| 100/100 [00:01, 55.03it/s, lr=2.00e-06]\n"
     ]
    },
    {
     "name": "stdout",
     "output_type": "stream",
     "text": [
      "Epoch [93/800] test accuracy: 0.9384 time: 4.29\n"
     ]
    },
    {
     "name": "stderr",
     "output_type": "stream",
     "text": [
      "Sample: 100%|█████████████████████████████████████████████████████████████████| 100/100 [00:01, 54.76it/s, lr=2.00e-06]\n"
     ]
    },
    {
     "name": "stdout",
     "output_type": "stream",
     "text": [
      "Epoch [94/800] test accuracy: 0.9386 time: 4.23\n"
     ]
    },
    {
     "name": "stderr",
     "output_type": "stream",
     "text": [
      "Sample: 100%|█████████████████████████████████████████████████████████████████| 100/100 [00:01, 55.58it/s, lr=2.00e-06]\n"
     ]
    },
    {
     "name": "stdout",
     "output_type": "stream",
     "text": [
      "Epoch [95/800] test accuracy: 0.9385 time: 4.25\n"
     ]
    },
    {
     "name": "stderr",
     "output_type": "stream",
     "text": [
      "Sample: 100%|█████████████████████████████████████████████████████████████████| 100/100 [00:01, 54.79it/s, lr=2.00e-06]\n"
     ]
    },
    {
     "name": "stdout",
     "output_type": "stream",
     "text": [
      "Epoch [96/800] test accuracy: 0.9384 time: 4.25\n"
     ]
    },
    {
     "name": "stderr",
     "output_type": "stream",
     "text": [
      "Sample: 100%|█████████████████████████████████████████████████████████████████| 100/100 [00:01, 54.37it/s, lr=2.00e-06]\n"
     ]
    },
    {
     "name": "stdout",
     "output_type": "stream",
     "text": [
      "Epoch [97/800] test accuracy: 0.9384 time: 4.26\n"
     ]
    },
    {
     "name": "stderr",
     "output_type": "stream",
     "text": [
      "Sample: 100%|█████████████████████████████████████████████████████████████████| 100/100 [00:01, 53.53it/s, lr=2.00e-06]\n"
     ]
    },
    {
     "name": "stdout",
     "output_type": "stream",
     "text": [
      "Epoch [98/800] test accuracy: 0.9385 time: 4.24\n"
     ]
    },
    {
     "name": "stderr",
     "output_type": "stream",
     "text": [
      "Sample: 100%|█████████████████████████████████████████████████████████████████| 100/100 [00:01, 54.43it/s, lr=2.00e-06]\n"
     ]
    },
    {
     "name": "stdout",
     "output_type": "stream",
     "text": [
      "Epoch [99/800] test accuracy: 0.9385 time: 4.22\n"
     ]
    },
    {
     "name": "stderr",
     "output_type": "stream",
     "text": [
      "Sample: 100%|█████████████████████████████████████████████████████████████████| 100/100 [00:01, 55.67it/s, lr=2.00e-06]\n"
     ]
    },
    {
     "name": "stdout",
     "output_type": "stream",
     "text": [
      "Epoch [100/800] test accuracy: 0.9385 time: 4.27\n"
     ]
    },
    {
     "name": "stderr",
     "output_type": "stream",
     "text": [
      "Sample: 100%|█████████████████████████████████████████████████████████████████| 100/100 [00:01, 54.26it/s, lr=2.00e-06]\n"
     ]
    },
    {
     "name": "stdout",
     "output_type": "stream",
     "text": [
      "Epoch [101/800] test accuracy: 0.9385 time: 4.26\n"
     ]
    },
    {
     "name": "stderr",
     "output_type": "stream",
     "text": [
      "Sample: 100%|█████████████████████████████████████████████████████████████████| 100/100 [00:01, 53.14it/s, lr=2.00e-06]\n"
     ]
    },
    {
     "name": "stdout",
     "output_type": "stream",
     "text": [
      "Epoch [102/800] test accuracy: 0.9386 time: 4.50\n"
     ]
    },
    {
     "name": "stderr",
     "output_type": "stream",
     "text": [
      "Sample: 100%|█████████████████████████████████████████████████████████████████| 100/100 [00:01, 50.85it/s, lr=2.00e-06]\n"
     ]
    },
    {
     "name": "stdout",
     "output_type": "stream",
     "text": [
      "Epoch [103/800] test accuracy: 0.9386 time: 4.54\n"
     ]
    },
    {
     "name": "stderr",
     "output_type": "stream",
     "text": [
      "Sample: 100%|█████████████████████████████████████████████████████████████████| 100/100 [00:01, 50.21it/s, lr=2.00e-06]\n"
     ]
    },
    {
     "name": "stdout",
     "output_type": "stream",
     "text": [
      "Epoch [104/800] test accuracy: 0.9389 time: 4.50\n"
     ]
    },
    {
     "name": "stderr",
     "output_type": "stream",
     "text": [
      "Sample: 100%|█████████████████████████████████████████████████████████████████| 100/100 [00:01, 50.59it/s, lr=2.00e-06]\n"
     ]
    },
    {
     "name": "stdout",
     "output_type": "stream",
     "text": [
      "Epoch [105/800] test accuracy: 0.9389 time: 4.54\n"
     ]
    },
    {
     "name": "stderr",
     "output_type": "stream",
     "text": [
      "Sample: 100%|█████████████████████████████████████████████████████████████████| 100/100 [00:02, 49.96it/s, lr=2.00e-06]\n"
     ]
    },
    {
     "name": "stdout",
     "output_type": "stream",
     "text": [
      "Epoch [106/800] test accuracy: 0.9391 time: 4.45\n"
     ]
    },
    {
     "name": "stderr",
     "output_type": "stream",
     "text": [
      "Sample: 100%|█████████████████████████████████████████████████████████████████| 100/100 [00:01, 51.71it/s, lr=2.00e-06]\n"
     ]
    },
    {
     "name": "stdout",
     "output_type": "stream",
     "text": [
      "Epoch [107/800] test accuracy: 0.9391 time: 4.36\n"
     ]
    },
    {
     "name": "stderr",
     "output_type": "stream",
     "text": [
      "Sample: 100%|█████████████████████████████████████████████████████████████████| 100/100 [00:01, 54.55it/s, lr=2.00e-06]\n"
     ]
    },
    {
     "name": "stdout",
     "output_type": "stream",
     "text": [
      "Epoch [108/800] test accuracy: 0.9391 time: 4.20\n"
     ]
    },
    {
     "name": "stderr",
     "output_type": "stream",
     "text": [
      "Sample: 100%|█████████████████████████████████████████████████████████████████| 100/100 [00:01, 56.30it/s, lr=2.00e-06]\n"
     ]
    },
    {
     "name": "stdout",
     "output_type": "stream",
     "text": [
      "Epoch [109/800] test accuracy: 0.9391 time: 4.23\n"
     ]
    },
    {
     "name": "stderr",
     "output_type": "stream",
     "text": [
      "Sample: 100%|█████████████████████████████████████████████████████████████████| 100/100 [00:01, 55.64it/s, lr=2.00e-06]\n"
     ]
    },
    {
     "name": "stdout",
     "output_type": "stream",
     "text": [
      "Epoch [110/800] test accuracy: 0.9393 time: 4.24\n"
     ]
    },
    {
     "name": "stderr",
     "output_type": "stream",
     "text": [
      "Sample: 100%|█████████████████████████████████████████████████████████████████| 100/100 [00:01, 53.97it/s, lr=2.00e-06]\n"
     ]
    },
    {
     "name": "stdout",
     "output_type": "stream",
     "text": [
      "Epoch [111/800] test accuracy: 0.9394 time: 4.23\n"
     ]
    },
    {
     "name": "stderr",
     "output_type": "stream",
     "text": [
      "Sample: 100%|█████████████████████████████████████████████████████████████████| 100/100 [00:01, 53.73it/s, lr=2.00e-06]\n"
     ]
    },
    {
     "name": "stdout",
     "output_type": "stream",
     "text": [
      "Epoch [112/800] test accuracy: 0.9395 time: 4.23\n"
     ]
    },
    {
     "name": "stderr",
     "output_type": "stream",
     "text": [
      "Sample: 100%|█████████████████████████████████████████████████████████████████| 100/100 [00:01, 53.48it/s, lr=2.00e-06]\n"
     ]
    },
    {
     "name": "stdout",
     "output_type": "stream",
     "text": [
      "Epoch [113/800] test accuracy: 0.9395 time: 4.28\n"
     ]
    },
    {
     "name": "stderr",
     "output_type": "stream",
     "text": [
      "Sample: 100%|█████████████████████████████████████████████████████████████████| 100/100 [00:01, 54.82it/s, lr=2.00e-06]\n"
     ]
    },
    {
     "name": "stdout",
     "output_type": "stream",
     "text": [
      "Epoch [114/800] test accuracy: 0.9398 time: 4.29\n"
     ]
    },
    {
     "name": "stderr",
     "output_type": "stream",
     "text": [
      "Sample: 100%|█████████████████████████████████████████████████████████████████| 100/100 [00:01, 54.17it/s, lr=2.00e-06]\n"
     ]
    },
    {
     "name": "stdout",
     "output_type": "stream",
     "text": [
      "Epoch [115/800] test accuracy: 0.9399 time: 4.23\n"
     ]
    },
    {
     "name": "stderr",
     "output_type": "stream",
     "text": [
      "Sample: 100%|█████████████████████████████████████████████████████████████████| 100/100 [00:01, 54.05it/s, lr=2.00e-06]\n"
     ]
    },
    {
     "name": "stdout",
     "output_type": "stream",
     "text": [
      "Epoch [116/800] test accuracy: 0.9402 time: 4.26\n"
     ]
    },
    {
     "name": "stderr",
     "output_type": "stream",
     "text": [
      "Sample: 100%|█████████████████████████████████████████████████████████████████| 100/100 [00:01, 55.70it/s, lr=2.00e-06]\n"
     ]
    },
    {
     "name": "stdout",
     "output_type": "stream",
     "text": [
      "Epoch [117/800] test accuracy: 0.9404 time: 4.30\n"
     ]
    },
    {
     "name": "stderr",
     "output_type": "stream",
     "text": [
      "Sample: 100%|█████████████████████████████████████████████████████████████████| 100/100 [00:01, 55.06it/s, lr=2.00e-06]\n"
     ]
    },
    {
     "name": "stdout",
     "output_type": "stream",
     "text": [
      "Epoch [118/800] test accuracy: 0.9403 time: 4.24\n"
     ]
    },
    {
     "name": "stderr",
     "output_type": "stream",
     "text": [
      "Sample: 100%|█████████████████████████████████████████████████████████████████| 100/100 [00:01, 54.94it/s, lr=2.00e-06]\n"
     ]
    },
    {
     "name": "stdout",
     "output_type": "stream",
     "text": [
      "Epoch [119/800] test accuracy: 0.9404 time: 4.27\n"
     ]
    },
    {
     "name": "stderr",
     "output_type": "stream",
     "text": [
      "Sample: 100%|█████████████████████████████████████████████████████████████████| 100/100 [00:01, 51.50it/s, lr=2.00e-06]\n"
     ]
    },
    {
     "name": "stdout",
     "output_type": "stream",
     "text": [
      "Epoch [120/800] test accuracy: 0.9404 time: 4.25\n"
     ]
    },
    {
     "name": "stderr",
     "output_type": "stream",
     "text": [
      "Sample: 100%|█████████████████████████████████████████████████████████████████| 100/100 [00:01, 55.00it/s, lr=2.00e-06]\n"
     ]
    },
    {
     "name": "stdout",
     "output_type": "stream",
     "text": [
      "Epoch [121/800] test accuracy: 0.9404 time: 4.38\n"
     ]
    },
    {
     "name": "stderr",
     "output_type": "stream",
     "text": [
      "Sample: 100%|█████████████████████████████████████████████████████████████████| 100/100 [00:01, 50.16it/s, lr=2.00e-06]\n"
     ]
    },
    {
     "name": "stdout",
     "output_type": "stream",
     "text": [
      "Epoch [122/800] test accuracy: 0.9405 time: 4.54\n"
     ]
    },
    {
     "name": "stderr",
     "output_type": "stream",
     "text": [
      "Sample: 100%|█████████████████████████████████████████████████████████████████| 100/100 [00:01, 50.44it/s, lr=2.00e-06]\n"
     ]
    },
    {
     "name": "stdout",
     "output_type": "stream",
     "text": [
      "Epoch [123/800] test accuracy: 0.9403 time: 4.59\n"
     ]
    },
    {
     "name": "stderr",
     "output_type": "stream",
     "text": [
      "Sample: 100%|█████████████████████████████████████████████████████████████████| 100/100 [00:01, 51.47it/s, lr=2.00e-06]\n"
     ]
    },
    {
     "name": "stdout",
     "output_type": "stream",
     "text": [
      "Epoch [124/800] test accuracy: 0.9403 time: 4.54\n"
     ]
    },
    {
     "name": "stderr",
     "output_type": "stream",
     "text": [
      "Sample: 100%|█████████████████████████████████████████████████████████████████| 100/100 [00:01, 51.00it/s, lr=2.00e-06]\n"
     ]
    },
    {
     "name": "stdout",
     "output_type": "stream",
     "text": [
      "Epoch [125/800] test accuracy: 0.9405 time: 4.54\n"
     ]
    },
    {
     "name": "stderr",
     "output_type": "stream",
     "text": [
      "Sample: 100%|█████████████████████████████████████████████████████████████████| 100/100 [00:01, 53.53it/s, lr=2.00e-06]\n"
     ]
    },
    {
     "name": "stdout",
     "output_type": "stream",
     "text": [
      "Epoch [126/800] test accuracy: 0.9407 time: 4.27\n"
     ]
    },
    {
     "name": "stderr",
     "output_type": "stream",
     "text": [
      "Sample: 100%|█████████████████████████████████████████████████████████████████| 100/100 [00:01, 54.91it/s, lr=2.00e-06]\n"
     ]
    },
    {
     "name": "stdout",
     "output_type": "stream",
     "text": [
      "Epoch [127/800] test accuracy: 0.9407 time: 4.23\n"
     ]
    },
    {
     "name": "stderr",
     "output_type": "stream",
     "text": [
      "Sample: 100%|█████████████████████████████████████████████████████████████████| 100/100 [00:01, 54.35it/s, lr=2.00e-06]\n"
     ]
    },
    {
     "name": "stdout",
     "output_type": "stream",
     "text": [
      "Epoch [128/800] test accuracy: 0.9405 time: 4.22\n"
     ]
    },
    {
     "name": "stderr",
     "output_type": "stream",
     "text": [
      "Sample: 100%|█████████████████████████████████████████████████████████████████| 100/100 [00:01, 54.40it/s, lr=2.00e-06]\n"
     ]
    },
    {
     "name": "stdout",
     "output_type": "stream",
     "text": [
      "Epoch [129/800] test accuracy: 0.9408 time: 4.25\n"
     ]
    },
    {
     "name": "stderr",
     "output_type": "stream",
     "text": [
      "Sample: 100%|█████████████████████████████████████████████████████████████████| 100/100 [00:01, 53.82it/s, lr=2.00e-06]\n"
     ]
    },
    {
     "name": "stdout",
     "output_type": "stream",
     "text": [
      "Epoch [130/800] test accuracy: 0.9408 time: 4.31\n"
     ]
    },
    {
     "name": "stderr",
     "output_type": "stream",
     "text": [
      "Sample: 100%|█████████████████████████████████████████████████████████████████| 100/100 [00:01, 55.55it/s, lr=2.00e-06]\n"
     ]
    },
    {
     "name": "stdout",
     "output_type": "stream",
     "text": [
      "Epoch [131/800] test accuracy: 0.9409 time: 4.24\n"
     ]
    },
    {
     "name": "stderr",
     "output_type": "stream",
     "text": [
      "Sample: 100%|█████████████████████████████████████████████████████████████████| 100/100 [00:01, 55.58it/s, lr=2.00e-06]\n"
     ]
    },
    {
     "name": "stdout",
     "output_type": "stream",
     "text": [
      "Epoch [132/800] test accuracy: 0.9409 time: 4.26\n"
     ]
    },
    {
     "name": "stderr",
     "output_type": "stream",
     "text": [
      "Sample: 100%|█████████████████████████████████████████████████████████████████| 100/100 [00:01, 55.15it/s, lr=2.00e-06]\n"
     ]
    },
    {
     "name": "stdout",
     "output_type": "stream",
     "text": [
      "Epoch [133/800] test accuracy: 0.9409 time: 4.27\n"
     ]
    },
    {
     "name": "stderr",
     "output_type": "stream",
     "text": [
      "Sample: 100%|█████████████████████████████████████████████████████████████████| 100/100 [00:01, 55.83it/s, lr=2.00e-06]\n"
     ]
    },
    {
     "name": "stdout",
     "output_type": "stream",
     "text": [
      "Epoch [134/800] test accuracy: 0.9411 time: 4.25\n"
     ]
    },
    {
     "name": "stderr",
     "output_type": "stream",
     "text": [
      "Sample: 100%|█████████████████████████████████████████████████████████████████| 100/100 [00:01, 55.06it/s, lr=2.00e-06]\n"
     ]
    },
    {
     "name": "stdout",
     "output_type": "stream",
     "text": [
      "Epoch [135/800] test accuracy: 0.9411 time: 4.29\n"
     ]
    },
    {
     "name": "stderr",
     "output_type": "stream",
     "text": [
      "Sample: 100%|█████████████████████████████████████████████████████████████████| 100/100 [00:01, 54.88it/s, lr=2.00e-06]\n"
     ]
    },
    {
     "name": "stdout",
     "output_type": "stream",
     "text": [
      "Epoch [136/800] test accuracy: 0.9413 time: 4.43\n"
     ]
    },
    {
     "name": "stderr",
     "output_type": "stream",
     "text": [
      "Sample: 100%|█████████████████████████████████████████████████████████████████| 100/100 [00:01, 51.60it/s, lr=2.00e-06]\n"
     ]
    },
    {
     "name": "stdout",
     "output_type": "stream",
     "text": [
      "Epoch [137/800] test accuracy: 0.9414 time: 4.48\n"
     ]
    },
    {
     "name": "stderr",
     "output_type": "stream",
     "text": [
      "Sample: 100%|█████████████████████████████████████████████████████████████████| 100/100 [00:01, 52.39it/s, lr=2.00e-06]\n"
     ]
    },
    {
     "name": "stdout",
     "output_type": "stream",
     "text": [
      "Epoch [138/800] test accuracy: 0.9415 time: 4.62\n"
     ]
    },
    {
     "name": "stderr",
     "output_type": "stream",
     "text": [
      "Sample: 100%|█████████████████████████████████████████████████████████████████| 100/100 [00:02, 45.21it/s, lr=2.00e-06]\n"
     ]
    },
    {
     "name": "stdout",
     "output_type": "stream",
     "text": [
      "Epoch [139/800] test accuracy: 0.9415 time: 4.62\n"
     ]
    },
    {
     "name": "stderr",
     "output_type": "stream",
     "text": [
      "Sample: 100%|█████████████████████████████████████████████████████████████████| 100/100 [00:02, 34.94it/s, lr=2.00e-06]\n"
     ]
    },
    {
     "name": "stdout",
     "output_type": "stream",
     "text": [
      "Epoch [140/800] test accuracy: 0.9415 time: 7.17\n"
     ]
    },
    {
     "name": "stderr",
     "output_type": "stream",
     "text": [
      "Sample: 100%|█████████████████████████████████████████████████████████████████| 100/100 [00:02, 45.91it/s, lr=2.00e-06]\n"
     ]
    },
    {
     "name": "stdout",
     "output_type": "stream",
     "text": [
      "Epoch [141/800] test accuracy: 0.9415 time: 4.81\n"
     ]
    },
    {
     "name": "stderr",
     "output_type": "stream",
     "text": [
      "Sample: 100%|█████████████████████████████████████████████████████████████████| 100/100 [00:02, 47.57it/s, lr=2.00e-06]\n"
     ]
    },
    {
     "name": "stdout",
     "output_type": "stream",
     "text": [
      "Epoch [142/800] test accuracy: 0.9414 time: 4.54\n"
     ]
    },
    {
     "name": "stderr",
     "output_type": "stream",
     "text": [
      "Sample: 100%|█████████████████████████████████████████████████████████████████| 100/100 [00:01, 51.58it/s, lr=2.00e-06]\n"
     ]
    },
    {
     "name": "stdout",
     "output_type": "stream",
     "text": [
      "Epoch [143/800] test accuracy: 0.9416 time: 4.55\n"
     ]
    },
    {
     "name": "stderr",
     "output_type": "stream",
     "text": [
      "Sample: 100%|█████████████████████████████████████████████████████████████████| 100/100 [00:01, 50.85it/s, lr=2.00e-06]\n"
     ]
    },
    {
     "name": "stdout",
     "output_type": "stream",
     "text": [
      "Epoch [144/800] test accuracy: 0.9418 time: 4.46\n"
     ]
    },
    {
     "name": "stderr",
     "output_type": "stream",
     "text": [
      "Sample: 100%|█████████████████████████████████████████████████████████████████| 100/100 [00:01, 53.22it/s, lr=2.00e-06]\n"
     ]
    },
    {
     "name": "stdout",
     "output_type": "stream",
     "text": [
      "Epoch [145/800] test accuracy: 0.9416 time: 4.26\n"
     ]
    },
    {
     "name": "stderr",
     "output_type": "stream",
     "text": [
      "Sample: 100%|█████████████████████████████████████████████████████████████████| 100/100 [00:01, 54.32it/s, lr=2.00e-06]\n"
     ]
    },
    {
     "name": "stdout",
     "output_type": "stream",
     "text": [
      "Epoch [146/800] test accuracy: 0.9415 time: 4.26\n"
     ]
    },
    {
     "name": "stderr",
     "output_type": "stream",
     "text": [
      "Sample: 100%|█████████████████████████████████████████████████████████████████| 100/100 [00:01, 54.61it/s, lr=2.00e-06]\n"
     ]
    },
    {
     "name": "stdout",
     "output_type": "stream",
     "text": [
      "Epoch [147/800] test accuracy: 0.9416 time: 4.34\n"
     ]
    },
    {
     "name": "stderr",
     "output_type": "stream",
     "text": [
      "Sample: 100%|█████████████████████████████████████████████████████████████████| 100/100 [00:01, 53.31it/s, lr=2.00e-06]\n"
     ]
    },
    {
     "name": "stdout",
     "output_type": "stream",
     "text": [
      "Epoch [148/800] test accuracy: 0.9415 time: 4.33\n"
     ]
    },
    {
     "name": "stderr",
     "output_type": "stream",
     "text": [
      "Sample: 100%|█████████████████████████████████████████████████████████████████| 100/100 [00:01, 53.73it/s, lr=2.00e-06]\n"
     ]
    },
    {
     "name": "stdout",
     "output_type": "stream",
     "text": [
      "Epoch [149/800] test accuracy: 0.9416 time: 4.27\n"
     ]
    },
    {
     "name": "stderr",
     "output_type": "stream",
     "text": [
      "Sample: 100%|█████████████████████████████████████████████████████████████████| 100/100 [00:01, 54.61it/s, lr=2.00e-06]\n"
     ]
    },
    {
     "name": "stdout",
     "output_type": "stream",
     "text": [
      "Epoch [150/800] test accuracy: 0.9416 time: 4.28\n"
     ]
    },
    {
     "name": "stderr",
     "output_type": "stream",
     "text": [
      "Sample: 100%|█████████████████████████████████████████████████████████████████| 100/100 [00:01, 55.95it/s, lr=2.00e-06]\n"
     ]
    },
    {
     "name": "stdout",
     "output_type": "stream",
     "text": [
      "Epoch [151/800] test accuracy: 0.9417 time: 4.24\n"
     ]
    },
    {
     "name": "stderr",
     "output_type": "stream",
     "text": [
      "Sample: 100%|█████████████████████████████████████████████████████████████████| 100/100 [00:01, 53.68it/s, lr=2.00e-06]\n"
     ]
    },
    {
     "name": "stdout",
     "output_type": "stream",
     "text": [
      "Epoch [152/800] test accuracy: 0.9418 time: 4.26\n"
     ]
    },
    {
     "name": "stderr",
     "output_type": "stream",
     "text": [
      "Sample: 100%|█████████████████████████████████████████████████████████████████| 100/100 [00:01, 53.82it/s, lr=2.00e-06]\n"
     ]
    },
    {
     "name": "stdout",
     "output_type": "stream",
     "text": [
      "Epoch [153/800] test accuracy: 0.9421 time: 4.23\n"
     ]
    },
    {
     "name": "stderr",
     "output_type": "stream",
     "text": [
      "Sample: 100%|█████████████████████████████████████████████████████████████████| 100/100 [00:01, 54.40it/s, lr=2.00e-06]\n"
     ]
    },
    {
     "name": "stdout",
     "output_type": "stream",
     "text": [
      "Epoch [154/800] test accuracy: 0.9421 time: 4.36\n"
     ]
    },
    {
     "name": "stderr",
     "output_type": "stream",
     "text": [
      "Sample: 100%|█████████████████████████████████████████████████████████████████| 100/100 [00:01, 54.32it/s, lr=2.00e-06]\n"
     ]
    },
    {
     "name": "stdout",
     "output_type": "stream",
     "text": [
      "Epoch [155/800] test accuracy: 0.9422 time: 4.28\n"
     ]
    },
    {
     "name": "stderr",
     "output_type": "stream",
     "text": [
      "Sample: 100%|█████████████████████████████████████████████████████████████████| 100/100 [00:01, 55.12it/s, lr=2.00e-06]\n"
     ]
    },
    {
     "name": "stdout",
     "output_type": "stream",
     "text": [
      "Epoch [156/800] test accuracy: 0.9423 time: 4.25\n"
     ]
    },
    {
     "name": "stderr",
     "output_type": "stream",
     "text": [
      "Sample: 100%|█████████████████████████████████████████████████████████████████| 100/100 [00:01, 55.09it/s, lr=2.00e-06]\n"
     ]
    },
    {
     "name": "stdout",
     "output_type": "stream",
     "text": [
      "Epoch [157/800] test accuracy: 0.9424 time: 4.28\n"
     ]
    },
    {
     "name": "stderr",
     "output_type": "stream",
     "text": [
      "Sample: 100%|█████████████████████████████████████████████████████████████████| 100/100 [00:01, 55.00it/s, lr=2.00e-06]\n"
     ]
    },
    {
     "name": "stdout",
     "output_type": "stream",
     "text": [
      "Epoch [158/800] test accuracy: 0.9423 time: 4.32\n"
     ]
    },
    {
     "name": "stderr",
     "output_type": "stream",
     "text": [
      "Sample: 100%|█████████████████████████████████████████████████████████████████| 100/100 [00:01, 53.99it/s, lr=2.00e-06]\n"
     ]
    },
    {
     "name": "stdout",
     "output_type": "stream",
     "text": [
      "Epoch [159/800] test accuracy: 0.9424 time: 4.55\n"
     ]
    },
    {
     "name": "stderr",
     "output_type": "stream",
     "text": [
      "Sample: 100%|█████████████████████████████████████████████████████████████████| 100/100 [00:01, 50.16it/s, lr=2.00e-06]\n"
     ]
    },
    {
     "name": "stdout",
     "output_type": "stream",
     "text": [
      "Epoch [160/800] test accuracy: 0.9425 time: 4.53\n"
     ]
    },
    {
     "name": "stderr",
     "output_type": "stream",
     "text": [
      "Sample: 100%|█████████████████████████████████████████████████████████████████| 100/100 [00:01, 50.61it/s, lr=2.00e-06]\n"
     ]
    },
    {
     "name": "stdout",
     "output_type": "stream",
     "text": [
      "Epoch [161/800] test accuracy: 0.9427 time: 4.56\n"
     ]
    },
    {
     "name": "stderr",
     "output_type": "stream",
     "text": [
      "Sample: 100%|█████████████████████████████████████████████████████████████████| 100/100 [00:01, 50.41it/s, lr=2.00e-06]\n"
     ]
    },
    {
     "name": "stdout",
     "output_type": "stream",
     "text": [
      "Epoch [162/800] test accuracy: 0.9426 time: 4.54\n"
     ]
    },
    {
     "name": "stderr",
     "output_type": "stream",
     "text": [
      "Sample: 100%|█████████████████████████████████████████████████████████████████| 100/100 [00:01, 51.55it/s, lr=2.00e-06]\n"
     ]
    },
    {
     "name": "stdout",
     "output_type": "stream",
     "text": [
      "Epoch [163/800] test accuracy: 0.9426 time: 4.45\n"
     ]
    },
    {
     "name": "stderr",
     "output_type": "stream",
     "text": [
      "Sample: 100%|█████████████████████████████████████████████████████████████████| 100/100 [00:01, 54.14it/s, lr=2.00e-06]\n"
     ]
    },
    {
     "name": "stdout",
     "output_type": "stream",
     "text": [
      "Epoch [164/800] test accuracy: 0.9429 time: 4.29\n"
     ]
    },
    {
     "name": "stderr",
     "output_type": "stream",
     "text": [
      "Sample: 100%|█████████████████████████████████████████████████████████████████| 100/100 [00:01, 55.21it/s, lr=2.00e-06]\n"
     ]
    },
    {
     "name": "stdout",
     "output_type": "stream",
     "text": [
      "Epoch [165/800] test accuracy: 0.9429 time: 4.23\n"
     ]
    },
    {
     "name": "stderr",
     "output_type": "stream",
     "text": [
      "Sample: 100%|█████████████████████████████████████████████████████████████████| 100/100 [00:01, 54.35it/s, lr=2.00e-06]\n"
     ]
    },
    {
     "name": "stdout",
     "output_type": "stream",
     "text": [
      "Epoch [166/800] test accuracy: 0.9428 time: 4.29\n"
     ]
    },
    {
     "name": "stderr",
     "output_type": "stream",
     "text": [
      "Sample: 100%|█████████████████████████████████████████████████████████████████| 100/100 [00:01, 53.97it/s, lr=2.00e-06]\n"
     ]
    },
    {
     "name": "stdout",
     "output_type": "stream",
     "text": [
      "Epoch [167/800] test accuracy: 0.9428 time: 4.26\n"
     ]
    },
    {
     "name": "stderr",
     "output_type": "stream",
     "text": [
      "Sample: 100%|█████████████████████████████████████████████████████████████████| 100/100 [00:01, 56.08it/s, lr=2.00e-06]\n"
     ]
    },
    {
     "name": "stdout",
     "output_type": "stream",
     "text": [
      "Epoch [168/800] test accuracy: 0.9427 time: 4.29\n"
     ]
    },
    {
     "name": "stderr",
     "output_type": "stream",
     "text": [
      "Sample: 100%|█████████████████████████████████████████████████████████████████| 100/100 [00:01, 56.08it/s, lr=2.00e-06]\n"
     ]
    },
    {
     "name": "stdout",
     "output_type": "stream",
     "text": [
      "Epoch [169/800] test accuracy: 0.9427 time: 4.25\n"
     ]
    },
    {
     "name": "stderr",
     "output_type": "stream",
     "text": [
      "Sample: 100%|█████████████████████████████████████████████████████████████████| 100/100 [00:01, 55.80it/s, lr=2.00e-06]\n"
     ]
    },
    {
     "name": "stdout",
     "output_type": "stream",
     "text": [
      "Epoch [170/800] test accuracy: 0.9428 time: 4.28\n"
     ]
    },
    {
     "name": "stderr",
     "output_type": "stream",
     "text": [
      "Sample: 100%|█████████████████████████████████████████████████████████████████| 100/100 [00:01, 54.17it/s, lr=2.00e-06]\n"
     ]
    },
    {
     "name": "stdout",
     "output_type": "stream",
     "text": [
      "Epoch [171/800] test accuracy: 0.9429 time: 4.24\n"
     ]
    },
    {
     "name": "stderr",
     "output_type": "stream",
     "text": [
      "Sample: 100%|█████████████████████████████████████████████████████████████████| 100/100 [00:01, 54.35it/s, lr=2.00e-06]\n"
     ]
    },
    {
     "name": "stdout",
     "output_type": "stream",
     "text": [
      "Epoch [172/800] test accuracy: 0.9428 time: 4.24\n"
     ]
    },
    {
     "name": "stderr",
     "output_type": "stream",
     "text": [
      "Sample: 100%|█████████████████████████████████████████████████████████████████| 100/100 [00:01, 54.70it/s, lr=2.00e-06]\n"
     ]
    },
    {
     "name": "stdout",
     "output_type": "stream",
     "text": [
      "Epoch [173/800] test accuracy: 0.9427 time: 4.22\n"
     ]
    },
    {
     "name": "stderr",
     "output_type": "stream",
     "text": [
      "Sample: 100%|█████████████████████████████████████████████████████████████████| 100/100 [00:01, 54.97it/s, lr=2.00e-06]\n"
     ]
    },
    {
     "name": "stdout",
     "output_type": "stream",
     "text": [
      "Epoch [174/800] test accuracy: 0.9427 time: 4.27\n"
     ]
    },
    {
     "name": "stderr",
     "output_type": "stream",
     "text": [
      "Sample: 100%|█████████████████████████████████████████████████████████████████| 100/100 [00:01, 54.97it/s, lr=2.00e-06]\n"
     ]
    },
    {
     "name": "stdout",
     "output_type": "stream",
     "text": [
      "Epoch [175/800] test accuracy: 0.9429 time: 4.27\n"
     ]
    },
    {
     "name": "stderr",
     "output_type": "stream",
     "text": [
      "Sample: 100%|█████████████████████████████████████████████████████████████████| 100/100 [00:01, 54.43it/s, lr=2.00e-06]\n"
     ]
    },
    {
     "name": "stdout",
     "output_type": "stream",
     "text": [
      "Epoch [176/800] test accuracy: 0.9429 time: 4.21\n"
     ]
    },
    {
     "name": "stderr",
     "output_type": "stream",
     "text": [
      "Sample: 100%|█████████████████████████████████████████████████████████████████| 100/100 [00:01, 54.11it/s, lr=2.00e-06]\n"
     ]
    },
    {
     "name": "stdout",
     "output_type": "stream",
     "text": [
      "Epoch [177/800] test accuracy: 0.9427 time: 4.24\n"
     ]
    },
    {
     "name": "stderr",
     "output_type": "stream",
     "text": [
      "Sample: 100%|█████████████████████████████████████████████████████████████████| 100/100 [00:01, 54.64it/s, lr=2.00e-06]\n"
     ]
    },
    {
     "name": "stdout",
     "output_type": "stream",
     "text": [
      "Epoch [178/800] test accuracy: 0.9427 time: 4.53\n"
     ]
    },
    {
     "name": "stderr",
     "output_type": "stream",
     "text": [
      "Sample: 100%|█████████████████████████████████████████████████████████████████| 100/100 [00:01, 50.77it/s, lr=2.00e-06]\n"
     ]
    },
    {
     "name": "stdout",
     "output_type": "stream",
     "text": [
      "Epoch [179/800] test accuracy: 0.9429 time: 4.52\n"
     ]
    },
    {
     "name": "stderr",
     "output_type": "stream",
     "text": [
      "Sample: 100%|█████████████████████████████████████████████████████████████████| 100/100 [00:01, 51.00it/s, lr=2.00e-06]\n"
     ]
    },
    {
     "name": "stdout",
     "output_type": "stream",
     "text": [
      "Epoch [180/800] test accuracy: 0.9429 time: 4.52\n"
     ]
    },
    {
     "name": "stderr",
     "output_type": "stream",
     "text": [
      "Sample: 100%|█████████████████████████████████████████████████████████████████| 100/100 [00:01, 51.05it/s, lr=2.00e-06]\n"
     ]
    },
    {
     "name": "stdout",
     "output_type": "stream",
     "text": [
      "Epoch [181/800] test accuracy: 0.9432 time: 4.54\n"
     ]
    },
    {
     "name": "stderr",
     "output_type": "stream",
     "text": [
      "Sample: 100%|█████████████████████████████████████████████████████████████████| 100/100 [00:01, 50.56it/s, lr=2.00e-06]\n"
     ]
    },
    {
     "name": "stdout",
     "output_type": "stream",
     "text": [
      "Epoch [182/800] test accuracy: 0.9433 time: 4.54\n"
     ]
    },
    {
     "name": "stderr",
     "output_type": "stream",
     "text": [
      "Sample: 100%|█████████████████████████████████████████████████████████████████| 100/100 [00:01, 52.09it/s, lr=2.00e-06]\n"
     ]
    },
    {
     "name": "stdout",
     "output_type": "stream",
     "text": [
      "Epoch [183/800] test accuracy: 0.9435 time: 4.26\n"
     ]
    },
    {
     "name": "stderr",
     "output_type": "stream",
     "text": [
      "Sample: 100%|█████████████████████████████████████████████████████████████████| 100/100 [00:01, 54.35it/s, lr=2.00e-06]\n"
     ]
    },
    {
     "name": "stdout",
     "output_type": "stream",
     "text": [
      "Epoch [184/800] test accuracy: 0.9434 time: 4.25\n"
     ]
    },
    {
     "name": "stderr",
     "output_type": "stream",
     "text": [
      "Sample: 100%|█████████████████████████████████████████████████████████████████| 100/100 [00:01, 54.91it/s, lr=2.00e-06]\n"
     ]
    },
    {
     "name": "stdout",
     "output_type": "stream",
     "text": [
      "Epoch [185/800] test accuracy: 0.9435 time: 4.22\n"
     ]
    },
    {
     "name": "stderr",
     "output_type": "stream",
     "text": [
      "Sample: 100%|█████████████████████████████████████████████████████████████████| 100/100 [00:01, 53.82it/s, lr=2.00e-06]\n"
     ]
    },
    {
     "name": "stdout",
     "output_type": "stream",
     "text": [
      "Epoch [186/800] test accuracy: 0.9435 time: 4.24\n"
     ]
    },
    {
     "name": "stderr",
     "output_type": "stream",
     "text": [
      "Sample: 100%|█████████████████████████████████████████████████████████████████| 100/100 [00:01, 53.94it/s, lr=2.00e-06]\n"
     ]
    },
    {
     "name": "stdout",
     "output_type": "stream",
     "text": [
      "Epoch [187/800] test accuracy: 0.9435 time: 4.26\n"
     ]
    },
    {
     "name": "stderr",
     "output_type": "stream",
     "text": [
      "Sample: 100%|█████████████████████████████████████████████████████████████████| 100/100 [00:01, 54.94it/s, lr=2.00e-06]\n"
     ]
    },
    {
     "name": "stdout",
     "output_type": "stream",
     "text": [
      "Epoch [188/800] test accuracy: 0.9435 time: 4.25\n"
     ]
    },
    {
     "name": "stderr",
     "output_type": "stream",
     "text": [
      "Sample: 100%|█████████████████████████████████████████████████████████████████| 100/100 [00:01, 54.46it/s, lr=2.00e-06]\n"
     ]
    },
    {
     "name": "stdout",
     "output_type": "stream",
     "text": [
      "Epoch [189/800] test accuracy: 0.9435 time: 4.22\n"
     ]
    },
    {
     "name": "stderr",
     "output_type": "stream",
     "text": [
      "Sample: 100%|█████████████████████████████████████████████████████████████████| 100/100 [00:01, 56.11it/s, lr=2.00e-06]\n"
     ]
    },
    {
     "name": "stdout",
     "output_type": "stream",
     "text": [
      "Epoch [190/800] test accuracy: 0.9436 time: 4.24\n"
     ]
    },
    {
     "name": "stderr",
     "output_type": "stream",
     "text": [
      "Sample: 100%|█████████████████████████████████████████████████████████████████| 100/100 [00:01, 55.95it/s, lr=2.00e-06]\n"
     ]
    },
    {
     "name": "stdout",
     "output_type": "stream",
     "text": [
      "Epoch [191/800] test accuracy: 0.9434 time: 4.25\n"
     ]
    },
    {
     "name": "stderr",
     "output_type": "stream",
     "text": [
      "Sample: 100%|█████████████████████████████████████████████████████████████████| 100/100 [00:01, 54.79it/s, lr=2.00e-06]\n"
     ]
    },
    {
     "name": "stdout",
     "output_type": "stream",
     "text": [
      "Epoch [192/800] test accuracy: 0.9434 time: 4.26\n"
     ]
    },
    {
     "name": "stderr",
     "output_type": "stream",
     "text": [
      "Sample: 100%|█████████████████████████████████████████████████████████████████| 100/100 [00:01, 54.94it/s, lr=2.00e-06]\n"
     ]
    },
    {
     "name": "stdout",
     "output_type": "stream",
     "text": [
      "Epoch [193/800] test accuracy: 0.9433 time: 4.30\n"
     ]
    },
    {
     "name": "stderr",
     "output_type": "stream",
     "text": [
      "Sample: 100%|█████████████████████████████████████████████████████████████████| 100/100 [00:01, 53.68it/s, lr=2.00e-06]\n"
     ]
    },
    {
     "name": "stdout",
     "output_type": "stream",
     "text": [
      "Epoch [194/800] test accuracy: 0.9435 time: 4.26\n"
     ]
    },
    {
     "name": "stderr",
     "output_type": "stream",
     "text": [
      "Sample: 100%|█████████████████████████████████████████████████████████████████| 100/100 [00:01, 54.67it/s, lr=2.00e-06]\n"
     ]
    },
    {
     "name": "stdout",
     "output_type": "stream",
     "text": [
      "Epoch [195/800] test accuracy: 0.9435 time: 4.24\n"
     ]
    },
    {
     "name": "stderr",
     "output_type": "stream",
     "text": [
      "Sample: 100%|█████████████████████████████████████████████████████████████████| 100/100 [00:01, 55.30it/s, lr=2.00e-06]\n"
     ]
    },
    {
     "name": "stdout",
     "output_type": "stream",
     "text": [
      "Epoch [196/800] test accuracy: 0.9435 time: 4.23\n"
     ]
    },
    {
     "name": "stderr",
     "output_type": "stream",
     "text": [
      "Sample: 100%|█████████████████████████████████████████████████████████████████| 100/100 [00:01, 54.85it/s, lr=2.00e-06]\n"
     ]
    },
    {
     "name": "stdout",
     "output_type": "stream",
     "text": [
      "Epoch [197/800] test accuracy: 0.9437 time: 4.24\n"
     ]
    },
    {
     "name": "stderr",
     "output_type": "stream",
     "text": [
      "Sample: 100%|█████████████████████████████████████████████████████████████████| 100/100 [00:01, 50.59it/s, lr=2.00e-06]\n"
     ]
    },
    {
     "name": "stdout",
     "output_type": "stream",
     "text": [
      "Epoch [198/800] test accuracy: 0.9437 time: 4.59\n"
     ]
    },
    {
     "name": "stderr",
     "output_type": "stream",
     "text": [
      "Sample: 100%|█████████████████████████████████████████████████████████████████| 100/100 [00:01, 50.72it/s, lr=2.00e-06]\n"
     ]
    },
    {
     "name": "stdout",
     "output_type": "stream",
     "text": [
      "Epoch [199/800] test accuracy: 0.9438 time: 4.57\n"
     ]
    },
    {
     "name": "stderr",
     "output_type": "stream",
     "text": [
      "Sample: 100%|█████████████████████████████████████████████████████████████████| 100/100 [00:01, 50.85it/s, lr=2.00e-06]\n"
     ]
    },
    {
     "name": "stdout",
     "output_type": "stream",
     "text": [
      "Epoch [200/800] test accuracy: 0.9437 time: 4.54\n"
     ]
    },
    {
     "name": "stderr",
     "output_type": "stream",
     "text": [
      "Sample: 100%|█████████████████████████████████████████████████████████████████| 100/100 [00:01, 50.59it/s, lr=2.00e-06]\n"
     ]
    },
    {
     "name": "stdout",
     "output_type": "stream",
     "text": [
      "Epoch [201/800] test accuracy: 0.9436 time: 4.54\n"
     ]
    },
    {
     "name": "stderr",
     "output_type": "stream",
     "text": [
      "Sample: 100%|█████████████████████████████████████████████████████████████████| 100/100 [00:01, 50.79it/s, lr=2.00e-06]\n"
     ]
    },
    {
     "name": "stdout",
     "output_type": "stream",
     "text": [
      "Epoch [202/800] test accuracy: 0.9437 time: 4.27\n"
     ]
    },
    {
     "name": "stderr",
     "output_type": "stream",
     "text": [
      "Sample: 100%|█████████████████████████████████████████████████████████████████| 100/100 [00:01, 54.49it/s, lr=2.00e-06]\n"
     ]
    },
    {
     "name": "stdout",
     "output_type": "stream",
     "text": [
      "Epoch [203/800] test accuracy: 0.9437 time: 4.25\n"
     ]
    },
    {
     "name": "stderr",
     "output_type": "stream",
     "text": [
      "Sample: 100%|█████████████████████████████████████████████████████████████████| 100/100 [00:01, 54.32it/s, lr=2.00e-06]\n"
     ]
    },
    {
     "name": "stdout",
     "output_type": "stream",
     "text": [
      "Epoch [204/800] test accuracy: 0.9437 time: 4.23\n"
     ]
    },
    {
     "name": "stderr",
     "output_type": "stream",
     "text": [
      "Sample: 100%|█████████████████████████████████████████████████████████████████| 100/100 [00:01, 54.70it/s, lr=2.00e-06]\n"
     ]
    },
    {
     "name": "stdout",
     "output_type": "stream",
     "text": [
      "Epoch [205/800] test accuracy: 0.9435 time: 4.24\n"
     ]
    },
    {
     "name": "stderr",
     "output_type": "stream",
     "text": [
      "Sample: 100%|█████████████████████████████████████████████████████████████████| 100/100 [00:01, 53.76it/s, lr=2.00e-06]\n"
     ]
    },
    {
     "name": "stdout",
     "output_type": "stream",
     "text": [
      "Epoch [206/800] test accuracy: 0.9437 time: 4.30\n"
     ]
    },
    {
     "name": "stderr",
     "output_type": "stream",
     "text": [
      "Sample: 100%|█████████████████████████████████████████████████████████████████| 100/100 [00:01, 54.76it/s, lr=2.00e-06]\n"
     ]
    },
    {
     "name": "stdout",
     "output_type": "stream",
     "text": [
      "Epoch [207/800] test accuracy: 0.9437 time: 4.29\n"
     ]
    },
    {
     "name": "stderr",
     "output_type": "stream",
     "text": [
      "Sample: 100%|█████████████████████████████████████████████████████████████████| 100/100 [00:01, 54.58it/s, lr=2.00e-06]\n"
     ]
    },
    {
     "name": "stdout",
     "output_type": "stream",
     "text": [
      "Epoch [208/800] test accuracy: 0.9437 time: 4.25\n"
     ]
    },
    {
     "name": "stderr",
     "output_type": "stream",
     "text": [
      "Sample: 100%|█████████████████████████████████████████████████████████████████| 100/100 [00:01, 53.82it/s, lr=2.00e-06]\n"
     ]
    },
    {
     "name": "stdout",
     "output_type": "stream",
     "text": [
      "Epoch [209/800] test accuracy: 0.9437 time: 4.32\n"
     ]
    },
    {
     "name": "stderr",
     "output_type": "stream",
     "text": [
      "Sample: 100%|█████████████████████████████████████████████████████████████████| 100/100 [00:01, 54.76it/s, lr=2.00e-06]\n"
     ]
    },
    {
     "name": "stdout",
     "output_type": "stream",
     "text": [
      "Epoch [210/800] test accuracy: 0.9439 time: 4.29\n"
     ]
    },
    {
     "name": "stderr",
     "output_type": "stream",
     "text": [
      "Sample: 100%|█████████████████████████████████████████████████████████████████| 100/100 [00:01, 55.64it/s, lr=2.00e-06]\n"
     ]
    },
    {
     "name": "stdout",
     "output_type": "stream",
     "text": [
      "Epoch [211/800] test accuracy: 0.9441 time: 4.24\n"
     ]
    },
    {
     "name": "stderr",
     "output_type": "stream",
     "text": [
      "Sample: 100%|█████████████████████████████████████████████████████████████████| 100/100 [00:01, 54.58it/s, lr=2.00e-06]\n"
     ]
    },
    {
     "name": "stdout",
     "output_type": "stream",
     "text": [
      "Epoch [212/800] test accuracy: 0.9441 time: 4.26\n"
     ]
    },
    {
     "name": "stderr",
     "output_type": "stream",
     "text": [
      "Sample: 100%|█████████████████████████████████████████████████████████████████| 100/100 [00:01, 55.15it/s, lr=2.00e-06]\n"
     ]
    },
    {
     "name": "stdout",
     "output_type": "stream",
     "text": [
      "Epoch [213/800] test accuracy: 0.9442 time: 4.24\n"
     ]
    },
    {
     "name": "stderr",
     "output_type": "stream",
     "text": [
      "Sample: 100%|█████████████████████████████████████████████████████████████████| 100/100 [00:01, 54.17it/s, lr=2.00e-06]\n"
     ]
    },
    {
     "name": "stdout",
     "output_type": "stream",
     "text": [
      "Epoch [214/800] test accuracy: 0.9440 time: 4.30\n"
     ]
    },
    {
     "name": "stderr",
     "output_type": "stream",
     "text": [
      "Sample: 100%|█████████████████████████████████████████████████████████████████| 100/100 [00:01, 54.02it/s, lr=2.00e-06]\n"
     ]
    },
    {
     "name": "stdout",
     "output_type": "stream",
     "text": [
      "Epoch [215/800] test accuracy: 0.9440 time: 4.25\n"
     ]
    },
    {
     "name": "stderr",
     "output_type": "stream",
     "text": [
      "Sample: 100%|█████████████████████████████████████████████████████████████████| 100/100 [00:01, 55.80it/s, lr=2.00e-06]\n"
     ]
    },
    {
     "name": "stdout",
     "output_type": "stream",
     "text": [
      "Epoch [216/800] test accuracy: 0.9442 time: 4.32\n"
     ]
    },
    {
     "name": "stderr",
     "output_type": "stream",
     "text": [
      "Sample: 100%|█████████████████████████████████████████████████████████████████| 100/100 [00:02, 48.35it/s, lr=2.00e-06]\n"
     ]
    },
    {
     "name": "stdout",
     "output_type": "stream",
     "text": [
      "Epoch [217/800] test accuracy: 0.9444 time: 4.58\n"
     ]
    },
    {
     "name": "stderr",
     "output_type": "stream",
     "text": [
      "Sample: 100%|█████████████████████████████████████████████████████████████████| 100/100 [00:01, 50.87it/s, lr=2.00e-06]\n"
     ]
    },
    {
     "name": "stdout",
     "output_type": "stream",
     "text": [
      "Epoch [218/800] test accuracy: 0.9444 time: 4.56\n"
     ]
    },
    {
     "name": "stderr",
     "output_type": "stream",
     "text": [
      "Sample: 100%|█████████████████████████████████████████████████████████████████| 100/100 [00:01, 50.59it/s, lr=2.00e-06]\n"
     ]
    },
    {
     "name": "stdout",
     "output_type": "stream",
     "text": [
      "Epoch [219/800] test accuracy: 0.9442 time: 4.53\n"
     ]
    },
    {
     "name": "stderr",
     "output_type": "stream",
     "text": [
      "Sample: 100%|█████████████████████████████████████████████████████████████████| 100/100 [00:01, 50.28it/s, lr=2.00e-06]\n"
     ]
    },
    {
     "name": "stdout",
     "output_type": "stream",
     "text": [
      "Epoch [220/800] test accuracy: 0.9441 time: 4.53\n"
     ]
    },
    {
     "name": "stderr",
     "output_type": "stream",
     "text": [
      "Sample: 100%|█████████████████████████████████████████████████████████████████| 100/100 [00:01, 51.26it/s, lr=2.00e-06]\n"
     ]
    },
    {
     "name": "stdout",
     "output_type": "stream",
     "text": [
      "Epoch [221/800] test accuracy: 0.9442 time: 4.35\n"
     ]
    },
    {
     "name": "stderr",
     "output_type": "stream",
     "text": [
      "Sample: 100%|█████████████████████████████████████████████████████████████████| 100/100 [00:01, 54.73it/s, lr=2.00e-06]\n"
     ]
    },
    {
     "name": "stdout",
     "output_type": "stream",
     "text": [
      "Epoch [222/800] test accuracy: 0.9443 time: 4.26\n"
     ]
    },
    {
     "name": "stderr",
     "output_type": "stream",
     "text": [
      "Sample: 100%|█████████████████████████████████████████████████████████████████| 100/100 [00:01, 54.46it/s, lr=2.00e-06]\n"
     ]
    },
    {
     "name": "stdout",
     "output_type": "stream",
     "text": [
      "Epoch [223/800] test accuracy: 0.9442 time: 4.29\n"
     ]
    },
    {
     "name": "stderr",
     "output_type": "stream",
     "text": [
      "Sample: 100%|█████████████████████████████████████████████████████████████████| 100/100 [00:01, 55.09it/s, lr=2.00e-06]\n"
     ]
    },
    {
     "name": "stdout",
     "output_type": "stream",
     "text": [
      "Epoch [224/800] test accuracy: 0.9442 time: 4.27\n"
     ]
    },
    {
     "name": "stderr",
     "output_type": "stream",
     "text": [
      "Sample: 100%|█████████████████████████████████████████████████████████████████| 100/100 [00:01, 55.03it/s, lr=2.00e-06]\n"
     ]
    },
    {
     "name": "stdout",
     "output_type": "stream",
     "text": [
      "Epoch [225/800] test accuracy: 0.9442 time: 4.21\n"
     ]
    },
    {
     "name": "stderr",
     "output_type": "stream",
     "text": [
      "Sample: 100%|█████████████████████████████████████████████████████████████████| 100/100 [00:01, 53.94it/s, lr=2.00e-06]\n"
     ]
    },
    {
     "name": "stdout",
     "output_type": "stream",
     "text": [
      "Epoch [226/800] test accuracy: 0.9442 time: 4.28\n"
     ]
    },
    {
     "name": "stderr",
     "output_type": "stream",
     "text": [
      "Sample: 100%|█████████████████████████████████████████████████████████████████| 100/100 [00:01, 55.34it/s, lr=2.00e-06]\n"
     ]
    },
    {
     "name": "stdout",
     "output_type": "stream",
     "text": [
      "Epoch [227/800] test accuracy: 0.9441 time: 4.23\n"
     ]
    },
    {
     "name": "stderr",
     "output_type": "stream",
     "text": [
      "Sample: 100%|█████████████████████████████████████████████████████████████████| 100/100 [00:01, 54.29it/s, lr=2.00e-06]\n"
     ]
    },
    {
     "name": "stdout",
     "output_type": "stream",
     "text": [
      "Epoch [228/800] test accuracy: 0.9441 time: 4.28\n"
     ]
    },
    {
     "name": "stderr",
     "output_type": "stream",
     "text": [
      "Sample: 100%|█████████████████████████████████████████████████████████████████| 100/100 [00:01, 53.68it/s, lr=2.00e-06]\n"
     ]
    },
    {
     "name": "stdout",
     "output_type": "stream",
     "text": [
      "Epoch [229/800] test accuracy: 0.9441 time: 4.31\n"
     ]
    },
    {
     "name": "stderr",
     "output_type": "stream",
     "text": [
      "Sample: 100%|█████████████████████████████████████████████████████████████████| 100/100 [00:01, 54.64it/s, lr=2.00e-06]\n"
     ]
    },
    {
     "name": "stdout",
     "output_type": "stream",
     "text": [
      "Epoch [230/800] test accuracy: 0.9442 time: 4.22\n"
     ]
    },
    {
     "name": "stderr",
     "output_type": "stream",
     "text": [
      "Sample: 100%|█████████████████████████████████████████████████████████████████| 100/100 [00:01, 54.76it/s, lr=2.00e-06]\n"
     ]
    },
    {
     "name": "stdout",
     "output_type": "stream",
     "text": [
      "Epoch [231/800] test accuracy: 0.9443 time: 4.29\n"
     ]
    },
    {
     "name": "stderr",
     "output_type": "stream",
     "text": [
      "Sample: 100%|█████████████████████████████████████████████████████████████████| 100/100 [00:01, 54.64it/s, lr=2.00e-06]\n"
     ]
    },
    {
     "name": "stdout",
     "output_type": "stream",
     "text": [
      "Epoch [232/800] test accuracy: 0.9443 time: 4.29\n"
     ]
    },
    {
     "name": "stderr",
     "output_type": "stream",
     "text": [
      "Sample: 100%|█████████████████████████████████████████████████████████████████| 100/100 [00:01, 54.02it/s, lr=2.00e-06]\n"
     ]
    },
    {
     "name": "stdout",
     "output_type": "stream",
     "text": [
      "Epoch [233/800] test accuracy: 0.9443 time: 4.24\n"
     ]
    },
    {
     "name": "stderr",
     "output_type": "stream",
     "text": [
      "Sample: 100%|█████████████████████████████████████████████████████████████████| 100/100 [00:01, 53.14it/s, lr=2.00e-06]\n"
     ]
    },
    {
     "name": "stdout",
     "output_type": "stream",
     "text": [
      "Epoch [234/800] test accuracy: 0.9442 time: 4.25\n"
     ]
    },
    {
     "name": "stderr",
     "output_type": "stream",
     "text": [
      "Sample: 100%|█████████████████████████████████████████████████████████████████| 100/100 [00:01, 54.05it/s, lr=2.00e-06]\n"
     ]
    },
    {
     "name": "stdout",
     "output_type": "stream",
     "text": [
      "Epoch [235/800] test accuracy: 0.9441 time: 4.25\n"
     ]
    },
    {
     "name": "stderr",
     "output_type": "stream",
     "text": [
      "Sample: 100%|█████████████████████████████████████████████████████████████████| 100/100 [00:01, 55.37it/s, lr=2.00e-06]\n"
     ]
    },
    {
     "name": "stdout",
     "output_type": "stream",
     "text": [
      "Epoch [236/800] test accuracy: 0.9441 time: 4.47\n"
     ]
    },
    {
     "name": "stderr",
     "output_type": "stream",
     "text": [
      "Sample: 100%|█████████████████████████████████████████████████████████████████| 100/100 [00:01, 50.74it/s, lr=2.00e-06]\n"
     ]
    },
    {
     "name": "stdout",
     "output_type": "stream",
     "text": [
      "Epoch [237/800] test accuracy: 0.9443 time: 4.54\n"
     ]
    },
    {
     "name": "stderr",
     "output_type": "stream",
     "text": [
      "Sample: 100%|█████████████████████████████████████████████████████████████████| 100/100 [00:01, 51.03it/s, lr=2.00e-06]\n"
     ]
    },
    {
     "name": "stdout",
     "output_type": "stream",
     "text": [
      "Epoch [238/800] test accuracy: 0.9444 time: 4.49\n"
     ]
    },
    {
     "name": "stderr",
     "output_type": "stream",
     "text": [
      "Sample: 100%|█████████████████████████████████████████████████████████████████| 100/100 [00:01, 50.72it/s, lr=2.00e-06]\n"
     ]
    },
    {
     "name": "stdout",
     "output_type": "stream",
     "text": [
      "Epoch [239/800] test accuracy: 0.9445 time: 4.61\n"
     ]
    },
    {
     "name": "stderr",
     "output_type": "stream",
     "text": [
      "Sample: 100%|█████████████████████████████████████████████████████████████████| 100/100 [00:01, 52.20it/s, lr=2.00e-06]\n"
     ]
    },
    {
     "name": "stdout",
     "output_type": "stream",
     "text": [
      "Epoch [240/800] test accuracy: 0.9447 time: 4.47\n"
     ]
    },
    {
     "name": "stderr",
     "output_type": "stream",
     "text": [
      "Sample: 100%|█████████████████████████████████████████████████████████████████| 100/100 [00:01, 55.86it/s, lr=2.00e-06]\n"
     ]
    },
    {
     "name": "stdout",
     "output_type": "stream",
     "text": [
      "Epoch [241/800] test accuracy: 0.9446 time: 4.30\n"
     ]
    },
    {
     "name": "stderr",
     "output_type": "stream",
     "text": [
      "Sample: 100%|█████████████████████████████████████████████████████████████████| 100/100 [00:01, 55.58it/s, lr=2.00e-06]\n"
     ]
    },
    {
     "name": "stdout",
     "output_type": "stream",
     "text": [
      "Epoch [242/800] test accuracy: 0.9445 time: 4.28\n"
     ]
    },
    {
     "name": "stderr",
     "output_type": "stream",
     "text": [
      "Sample: 100%|█████████████████████████████████████████████████████████████████| 100/100 [00:01, 53.68it/s, lr=2.00e-06]\n"
     ]
    },
    {
     "name": "stdout",
     "output_type": "stream",
     "text": [
      "Epoch [243/800] test accuracy: 0.9446 time: 4.22\n"
     ]
    },
    {
     "name": "stderr",
     "output_type": "stream",
     "text": [
      "Sample: 100%|█████████████████████████████████████████████████████████████████| 100/100 [00:01, 55.27it/s, lr=2.00e-06]\n"
     ]
    },
    {
     "name": "stdout",
     "output_type": "stream",
     "text": [
      "Epoch [244/800] test accuracy: 0.9447 time: 4.28\n"
     ]
    },
    {
     "name": "stderr",
     "output_type": "stream",
     "text": [
      "Sample: 100%|█████████████████████████████████████████████████████████████████| 100/100 [00:01, 54.58it/s, lr=2.00e-06]\n"
     ]
    },
    {
     "name": "stdout",
     "output_type": "stream",
     "text": [
      "Epoch [245/800] test accuracy: 0.9447 time: 4.33\n"
     ]
    },
    {
     "name": "stderr",
     "output_type": "stream",
     "text": [
      "Sample: 100%|█████████████████████████████████████████████████████████████████| 100/100 [00:01, 53.91it/s, lr=2.00e-06]\n"
     ]
    },
    {
     "name": "stdout",
     "output_type": "stream",
     "text": [
      "Epoch [246/800] test accuracy: 0.9447 time: 4.28\n"
     ]
    },
    {
     "name": "stderr",
     "output_type": "stream",
     "text": [
      "Sample: 100%|█████████████████████████████████████████████████████████████████| 100/100 [00:01, 54.17it/s, lr=2.00e-06]\n"
     ]
    },
    {
     "name": "stdout",
     "output_type": "stream",
     "text": [
      "Epoch [247/800] test accuracy: 0.9447 time: 4.29\n"
     ]
    },
    {
     "name": "stderr",
     "output_type": "stream",
     "text": [
      "Sample: 100%|█████████████████████████████████████████████████████████████████| 100/100 [00:01, 53.82it/s, lr=2.00e-06]\n"
     ]
    },
    {
     "name": "stdout",
     "output_type": "stream",
     "text": [
      "Epoch [248/800] test accuracy: 0.9447 time: 4.25\n"
     ]
    },
    {
     "name": "stderr",
     "output_type": "stream",
     "text": [
      "Sample: 100%|█████████████████████████████████████████████████████████████████| 100/100 [00:01, 54.46it/s, lr=2.00e-06]\n"
     ]
    },
    {
     "name": "stdout",
     "output_type": "stream",
     "text": [
      "Epoch [249/800] test accuracy: 0.9448 time: 4.27\n"
     ]
    },
    {
     "name": "stderr",
     "output_type": "stream",
     "text": [
      "Sample: 100%|█████████████████████████████████████████████████████████████████| 100/100 [00:01, 54.02it/s, lr=2.00e-06]\n"
     ]
    },
    {
     "name": "stdout",
     "output_type": "stream",
     "text": [
      "Epoch [250/800] test accuracy: 0.9448 time: 4.29\n"
     ]
    },
    {
     "name": "stderr",
     "output_type": "stream",
     "text": [
      "Sample: 100%|█████████████████████████████████████████████████████████████████| 100/100 [00:01, 55.43it/s, lr=2.00e-06]\n"
     ]
    },
    {
     "name": "stdout",
     "output_type": "stream",
     "text": [
      "Epoch [251/800] test accuracy: 0.9447 time: 4.38\n"
     ]
    },
    {
     "name": "stderr",
     "output_type": "stream",
     "text": [
      "Sample: 100%|█████████████████████████████████████████████████████████████████| 100/100 [00:01, 54.52it/s, lr=2.00e-06]\n"
     ]
    },
    {
     "name": "stdout",
     "output_type": "stream",
     "text": [
      "Epoch [252/800] test accuracy: 0.9447 time: 4.33\n"
     ]
    },
    {
     "name": "stderr",
     "output_type": "stream",
     "text": [
      "Sample: 100%|█████████████████████████████████████████████████████████████████| 100/100 [00:01, 55.49it/s, lr=2.00e-06]\n"
     ]
    },
    {
     "name": "stdout",
     "output_type": "stream",
     "text": [
      "Epoch [253/800] test accuracy: 0.9447 time: 4.27\n"
     ]
    },
    {
     "name": "stderr",
     "output_type": "stream",
     "text": [
      "Sample: 100%|█████████████████████████████████████████████████████████████████| 100/100 [00:01, 55.24it/s, lr=2.00e-06]\n"
     ]
    },
    {
     "name": "stdout",
     "output_type": "stream",
     "text": [
      "Epoch [254/800] test accuracy: 0.9447 time: 4.28\n"
     ]
    },
    {
     "name": "stderr",
     "output_type": "stream",
     "text": [
      "Sample: 100%|█████████████████████████████████████████████████████████████████| 100/100 [00:01, 55.06it/s, lr=2.00e-06]\n"
     ]
    },
    {
     "name": "stdout",
     "output_type": "stream",
     "text": [
      "Epoch [255/800] test accuracy: 0.9447 time: 4.38\n"
     ]
    },
    {
     "name": "stderr",
     "output_type": "stream",
     "text": [
      "Sample: 100%|█████████████████████████████████████████████████████████████████| 100/100 [00:01, 51.08it/s, lr=2.00e-06]\n"
     ]
    },
    {
     "name": "stdout",
     "output_type": "stream",
     "text": [
      "Epoch [256/800] test accuracy: 0.9446 time: 4.52\n"
     ]
    },
    {
     "name": "stderr",
     "output_type": "stream",
     "text": [
      "Sample: 100%|█████████████████████████████████████████████████████████████████| 100/100 [00:01, 50.64it/s, lr=2.00e-06]\n"
     ]
    },
    {
     "name": "stdout",
     "output_type": "stream",
     "text": [
      "Epoch [257/800] test accuracy: 0.9447 time: 4.56\n"
     ]
    },
    {
     "name": "stderr",
     "output_type": "stream",
     "text": [
      "Sample: 100%|█████████████████████████████████████████████████████████████████| 100/100 [00:01, 51.60it/s, lr=2.00e-06]\n"
     ]
    },
    {
     "name": "stdout",
     "output_type": "stream",
     "text": [
      "Epoch [258/800] test accuracy: 0.9447 time: 4.56\n"
     ]
    },
    {
     "name": "stderr",
     "output_type": "stream",
     "text": [
      "Sample: 100%|█████████████████████████████████████████████████████████████████| 100/100 [00:01, 50.54it/s, lr=2.00e-06]\n"
     ]
    },
    {
     "name": "stdout",
     "output_type": "stream",
     "text": [
      "Epoch [259/800] test accuracy: 0.9447 time: 4.56\n"
     ]
    },
    {
     "name": "stderr",
     "output_type": "stream",
     "text": [
      "Sample: 100%|█████████████████████████████████████████████████████████████████| 100/100 [00:01, 53.76it/s, lr=2.00e-06]\n"
     ]
    },
    {
     "name": "stdout",
     "output_type": "stream",
     "text": [
      "Epoch [260/800] test accuracy: 0.9447 time: 4.26\n"
     ]
    },
    {
     "name": "stderr",
     "output_type": "stream",
     "text": [
      "Sample: 100%|█████████████████████████████████████████████████████████████████| 100/100 [00:01, 54.55it/s, lr=2.00e-06]\n"
     ]
    },
    {
     "name": "stdout",
     "output_type": "stream",
     "text": [
      "Epoch [261/800] test accuracy: 0.9446 time: 4.28\n"
     ]
    },
    {
     "name": "stderr",
     "output_type": "stream",
     "text": [
      "Sample: 100%|█████████████████████████████████████████████████████████████████| 100/100 [00:01, 55.34it/s, lr=2.00e-06]\n"
     ]
    },
    {
     "name": "stdout",
     "output_type": "stream",
     "text": [
      "Epoch [262/800] test accuracy: 0.9446 time: 4.26\n"
     ]
    },
    {
     "name": "stderr",
     "output_type": "stream",
     "text": [
      "Sample: 100%|█████████████████████████████████████████████████████████████████| 100/100 [00:01, 53.31it/s, lr=2.00e-06]\n"
     ]
    },
    {
     "name": "stdout",
     "output_type": "stream",
     "text": [
      "Epoch [263/800] test accuracy: 0.9446 time: 4.28\n"
     ]
    },
    {
     "name": "stderr",
     "output_type": "stream",
     "text": [
      "Sample: 100%|█████████████████████████████████████████████████████████████████| 100/100 [00:01, 54.67it/s, lr=2.00e-06]\n"
     ]
    },
    {
     "name": "stdout",
     "output_type": "stream",
     "text": [
      "Epoch [264/800] test accuracy: 0.9446 time: 4.26\n"
     ]
    },
    {
     "name": "stderr",
     "output_type": "stream",
     "text": [
      "Sample: 100%|█████████████████████████████████████████████████████████████████| 100/100 [00:01, 55.09it/s, lr=2.00e-06]\n"
     ]
    },
    {
     "name": "stdout",
     "output_type": "stream",
     "text": [
      "Epoch [265/800] test accuracy: 0.9447 time: 4.29\n"
     ]
    },
    {
     "name": "stderr",
     "output_type": "stream",
     "text": [
      "Sample: 100%|█████████████████████████████████████████████████████████████████| 100/100 [00:01, 53.82it/s, lr=2.00e-06]\n"
     ]
    },
    {
     "name": "stdout",
     "output_type": "stream",
     "text": [
      "Epoch [266/800] test accuracy: 0.9449 time: 4.23\n"
     ]
    },
    {
     "name": "stderr",
     "output_type": "stream",
     "text": [
      "Sample: 100%|█████████████████████████████████████████████████████████████████| 100/100 [00:01, 53.28it/s, lr=2.00e-06]\n"
     ]
    },
    {
     "name": "stdout",
     "output_type": "stream",
     "text": [
      "Epoch [267/800] test accuracy: 0.9449 time: 4.33\n"
     ]
    },
    {
     "name": "stderr",
     "output_type": "stream",
     "text": [
      "Sample: 100%|█████████████████████████████████████████████████████████████████| 100/100 [00:01, 54.35it/s, lr=2.00e-06]\n"
     ]
    },
    {
     "name": "stdout",
     "output_type": "stream",
     "text": [
      "Epoch [268/800] test accuracy: 0.9451 time: 4.28\n"
     ]
    },
    {
     "name": "stderr",
     "output_type": "stream",
     "text": [
      "Sample: 100%|█████████████████████████████████████████████████████████████████| 100/100 [00:01, 55.00it/s, lr=2.00e-06]\n"
     ]
    },
    {
     "name": "stdout",
     "output_type": "stream",
     "text": [
      "Epoch [269/800] test accuracy: 0.9449 time: 4.27\n"
     ]
    },
    {
     "name": "stderr",
     "output_type": "stream",
     "text": [
      "Sample: 100%|█████████████████████████████████████████████████████████████████| 100/100 [00:01, 54.91it/s, lr=2.00e-06]\n"
     ]
    },
    {
     "name": "stdout",
     "output_type": "stream",
     "text": [
      "Epoch [270/800] test accuracy: 0.9449 time: 4.37\n"
     ]
    },
    {
     "name": "stderr",
     "output_type": "stream",
     "text": [
      "Sample: 100%|█████████████████████████████████████████████████████████████████| 100/100 [00:01, 53.53it/s, lr=2.00e-06]\n"
     ]
    },
    {
     "name": "stdout",
     "output_type": "stream",
     "text": [
      "Epoch [271/800] test accuracy: 0.9450 time: 4.31\n"
     ]
    },
    {
     "name": "stderr",
     "output_type": "stream",
     "text": [
      "Sample: 100%|█████████████████████████████████████████████████████████████████| 100/100 [00:01, 53.16it/s, lr=2.00e-06]\n"
     ]
    },
    {
     "name": "stdout",
     "output_type": "stream",
     "text": [
      "Epoch [272/800] test accuracy: 0.9450 time: 4.24\n"
     ]
    },
    {
     "name": "stderr",
     "output_type": "stream",
     "text": [
      "Sample: 100%|█████████████████████████████████████████████████████████████████| 100/100 [00:01, 55.06it/s, lr=2.00e-06]\n"
     ]
    },
    {
     "name": "stdout",
     "output_type": "stream",
     "text": [
      "Epoch [273/800] test accuracy: 0.9451 time: 4.26\n"
     ]
    },
    {
     "name": "stderr",
     "output_type": "stream",
     "text": [
      "Sample: 100%|█████████████████████████████████████████████████████████████████| 100/100 [00:01, 54.46it/s, lr=2.00e-06]\n"
     ]
    },
    {
     "name": "stdout",
     "output_type": "stream",
     "text": [
      "Epoch [274/800] test accuracy: 0.9450 time: 4.29\n"
     ]
    },
    {
     "name": "stderr",
     "output_type": "stream",
     "text": [
      "Sample: 100%|█████████████████████████████████████████████████████████████████| 100/100 [00:01, 51.08it/s, lr=2.00e-06]\n"
     ]
    },
    {
     "name": "stdout",
     "output_type": "stream",
     "text": [
      "Epoch [275/800] test accuracy: 0.9450 time: 4.60\n"
     ]
    },
    {
     "name": "stderr",
     "output_type": "stream",
     "text": [
      "Sample: 100%|█████████████████████████████████████████████████████████████████| 100/100 [00:01, 50.31it/s, lr=2.00e-06]\n"
     ]
    },
    {
     "name": "stdout",
     "output_type": "stream",
     "text": [
      "Epoch [276/800] test accuracy: 0.9449 time: 4.54\n"
     ]
    },
    {
     "name": "stderr",
     "output_type": "stream",
     "text": [
      "Sample: 100%|█████████████████████████████████████████████████████████████████| 100/100 [00:01, 50.72it/s, lr=2.00e-06]\n"
     ]
    },
    {
     "name": "stdout",
     "output_type": "stream",
     "text": [
      "Epoch [277/800] test accuracy: 0.9451 time: 4.53\n"
     ]
    },
    {
     "name": "stderr",
     "output_type": "stream",
     "text": [
      "Sample: 100%|█████████████████████████████████████████████████████████████████| 100/100 [00:01, 50.23it/s, lr=2.00e-06]\n"
     ]
    },
    {
     "name": "stdout",
     "output_type": "stream",
     "text": [
      "Epoch [278/800] test accuracy: 0.9450 time: 4.58\n"
     ]
    },
    {
     "name": "stderr",
     "output_type": "stream",
     "text": [
      "Sample: 100%|█████████████████████████████████████████████████████████████████| 100/100 [00:01, 50.18it/s, lr=2.00e-06]\n"
     ]
    },
    {
     "name": "stdout",
     "output_type": "stream",
     "text": [
      "Epoch [279/800] test accuracy: 0.9450 time: 4.30\n"
     ]
    },
    {
     "name": "stderr",
     "output_type": "stream",
     "text": [
      "Sample: 100%|█████████████████████████████████████████████████████████████████| 100/100 [00:01, 54.43it/s, lr=2.00e-06]\n"
     ]
    },
    {
     "name": "stdout",
     "output_type": "stream",
     "text": [
      "Epoch [280/800] test accuracy: 0.9450 time: 4.27\n"
     ]
    },
    {
     "name": "stderr",
     "output_type": "stream",
     "text": [
      "Sample: 100%|█████████████████████████████████████████████████████████████████| 100/100 [00:01, 54.67it/s, lr=2.00e-06]\n"
     ]
    },
    {
     "name": "stdout",
     "output_type": "stream",
     "text": [
      "Epoch [281/800] test accuracy: 0.9450 time: 4.25\n"
     ]
    },
    {
     "name": "stderr",
     "output_type": "stream",
     "text": [
      "Sample: 100%|█████████████████████████████████████████████████████████████████| 100/100 [00:01, 53.36it/s, lr=2.00e-06]\n"
     ]
    },
    {
     "name": "stdout",
     "output_type": "stream",
     "text": [
      "Epoch [282/800] test accuracy: 0.9450 time: 4.27\n"
     ]
    },
    {
     "name": "stderr",
     "output_type": "stream",
     "text": [
      "Sample: 100%|█████████████████████████████████████████████████████████████████| 100/100 [00:01, 53.36it/s, lr=2.00e-06]\n"
     ]
    },
    {
     "name": "stdout",
     "output_type": "stream",
     "text": [
      "Epoch [283/800] test accuracy: 0.9452 time: 4.26\n"
     ]
    },
    {
     "name": "stderr",
     "output_type": "stream",
     "text": [
      "Sample: 100%|█████████████████████████████████████████████████████████████████| 100/100 [00:01, 54.26it/s, lr=2.00e-06]\n"
     ]
    },
    {
     "name": "stdout",
     "output_type": "stream",
     "text": [
      "Epoch [284/800] test accuracy: 0.9453 time: 4.28\n"
     ]
    },
    {
     "name": "stderr",
     "output_type": "stream",
     "text": [
      "Sample: 100%|█████████████████████████████████████████████████████████████████| 100/100 [00:01, 54.40it/s, lr=2.00e-06]\n"
     ]
    },
    {
     "name": "stdout",
     "output_type": "stream",
     "text": [
      "Epoch [285/800] test accuracy: 0.9452 time: 4.27\n"
     ]
    },
    {
     "name": "stderr",
     "output_type": "stream",
     "text": [
      "Sample: 100%|█████████████████████████████████████████████████████████████████| 100/100 [00:01, 54.61it/s, lr=2.00e-06]\n"
     ]
    },
    {
     "name": "stdout",
     "output_type": "stream",
     "text": [
      "Epoch [286/800] test accuracy: 0.9453 time: 4.24\n"
     ]
    },
    {
     "name": "stderr",
     "output_type": "stream",
     "text": [
      "Sample: 100%|█████████████████████████████████████████████████████████████████| 100/100 [00:01, 54.91it/s, lr=2.00e-06]\n"
     ]
    },
    {
     "name": "stdout",
     "output_type": "stream",
     "text": [
      "Epoch [287/800] test accuracy: 0.9452 time: 4.31\n"
     ]
    },
    {
     "name": "stderr",
     "output_type": "stream",
     "text": [
      "Sample: 100%|█████████████████████████████████████████████████████████████████| 100/100 [00:01, 54.61it/s, lr=2.00e-06]\n"
     ]
    },
    {
     "name": "stdout",
     "output_type": "stream",
     "text": [
      "Epoch [288/800] test accuracy: 0.9454 time: 4.27\n"
     ]
    },
    {
     "name": "stderr",
     "output_type": "stream",
     "text": [
      "Sample: 100%|█████████████████████████████████████████████████████████████████| 100/100 [00:01, 55.80it/s, lr=2.00e-06]\n"
     ]
    },
    {
     "name": "stdout",
     "output_type": "stream",
     "text": [
      "Epoch [289/800] test accuracy: 0.9454 time: 4.28\n"
     ]
    },
    {
     "name": "stderr",
     "output_type": "stream",
     "text": [
      "Sample: 100%|█████████████████████████████████████████████████████████████████| 100/100 [00:01, 53.56it/s, lr=2.00e-06]\n"
     ]
    },
    {
     "name": "stdout",
     "output_type": "stream",
     "text": [
      "Epoch [290/800] test accuracy: 0.9453 time: 4.29\n"
     ]
    },
    {
     "name": "stderr",
     "output_type": "stream",
     "text": [
      "Sample: 100%|█████████████████████████████████████████████████████████████████| 100/100 [00:01, 54.58it/s, lr=2.00e-06]\n"
     ]
    },
    {
     "name": "stdout",
     "output_type": "stream",
     "text": [
      "Epoch [291/800] test accuracy: 0.9453 time: 4.26\n"
     ]
    },
    {
     "name": "stderr",
     "output_type": "stream",
     "text": [
      "Sample: 100%|█████████████████████████████████████████████████████████████████| 100/100 [00:01, 55.15it/s, lr=2.00e-06]\n"
     ]
    },
    {
     "name": "stdout",
     "output_type": "stream",
     "text": [
      "Epoch [292/800] test accuracy: 0.9453 time: 4.27\n"
     ]
    },
    {
     "name": "stderr",
     "output_type": "stream",
     "text": [
      "Sample: 100%|█████████████████████████████████████████████████████████████████| 100/100 [00:01, 53.88it/s, lr=2.00e-06]\n"
     ]
    },
    {
     "name": "stdout",
     "output_type": "stream",
     "text": [
      "Epoch [293/800] test accuracy: 0.9454 time: 4.26\n"
     ]
    },
    {
     "name": "stderr",
     "output_type": "stream",
     "text": [
      "Sample: 100%|█████████████████████████████████████████████████████████████████| 100/100 [00:01, 53.28it/s, lr=2.00e-06]\n"
     ]
    },
    {
     "name": "stdout",
     "output_type": "stream",
     "text": [
      "Epoch [294/800] test accuracy: 0.9453 time: 4.52\n"
     ]
    },
    {
     "name": "stderr",
     "output_type": "stream",
     "text": [
      "Sample: 100%|█████████████████████████████████████████████████████████████████| 100/100 [00:01, 50.51it/s, lr=2.00e-06]\n"
     ]
    },
    {
     "name": "stdout",
     "output_type": "stream",
     "text": [
      "Epoch [295/800] test accuracy: 0.9454 time: 4.53\n"
     ]
    },
    {
     "name": "stderr",
     "output_type": "stream",
     "text": [
      "Sample: 100%|█████████████████████████████████████████████████████████████████| 100/100 [00:02, 49.86it/s, lr=2.00e-06]\n"
     ]
    },
    {
     "name": "stdout",
     "output_type": "stream",
     "text": [
      "Epoch [296/800] test accuracy: 0.9456 time: 4.52\n"
     ]
    },
    {
     "name": "stderr",
     "output_type": "stream",
     "text": [
      "Sample: 100%|█████████████████████████████████████████████████████████████████| 100/100 [00:01, 50.90it/s, lr=2.00e-06]\n"
     ]
    },
    {
     "name": "stdout",
     "output_type": "stream",
     "text": [
      "Epoch [297/800] test accuracy: 0.9456 time: 4.54\n"
     ]
    },
    {
     "name": "stderr",
     "output_type": "stream",
     "text": [
      "Sample: 100%|█████████████████████████████████████████████████████████████████| 100/100 [00:02, 49.83it/s, lr=2.00e-06]\n"
     ]
    },
    {
     "name": "stdout",
     "output_type": "stream",
     "text": [
      "Epoch [298/800] test accuracy: 0.9456 time: 4.39\n"
     ]
    },
    {
     "name": "stderr",
     "output_type": "stream",
     "text": [
      "Sample: 100%|█████████████████████████████████████████████████████████████████| 100/100 [00:01, 54.52it/s, lr=2.00e-06]\n"
     ]
    },
    {
     "name": "stdout",
     "output_type": "stream",
     "text": [
      "Epoch [299/800] test accuracy: 0.9457 time: 4.28\n"
     ]
    },
    {
     "name": "stderr",
     "output_type": "stream",
     "text": [
      "Sample: 100%|█████████████████████████████████████████████████████████████████| 100/100 [00:01, 55.61it/s, lr=2.00e-06]\n"
     ]
    },
    {
     "name": "stdout",
     "output_type": "stream",
     "text": [
      "Epoch [300/800] test accuracy: 0.9458 time: 4.34\n"
     ]
    },
    {
     "name": "stderr",
     "output_type": "stream",
     "text": [
      "Sample: 100%|█████████████████████████████████████████████████████████████████| 100/100 [00:01, 54.91it/s, lr=2.00e-06]\n"
     ]
    },
    {
     "name": "stdout",
     "output_type": "stream",
     "text": [
      "Epoch [301/800] test accuracy: 0.9458 time: 4.26\n"
     ]
    },
    {
     "name": "stderr",
     "output_type": "stream",
     "text": [
      "Sample: 100%|█████████████████████████████████████████████████████████████████| 100/100 [00:01, 53.88it/s, lr=2.00e-06]\n"
     ]
    },
    {
     "name": "stdout",
     "output_type": "stream",
     "text": [
      "Epoch [302/800] test accuracy: 0.9457 time: 4.28\n"
     ]
    },
    {
     "name": "stderr",
     "output_type": "stream",
     "text": [
      "Sample: 100%|█████████████████████████████████████████████████████████████████| 100/100 [00:01, 55.03it/s, lr=2.00e-06]\n"
     ]
    },
    {
     "name": "stdout",
     "output_type": "stream",
     "text": [
      "Epoch [303/800] test accuracy: 0.9458 time: 4.24\n"
     ]
    },
    {
     "name": "stderr",
     "output_type": "stream",
     "text": [
      "Sample: 100%|█████████████████████████████████████████████████████████████████| 100/100 [00:01, 55.06it/s, lr=2.00e-06]\n"
     ]
    },
    {
     "name": "stdout",
     "output_type": "stream",
     "text": [
      "Epoch [304/800] test accuracy: 0.9457 time: 4.25\n"
     ]
    },
    {
     "name": "stderr",
     "output_type": "stream",
     "text": [
      "Sample: 100%|█████████████████████████████████████████████████████████████████| 100/100 [00:01, 54.76it/s, lr=2.00e-06]\n"
     ]
    },
    {
     "name": "stdout",
     "output_type": "stream",
     "text": [
      "Epoch [305/800] test accuracy: 0.9458 time: 4.24\n"
     ]
    },
    {
     "name": "stderr",
     "output_type": "stream",
     "text": [
      "Sample: 100%|█████████████████████████████████████████████████████████████████| 100/100 [00:01, 53.50it/s, lr=2.00e-06]\n"
     ]
    },
    {
     "name": "stdout",
     "output_type": "stream",
     "text": [
      "Epoch [306/800] test accuracy: 0.9458 time: 4.35\n"
     ]
    },
    {
     "name": "stderr",
     "output_type": "stream",
     "text": [
      "Sample: 100%|█████████████████████████████████████████████████████████████████| 100/100 [00:01, 54.58it/s, lr=2.00e-06]\n"
     ]
    },
    {
     "name": "stdout",
     "output_type": "stream",
     "text": [
      "Epoch [307/800] test accuracy: 0.9458 time: 4.25\n"
     ]
    },
    {
     "name": "stderr",
     "output_type": "stream",
     "text": [
      "Sample: 100%|█████████████████████████████████████████████████████████████████| 100/100 [00:01, 54.73it/s, lr=2.00e-06]\n"
     ]
    },
    {
     "name": "stdout",
     "output_type": "stream",
     "text": [
      "Epoch [308/800] test accuracy: 0.9459 time: 4.27\n"
     ]
    },
    {
     "name": "stderr",
     "output_type": "stream",
     "text": [
      "Sample: 100%|█████████████████████████████████████████████████████████████████| 100/100 [00:01, 54.94it/s, lr=2.00e-06]\n"
     ]
    },
    {
     "name": "stdout",
     "output_type": "stream",
     "text": [
      "Epoch [309/800] test accuracy: 0.9458 time: 4.27\n"
     ]
    },
    {
     "name": "stderr",
     "output_type": "stream",
     "text": [
      "Sample: 100%|█████████████████████████████████████████████████████████████████| 100/100 [00:01, 54.29it/s, lr=2.00e-06]\n"
     ]
    },
    {
     "name": "stdout",
     "output_type": "stream",
     "text": [
      "Epoch [310/800] test accuracy: 0.9458 time: 4.28\n"
     ]
    },
    {
     "name": "stderr",
     "output_type": "stream",
     "text": [
      "Sample: 100%|█████████████████████████████████████████████████████████████████| 100/100 [00:01, 54.46it/s, lr=2.00e-06]\n"
     ]
    },
    {
     "name": "stdout",
     "output_type": "stream",
     "text": [
      "Epoch [311/800] test accuracy: 0.9458 time: 4.26\n"
     ]
    },
    {
     "name": "stderr",
     "output_type": "stream",
     "text": [
      "Sample: 100%|█████████████████████████████████████████████████████████████████| 100/100 [00:01, 54.79it/s, lr=2.00e-06]\n"
     ]
    },
    {
     "name": "stdout",
     "output_type": "stream",
     "text": [
      "Epoch [312/800] test accuracy: 0.9459 time: 4.24\n"
     ]
    },
    {
     "name": "stderr",
     "output_type": "stream",
     "text": [
      "Sample: 100%|█████████████████████████████████████████████████████████████████| 100/100 [00:01, 54.88it/s, lr=2.00e-06]\n"
     ]
    },
    {
     "name": "stdout",
     "output_type": "stream",
     "text": [
      "Epoch [313/800] test accuracy: 0.9459 time: 4.46\n"
     ]
    },
    {
     "name": "stderr",
     "output_type": "stream",
     "text": [
      "Sample: 100%|█████████████████████████████████████████████████████████████████| 100/100 [00:01, 50.59it/s, lr=2.00e-06]\n"
     ]
    },
    {
     "name": "stdout",
     "output_type": "stream",
     "text": [
      "Epoch [314/800] test accuracy: 0.9458 time: 4.54\n"
     ]
    },
    {
     "name": "stderr",
     "output_type": "stream",
     "text": [
      "Sample: 100%|█████████████████████████████████████████████████████████████████| 100/100 [00:02, 49.76it/s, lr=2.00e-06]\n"
     ]
    },
    {
     "name": "stdout",
     "output_type": "stream",
     "text": [
      "Epoch [315/800] test accuracy: 0.9458 time: 4.55\n"
     ]
    },
    {
     "name": "stderr",
     "output_type": "stream",
     "text": [
      "Sample: 100%|█████████████████████████████████████████████████████████████████| 100/100 [00:01, 50.95it/s, lr=2.00e-06]\n"
     ]
    },
    {
     "name": "stdout",
     "output_type": "stream",
     "text": [
      "Epoch [316/800] test accuracy: 0.9458 time: 4.53\n"
     ]
    },
    {
     "name": "stderr",
     "output_type": "stream",
     "text": [
      "Sample: 100%|█████████████████████████████████████████████████████████████████| 100/100 [00:01, 50.06it/s, lr=2.00e-06]\n"
     ]
    },
    {
     "name": "stdout",
     "output_type": "stream",
     "text": [
      "Epoch [317/800] test accuracy: 0.9458 time: 4.52\n"
     ]
    },
    {
     "name": "stderr",
     "output_type": "stream",
     "text": [
      "Sample: 100%|█████████████████████████████████████████████████████████████████| 100/100 [00:01, 54.79it/s, lr=2.00e-06]\n"
     ]
    },
    {
     "name": "stdout",
     "output_type": "stream",
     "text": [
      "Epoch [318/800] test accuracy: 0.9459 time: 4.28\n"
     ]
    },
    {
     "name": "stderr",
     "output_type": "stream",
     "text": [
      "Sample: 100%|█████████████████████████████████████████████████████████████████| 100/100 [00:01, 55.27it/s, lr=2.00e-06]\n"
     ]
    },
    {
     "name": "stdout",
     "output_type": "stream",
     "text": [
      "Epoch [319/800] test accuracy: 0.9459 time: 4.28\n"
     ]
    },
    {
     "name": "stderr",
     "output_type": "stream",
     "text": [
      "Sample: 100%|█████████████████████████████████████████████████████████████████| 100/100 [00:01, 54.26it/s, lr=2.00e-06]\n"
     ]
    },
    {
     "name": "stdout",
     "output_type": "stream",
     "text": [
      "Epoch [320/800] test accuracy: 0.9458 time: 4.30\n"
     ]
    },
    {
     "name": "stderr",
     "output_type": "stream",
     "text": [
      "Sample: 100%|█████████████████████████████████████████████████████████████████| 100/100 [00:01, 54.35it/s, lr=2.00e-06]\n"
     ]
    },
    {
     "name": "stdout",
     "output_type": "stream",
     "text": [
      "Epoch [321/800] test accuracy: 0.9459 time: 4.25\n"
     ]
    },
    {
     "name": "stderr",
     "output_type": "stream",
     "text": [
      "Sample: 100%|█████████████████████████████████████████████████████████████████| 100/100 [00:01, 54.52it/s, lr=2.00e-06]\n"
     ]
    },
    {
     "name": "stdout",
     "output_type": "stream",
     "text": [
      "Epoch [322/800] test accuracy: 0.9459 time: 4.24\n"
     ]
    },
    {
     "name": "stderr",
     "output_type": "stream",
     "text": [
      "Sample: 100%|█████████████████████████████████████████████████████████████████| 100/100 [00:01, 53.11it/s, lr=2.00e-06]\n"
     ]
    },
    {
     "name": "stdout",
     "output_type": "stream",
     "text": [
      "Epoch [323/800] test accuracy: 0.9459 time: 4.28\n"
     ]
    },
    {
     "name": "stderr",
     "output_type": "stream",
     "text": [
      "Sample: 100%|█████████████████████████████████████████████████████████████████| 100/100 [00:01, 54.82it/s, lr=2.00e-06]\n"
     ]
    },
    {
     "name": "stdout",
     "output_type": "stream",
     "text": [
      "Epoch [324/800] test accuracy: 0.9459 time: 4.27\n"
     ]
    },
    {
     "name": "stderr",
     "output_type": "stream",
     "text": [
      "Sample: 100%|█████████████████████████████████████████████████████████████████| 100/100 [00:01, 54.11it/s, lr=2.00e-06]\n"
     ]
    },
    {
     "name": "stdout",
     "output_type": "stream",
     "text": [
      "Epoch [325/800] test accuracy: 0.9459 time: 4.28\n"
     ]
    },
    {
     "name": "stderr",
     "output_type": "stream",
     "text": [
      "Sample: 100%|█████████████████████████████████████████████████████████████████| 100/100 [00:01, 54.46it/s, lr=2.00e-06]\n"
     ]
    },
    {
     "name": "stdout",
     "output_type": "stream",
     "text": [
      "Epoch [326/800] test accuracy: 0.9459 time: 4.30\n"
     ]
    },
    {
     "name": "stderr",
     "output_type": "stream",
     "text": [
      "Sample: 100%|█████████████████████████████████████████████████████████████████| 100/100 [00:01, 55.52it/s, lr=2.00e-06]\n"
     ]
    },
    {
     "name": "stdout",
     "output_type": "stream",
     "text": [
      "Epoch [327/800] test accuracy: 0.9458 time: 4.26\n"
     ]
    },
    {
     "name": "stderr",
     "output_type": "stream",
     "text": [
      "Sample: 100%|█████████████████████████████████████████████████████████████████| 100/100 [00:01, 54.23it/s, lr=2.00e-06]\n"
     ]
    },
    {
     "name": "stdout",
     "output_type": "stream",
     "text": [
      "Epoch [328/800] test accuracy: 0.9460 time: 4.30\n"
     ]
    },
    {
     "name": "stderr",
     "output_type": "stream",
     "text": [
      "Sample: 100%|█████████████████████████████████████████████████████████████████| 100/100 [00:01, 55.27it/s, lr=2.00e-06]\n"
     ]
    },
    {
     "name": "stdout",
     "output_type": "stream",
     "text": [
      "Epoch [329/800] test accuracy: 0.9462 time: 4.25\n"
     ]
    },
    {
     "name": "stderr",
     "output_type": "stream",
     "text": [
      "Sample: 100%|█████████████████████████████████████████████████████████████████| 100/100 [00:01, 53.94it/s, lr=2.00e-06]\n"
     ]
    },
    {
     "name": "stdout",
     "output_type": "stream",
     "text": [
      "Epoch [330/800] test accuracy: 0.9462 time: 4.32\n"
     ]
    },
    {
     "name": "stderr",
     "output_type": "stream",
     "text": [
      "Sample: 100%|█████████████████████████████████████████████████████████████████| 100/100 [00:01, 53.99it/s, lr=2.00e-06]\n"
     ]
    },
    {
     "name": "stdout",
     "output_type": "stream",
     "text": [
      "Epoch [331/800] test accuracy: 0.9461 time: 4.21\n"
     ]
    },
    {
     "name": "stderr",
     "output_type": "stream",
     "text": [
      "Sample: 100%|█████████████████████████████████████████████████████████████████| 100/100 [00:01, 54.67it/s, lr=2.00e-06]\n"
     ]
    },
    {
     "name": "stdout",
     "output_type": "stream",
     "text": [
      "Epoch [332/800] test accuracy: 0.9462 time: 4.37\n"
     ]
    },
    {
     "name": "stderr",
     "output_type": "stream",
     "text": [
      "Sample: 100%|█████████████████████████████████████████████████████████████████| 100/100 [00:01, 50.26it/s, lr=2.00e-06]\n"
     ]
    },
    {
     "name": "stdout",
     "output_type": "stream",
     "text": [
      "Epoch [333/800] test accuracy: 0.9462 time: 4.52\n"
     ]
    },
    {
     "name": "stderr",
     "output_type": "stream",
     "text": [
      "Sample: 100%|█████████████████████████████████████████████████████████████████| 100/100 [00:01, 50.34it/s, lr=2.00e-06]\n"
     ]
    },
    {
     "name": "stdout",
     "output_type": "stream",
     "text": [
      "Epoch [334/800] test accuracy: 0.9462 time: 4.53\n"
     ]
    },
    {
     "name": "stderr",
     "output_type": "stream",
     "text": [
      "Sample: 100%|█████████████████████████████████████████████████████████████████| 100/100 [00:01, 50.87it/s, lr=2.00e-06]\n"
     ]
    },
    {
     "name": "stdout",
     "output_type": "stream",
     "text": [
      "Epoch [335/800] test accuracy: 0.9461 time: 4.51\n"
     ]
    },
    {
     "name": "stderr",
     "output_type": "stream",
     "text": [
      "Sample: 100%|█████████████████████████████████████████████████████████████████| 100/100 [00:01, 51.05it/s, lr=2.00e-06]\n"
     ]
    },
    {
     "name": "stdout",
     "output_type": "stream",
     "text": [
      "Epoch [336/800] test accuracy: 0.9462 time: 4.58\n"
     ]
    },
    {
     "name": "stderr",
     "output_type": "stream",
     "text": [
      "Sample: 100%|█████████████████████████████████████████████████████████████████| 100/100 [00:01, 52.14it/s, lr=2.00e-06]\n"
     ]
    },
    {
     "name": "stdout",
     "output_type": "stream",
     "text": [
      "Epoch [337/800] test accuracy: 0.9462 time: 4.31\n"
     ]
    },
    {
     "name": "stderr",
     "output_type": "stream",
     "text": [
      "Sample: 100%|█████████████████████████████████████████████████████████████████| 100/100 [00:01, 54.82it/s, lr=2.00e-06]\n"
     ]
    },
    {
     "name": "stdout",
     "output_type": "stream",
     "text": [
      "Epoch [338/800] test accuracy: 0.9461 time: 4.28\n"
     ]
    },
    {
     "name": "stderr",
     "output_type": "stream",
     "text": [
      "Sample: 100%|█████████████████████████████████████████████████████████████████| 100/100 [00:01, 54.52it/s, lr=2.00e-06]\n"
     ]
    },
    {
     "name": "stdout",
     "output_type": "stream",
     "text": [
      "Epoch [339/800] test accuracy: 0.9461 time: 4.29\n"
     ]
    },
    {
     "name": "stderr",
     "output_type": "stream",
     "text": [
      "Sample: 100%|█████████████████████████████████████████████████████████████████| 100/100 [00:01, 53.88it/s, lr=2.00e-06]\n"
     ]
    },
    {
     "name": "stdout",
     "output_type": "stream",
     "text": [
      "Epoch [340/800] test accuracy: 0.9460 time: 4.31\n"
     ]
    },
    {
     "name": "stderr",
     "output_type": "stream",
     "text": [
      "Sample: 100%|█████████████████████████████████████████████████████████████████| 100/100 [00:01, 54.55it/s, lr=2.00e-06]\n"
     ]
    },
    {
     "name": "stdout",
     "output_type": "stream",
     "text": [
      "Epoch [341/800] test accuracy: 0.9460 time: 4.28\n"
     ]
    },
    {
     "name": "stderr",
     "output_type": "stream",
     "text": [
      "Sample: 100%|█████████████████████████████████████████████████████████████████| 100/100 [00:01, 54.94it/s, lr=2.00e-06]\n"
     ]
    },
    {
     "name": "stdout",
     "output_type": "stream",
     "text": [
      "Epoch [342/800] test accuracy: 0.9461 time: 4.27\n"
     ]
    },
    {
     "name": "stderr",
     "output_type": "stream",
     "text": [
      "Sample: 100%|█████████████████████████████████████████████████████████████████| 100/100 [00:01, 54.40it/s, lr=2.00e-06]\n"
     ]
    },
    {
     "name": "stdout",
     "output_type": "stream",
     "text": [
      "Epoch [343/800] test accuracy: 0.9461 time: 4.29\n"
     ]
    },
    {
     "name": "stderr",
     "output_type": "stream",
     "text": [
      "Sample: 100%|█████████████████████████████████████████████████████████████████| 100/100 [00:01, 55.30it/s, lr=2.00e-06]\n"
     ]
    },
    {
     "name": "stdout",
     "output_type": "stream",
     "text": [
      "Epoch [344/800] test accuracy: 0.9461 time: 4.26\n"
     ]
    },
    {
     "name": "stderr",
     "output_type": "stream",
     "text": [
      "Sample: 100%|█████████████████████████████████████████████████████████████████| 100/100 [00:01, 56.08it/s, lr=2.00e-06]\n"
     ]
    },
    {
     "name": "stdout",
     "output_type": "stream",
     "text": [
      "Epoch [345/800] test accuracy: 0.9461 time: 4.23\n"
     ]
    },
    {
     "name": "stderr",
     "output_type": "stream",
     "text": [
      "Sample: 100%|█████████████████████████████████████████████████████████████████| 100/100 [00:01, 54.70it/s, lr=2.00e-06]\n"
     ]
    },
    {
     "name": "stdout",
     "output_type": "stream",
     "text": [
      "Epoch [346/800] test accuracy: 0.9460 time: 4.27\n"
     ]
    },
    {
     "name": "stderr",
     "output_type": "stream",
     "text": [
      "Sample: 100%|█████████████████████████████████████████████████████████████████| 100/100 [00:01, 54.91it/s, lr=2.00e-06]\n"
     ]
    },
    {
     "name": "stdout",
     "output_type": "stream",
     "text": [
      "Epoch [347/800] test accuracy: 0.9460 time: 4.25\n"
     ]
    },
    {
     "name": "stderr",
     "output_type": "stream",
     "text": [
      "Sample: 100%|█████████████████████████████████████████████████████████████████| 100/100 [00:01, 54.67it/s, lr=2.00e-06]\n"
     ]
    },
    {
     "name": "stdout",
     "output_type": "stream",
     "text": [
      "Epoch [348/800] test accuracy: 0.9461 time: 4.25\n"
     ]
    },
    {
     "name": "stderr",
     "output_type": "stream",
     "text": [
      "Sample: 100%|█████████████████████████████████████████████████████████████████| 100/100 [00:01, 54.67it/s, lr=2.00e-06]\n"
     ]
    },
    {
     "name": "stdout",
     "output_type": "stream",
     "text": [
      "Epoch [349/800] test accuracy: 0.9461 time: 4.35\n"
     ]
    },
    {
     "name": "stderr",
     "output_type": "stream",
     "text": [
      "Sample: 100%|█████████████████████████████████████████████████████████████████| 100/100 [00:01, 54.46it/s, lr=2.00e-06]\n"
     ]
    },
    {
     "name": "stdout",
     "output_type": "stream",
     "text": [
      "Epoch [350/800] test accuracy: 0.9460 time: 4.27\n"
     ]
    },
    {
     "name": "stderr",
     "output_type": "stream",
     "text": [
      "Sample: 100%|█████████████████████████████████████████████████████████████████| 100/100 [00:01, 51.66it/s, lr=2.00e-06]\n"
     ]
    },
    {
     "name": "stdout",
     "output_type": "stream",
     "text": [
      "Epoch [351/800] test accuracy: 0.9461 time: 4.38\n"
     ]
    },
    {
     "name": "stderr",
     "output_type": "stream",
     "text": [
      "Sample: 100%|█████████████████████████████████████████████████████████████████| 100/100 [00:01, 52.41it/s, lr=2.00e-06]\n"
     ]
    },
    {
     "name": "stdout",
     "output_type": "stream",
     "text": [
      "Epoch [352/800] test accuracy: 0.9461 time: 4.52\n"
     ]
    },
    {
     "name": "stderr",
     "output_type": "stream",
     "text": [
      "Sample: 100%|█████████████████████████████████████████████████████████████████| 100/100 [00:01, 50.31it/s, lr=2.00e-06]\n"
     ]
    },
    {
     "name": "stdout",
     "output_type": "stream",
     "text": [
      "Epoch [353/800] test accuracy: 0.9461 time: 4.55\n"
     ]
    },
    {
     "name": "stderr",
     "output_type": "stream",
     "text": [
      "Sample: 100%|█████████████████████████████████████████████████████████████████| 100/100 [00:02, 49.86it/s, lr=2.00e-06]\n"
     ]
    },
    {
     "name": "stdout",
     "output_type": "stream",
     "text": [
      "Epoch [354/800] test accuracy: 0.9461 time: 4.51\n"
     ]
    },
    {
     "name": "stderr",
     "output_type": "stream",
     "text": [
      "Sample: 100%|█████████████████████████████████████████████████████████████████| 100/100 [00:01, 50.85it/s, lr=2.00e-06]\n"
     ]
    },
    {
     "name": "stdout",
     "output_type": "stream",
     "text": [
      "Epoch [355/800] test accuracy: 0.9460 time: 4.53\n"
     ]
    },
    {
     "name": "stderr",
     "output_type": "stream",
     "text": [
      "Sample: 100%|█████████████████████████████████████████████████████████████████| 100/100 [00:01, 50.59it/s, lr=2.00e-06]\n"
     ]
    },
    {
     "name": "stdout",
     "output_type": "stream",
     "text": [
      "Epoch [356/800] test accuracy: 0.9460 time: 4.28\n"
     ]
    },
    {
     "name": "stderr",
     "output_type": "stream",
     "text": [
      "Sample: 100%|█████████████████████████████████████████████████████████████████| 100/100 [00:01, 53.91it/s, lr=2.00e-06]\n"
     ]
    },
    {
     "name": "stdout",
     "output_type": "stream",
     "text": [
      "Epoch [357/800] test accuracy: 0.9461 time: 4.20\n"
     ]
    },
    {
     "name": "stderr",
     "output_type": "stream",
     "text": [
      "Sample: 100%|█████████████████████████████████████████████████████████████████| 100/100 [00:01, 54.82it/s, lr=2.00e-06]\n"
     ]
    },
    {
     "name": "stdout",
     "output_type": "stream",
     "text": [
      "Epoch [358/800] test accuracy: 0.9461 time: 4.24\n"
     ]
    },
    {
     "name": "stderr",
     "output_type": "stream",
     "text": [
      "Sample: 100%|█████████████████████████████████████████████████████████████████| 100/100 [00:01, 54.79it/s, lr=2.00e-06]\n"
     ]
    },
    {
     "name": "stdout",
     "output_type": "stream",
     "text": [
      "Epoch [359/800] test accuracy: 0.9461 time: 4.31\n"
     ]
    },
    {
     "name": "stderr",
     "output_type": "stream",
     "text": [
      "Sample: 100%|█████████████████████████████████████████████████████████████████| 100/100 [00:01, 55.00it/s, lr=2.00e-06]\n"
     ]
    },
    {
     "name": "stdout",
     "output_type": "stream",
     "text": [
      "Epoch [360/800] test accuracy: 0.9462 time: 4.27\n"
     ]
    },
    {
     "name": "stderr",
     "output_type": "stream",
     "text": [
      "Sample: 100%|█████████████████████████████████████████████████████████████████| 100/100 [00:01, 53.73it/s, lr=2.00e-06]\n"
     ]
    },
    {
     "name": "stdout",
     "output_type": "stream",
     "text": [
      "Epoch [361/800] test accuracy: 0.9462 time: 4.30\n"
     ]
    },
    {
     "name": "stderr",
     "output_type": "stream",
     "text": [
      "Sample: 100%|█████████████████████████████████████████████████████████████████| 100/100 [00:01, 53.94it/s, lr=2.00e-06]\n"
     ]
    },
    {
     "name": "stdout",
     "output_type": "stream",
     "text": [
      "Epoch [362/800] test accuracy: 0.9462 time: 4.26\n"
     ]
    },
    {
     "name": "stderr",
     "output_type": "stream",
     "text": [
      "Sample: 100%|█████████████████████████████████████████████████████████████████| 100/100 [00:01, 55.18it/s, lr=2.00e-06]\n"
     ]
    },
    {
     "name": "stdout",
     "output_type": "stream",
     "text": [
      "Epoch [363/800] test accuracy: 0.9462 time: 4.26\n"
     ]
    },
    {
     "name": "stderr",
     "output_type": "stream",
     "text": [
      "Sample: 100%|█████████████████████████████████████████████████████████████████| 100/100 [00:01, 55.67it/s, lr=2.00e-06]\n"
     ]
    },
    {
     "name": "stdout",
     "output_type": "stream",
     "text": [
      "Epoch [364/800] test accuracy: 0.9463 time: 4.28\n"
     ]
    },
    {
     "name": "stderr",
     "output_type": "stream",
     "text": [
      "Sample: 100%|█████████████████████████████████████████████████████████████████| 100/100 [00:01, 55.37it/s, lr=2.00e-06]\n"
     ]
    },
    {
     "name": "stdout",
     "output_type": "stream",
     "text": [
      "Epoch [365/800] test accuracy: 0.9464 time: 4.27\n"
     ]
    },
    {
     "name": "stderr",
     "output_type": "stream",
     "text": [
      "Sample: 100%|█████████████████████████████████████████████████████████████████| 100/100 [00:01, 54.64it/s, lr=2.00e-06]\n"
     ]
    },
    {
     "name": "stdout",
     "output_type": "stream",
     "text": [
      "Epoch [366/800] test accuracy: 0.9463 time: 4.27\n"
     ]
    },
    {
     "name": "stderr",
     "output_type": "stream",
     "text": [
      "Sample: 100%|█████████████████████████████████████████████████████████████████| 100/100 [00:01, 54.94it/s, lr=2.00e-06]\n"
     ]
    },
    {
     "name": "stdout",
     "output_type": "stream",
     "text": [
      "Epoch [367/800] test accuracy: 0.9463 time: 4.28\n"
     ]
    },
    {
     "name": "stderr",
     "output_type": "stream",
     "text": [
      "Sample: 100%|█████████████████████████████████████████████████████████████████| 100/100 [00:01, 54.14it/s, lr=2.00e-06]\n"
     ]
    },
    {
     "name": "stdout",
     "output_type": "stream",
     "text": [
      "Epoch [368/800] test accuracy: 0.9464 time: 4.25\n"
     ]
    },
    {
     "name": "stderr",
     "output_type": "stream",
     "text": [
      "Sample: 100%|█████████████████████████████████████████████████████████████████| 100/100 [00:01, 53.59it/s, lr=2.00e-06]\n"
     ]
    },
    {
     "name": "stdout",
     "output_type": "stream",
     "text": [
      "Epoch [369/800] test accuracy: 0.9464 time: 4.29\n"
     ]
    },
    {
     "name": "stderr",
     "output_type": "stream",
     "text": [
      "Sample: 100%|█████████████████████████████████████████████████████████████████| 100/100 [00:01, 54.32it/s, lr=2.00e-06]\n"
     ]
    },
    {
     "name": "stdout",
     "output_type": "stream",
     "text": [
      "Epoch [370/800] test accuracy: 0.9462 time: 4.26\n"
     ]
    },
    {
     "name": "stderr",
     "output_type": "stream",
     "text": [
      "Sample: 100%|█████████████████████████████████████████████████████████████████| 100/100 [00:01, 53.99it/s, lr=2.00e-06]\n"
     ]
    },
    {
     "name": "stdout",
     "output_type": "stream",
     "text": [
      "Epoch [371/800] test accuracy: 0.9466 time: 4.54\n"
     ]
    },
    {
     "name": "stderr",
     "output_type": "stream",
     "text": [
      "Sample: 100%|█████████████████████████████████████████████████████████████████| 100/100 [00:02, 49.83it/s, lr=2.00e-06]\n"
     ]
    },
    {
     "name": "stdout",
     "output_type": "stream",
     "text": [
      "Epoch [372/800] test accuracy: 0.9466 time: 4.51\n"
     ]
    },
    {
     "name": "stderr",
     "output_type": "stream",
     "text": [
      "Sample: 100%|█████████████████████████████████████████████████████████████████| 100/100 [00:02, 49.34it/s, lr=2.00e-06]\n"
     ]
    },
    {
     "name": "stdout",
     "output_type": "stream",
     "text": [
      "Epoch [373/800] test accuracy: 0.9465 time: 4.56\n"
     ]
    },
    {
     "name": "stderr",
     "output_type": "stream",
     "text": [
      "Sample: 100%|█████████████████████████████████████████████████████████████████| 100/100 [00:01, 50.21it/s, lr=2.00e-06]\n"
     ]
    },
    {
     "name": "stdout",
     "output_type": "stream",
     "text": [
      "Epoch [374/800] test accuracy: 0.9465 time: 4.53\n"
     ]
    },
    {
     "name": "stderr",
     "output_type": "stream",
     "text": [
      "Sample: 100%|█████████████████████████████████████████████████████████████████| 100/100 [00:01, 51.24it/s, lr=2.00e-06]\n"
     ]
    },
    {
     "name": "stdout",
     "output_type": "stream",
     "text": [
      "Epoch [375/800] test accuracy: 0.9465 time: 4.41\n"
     ]
    },
    {
     "name": "stderr",
     "output_type": "stream",
     "text": [
      "Sample: 100%|█████████████████████████████████████████████████████████████████| 100/100 [00:01, 53.85it/s, lr=2.00e-06]\n"
     ]
    },
    {
     "name": "stdout",
     "output_type": "stream",
     "text": [
      "Epoch [376/800] test accuracy: 0.9466 time: 4.23\n"
     ]
    },
    {
     "name": "stderr",
     "output_type": "stream",
     "text": [
      "Sample: 100%|█████████████████████████████████████████████████████████████████| 100/100 [00:01, 53.97it/s, lr=2.00e-06]\n"
     ]
    },
    {
     "name": "stdout",
     "output_type": "stream",
     "text": [
      "Epoch [377/800] test accuracy: 0.9466 time: 4.23\n"
     ]
    },
    {
     "name": "stderr",
     "output_type": "stream",
     "text": [
      "Sample: 100%|█████████████████████████████████████████████████████████████████| 100/100 [00:01, 54.88it/s, lr=2.00e-06]\n"
     ]
    },
    {
     "name": "stdout",
     "output_type": "stream",
     "text": [
      "Epoch [378/800] test accuracy: 0.9466 time: 4.22\n"
     ]
    },
    {
     "name": "stderr",
     "output_type": "stream",
     "text": [
      "Sample: 100%|█████████████████████████████████████████████████████████████████| 100/100 [00:01, 54.58it/s, lr=2.00e-06]\n"
     ]
    },
    {
     "name": "stdout",
     "output_type": "stream",
     "text": [
      "Epoch [379/800] test accuracy: 0.9465 time: 4.29\n"
     ]
    },
    {
     "name": "stderr",
     "output_type": "stream",
     "text": [
      "Sample: 100%|█████████████████████████████████████████████████████████████████| 100/100 [00:01, 54.08it/s, lr=2.00e-06]\n"
     ]
    },
    {
     "name": "stdout",
     "output_type": "stream",
     "text": [
      "Epoch [380/800] test accuracy: 0.9465 time: 4.25\n"
     ]
    },
    {
     "name": "stderr",
     "output_type": "stream",
     "text": [
      "Sample: 100%|█████████████████████████████████████████████████████████████████| 100/100 [00:01, 54.61it/s, lr=2.00e-06]\n"
     ]
    },
    {
     "name": "stdout",
     "output_type": "stream",
     "text": [
      "Epoch [381/800] test accuracy: 0.9465 time: 4.30\n"
     ]
    },
    {
     "name": "stderr",
     "output_type": "stream",
     "text": [
      "Sample: 100%|█████████████████████████████████████████████████████████████████| 100/100 [00:01, 54.97it/s, lr=2.00e-06]\n"
     ]
    },
    {
     "name": "stdout",
     "output_type": "stream",
     "text": [
      "Epoch [382/800] test accuracy: 0.9465 time: 4.26\n"
     ]
    },
    {
     "name": "stderr",
     "output_type": "stream",
     "text": [
      "Sample: 100%|█████████████████████████████████████████████████████████████████| 100/100 [00:01, 54.46it/s, lr=2.00e-06]\n"
     ]
    },
    {
     "name": "stdout",
     "output_type": "stream",
     "text": [
      "Epoch [383/800] test accuracy: 0.9465 time: 4.26\n"
     ]
    },
    {
     "name": "stderr",
     "output_type": "stream",
     "text": [
      "Sample: 100%|█████████████████████████████████████████████████████████████████| 100/100 [00:01, 54.32it/s, lr=2.00e-06]\n"
     ]
    },
    {
     "name": "stdout",
     "output_type": "stream",
     "text": [
      "Epoch [384/800] test accuracy: 0.9466 time: 4.25\n"
     ]
    },
    {
     "name": "stderr",
     "output_type": "stream",
     "text": [
      "Sample: 100%|█████████████████████████████████████████████████████████████████| 100/100 [00:01, 54.35it/s, lr=2.00e-06]\n"
     ]
    },
    {
     "name": "stdout",
     "output_type": "stream",
     "text": [
      "Epoch [385/800] test accuracy: 0.9468 time: 4.29\n"
     ]
    },
    {
     "name": "stderr",
     "output_type": "stream",
     "text": [
      "Sample: 100%|█████████████████████████████████████████████████████████████████| 100/100 [00:01, 54.35it/s, lr=2.00e-06]\n"
     ]
    },
    {
     "name": "stdout",
     "output_type": "stream",
     "text": [
      "Epoch [386/800] test accuracy: 0.9468 time: 4.28\n"
     ]
    },
    {
     "name": "stderr",
     "output_type": "stream",
     "text": [
      "Sample: 100%|█████████████████████████████████████████████████████████████████| 100/100 [00:01, 54.35it/s, lr=2.00e-06]\n"
     ]
    },
    {
     "name": "stdout",
     "output_type": "stream",
     "text": [
      "Epoch [387/800] test accuracy: 0.9469 time: 4.27\n"
     ]
    },
    {
     "name": "stderr",
     "output_type": "stream",
     "text": [
      "Sample: 100%|█████████████████████████████████████████████████████████████████| 100/100 [00:01, 54.26it/s, lr=2.00e-06]\n"
     ]
    },
    {
     "name": "stdout",
     "output_type": "stream",
     "text": [
      "Epoch [388/800] test accuracy: 0.9469 time: 4.28\n"
     ]
    },
    {
     "name": "stderr",
     "output_type": "stream",
     "text": [
      "Sample: 100%|█████████████████████████████████████████████████████████████████| 100/100 [00:01, 54.76it/s, lr=2.00e-06]\n"
     ]
    },
    {
     "name": "stdout",
     "output_type": "stream",
     "text": [
      "Epoch [389/800] test accuracy: 0.9469 time: 4.27\n"
     ]
    },
    {
     "name": "stderr",
     "output_type": "stream",
     "text": [
      "Sample: 100%|█████████████████████████████████████████████████████████████████| 100/100 [00:01, 54.76it/s, lr=2.00e-06]\n"
     ]
    },
    {
     "name": "stdout",
     "output_type": "stream",
     "text": [
      "Epoch [390/800] test accuracy: 0.9469 time: 4.47\n"
     ]
    },
    {
     "name": "stderr",
     "output_type": "stream",
     "text": [
      "Sample: 100%|█████████████████████████████████████████████████████████████████| 100/100 [00:01, 50.92it/s, lr=2.00e-06]\n"
     ]
    },
    {
     "name": "stdout",
     "output_type": "stream",
     "text": [
      "Epoch [391/800] test accuracy: 0.9469 time: 4.61\n"
     ]
    },
    {
     "name": "stderr",
     "output_type": "stream",
     "text": [
      "Sample: 100%|█████████████████████████████████████████████████████████████████| 100/100 [00:01, 50.67it/s, lr=2.00e-06]\n"
     ]
    },
    {
     "name": "stdout",
     "output_type": "stream",
     "text": [
      "Epoch [392/800] test accuracy: 0.9469 time: 4.55\n"
     ]
    },
    {
     "name": "stderr",
     "output_type": "stream",
     "text": [
      "Sample: 100%|█████████████████████████████████████████████████████████████████| 100/100 [00:01, 50.31it/s, lr=2.00e-06]\n"
     ]
    },
    {
     "name": "stdout",
     "output_type": "stream",
     "text": [
      "Epoch [393/800] test accuracy: 0.9470 time: 4.53\n"
     ]
    },
    {
     "name": "stderr",
     "output_type": "stream",
     "text": [
      "Sample: 100%|█████████████████████████████████████████████████████████████████| 100/100 [00:01, 50.39it/s, lr=2.00e-06]\n"
     ]
    },
    {
     "name": "stdout",
     "output_type": "stream",
     "text": [
      "Epoch [394/800] test accuracy: 0.9470 time: 4.53\n"
     ]
    },
    {
     "name": "stderr",
     "output_type": "stream",
     "text": [
      "Sample: 100%|█████████████████████████████████████████████████████████████████| 100/100 [00:01, 53.05it/s, lr=2.00e-06]\n"
     ]
    },
    {
     "name": "stdout",
     "output_type": "stream",
     "text": [
      "Epoch [395/800] test accuracy: 0.9469 time: 4.33\n"
     ]
    },
    {
     "name": "stderr",
     "output_type": "stream",
     "text": [
      "Sample: 100%|█████████████████████████████████████████████████████████████████| 100/100 [00:01, 50.16it/s, lr=2.00e-06]\n"
     ]
    },
    {
     "name": "stdout",
     "output_type": "stream",
     "text": [
      "Epoch [396/800] test accuracy: 0.9471 time: 4.29\n"
     ]
    },
    {
     "name": "stderr",
     "output_type": "stream",
     "text": [
      "Sample: 100%|█████████████████████████████████████████████████████████████████| 100/100 [00:01, 54.46it/s, lr=2.00e-06]\n"
     ]
    },
    {
     "name": "stdout",
     "output_type": "stream",
     "text": [
      "Epoch [397/800] test accuracy: 0.9471 time: 4.30\n"
     ]
    },
    {
     "name": "stderr",
     "output_type": "stream",
     "text": [
      "Sample: 100%|█████████████████████████████████████████████████████████████████| 100/100 [00:01, 53.73it/s, lr=2.00e-06]\n"
     ]
    },
    {
     "name": "stdout",
     "output_type": "stream",
     "text": [
      "Epoch [398/800] test accuracy: 0.9471 time: 4.26\n"
     ]
    },
    {
     "name": "stderr",
     "output_type": "stream",
     "text": [
      "Sample: 100%|█████████████████████████████████████████████████████████████████| 100/100 [00:01, 53.88it/s, lr=2.00e-06]\n"
     ]
    },
    {
     "name": "stdout",
     "output_type": "stream",
     "text": [
      "Epoch [399/800] test accuracy: 0.9472 time: 4.26\n"
     ]
    },
    {
     "name": "stderr",
     "output_type": "stream",
     "text": [
      "Sample: 100%|█████████████████████████████████████████████████████████████████| 100/100 [00:01, 55.89it/s, lr=2.00e-06]\n"
     ]
    },
    {
     "name": "stdout",
     "output_type": "stream",
     "text": [
      "Epoch [400/800] test accuracy: 0.9473 time: 4.26\n"
     ]
    },
    {
     "name": "stderr",
     "output_type": "stream",
     "text": [
      "Sample: 100%|█████████████████████████████████████████████████████████████████| 100/100 [00:01, 54.02it/s, lr=2.00e-06]\n"
     ]
    },
    {
     "name": "stdout",
     "output_type": "stream",
     "text": [
      "Epoch [401/800] test accuracy: 0.9472 time: 4.29\n"
     ]
    },
    {
     "name": "stderr",
     "output_type": "stream",
     "text": [
      "Sample: 100%|█████████████████████████████████████████████████████████████████| 100/100 [00:01, 54.58it/s, lr=2.00e-06]\n"
     ]
    },
    {
     "name": "stdout",
     "output_type": "stream",
     "text": [
      "Epoch [402/800] test accuracy: 0.9473 time: 4.24\n"
     ]
    },
    {
     "name": "stderr",
     "output_type": "stream",
     "text": [
      "Sample: 100%|█████████████████████████████████████████████████████████████████| 100/100 [00:01, 55.64it/s, lr=2.00e-06]\n"
     ]
    },
    {
     "name": "stdout",
     "output_type": "stream",
     "text": [
      "Epoch [403/800] test accuracy: 0.9473 time: 4.25\n"
     ]
    },
    {
     "name": "stderr",
     "output_type": "stream",
     "text": [
      "Sample: 100%|█████████████████████████████████████████████████████████████████| 100/100 [00:01, 55.30it/s, lr=2.00e-06]\n"
     ]
    },
    {
     "name": "stdout",
     "output_type": "stream",
     "text": [
      "Epoch [404/800] test accuracy: 0.9474 time: 4.25\n"
     ]
    },
    {
     "name": "stderr",
     "output_type": "stream",
     "text": [
      "Sample: 100%|█████████████████████████████████████████████████████████████████| 100/100 [00:01, 54.02it/s, lr=2.00e-06]\n"
     ]
    },
    {
     "name": "stdout",
     "output_type": "stream",
     "text": [
      "Epoch [405/800] test accuracy: 0.9474 time: 4.27\n"
     ]
    },
    {
     "name": "stderr",
     "output_type": "stream",
     "text": [
      "Sample: 100%|█████████████████████████████████████████████████████████████████| 100/100 [00:01, 55.03it/s, lr=2.00e-06]\n"
     ]
    },
    {
     "name": "stdout",
     "output_type": "stream",
     "text": [
      "Epoch [406/800] test accuracy: 0.9475 time: 4.25\n"
     ]
    },
    {
     "name": "stderr",
     "output_type": "stream",
     "text": [
      "Sample: 100%|█████████████████████████████████████████████████████████████████| 100/100 [00:01, 53.82it/s, lr=2.00e-06]\n"
     ]
    },
    {
     "name": "stdout",
     "output_type": "stream",
     "text": [
      "Epoch [407/800] test accuracy: 0.9475 time: 4.29\n"
     ]
    },
    {
     "name": "stderr",
     "output_type": "stream",
     "text": [
      "Sample: 100%|█████████████████████████████████████████████████████████████████| 100/100 [00:01, 54.55it/s, lr=2.00e-06]\n"
     ]
    },
    {
     "name": "stdout",
     "output_type": "stream",
     "text": [
      "Epoch [408/800] test accuracy: 0.9476 time: 4.26\n"
     ]
    },
    {
     "name": "stderr",
     "output_type": "stream",
     "text": [
      "Sample: 100%|█████████████████████████████████████████████████████████████████| 100/100 [00:01, 55.06it/s, lr=2.00e-06]\n"
     ]
    },
    {
     "name": "stdout",
     "output_type": "stream",
     "text": [
      "Epoch [409/800] test accuracy: 0.9476 time: 4.34\n"
     ]
    },
    {
     "name": "stderr",
     "output_type": "stream",
     "text": [
      "Sample: 100%|█████████████████████████████████████████████████████████████████| 100/100 [00:02, 49.79it/s, lr=2.00e-06]\n"
     ]
    },
    {
     "name": "stdout",
     "output_type": "stream",
     "text": [
      "Epoch [410/800] test accuracy: 0.9475 time: 4.52\n"
     ]
    },
    {
     "name": "stderr",
     "output_type": "stream",
     "text": [
      "Sample: 100%|█████████████████████████████████████████████████████████████████| 100/100 [00:01, 50.77it/s, lr=2.00e-06]\n"
     ]
    },
    {
     "name": "stdout",
     "output_type": "stream",
     "text": [
      "Epoch [411/800] test accuracy: 0.9474 time: 4.54\n"
     ]
    },
    {
     "name": "stderr",
     "output_type": "stream",
     "text": [
      "Sample: 100%|█████████████████████████████████████████████████████████████████| 100/100 [00:02, 49.76it/s, lr=2.00e-06]\n"
     ]
    },
    {
     "name": "stdout",
     "output_type": "stream",
     "text": [
      "Epoch [412/800] test accuracy: 0.9474 time: 4.56\n"
     ]
    },
    {
     "name": "stderr",
     "output_type": "stream",
     "text": [
      "Sample: 100%|█████████████████████████████████████████████████████████████████| 100/100 [00:01, 51.13it/s, lr=2.00e-06]\n"
     ]
    },
    {
     "name": "stdout",
     "output_type": "stream",
     "text": [
      "Epoch [413/800] test accuracy: 0.9474 time: 4.52\n"
     ]
    },
    {
     "name": "stderr",
     "output_type": "stream",
     "text": [
      "Sample: 100%|█████████████████████████████████████████████████████████████████| 100/100 [00:01, 51.68it/s, lr=2.00e-06]\n"
     ]
    },
    {
     "name": "stdout",
     "output_type": "stream",
     "text": [
      "Epoch [414/800] test accuracy: 0.9474 time: 4.26\n"
     ]
    },
    {
     "name": "stderr",
     "output_type": "stream",
     "text": [
      "Sample: 100%|█████████████████████████████████████████████████████████████████| 100/100 [00:01, 53.85it/s, lr=2.00e-06]\n"
     ]
    },
    {
     "name": "stdout",
     "output_type": "stream",
     "text": [
      "Epoch [415/800] test accuracy: 0.9474 time: 4.30\n"
     ]
    },
    {
     "name": "stderr",
     "output_type": "stream",
     "text": [
      "Sample: 100%|█████████████████████████████████████████████████████████████████| 100/100 [00:01, 53.94it/s, lr=2.00e-06]\n"
     ]
    },
    {
     "name": "stdout",
     "output_type": "stream",
     "text": [
      "Epoch [416/800] test accuracy: 0.9474 time: 4.24\n"
     ]
    },
    {
     "name": "stderr",
     "output_type": "stream",
     "text": [
      "Sample: 100%|█████████████████████████████████████████████████████████████████| 100/100 [00:01, 53.62it/s, lr=2.00e-06]\n"
     ]
    },
    {
     "name": "stdout",
     "output_type": "stream",
     "text": [
      "Epoch [417/800] test accuracy: 0.9474 time: 4.27\n"
     ]
    },
    {
     "name": "stderr",
     "output_type": "stream",
     "text": [
      "Sample: 100%|█████████████████████████████████████████████████████████████████| 100/100 [00:01, 54.02it/s, lr=2.00e-06]\n"
     ]
    },
    {
     "name": "stdout",
     "output_type": "stream",
     "text": [
      "Epoch [418/800] test accuracy: 0.9475 time: 4.27\n"
     ]
    },
    {
     "name": "stderr",
     "output_type": "stream",
     "text": [
      "Sample: 100%|█████████████████████████████████████████████████████████████████| 100/100 [00:01, 54.73it/s, lr=2.00e-06]\n"
     ]
    },
    {
     "name": "stdout",
     "output_type": "stream",
     "text": [
      "Epoch [419/800] test accuracy: 0.9477 time: 4.25\n"
     ]
    },
    {
     "name": "stderr",
     "output_type": "stream",
     "text": [
      "Sample: 100%|█████████████████████████████████████████████████████████████████| 100/100 [00:01, 55.67it/s, lr=2.00e-06]\n"
     ]
    },
    {
     "name": "stdout",
     "output_type": "stream",
     "text": [
      "Epoch [420/800] test accuracy: 0.9476 time: 4.28\n"
     ]
    },
    {
     "name": "stderr",
     "output_type": "stream",
     "text": [
      "Sample: 100%|█████████████████████████████████████████████████████████████████| 100/100 [00:01, 54.67it/s, lr=2.00e-06]\n"
     ]
    },
    {
     "name": "stdout",
     "output_type": "stream",
     "text": [
      "Epoch [421/800] test accuracy: 0.9478 time: 4.24\n"
     ]
    },
    {
     "name": "stderr",
     "output_type": "stream",
     "text": [
      "Sample: 100%|█████████████████████████████████████████████████████████████████| 100/100 [00:01, 53.25it/s, lr=2.00e-06]\n"
     ]
    },
    {
     "name": "stdout",
     "output_type": "stream",
     "text": [
      "Epoch [422/800] test accuracy: 0.9478 time: 4.28\n"
     ]
    },
    {
     "name": "stderr",
     "output_type": "stream",
     "text": [
      "Sample: 100%|█████████████████████████████████████████████████████████████████| 100/100 [00:01, 54.94it/s, lr=2.00e-06]\n"
     ]
    },
    {
     "name": "stdout",
     "output_type": "stream",
     "text": [
      "Epoch [423/800] test accuracy: 0.9480 time: 4.22\n"
     ]
    },
    {
     "name": "stderr",
     "output_type": "stream",
     "text": [
      "Sample: 100%|█████████████████████████████████████████████████████████████████| 100/100 [00:01, 54.14it/s, lr=2.00e-06]\n"
     ]
    },
    {
     "name": "stdout",
     "output_type": "stream",
     "text": [
      "Epoch [424/800] test accuracy: 0.9481 time: 4.30\n"
     ]
    },
    {
     "name": "stderr",
     "output_type": "stream",
     "text": [
      "Sample: 100%|█████████████████████████████████████████████████████████████████| 100/100 [00:01, 55.03it/s, lr=2.00e-06]\n"
     ]
    },
    {
     "name": "stdout",
     "output_type": "stream",
     "text": [
      "Epoch [425/800] test accuracy: 0.9482 time: 4.26\n"
     ]
    },
    {
     "name": "stderr",
     "output_type": "stream",
     "text": [
      "Sample: 100%|█████████████████████████████████████████████████████████████████| 100/100 [00:01, 53.48it/s, lr=2.00e-06]\n"
     ]
    },
    {
     "name": "stdout",
     "output_type": "stream",
     "text": [
      "Epoch [426/800] test accuracy: 0.9482 time: 4.22\n"
     ]
    },
    {
     "name": "stderr",
     "output_type": "stream",
     "text": [
      "Sample: 100%|█████████████████████████████████████████████████████████████████| 100/100 [00:01, 54.79it/s, lr=2.00e-06]\n"
     ]
    },
    {
     "name": "stdout",
     "output_type": "stream",
     "text": [
      "Epoch [427/800] test accuracy: 0.9484 time: 4.25\n"
     ]
    },
    {
     "name": "stderr",
     "output_type": "stream",
     "text": [
      "Sample: 100%|█████████████████████████████████████████████████████████████████| 100/100 [00:01, 53.39it/s, lr=2.00e-06]\n"
     ]
    },
    {
     "name": "stdout",
     "output_type": "stream",
     "text": [
      "Epoch [428/800] test accuracy: 0.9485 time: 4.31\n"
     ]
    },
    {
     "name": "stderr",
     "output_type": "stream",
     "text": [
      "Sample: 100%|█████████████████████████████████████████████████████████████████| 100/100 [00:01, 51.58it/s, lr=2.00e-06]\n"
     ]
    },
    {
     "name": "stdout",
     "output_type": "stream",
     "text": [
      "Epoch [429/800] test accuracy: 0.9487 time: 4.53\n"
     ]
    },
    {
     "name": "stderr",
     "output_type": "stream",
     "text": [
      "Sample: 100%|█████████████████████████████████████████████████████████████████| 100/100 [00:01, 50.11it/s, lr=2.00e-06]\n"
     ]
    },
    {
     "name": "stdout",
     "output_type": "stream",
     "text": [
      "Epoch [430/800] test accuracy: 0.9487 time: 4.53\n"
     ]
    },
    {
     "name": "stderr",
     "output_type": "stream",
     "text": [
      "Sample: 100%|█████████████████████████████████████████████████████████████████| 100/100 [00:01, 50.21it/s, lr=2.00e-06]\n"
     ]
    },
    {
     "name": "stdout",
     "output_type": "stream",
     "text": [
      "Epoch [431/800] test accuracy: 0.9487 time: 4.53\n"
     ]
    },
    {
     "name": "stderr",
     "output_type": "stream",
     "text": [
      "Sample: 100%|█████████████████████████████████████████████████████████████████| 100/100 [00:01, 50.79it/s, lr=2.00e-06]\n"
     ]
    },
    {
     "name": "stdout",
     "output_type": "stream",
     "text": [
      "Epoch [432/800] test accuracy: 0.9487 time: 4.49\n"
     ]
    },
    {
     "name": "stderr",
     "output_type": "stream",
     "text": [
      "Sample: 100%|█████████████████████████████████████████████████████████████████| 100/100 [00:01, 51.37it/s, lr=2.00e-06]\n"
     ]
    },
    {
     "name": "stdout",
     "output_type": "stream",
     "text": [
      "Epoch [433/800] test accuracy: 0.9488 time: 4.33\n"
     ]
    },
    {
     "name": "stderr",
     "output_type": "stream",
     "text": [
      "Sample: 100%|█████████████████████████████████████████████████████████████████| 100/100 [00:01, 52.80it/s, lr=2.00e-06]\n"
     ]
    },
    {
     "name": "stdout",
     "output_type": "stream",
     "text": [
      "Epoch [434/800] test accuracy: 0.9488 time: 4.30\n"
     ]
    },
    {
     "name": "stderr",
     "output_type": "stream",
     "text": [
      "Sample: 100%|█████████████████████████████████████████████████████████████████| 100/100 [00:01, 53.65it/s, lr=2.00e-06]\n"
     ]
    },
    {
     "name": "stdout",
     "output_type": "stream",
     "text": [
      "Epoch [435/800] test accuracy: 0.9489 time: 4.25\n"
     ]
    },
    {
     "name": "stderr",
     "output_type": "stream",
     "text": [
      "Sample: 100%|█████████████████████████████████████████████████████████████████| 100/100 [00:01, 53.79it/s, lr=2.00e-06]\n"
     ]
    },
    {
     "name": "stdout",
     "output_type": "stream",
     "text": [
      "Epoch [436/800] test accuracy: 0.9490 time: 4.25\n"
     ]
    },
    {
     "name": "stderr",
     "output_type": "stream",
     "text": [
      "Sample: 100%|█████████████████████████████████████████████████████████████████| 100/100 [00:01, 54.11it/s, lr=2.00e-06]\n"
     ]
    },
    {
     "name": "stdout",
     "output_type": "stream",
     "text": [
      "Epoch [437/800] test accuracy: 0.9490 time: 4.27\n"
     ]
    },
    {
     "name": "stderr",
     "output_type": "stream",
     "text": [
      "Sample: 100%|█████████████████████████████████████████████████████████████████| 100/100 [00:01, 54.26it/s, lr=2.00e-06]\n"
     ]
    },
    {
     "name": "stdout",
     "output_type": "stream",
     "text": [
      "Epoch [438/800] test accuracy: 0.9491 time: 4.27\n"
     ]
    },
    {
     "name": "stderr",
     "output_type": "stream",
     "text": [
      "Sample: 100%|█████████████████████████████████████████████████████████████████| 100/100 [00:01, 54.64it/s, lr=2.00e-06]\n"
     ]
    },
    {
     "name": "stdout",
     "output_type": "stream",
     "text": [
      "Epoch [439/800] test accuracy: 0.9493 time: 4.26\n"
     ]
    },
    {
     "name": "stderr",
     "output_type": "stream",
     "text": [
      "Sample: 100%|█████████████████████████████████████████████████████████████████| 100/100 [00:01, 55.30it/s, lr=2.00e-06]\n"
     ]
    },
    {
     "name": "stdout",
     "output_type": "stream",
     "text": [
      "Epoch [440/800] test accuracy: 0.9493 time: 4.22\n"
     ]
    },
    {
     "name": "stderr",
     "output_type": "stream",
     "text": [
      "Sample: 100%|█████████████████████████████████████████████████████████████████| 100/100 [00:01, 55.98it/s, lr=2.00e-06]\n"
     ]
    },
    {
     "name": "stdout",
     "output_type": "stream",
     "text": [
      "Epoch [441/800] test accuracy: 0.9494 time: 4.25\n"
     ]
    },
    {
     "name": "stderr",
     "output_type": "stream",
     "text": [
      "Sample: 100%|█████████████████████████████████████████████████████████████████| 100/100 [00:01, 55.55it/s, lr=2.00e-06]\n"
     ]
    },
    {
     "name": "stdout",
     "output_type": "stream",
     "text": [
      "Epoch [442/800] test accuracy: 0.9495 time: 4.34\n"
     ]
    },
    {
     "name": "stderr",
     "output_type": "stream",
     "text": [
      "Sample: 100%|█████████████████████████████████████████████████████████████████| 100/100 [00:01, 55.03it/s, lr=2.00e-06]\n"
     ]
    },
    {
     "name": "stdout",
     "output_type": "stream",
     "text": [
      "Epoch [443/800] test accuracy: 0.9496 time: 4.30\n"
     ]
    },
    {
     "name": "stderr",
     "output_type": "stream",
     "text": [
      "Sample: 100%|█████████████████████████████████████████████████████████████████| 100/100 [00:01, 54.37it/s, lr=2.00e-06]\n"
     ]
    },
    {
     "name": "stdout",
     "output_type": "stream",
     "text": [
      "Epoch [444/800] test accuracy: 0.9496 time: 4.22\n"
     ]
    },
    {
     "name": "stderr",
     "output_type": "stream",
     "text": [
      "Sample: 100%|█████████████████████████████████████████████████████████████████| 100/100 [00:01, 53.99it/s, lr=2.00e-06]\n"
     ]
    },
    {
     "name": "stdout",
     "output_type": "stream",
     "text": [
      "Epoch [445/800] test accuracy: 0.9498 time: 4.26\n"
     ]
    },
    {
     "name": "stderr",
     "output_type": "stream",
     "text": [
      "Sample: 100%|█████████████████████████████████████████████████████████████████| 100/100 [00:02, 46.85it/s, lr=2.00e-06]\n"
     ]
    },
    {
     "name": "stdout",
     "output_type": "stream",
     "text": [
      "Epoch [446/800] test accuracy: 0.9499 time: 4.55\n"
     ]
    },
    {
     "name": "stderr",
     "output_type": "stream",
     "text": [
      "Sample: 100%|█████████████████████████████████████████████████████████████████| 100/100 [00:01, 50.03it/s, lr=2.00e-06]\n"
     ]
    },
    {
     "name": "stdout",
     "output_type": "stream",
     "text": [
      "Epoch [447/800] test accuracy: 0.9499 time: 4.49\n"
     ]
    },
    {
     "name": "stderr",
     "output_type": "stream",
     "text": [
      "Sample: 100%|█████████████████████████████████████████████████████████████████| 100/100 [00:02, 49.13it/s, lr=2.00e-06]\n"
     ]
    },
    {
     "name": "stdout",
     "output_type": "stream",
     "text": [
      "Epoch [448/800] test accuracy: 0.9497 time: 4.54\n"
     ]
    },
    {
     "name": "stderr",
     "output_type": "stream",
     "text": [
      "Sample: 100%|█████████████████████████████████████████████████████████████████| 100/100 [00:01, 50.67it/s, lr=2.00e-06]\n"
     ]
    },
    {
     "name": "stdout",
     "output_type": "stream",
     "text": [
      "Epoch [449/800] test accuracy: 0.9498 time: 4.53\n"
     ]
    },
    {
     "name": "stderr",
     "output_type": "stream",
     "text": [
      "Sample: 100%|█████████████████████████████████████████████████████████████████| 100/100 [00:01, 50.77it/s, lr=2.00e-06]\n"
     ]
    },
    {
     "name": "stdout",
     "output_type": "stream",
     "text": [
      "Epoch [450/800] test accuracy: 0.9497 time: 4.51\n"
     ]
    },
    {
     "name": "stderr",
     "output_type": "stream",
     "text": [
      "Sample: 100%|█████████████████████████████████████████████████████████████████| 100/100 [00:01, 50.74it/s, lr=2.00e-06]\n"
     ]
    },
    {
     "name": "stdout",
     "output_type": "stream",
     "text": [
      "Epoch [451/800] test accuracy: 0.9497 time: 4.55\n"
     ]
    },
    {
     "name": "stderr",
     "output_type": "stream",
     "text": [
      "Sample: 100%|█████████████████████████████████████████████████████████████████| 100/100 [00:02, 49.79it/s, lr=2.00e-06]\n"
     ]
    },
    {
     "name": "stdout",
     "output_type": "stream",
     "text": [
      "Epoch [452/800] test accuracy: 0.9497 time: 4.46\n"
     ]
    },
    {
     "name": "stderr",
     "output_type": "stream",
     "text": [
      "Sample: 100%|█████████████████████████████████████████████████████████████████| 100/100 [00:01, 53.50it/s, lr=2.00e-06]\n"
     ]
    },
    {
     "name": "stdout",
     "output_type": "stream",
     "text": [
      "Epoch [453/800] test accuracy: 0.9498 time: 4.26\n"
     ]
    },
    {
     "name": "stderr",
     "output_type": "stream",
     "text": [
      "Sample: 100%|█████████████████████████████████████████████████████████████████| 100/100 [00:01, 54.52it/s, lr=2.00e-06]\n"
     ]
    },
    {
     "name": "stdout",
     "output_type": "stream",
     "text": [
      "Epoch [454/800] test accuracy: 0.9501 time: 4.24\n"
     ]
    },
    {
     "name": "stderr",
     "output_type": "stream",
     "text": [
      "Sample: 100%|█████████████████████████████████████████████████████████████████| 100/100 [00:01, 53.91it/s, lr=2.00e-06]\n"
     ]
    },
    {
     "name": "stdout",
     "output_type": "stream",
     "text": [
      "Epoch [455/800] test accuracy: 0.9502 time: 4.28\n"
     ]
    },
    {
     "name": "stderr",
     "output_type": "stream",
     "text": [
      "Sample: 100%|█████████████████████████████████████████████████████████████████| 100/100 [00:01, 53.68it/s, lr=2.00e-06]\n"
     ]
    },
    {
     "name": "stdout",
     "output_type": "stream",
     "text": [
      "Epoch [456/800] test accuracy: 0.9503 time: 4.21\n"
     ]
    },
    {
     "name": "stderr",
     "output_type": "stream",
     "text": [
      "Sample: 100%|█████████████████████████████████████████████████████████████████| 100/100 [00:01, 53.88it/s, lr=2.00e-06]\n"
     ]
    },
    {
     "name": "stdout",
     "output_type": "stream",
     "text": [
      "Epoch [457/800] test accuracy: 0.9503 time: 4.25\n"
     ]
    },
    {
     "name": "stderr",
     "output_type": "stream",
     "text": [
      "Sample: 100%|█████████████████████████████████████████████████████████████████| 100/100 [00:01, 53.99it/s, lr=2.00e-06]\n"
     ]
    },
    {
     "name": "stdout",
     "output_type": "stream",
     "text": [
      "Epoch [458/800] test accuracy: 0.9503 time: 4.32\n"
     ]
    },
    {
     "name": "stderr",
     "output_type": "stream",
     "text": [
      "Sample: 100%|█████████████████████████████████████████████████████████████████| 100/100 [00:01, 54.20it/s, lr=2.00e-06]\n"
     ]
    },
    {
     "name": "stdout",
     "output_type": "stream",
     "text": [
      "Epoch [459/800] test accuracy: 0.9504 time: 4.23\n"
     ]
    },
    {
     "name": "stderr",
     "output_type": "stream",
     "text": [
      "Sample: 100%|█████████████████████████████████████████████████████████████████| 100/100 [00:01, 56.20it/s, lr=2.00e-06]\n"
     ]
    },
    {
     "name": "stdout",
     "output_type": "stream",
     "text": [
      "Epoch [460/800] test accuracy: 0.9504 time: 4.26\n"
     ]
    },
    {
     "name": "stderr",
     "output_type": "stream",
     "text": [
      "Sample: 100%|█████████████████████████████████████████████████████████████████| 100/100 [00:01, 54.67it/s, lr=2.00e-06]\n"
     ]
    },
    {
     "name": "stdout",
     "output_type": "stream",
     "text": [
      "Epoch [461/800] test accuracy: 0.9505 time: 4.26\n"
     ]
    },
    {
     "name": "stderr",
     "output_type": "stream",
     "text": [
      "Sample: 100%|█████████████████████████████████████████████████████████████████| 100/100 [00:01, 55.27it/s, lr=2.00e-06]\n"
     ]
    },
    {
     "name": "stdout",
     "output_type": "stream",
     "text": [
      "Epoch [462/800] test accuracy: 0.9505 time: 4.24\n"
     ]
    },
    {
     "name": "stderr",
     "output_type": "stream",
     "text": [
      "Sample: 100%|█████████████████████████████████████████████████████████████████| 100/100 [00:01, 54.08it/s, lr=2.00e-06]\n"
     ]
    },
    {
     "name": "stdout",
     "output_type": "stream",
     "text": [
      "Epoch [463/800] test accuracy: 0.9506 time: 4.26\n"
     ]
    },
    {
     "name": "stderr",
     "output_type": "stream",
     "text": [
      "Sample: 100%|█████████████████████████████████████████████████████████████████| 100/100 [00:01, 54.64it/s, lr=2.00e-06]\n"
     ]
    },
    {
     "name": "stdout",
     "output_type": "stream",
     "text": [
      "Epoch [464/800] test accuracy: 0.9506 time: 4.26\n"
     ]
    },
    {
     "name": "stderr",
     "output_type": "stream",
     "text": [
      "Sample: 100%|█████████████████████████████████████████████████████████████████| 100/100 [00:01, 53.99it/s, lr=2.00e-06]\n"
     ]
    },
    {
     "name": "stdout",
     "output_type": "stream",
     "text": [
      "Epoch [465/800] test accuracy: 0.9506 time: 4.26\n"
     ]
    },
    {
     "name": "stderr",
     "output_type": "stream",
     "text": [
      "Sample: 100%|█████████████████████████████████████████████████████████████████| 100/100 [00:01, 53.85it/s, lr=2.00e-06]\n"
     ]
    },
    {
     "name": "stdout",
     "output_type": "stream",
     "text": [
      "Epoch [466/800] test accuracy: 0.9507 time: 4.24\n"
     ]
    },
    {
     "name": "stderr",
     "output_type": "stream",
     "text": [
      "Sample: 100%|█████████████████████████████████████████████████████████████████| 100/100 [00:01, 54.73it/s, lr=2.00e-06]\n"
     ]
    },
    {
     "name": "stdout",
     "output_type": "stream",
     "text": [
      "Epoch [467/800] test accuracy: 0.9507 time: 4.50\n"
     ]
    },
    {
     "name": "stderr",
     "output_type": "stream",
     "text": [
      "Sample: 100%|█████████████████████████████████████████████████████████████████| 100/100 [00:01, 50.39it/s, lr=2.00e-06]\n"
     ]
    },
    {
     "name": "stdout",
     "output_type": "stream",
     "text": [
      "Epoch [468/800] test accuracy: 0.9508 time: 4.52\n"
     ]
    },
    {
     "name": "stderr",
     "output_type": "stream",
     "text": [
      "Sample: 100%|█████████████████████████████████████████████████████████████████| 100/100 [00:01, 50.95it/s, lr=2.00e-06]\n"
     ]
    },
    {
     "name": "stdout",
     "output_type": "stream",
     "text": [
      "Epoch [469/800] test accuracy: 0.9510 time: 4.54\n"
     ]
    },
    {
     "name": "stderr",
     "output_type": "stream",
     "text": [
      "Sample: 100%|█████████████████████████████████████████████████████████████████| 100/100 [00:02, 49.76it/s, lr=2.00e-06]\n"
     ]
    },
    {
     "name": "stdout",
     "output_type": "stream",
     "text": [
      "Epoch [470/800] test accuracy: 0.9510 time: 4.53\n"
     ]
    },
    {
     "name": "stderr",
     "output_type": "stream",
     "text": [
      "Sample: 100%|█████████████████████████████████████████████████████████████████| 100/100 [00:01, 50.21it/s, lr=2.00e-06]\n"
     ]
    },
    {
     "name": "stdout",
     "output_type": "stream",
     "text": [
      "Epoch [471/800] test accuracy: 0.9511 time: 4.50\n"
     ]
    },
    {
     "name": "stderr",
     "output_type": "stream",
     "text": [
      "Sample: 100%|█████████████████████████████████████████████████████████████████| 100/100 [00:01, 54.61it/s, lr=2.00e-06]\n"
     ]
    },
    {
     "name": "stdout",
     "output_type": "stream",
     "text": [
      "Epoch [472/800] test accuracy: 0.9511 time: 4.29\n"
     ]
    },
    {
     "name": "stderr",
     "output_type": "stream",
     "text": [
      "Sample: 100%|█████████████████████████████████████████████████████████████████| 100/100 [00:01, 53.73it/s, lr=2.00e-06]\n"
     ]
    },
    {
     "name": "stdout",
     "output_type": "stream",
     "text": [
      "Epoch [473/800] test accuracy: 0.9513 time: 4.24\n"
     ]
    },
    {
     "name": "stderr",
     "output_type": "stream",
     "text": [
      "Sample: 100%|█████████████████████████████████████████████████████████████████| 100/100 [00:01, 54.97it/s, lr=2.00e-06]\n"
     ]
    },
    {
     "name": "stdout",
     "output_type": "stream",
     "text": [
      "Epoch [474/800] test accuracy: 0.9516 time: 4.23\n"
     ]
    },
    {
     "name": "stderr",
     "output_type": "stream",
     "text": [
      "Sample: 100%|█████████████████████████████████████████████████████████████████| 100/100 [00:01, 54.67it/s, lr=2.00e-06]\n"
     ]
    },
    {
     "name": "stdout",
     "output_type": "stream",
     "text": [
      "Epoch [475/800] test accuracy: 0.9516 time: 4.26\n"
     ]
    },
    {
     "name": "stderr",
     "output_type": "stream",
     "text": [
      "Sample: 100%|█████████████████████████████████████████████████████████████████| 100/100 [00:01, 54.29it/s, lr=2.00e-06]\n"
     ]
    },
    {
     "name": "stdout",
     "output_type": "stream",
     "text": [
      "Epoch [476/800] test accuracy: 0.9518 time: 4.27\n"
     ]
    },
    {
     "name": "stderr",
     "output_type": "stream",
     "text": [
      "Sample: 100%|█████████████████████████████████████████████████████████████████| 100/100 [00:01, 53.82it/s, lr=2.00e-06]\n"
     ]
    },
    {
     "name": "stdout",
     "output_type": "stream",
     "text": [
      "Epoch [477/800] test accuracy: 0.9519 time: 4.26\n"
     ]
    },
    {
     "name": "stderr",
     "output_type": "stream",
     "text": [
      "Sample: 100%|█████████████████████████████████████████████████████████████████| 100/100 [00:01, 53.39it/s, lr=2.00e-06]\n"
     ]
    },
    {
     "name": "stdout",
     "output_type": "stream",
     "text": [
      "Epoch [478/800] test accuracy: 0.9520 time: 4.31\n"
     ]
    },
    {
     "name": "stderr",
     "output_type": "stream",
     "text": [
      "Sample: 100%|█████████████████████████████████████████████████████████████████| 100/100 [00:01, 53.97it/s, lr=2.00e-06]\n"
     ]
    },
    {
     "name": "stdout",
     "output_type": "stream",
     "text": [
      "Epoch [479/800] test accuracy: 0.9522 time: 4.22\n"
     ]
    },
    {
     "name": "stderr",
     "output_type": "stream",
     "text": [
      "Sample: 100%|█████████████████████████████████████████████████████████████████| 100/100 [00:01, 54.26it/s, lr=2.00e-06]\n"
     ]
    },
    {
     "name": "stdout",
     "output_type": "stream",
     "text": [
      "Epoch [480/800] test accuracy: 0.9523 time: 4.30\n"
     ]
    },
    {
     "name": "stderr",
     "output_type": "stream",
     "text": [
      "Sample: 100%|█████████████████████████████████████████████████████████████████| 100/100 [00:01, 55.00it/s, lr=2.00e-06]\n"
     ]
    },
    {
     "name": "stdout",
     "output_type": "stream",
     "text": [
      "Epoch [481/800] test accuracy: 0.9523 time: 4.22\n"
     ]
    },
    {
     "name": "stderr",
     "output_type": "stream",
     "text": [
      "Sample: 100%|█████████████████████████████████████████████████████████████████| 100/100 [00:01, 54.46it/s, lr=2.00e-06]\n"
     ]
    },
    {
     "name": "stdout",
     "output_type": "stream",
     "text": [
      "Epoch [482/800] test accuracy: 0.9525 time: 4.22\n"
     ]
    },
    {
     "name": "stderr",
     "output_type": "stream",
     "text": [
      "Sample: 100%|█████████████████████████████████████████████████████████████████| 100/100 [00:01, 54.52it/s, lr=2.00e-06]\n"
     ]
    },
    {
     "name": "stdout",
     "output_type": "stream",
     "text": [
      "Epoch [483/800] test accuracy: 0.9527 time: 4.29\n"
     ]
    },
    {
     "name": "stderr",
     "output_type": "stream",
     "text": [
      "Sample: 100%|█████████████████████████████████████████████████████████████████| 100/100 [00:01, 53.79it/s, lr=2.00e-06]\n"
     ]
    },
    {
     "name": "stdout",
     "output_type": "stream",
     "text": [
      "Epoch [484/800] test accuracy: 0.9529 time: 4.21\n"
     ]
    },
    {
     "name": "stderr",
     "output_type": "stream",
     "text": [
      "Sample: 100%|█████████████████████████████████████████████████████████████████| 100/100 [00:01, 55.21it/s, lr=2.00e-06]\n"
     ]
    },
    {
     "name": "stdout",
     "output_type": "stream",
     "text": [
      "Epoch [485/800] test accuracy: 0.9530 time: 4.27\n"
     ]
    },
    {
     "name": "stderr",
     "output_type": "stream",
     "text": [
      "Sample: 100%|█████████████████████████████████████████████████████████████████| 100/100 [00:01, 54.58it/s, lr=2.00e-06]\n"
     ]
    },
    {
     "name": "stdout",
     "output_type": "stream",
     "text": [
      "Epoch [486/800] test accuracy: 0.9529 time: 4.34\n"
     ]
    },
    {
     "name": "stderr",
     "output_type": "stream",
     "text": [
      "Sample: 100%|█████████████████████████████████████████████████████████████████| 100/100 [00:01, 50.36it/s, lr=2.00e-06]\n"
     ]
    },
    {
     "name": "stdout",
     "output_type": "stream",
     "text": [
      "Epoch [487/800] test accuracy: 0.9529 time: 4.54\n"
     ]
    },
    {
     "name": "stderr",
     "output_type": "stream",
     "text": [
      "Sample: 100%|█████████████████████████████████████████████████████████████████| 100/100 [00:02, 49.47it/s, lr=2.00e-06]\n"
     ]
    },
    {
     "name": "stdout",
     "output_type": "stream",
     "text": [
      "Epoch [488/800] test accuracy: 0.9529 time: 4.61\n"
     ]
    },
    {
     "name": "stderr",
     "output_type": "stream",
     "text": [
      "Sample: 100%|█████████████████████████████████████████████████████████████████| 100/100 [00:01, 50.69it/s, lr=2.00e-06]\n"
     ]
    },
    {
     "name": "stdout",
     "output_type": "stream",
     "text": [
      "Epoch [489/800] test accuracy: 0.9529 time: 4.55\n"
     ]
    },
    {
     "name": "stderr",
     "output_type": "stream",
     "text": [
      "Sample: 100%|█████████████████████████████████████████████████████████████████| 100/100 [00:01, 50.61it/s, lr=2.00e-06]\n"
     ]
    },
    {
     "name": "stdout",
     "output_type": "stream",
     "text": [
      "Epoch [490/800] test accuracy: 0.9531 time: 4.51\n"
     ]
    },
    {
     "name": "stderr",
     "output_type": "stream",
     "text": [
      "Sample: 100%|█████████████████████████████████████████████████████████████████| 100/100 [00:01, 52.17it/s, lr=2.00e-06]\n"
     ]
    },
    {
     "name": "stdout",
     "output_type": "stream",
     "text": [
      "Epoch [491/800] test accuracy: 0.9531 time: 4.22\n"
     ]
    },
    {
     "name": "stderr",
     "output_type": "stream",
     "text": [
      "Sample: 100%|█████████████████████████████████████████████████████████████████| 100/100 [00:01, 54.70it/s, lr=2.00e-06]\n"
     ]
    },
    {
     "name": "stdout",
     "output_type": "stream",
     "text": [
      "Epoch [492/800] test accuracy: 0.9530 time: 4.27\n"
     ]
    },
    {
     "name": "stderr",
     "output_type": "stream",
     "text": [
      "Sample: 100%|█████████████████████████████████████████████████████████████████| 100/100 [00:01, 54.23it/s, lr=2.00e-06]\n"
     ]
    },
    {
     "name": "stdout",
     "output_type": "stream",
     "text": [
      "Epoch [493/800] test accuracy: 0.9532 time: 4.29\n"
     ]
    },
    {
     "name": "stderr",
     "output_type": "stream",
     "text": [
      "Sample: 100%|█████████████████████████████████████████████████████████████████| 100/100 [00:01, 55.15it/s, lr=2.00e-06]\n"
     ]
    },
    {
     "name": "stdout",
     "output_type": "stream",
     "text": [
      "Epoch [494/800] test accuracy: 0.9532 time: 4.37\n"
     ]
    },
    {
     "name": "stderr",
     "output_type": "stream",
     "text": [
      "Sample: 100%|█████████████████████████████████████████████████████████████████| 100/100 [00:01, 53.48it/s, lr=2.00e-06]\n"
     ]
    },
    {
     "name": "stdout",
     "output_type": "stream",
     "text": [
      "Epoch [495/800] test accuracy: 0.9531 time: 4.28\n"
     ]
    },
    {
     "name": "stderr",
     "output_type": "stream",
     "text": [
      "Sample: 100%|█████████████████████████████████████████████████████████████████| 100/100 [00:01, 54.94it/s, lr=2.00e-06]\n"
     ]
    },
    {
     "name": "stdout",
     "output_type": "stream",
     "text": [
      "Epoch [496/800] test accuracy: 0.9531 time: 4.24\n"
     ]
    },
    {
     "name": "stderr",
     "output_type": "stream",
     "text": [
      "Sample: 100%|█████████████████████████████████████████████████████████████████| 100/100 [00:01, 54.41it/s, lr=2.00e-06]\n"
     ]
    },
    {
     "name": "stdout",
     "output_type": "stream",
     "text": [
      "Epoch [497/800] test accuracy: 0.9532 time: 4.25\n"
     ]
    },
    {
     "name": "stderr",
     "output_type": "stream",
     "text": [
      "Sample: 100%|█████████████████████████████████████████████████████████████████| 100/100 [00:01, 53.94it/s, lr=2.00e-06]\n"
     ]
    },
    {
     "name": "stdout",
     "output_type": "stream",
     "text": [
      "Epoch [498/800] test accuracy: 0.9532 time: 4.27\n"
     ]
    },
    {
     "name": "stderr",
     "output_type": "stream",
     "text": [
      "Sample: 100%|█████████████████████████████████████████████████████████████████| 100/100 [00:01, 54.46it/s, lr=2.00e-06]\n"
     ]
    },
    {
     "name": "stdout",
     "output_type": "stream",
     "text": [
      "Epoch [499/800] test accuracy: 0.9532 time: 4.23\n"
     ]
    },
    {
     "name": "stderr",
     "output_type": "stream",
     "text": [
      "Sample: 100%|█████████████████████████████████████████████████████████████████| 100/100 [00:01, 54.88it/s, lr=2.00e-06]\n"
     ]
    },
    {
     "name": "stdout",
     "output_type": "stream",
     "text": [
      "Epoch [500/800] test accuracy: 0.9531 time: 4.24\n"
     ]
    },
    {
     "name": "stderr",
     "output_type": "stream",
     "text": [
      "Sample: 100%|█████████████████████████████████████████████████████████████████| 100/100 [00:01, 54.61it/s, lr=2.00e-06]\n"
     ]
    },
    {
     "name": "stdout",
     "output_type": "stream",
     "text": [
      "Epoch [501/800] test accuracy: 0.9532 time: 4.27\n"
     ]
    },
    {
     "name": "stderr",
     "output_type": "stream",
     "text": [
      "Sample: 100%|█████████████████████████████████████████████████████████████████| 100/100 [00:01, 54.85it/s, lr=2.00e-06]\n"
     ]
    },
    {
     "name": "stdout",
     "output_type": "stream",
     "text": [
      "Epoch [502/800] test accuracy: 0.9532 time: 4.24\n"
     ]
    },
    {
     "name": "stderr",
     "output_type": "stream",
     "text": [
      "Sample: 100%|█████████████████████████████████████████████████████████████████| 100/100 [00:01, 53.94it/s, lr=2.00e-06]\n"
     ]
    },
    {
     "name": "stdout",
     "output_type": "stream",
     "text": [
      "Epoch [503/800] test accuracy: 0.9532 time: 4.26\n"
     ]
    },
    {
     "name": "stderr",
     "output_type": "stream",
     "text": [
      "Sample: 100%|█████████████████████████████████████████████████████████████████| 100/100 [00:01, 54.17it/s, lr=2.00e-06]\n"
     ]
    },
    {
     "name": "stdout",
     "output_type": "stream",
     "text": [
      "Epoch [504/800] test accuracy: 0.9532 time: 4.29\n"
     ]
    },
    {
     "name": "stderr",
     "output_type": "stream",
     "text": [
      "Sample: 100%|█████████████████████████████████████████████████████████████████| 100/100 [00:01, 54.20it/s, lr=2.00e-06]\n"
     ]
    },
    {
     "name": "stdout",
     "output_type": "stream",
     "text": [
      "Epoch [505/800] test accuracy: 0.9532 time: 4.25\n"
     ]
    },
    {
     "name": "stderr",
     "output_type": "stream",
     "text": [
      "Sample: 100%|█████████████████████████████████████████████████████████████████| 100/100 [00:01, 51.68it/s, lr=2.00e-06]\n"
     ]
    },
    {
     "name": "stdout",
     "output_type": "stream",
     "text": [
      "Epoch [506/800] test accuracy: 0.9532 time: 4.56\n"
     ]
    },
    {
     "name": "stderr",
     "output_type": "stream",
     "text": [
      "Sample: 100%|█████████████████████████████████████████████████████████████████| 100/100 [00:02, 49.86it/s, lr=2.00e-06]\n"
     ]
    },
    {
     "name": "stdout",
     "output_type": "stream",
     "text": [
      "Epoch [507/800] test accuracy: 0.9532 time: 4.54\n"
     ]
    },
    {
     "name": "stderr",
     "output_type": "stream",
     "text": [
      "Sample: 100%|█████████████████████████████████████████████████████████████████| 100/100 [00:02, 49.10it/s, lr=2.00e-06]\n"
     ]
    },
    {
     "name": "stdout",
     "output_type": "stream",
     "text": [
      "Epoch [508/800] test accuracy: 0.9533 time: 4.57\n"
     ]
    },
    {
     "name": "stderr",
     "output_type": "stream",
     "text": [
      "Sample: 100%|█████████████████████████████████████████████████████████████████| 100/100 [00:01, 50.56it/s, lr=2.00e-06]\n"
     ]
    },
    {
     "name": "stdout",
     "output_type": "stream",
     "text": [
      "Epoch [509/800] test accuracy: 0.9534 time: 4.62\n"
     ]
    },
    {
     "name": "stderr",
     "output_type": "stream",
     "text": [
      "Sample: 100%|█████████████████████████████████████████████████████████████████| 100/100 [00:02, 49.30it/s, lr=2.00e-06]\n"
     ]
    },
    {
     "name": "stdout",
     "output_type": "stream",
     "text": [
      "Epoch [510/800] test accuracy: 0.9534 time: 4.29\n"
     ]
    },
    {
     "name": "stderr",
     "output_type": "stream",
     "text": [
      "Sample: 100%|█████████████████████████████████████████████████████████████████| 100/100 [00:01, 53.14it/s, lr=2.00e-06]\n"
     ]
    },
    {
     "name": "stdout",
     "output_type": "stream",
     "text": [
      "Epoch [511/800] test accuracy: 0.9535 time: 4.26\n"
     ]
    },
    {
     "name": "stderr",
     "output_type": "stream",
     "text": [
      "Sample: 100%|█████████████████████████████████████████████████████████████████| 100/100 [00:01, 53.19it/s, lr=2.00e-06]\n"
     ]
    },
    {
     "name": "stdout",
     "output_type": "stream",
     "text": [
      "Epoch [512/800] test accuracy: 0.9535 time: 4.26\n"
     ]
    },
    {
     "name": "stderr",
     "output_type": "stream",
     "text": [
      "Sample: 100%|█████████████████████████████████████████████████████████████████| 100/100 [00:01, 53.97it/s, lr=2.00e-06]\n"
     ]
    },
    {
     "name": "stdout",
     "output_type": "stream",
     "text": [
      "Epoch [513/800] test accuracy: 0.9535 time: 4.26\n"
     ]
    },
    {
     "name": "stderr",
     "output_type": "stream",
     "text": [
      "Sample: 100%|█████████████████████████████████████████████████████████████████| 100/100 [00:01, 53.85it/s, lr=2.00e-06]\n"
     ]
    },
    {
     "name": "stdout",
     "output_type": "stream",
     "text": [
      "Epoch [514/800] test accuracy: 0.9535 time: 4.30\n"
     ]
    },
    {
     "name": "stderr",
     "output_type": "stream",
     "text": [
      "Sample: 100%|█████████████████████████████████████████████████████████████████| 100/100 [00:01, 53.99it/s, lr=2.00e-06]\n"
     ]
    },
    {
     "name": "stdout",
     "output_type": "stream",
     "text": [
      "Epoch [515/800] test accuracy: 0.9536 time: 4.29\n"
     ]
    },
    {
     "name": "stderr",
     "output_type": "stream",
     "text": [
      "Sample: 100%|█████████████████████████████████████████████████████████████████| 100/100 [00:01, 53.85it/s, lr=2.00e-06]\n"
     ]
    },
    {
     "name": "stdout",
     "output_type": "stream",
     "text": [
      "Epoch [516/800] test accuracy: 0.9537 time: 4.28\n"
     ]
    },
    {
     "name": "stderr",
     "output_type": "stream",
     "text": [
      "Sample: 100%|█████████████████████████████████████████████████████████████████| 100/100 [00:01, 54.17it/s, lr=2.00e-06]\n"
     ]
    },
    {
     "name": "stdout",
     "output_type": "stream",
     "text": [
      "Epoch [517/800] test accuracy: 0.9537 time: 4.30\n"
     ]
    },
    {
     "name": "stderr",
     "output_type": "stream",
     "text": [
      "Sample: 100%|█████████████████████████████████████████████████████████████████| 100/100 [00:01, 53.76it/s, lr=2.00e-06]\n"
     ]
    },
    {
     "name": "stdout",
     "output_type": "stream",
     "text": [
      "Epoch [518/800] test accuracy: 0.9538 time: 4.30\n"
     ]
    },
    {
     "name": "stderr",
     "output_type": "stream",
     "text": [
      "Sample: 100%|█████████████████████████████████████████████████████████████████| 100/100 [00:01, 54.35it/s, lr=2.00e-06]\n"
     ]
    },
    {
     "name": "stdout",
     "output_type": "stream",
     "text": [
      "Epoch [519/800] test accuracy: 0.9537 time: 4.32\n"
     ]
    },
    {
     "name": "stderr",
     "output_type": "stream",
     "text": [
      "Sample: 100%|█████████████████████████████████████████████████████████████████| 100/100 [00:01, 53.56it/s, lr=2.00e-06]\n"
     ]
    },
    {
     "name": "stdout",
     "output_type": "stream",
     "text": [
      "Epoch [520/800] test accuracy: 0.9537 time: 4.28\n"
     ]
    },
    {
     "name": "stderr",
     "output_type": "stream",
     "text": [
      "Sample: 100%|█████████████████████████████████████████████████████████████████| 100/100 [00:01, 52.88it/s, lr=2.00e-06]\n"
     ]
    },
    {
     "name": "stdout",
     "output_type": "stream",
     "text": [
      "Epoch [521/800] test accuracy: 0.9537 time: 4.29\n"
     ]
    },
    {
     "name": "stderr",
     "output_type": "stream",
     "text": [
      "Sample: 100%|█████████████████████████████████████████████████████████████████| 100/100 [00:01, 53.91it/s, lr=2.00e-06]\n"
     ]
    },
    {
     "name": "stdout",
     "output_type": "stream",
     "text": [
      "Epoch [522/800] test accuracy: 0.9539 time: 4.32\n"
     ]
    },
    {
     "name": "stderr",
     "output_type": "stream",
     "text": [
      "Sample: 100%|█████████████████████████████████████████████████████████████████| 100/100 [00:01, 53.99it/s, lr=2.00e-06]\n"
     ]
    },
    {
     "name": "stdout",
     "output_type": "stream",
     "text": [
      "Epoch [523/800] test accuracy: 0.9541 time: 4.30\n"
     ]
    },
    {
     "name": "stderr",
     "output_type": "stream",
     "text": [
      "Sample: 100%|█████████████████████████████████████████████████████████████████| 100/100 [00:01, 54.14it/s, lr=2.00e-06]\n"
     ]
    },
    {
     "name": "stdout",
     "output_type": "stream",
     "text": [
      "Epoch [524/800] test accuracy: 0.9543 time: 4.27\n"
     ]
    },
    {
     "name": "stderr",
     "output_type": "stream",
     "text": [
      "Sample: 100%|█████████████████████████████████████████████████████████████████| 100/100 [00:01, 52.17it/s, lr=2.00e-06]\n"
     ]
    },
    {
     "name": "stdout",
     "output_type": "stream",
     "text": [
      "Epoch [525/800] test accuracy: 0.9544 time: 4.61\n"
     ]
    },
    {
     "name": "stderr",
     "output_type": "stream",
     "text": [
      "Sample: 100%|█████████████████████████████████████████████████████████████████| 100/100 [00:02, 49.56it/s, lr=2.00e-06]\n"
     ]
    },
    {
     "name": "stdout",
     "output_type": "stream",
     "text": [
      "Epoch [526/800] test accuracy: 0.9544 time: 4.56\n"
     ]
    },
    {
     "name": "stderr",
     "output_type": "stream",
     "text": [
      "Sample: 100%|█████████████████████████████████████████████████████████████████| 100/100 [00:01, 50.26it/s, lr=2.00e-06]\n"
     ]
    },
    {
     "name": "stdout",
     "output_type": "stream",
     "text": [
      "Epoch [527/800] test accuracy: 0.9544 time: 4.53\n"
     ]
    },
    {
     "name": "stderr",
     "output_type": "stream",
     "text": [
      "Sample: 100%|█████████████████████████████████████████████████████████████████| 100/100 [00:02, 49.83it/s, lr=2.00e-06]\n"
     ]
    },
    {
     "name": "stdout",
     "output_type": "stream",
     "text": [
      "Epoch [528/800] test accuracy: 0.9544 time: 4.52\n"
     ]
    },
    {
     "name": "stderr",
     "output_type": "stream",
     "text": [
      "Sample: 100%|█████████████████████████████████████████████████████████████████| 100/100 [00:02, 49.71it/s, lr=2.00e-06]\n"
     ]
    },
    {
     "name": "stdout",
     "output_type": "stream",
     "text": [
      "Epoch [529/800] test accuracy: 0.9544 time: 4.41\n"
     ]
    },
    {
     "name": "stderr",
     "output_type": "stream",
     "text": [
      "Sample: 100%|█████████████████████████████████████████████████████████████████| 100/100 [00:01, 53.97it/s, lr=2.00e-06]\n"
     ]
    },
    {
     "name": "stdout",
     "output_type": "stream",
     "text": [
      "Epoch [530/800] test accuracy: 0.9546 time: 4.27\n"
     ]
    },
    {
     "name": "stderr",
     "output_type": "stream",
     "text": [
      "Sample: 100%|█████████████████████████████████████████████████████████████████| 100/100 [00:01, 55.58it/s, lr=2.00e-06]\n"
     ]
    },
    {
     "name": "stdout",
     "output_type": "stream",
     "text": [
      "Epoch [531/800] test accuracy: 0.9546 time: 4.24\n"
     ]
    },
    {
     "name": "stderr",
     "output_type": "stream",
     "text": [
      "Sample: 100%|█████████████████████████████████████████████████████████████████| 100/100 [00:01, 53.97it/s, lr=2.00e-06]\n"
     ]
    },
    {
     "name": "stdout",
     "output_type": "stream",
     "text": [
      "Epoch [532/800] test accuracy: 0.9547 time: 4.28\n"
     ]
    },
    {
     "name": "stderr",
     "output_type": "stream",
     "text": [
      "Sample: 100%|█████████████████████████████████████████████████████████████████| 100/100 [00:01, 53.85it/s, lr=2.00e-06]\n"
     ]
    },
    {
     "name": "stdout",
     "output_type": "stream",
     "text": [
      "Epoch [533/800] test accuracy: 0.9546 time: 4.25\n"
     ]
    },
    {
     "name": "stderr",
     "output_type": "stream",
     "text": [
      "Sample: 100%|█████████████████████████████████████████████████████████████████| 100/100 [00:01, 55.74it/s, lr=2.00e-06]\n"
     ]
    },
    {
     "name": "stdout",
     "output_type": "stream",
     "text": [
      "Epoch [534/800] test accuracy: 0.9548 time: 4.27\n"
     ]
    },
    {
     "name": "stderr",
     "output_type": "stream",
     "text": [
      "Sample: 100%|█████████████████████████████████████████████████████████████████| 100/100 [00:01, 54.43it/s, lr=2.00e-06]\n"
     ]
    },
    {
     "name": "stdout",
     "output_type": "stream",
     "text": [
      "Epoch [535/800] test accuracy: 0.9548 time: 4.25\n"
     ]
    },
    {
     "name": "stderr",
     "output_type": "stream",
     "text": [
      "Sample: 100%|█████████████████████████████████████████████████████████████████| 100/100 [00:01, 53.50it/s, lr=2.00e-06]\n"
     ]
    },
    {
     "name": "stdout",
     "output_type": "stream",
     "text": [
      "Epoch [536/800] test accuracy: 0.9548 time: 4.31\n"
     ]
    },
    {
     "name": "stderr",
     "output_type": "stream",
     "text": [
      "Sample: 100%|█████████████████████████████████████████████████████████████████| 100/100 [00:01, 55.34it/s, lr=2.00e-06]\n"
     ]
    },
    {
     "name": "stdout",
     "output_type": "stream",
     "text": [
      "Epoch [537/800] test accuracy: 0.9548 time: 4.29\n"
     ]
    },
    {
     "name": "stderr",
     "output_type": "stream",
     "text": [
      "Sample: 100%|█████████████████████████████████████████████████████████████████| 100/100 [00:01, 53.59it/s, lr=2.00e-06]\n"
     ]
    },
    {
     "name": "stdout",
     "output_type": "stream",
     "text": [
      "Epoch [538/800] test accuracy: 0.9550 time: 4.27\n"
     ]
    },
    {
     "name": "stderr",
     "output_type": "stream",
     "text": [
      "Sample: 100%|█████████████████████████████████████████████████████████████████| 100/100 [00:01, 53.56it/s, lr=2.00e-06]\n"
     ]
    },
    {
     "name": "stdout",
     "output_type": "stream",
     "text": [
      "Epoch [539/800] test accuracy: 0.9550 time: 4.33\n"
     ]
    },
    {
     "name": "stderr",
     "output_type": "stream",
     "text": [
      "Sample: 100%|█████████████████████████████████████████████████████████████████| 100/100 [00:01, 54.97it/s, lr=2.00e-06]\n"
     ]
    },
    {
     "name": "stdout",
     "output_type": "stream",
     "text": [
      "Epoch [540/800] test accuracy: 0.9551 time: 4.39\n"
     ]
    },
    {
     "name": "stderr",
     "output_type": "stream",
     "text": [
      "Sample: 100%|█████████████████████████████████████████████████████████████████| 100/100 [00:01, 52.66it/s, lr=2.00e-06]\n"
     ]
    },
    {
     "name": "stdout",
     "output_type": "stream",
     "text": [
      "Epoch [541/800] test accuracy: 0.9552 time: 4.26\n"
     ]
    },
    {
     "name": "stderr",
     "output_type": "stream",
     "text": [
      "Sample: 100%|█████████████████████████████████████████████████████████████████| 100/100 [00:01, 54.20it/s, lr=2.00e-06]\n"
     ]
    },
    {
     "name": "stdout",
     "output_type": "stream",
     "text": [
      "Epoch [542/800] test accuracy: 0.9552 time: 4.33\n"
     ]
    },
    {
     "name": "stderr",
     "output_type": "stream",
     "text": [
      "Sample: 100%|█████████████████████████████████████████████████████████████████| 100/100 [00:01, 54.85it/s, lr=2.00e-06]\n"
     ]
    },
    {
     "name": "stdout",
     "output_type": "stream",
     "text": [
      "Epoch [543/800] test accuracy: 0.9553 time: 4.33\n"
     ]
    },
    {
     "name": "stderr",
     "output_type": "stream",
     "text": [
      "Sample: 100%|█████████████████████████████████████████████████████████████████| 100/100 [00:01, 52.88it/s, lr=2.00e-06]\n"
     ]
    },
    {
     "name": "stdout",
     "output_type": "stream",
     "text": [
      "Epoch [544/800] test accuracy: 0.9553 time: 4.57\n"
     ]
    },
    {
     "name": "stderr",
     "output_type": "stream",
     "text": [
      "Sample: 100%|█████████████████████████████████████████████████████████████████| 100/100 [00:01, 50.56it/s, lr=2.00e-06]\n"
     ]
    },
    {
     "name": "stdout",
     "output_type": "stream",
     "text": [
      "Epoch [545/800] test accuracy: 0.9553 time: 4.55\n"
     ]
    },
    {
     "name": "stderr",
     "output_type": "stream",
     "text": [
      "Sample: 100%|█████████████████████████████████████████████████████████████████| 100/100 [00:02, 49.56it/s, lr=2.00e-06]\n"
     ]
    },
    {
     "name": "stdout",
     "output_type": "stream",
     "text": [
      "Epoch [546/800] test accuracy: 0.9554 time: 4.53\n"
     ]
    },
    {
     "name": "stderr",
     "output_type": "stream",
     "text": [
      "Sample: 100%|█████████████████████████████████████████████████████████████████| 100/100 [00:02, 49.47it/s, lr=2.00e-06]\n"
     ]
    },
    {
     "name": "stdout",
     "output_type": "stream",
     "text": [
      "Epoch [547/800] test accuracy: 0.9554 time: 4.60\n"
     ]
    },
    {
     "name": "stderr",
     "output_type": "stream",
     "text": [
      "Sample: 100%|█████████████████████████████████████████████████████████████████| 100/100 [00:01, 50.21it/s, lr=2.00e-06]\n"
     ]
    },
    {
     "name": "stdout",
     "output_type": "stream",
     "text": [
      "Epoch [548/800] test accuracy: 0.9554 time: 4.45\n"
     ]
    },
    {
     "name": "stderr",
     "output_type": "stream",
     "text": [
      "Sample: 100%|█████████████████████████████████████████████████████████████████| 100/100 [00:01, 53.31it/s, lr=2.00e-06]\n"
     ]
    },
    {
     "name": "stdout",
     "output_type": "stream",
     "text": [
      "Epoch [549/800] test accuracy: 0.9555 time: 4.33\n"
     ]
    },
    {
     "name": "stderr",
     "output_type": "stream",
     "text": [
      "Sample: 100%|█████████████████████████████████████████████████████████████████| 100/100 [00:01, 53.16it/s, lr=2.00e-06]\n"
     ]
    },
    {
     "name": "stdout",
     "output_type": "stream",
     "text": [
      "Epoch [550/800] test accuracy: 0.9555 time: 4.30\n"
     ]
    },
    {
     "name": "stderr",
     "output_type": "stream",
     "text": [
      "Sample: 100%|█████████████████████████████████████████████████████████████████| 100/100 [00:01, 54.55it/s, lr=2.00e-06]\n"
     ]
    },
    {
     "name": "stdout",
     "output_type": "stream",
     "text": [
      "Epoch [551/800] test accuracy: 0.9556 time: 4.28\n"
     ]
    },
    {
     "name": "stderr",
     "output_type": "stream",
     "text": [
      "Sample: 100%|█████████████████████████████████████████████████████████████████| 100/100 [00:01, 54.08it/s, lr=2.00e-06]\n"
     ]
    },
    {
     "name": "stdout",
     "output_type": "stream",
     "text": [
      "Epoch [552/800] test accuracy: 0.9556 time: 4.33\n"
     ]
    },
    {
     "name": "stderr",
     "output_type": "stream",
     "text": [
      "Sample: 100%|█████████████████████████████████████████████████████████████████| 100/100 [00:01, 54.37it/s, lr=2.00e-06]\n"
     ]
    },
    {
     "name": "stdout",
     "output_type": "stream",
     "text": [
      "Epoch [553/800] test accuracy: 0.9558 time: 4.24\n"
     ]
    },
    {
     "name": "stderr",
     "output_type": "stream",
     "text": [
      "Sample: 100%|█████████████████████████████████████████████████████████████████| 100/100 [00:01, 53.05it/s, lr=2.00e-06]\n"
     ]
    },
    {
     "name": "stdout",
     "output_type": "stream",
     "text": [
      "Epoch [554/800] test accuracy: 0.9559 time: 4.26\n"
     ]
    },
    {
     "name": "stderr",
     "output_type": "stream",
     "text": [
      "Sample: 100%|█████████████████████████████████████████████████████████████████| 100/100 [00:01, 54.26it/s, lr=2.00e-06]\n"
     ]
    },
    {
     "name": "stdout",
     "output_type": "stream",
     "text": [
      "Epoch [555/800] test accuracy: 0.9560 time: 4.33\n"
     ]
    },
    {
     "name": "stderr",
     "output_type": "stream",
     "text": [
      "Sample: 100%|█████████████████████████████████████████████████████████████████| 100/100 [00:01, 53.85it/s, lr=2.00e-06]\n"
     ]
    },
    {
     "name": "stdout",
     "output_type": "stream",
     "text": [
      "Epoch [556/800] test accuracy: 0.9561 time: 4.29\n"
     ]
    },
    {
     "name": "stderr",
     "output_type": "stream",
     "text": [
      "Sample: 100%|█████████████████████████████████████████████████████████████████| 100/100 [00:01, 54.23it/s, lr=2.00e-06]\n"
     ]
    },
    {
     "name": "stdout",
     "output_type": "stream",
     "text": [
      "Epoch [557/800] test accuracy: 0.9562 time: 4.30\n"
     ]
    },
    {
     "name": "stderr",
     "output_type": "stream",
     "text": [
      "Sample: 100%|█████████████████████████████████████████████████████████████████| 100/100 [00:01, 54.79it/s, lr=2.00e-06]\n"
     ]
    },
    {
     "name": "stdout",
     "output_type": "stream",
     "text": [
      "Epoch [558/800] test accuracy: 0.9561 time: 4.25\n"
     ]
    },
    {
     "name": "stderr",
     "output_type": "stream",
     "text": [
      "Sample: 100%|█████████████████████████████████████████████████████████████████| 100/100 [00:01, 52.86it/s, lr=2.00e-06]\n"
     ]
    },
    {
     "name": "stdout",
     "output_type": "stream",
     "text": [
      "Epoch [559/800] test accuracy: 0.9561 time: 4.29\n"
     ]
    },
    {
     "name": "stderr",
     "output_type": "stream",
     "text": [
      "Sample: 100%|█████████████████████████████████████████████████████████████████| 100/100 [00:01, 53.62it/s, lr=2.00e-06]\n"
     ]
    },
    {
     "name": "stdout",
     "output_type": "stream",
     "text": [
      "Epoch [560/800] test accuracy: 0.9563 time: 4.36\n"
     ]
    },
    {
     "name": "stderr",
     "output_type": "stream",
     "text": [
      "Sample: 100%|█████████████████████████████████████████████████████████████████| 100/100 [00:01, 53.85it/s, lr=2.00e-06]\n"
     ]
    },
    {
     "name": "stdout",
     "output_type": "stream",
     "text": [
      "Epoch [561/800] test accuracy: 0.9563 time: 4.36\n"
     ]
    },
    {
     "name": "stderr",
     "output_type": "stream",
     "text": [
      "Sample: 100%|█████████████████████████████████████████████████████████████████| 100/100 [00:01, 52.72it/s, lr=2.00e-06]\n"
     ]
    },
    {
     "name": "stdout",
     "output_type": "stream",
     "text": [
      "Epoch [562/800] test accuracy: 0.9563 time: 4.30\n"
     ]
    },
    {
     "name": "stderr",
     "output_type": "stream",
     "text": [
      "Sample: 100%|█████████████████████████████████████████████████████████████████| 100/100 [00:01, 53.53it/s, lr=2.00e-06]\n"
     ]
    },
    {
     "name": "stdout",
     "output_type": "stream",
     "text": [
      "Epoch [563/800] test accuracy: 0.9564 time: 4.57\n"
     ]
    },
    {
     "name": "stderr",
     "output_type": "stream",
     "text": [
      "Sample: 100%|█████████████████████████████████████████████████████████████████| 100/100 [00:01, 50.13it/s, lr=2.00e-06]\n"
     ]
    },
    {
     "name": "stdout",
     "output_type": "stream",
     "text": [
      "Epoch [564/800] test accuracy: 0.9565 time: 4.57\n"
     ]
    },
    {
     "name": "stderr",
     "output_type": "stream",
     "text": [
      "Sample: 100%|█████████████████████████████████████████████████████████████████| 100/100 [00:02, 49.08it/s, lr=2.00e-06]\n"
     ]
    },
    {
     "name": "stdout",
     "output_type": "stream",
     "text": [
      "Epoch [565/800] test accuracy: 0.9565 time: 4.54\n"
     ]
    },
    {
     "name": "stderr",
     "output_type": "stream",
     "text": [
      "Sample: 100%|█████████████████████████████████████████████████████████████████| 100/100 [00:01, 51.03it/s, lr=2.00e-06]\n"
     ]
    },
    {
     "name": "stdout",
     "output_type": "stream",
     "text": [
      "Epoch [566/800] test accuracy: 0.9566 time: 4.56\n"
     ]
    },
    {
     "name": "stderr",
     "output_type": "stream",
     "text": [
      "Sample: 100%|█████████████████████████████████████████████████████████████████| 100/100 [00:02, 49.34it/s, lr=2.00e-06]\n"
     ]
    },
    {
     "name": "stdout",
     "output_type": "stream",
     "text": [
      "Epoch [567/800] test accuracy: 0.9566 time: 4.50\n"
     ]
    },
    {
     "name": "stderr",
     "output_type": "stream",
     "text": [
      "Sample: 100%|█████████████████████████████████████████████████████████████████| 100/100 [00:01, 54.20it/s, lr=2.00e-06]\n"
     ]
    },
    {
     "name": "stdout",
     "output_type": "stream",
     "text": [
      "Epoch [568/800] test accuracy: 0.9567 time: 4.31\n"
     ]
    },
    {
     "name": "stderr",
     "output_type": "stream",
     "text": [
      "Sample: 100%|█████████████████████████████████████████████████████████████████| 100/100 [00:01, 54.17it/s, lr=2.00e-06]\n"
     ]
    },
    {
     "name": "stdout",
     "output_type": "stream",
     "text": [
      "Epoch [569/800] test accuracy: 0.9569 time: 4.31\n"
     ]
    },
    {
     "name": "stderr",
     "output_type": "stream",
     "text": [
      "Sample: 100%|█████████████████████████████████████████████████████████████████| 100/100 [00:01, 53.65it/s, lr=2.00e-06]\n"
     ]
    },
    {
     "name": "stdout",
     "output_type": "stream",
     "text": [
      "Epoch [570/800] test accuracy: 0.9572 time: 4.35\n"
     ]
    },
    {
     "name": "stderr",
     "output_type": "stream",
     "text": [
      "Sample: 100%|█████████████████████████████████████████████████████████████████| 100/100 [00:01, 53.14it/s, lr=2.00e-06]\n"
     ]
    },
    {
     "name": "stdout",
     "output_type": "stream",
     "text": [
      "Epoch [571/800] test accuracy: 0.9572 time: 4.28\n"
     ]
    },
    {
     "name": "stderr",
     "output_type": "stream",
     "text": [
      "Sample: 100%|█████████████████████████████████████████████████████████████████| 100/100 [00:01, 54.91it/s, lr=2.00e-06]\n"
     ]
    },
    {
     "name": "stdout",
     "output_type": "stream",
     "text": [
      "Epoch [572/800] test accuracy: 0.9574 time: 4.28\n"
     ]
    },
    {
     "name": "stderr",
     "output_type": "stream",
     "text": [
      "Sample: 100%|█████████████████████████████████████████████████████████████████| 100/100 [00:01, 53.50it/s, lr=2.00e-06]\n"
     ]
    },
    {
     "name": "stdout",
     "output_type": "stream",
     "text": [
      "Epoch [573/800] test accuracy: 0.9574 time: 4.28\n"
     ]
    },
    {
     "name": "stderr",
     "output_type": "stream",
     "text": [
      "Sample: 100%|█████████████████████████████████████████████████████████████████| 100/100 [00:01, 53.45it/s, lr=2.00e-06]\n"
     ]
    },
    {
     "name": "stdout",
     "output_type": "stream",
     "text": [
      "Epoch [574/800] test accuracy: 0.9577 time: 4.26\n"
     ]
    },
    {
     "name": "stderr",
     "output_type": "stream",
     "text": [
      "Sample: 100%|█████████████████████████████████████████████████████████████████| 100/100 [00:01, 54.55it/s, lr=2.00e-06]\n"
     ]
    },
    {
     "name": "stdout",
     "output_type": "stream",
     "text": [
      "Epoch [575/800] test accuracy: 0.9577 time: 4.27\n"
     ]
    },
    {
     "name": "stderr",
     "output_type": "stream",
     "text": [
      "Sample: 100%|█████████████████████████████████████████████████████████████████| 100/100 [00:01, 54.37it/s, lr=2.00e-06]\n"
     ]
    },
    {
     "name": "stdout",
     "output_type": "stream",
     "text": [
      "Epoch [576/800] test accuracy: 0.9578 time: 4.25\n"
     ]
    },
    {
     "name": "stderr",
     "output_type": "stream",
     "text": [
      "Sample: 100%|█████████████████████████████████████████████████████████████████| 100/100 [00:01, 54.35it/s, lr=2.00e-06]\n"
     ]
    },
    {
     "name": "stdout",
     "output_type": "stream",
     "text": [
      "Epoch [577/800] test accuracy: 0.9578 time: 4.23\n"
     ]
    },
    {
     "name": "stderr",
     "output_type": "stream",
     "text": [
      "Sample: 100%|█████████████████████████████████████████████████████████████████| 100/100 [00:01, 53.48it/s, lr=2.00e-06]\n"
     ]
    },
    {
     "name": "stdout",
     "output_type": "stream",
     "text": [
      "Epoch [578/800] test accuracy: 0.9581 time: 4.27\n"
     ]
    },
    {
     "name": "stderr",
     "output_type": "stream",
     "text": [
      "Sample: 100%|█████████████████████████████████████████████████████████████████| 100/100 [00:01, 53.94it/s, lr=2.00e-06]\n"
     ]
    },
    {
     "name": "stdout",
     "output_type": "stream",
     "text": [
      "Epoch [579/800] test accuracy: 0.9582 time: 4.25\n"
     ]
    },
    {
     "name": "stderr",
     "output_type": "stream",
     "text": [
      "Sample: 100%|█████████████████████████████████████████████████████████████████| 100/100 [00:01, 54.43it/s, lr=2.00e-06]\n"
     ]
    },
    {
     "name": "stdout",
     "output_type": "stream",
     "text": [
      "Epoch [580/800] test accuracy: 0.9583 time: 4.33\n"
     ]
    },
    {
     "name": "stderr",
     "output_type": "stream",
     "text": [
      "Sample: 100%|█████████████████████████████████████████████████████████████████| 100/100 [00:01, 54.23it/s, lr=2.00e-06]\n"
     ]
    },
    {
     "name": "stdout",
     "output_type": "stream",
     "text": [
      "Epoch [581/800] test accuracy: 0.9583 time: 4.23\n"
     ]
    },
    {
     "name": "stderr",
     "output_type": "stream",
     "text": [
      "Sample: 100%|█████████████████████████████████████████████████████████████████| 100/100 [00:01, 53.99it/s, lr=2.00e-06]\n"
     ]
    },
    {
     "name": "stdout",
     "output_type": "stream",
     "text": [
      "Epoch [582/800] test accuracy: 0.9583 time: 4.46\n"
     ]
    },
    {
     "name": "stderr",
     "output_type": "stream",
     "text": [
      "Sample: 100%|█████████████████████████████████████████████████████████████████| 100/100 [00:02, 49.69it/s, lr=2.00e-06]\n"
     ]
    },
    {
     "name": "stdout",
     "output_type": "stream",
     "text": [
      "Epoch [583/800] test accuracy: 0.9583 time: 4.54\n"
     ]
    },
    {
     "name": "stderr",
     "output_type": "stream",
     "text": [
      "Sample: 100%|█████████████████████████████████████████████████████████████████| 100/100 [00:02, 48.93it/s, lr=2.00e-06]\n"
     ]
    },
    {
     "name": "stdout",
     "output_type": "stream",
     "text": [
      "Epoch [584/800] test accuracy: 0.9584 time: 4.54\n"
     ]
    },
    {
     "name": "stderr",
     "output_type": "stream",
     "text": [
      "Sample: 100%|█████████████████████████████████████████████████████████████████| 100/100 [00:01, 50.46it/s, lr=2.00e-06]\n"
     ]
    },
    {
     "name": "stdout",
     "output_type": "stream",
     "text": [
      "Epoch [585/800] test accuracy: 0.9584 time: 4.56\n"
     ]
    },
    {
     "name": "stderr",
     "output_type": "stream",
     "text": [
      "Sample: 100%|█████████████████████████████████████████████████████████████████| 100/100 [00:01, 50.03it/s, lr=2.00e-06]\n"
     ]
    },
    {
     "name": "stdout",
     "output_type": "stream",
     "text": [
      "Epoch [586/800] test accuracy: 0.9584 time: 4.62\n"
     ]
    },
    {
     "name": "stderr",
     "output_type": "stream",
     "text": [
      "Sample: 100%|█████████████████████████████████████████████████████████████████| 100/100 [00:01, 53.00it/s, lr=2.00e-06]\n"
     ]
    },
    {
     "name": "stdout",
     "output_type": "stream",
     "text": [
      "Epoch [587/800] test accuracy: 0.9585 time: 4.29\n"
     ]
    },
    {
     "name": "stderr",
     "output_type": "stream",
     "text": [
      "Sample: 100%|█████████████████████████████████████████████████████████████████| 100/100 [00:01, 53.65it/s, lr=2.00e-06]\n"
     ]
    },
    {
     "name": "stdout",
     "output_type": "stream",
     "text": [
      "Epoch [588/800] test accuracy: 0.9585 time: 4.33\n"
     ]
    },
    {
     "name": "stderr",
     "output_type": "stream",
     "text": [
      "Sample: 100%|█████████████████████████████████████████████████████████████████| 100/100 [00:01, 53.65it/s, lr=2.00e-06]\n"
     ]
    },
    {
     "name": "stdout",
     "output_type": "stream",
     "text": [
      "Epoch [589/800] test accuracy: 0.9588 time: 4.34\n"
     ]
    },
    {
     "name": "stderr",
     "output_type": "stream",
     "text": [
      "Sample: 100%|█████████████████████████████████████████████████████████████████| 100/100 [00:01, 54.85it/s, lr=2.00e-06]\n"
     ]
    },
    {
     "name": "stdout",
     "output_type": "stream",
     "text": [
      "Epoch [590/800] test accuracy: 0.9588 time: 4.28\n"
     ]
    },
    {
     "name": "stderr",
     "output_type": "stream",
     "text": [
      "Sample: 100%|█████████████████████████████████████████████████████████████████| 100/100 [00:01, 53.79it/s, lr=2.00e-06]\n"
     ]
    },
    {
     "name": "stdout",
     "output_type": "stream",
     "text": [
      "Epoch [591/800] test accuracy: 0.9588 time: 4.26\n"
     ]
    },
    {
     "name": "stderr",
     "output_type": "stream",
     "text": [
      "Sample: 100%|█████████████████████████████████████████████████████████████████| 100/100 [00:01, 54.52it/s, lr=2.00e-06]\n"
     ]
    },
    {
     "name": "stdout",
     "output_type": "stream",
     "text": [
      "Epoch [592/800] test accuracy: 0.9589 time: 4.32\n"
     ]
    },
    {
     "name": "stderr",
     "output_type": "stream",
     "text": [
      "Sample: 100%|█████████████████████████████████████████████████████████████████| 100/100 [00:01, 54.82it/s, lr=2.00e-06]\n"
     ]
    },
    {
     "name": "stdout",
     "output_type": "stream",
     "text": [
      "Epoch [593/800] test accuracy: 0.9589 time: 4.25\n"
     ]
    },
    {
     "name": "stderr",
     "output_type": "stream",
     "text": [
      "Sample: 100%|█████████████████████████████████████████████████████████████████| 100/100 [00:01, 53.53it/s, lr=2.00e-06]\n"
     ]
    },
    {
     "name": "stdout",
     "output_type": "stream",
     "text": [
      "Epoch [594/800] test accuracy: 0.9590 time: 4.32\n"
     ]
    },
    {
     "name": "stderr",
     "output_type": "stream",
     "text": [
      "Sample: 100%|█████████████████████████████████████████████████████████████████| 100/100 [00:01, 54.79it/s, lr=2.00e-06]\n"
     ]
    },
    {
     "name": "stdout",
     "output_type": "stream",
     "text": [
      "Epoch [595/800] test accuracy: 0.9590 time: 4.26\n"
     ]
    },
    {
     "name": "stderr",
     "output_type": "stream",
     "text": [
      "Sample: 100%|█████████████████████████████████████████████████████████████████| 100/100 [00:01, 53.76it/s, lr=2.00e-06]\n"
     ]
    },
    {
     "name": "stdout",
     "output_type": "stream",
     "text": [
      "Epoch [596/800] test accuracy: 0.9590 time: 4.27\n"
     ]
    },
    {
     "name": "stderr",
     "output_type": "stream",
     "text": [
      "Sample: 100%|█████████████████████████████████████████████████████████████████| 100/100 [00:01, 54.43it/s, lr=2.00e-06]\n"
     ]
    },
    {
     "name": "stdout",
     "output_type": "stream",
     "text": [
      "Epoch [597/800] test accuracy: 0.9590 time: 4.24\n"
     ]
    },
    {
     "name": "stderr",
     "output_type": "stream",
     "text": [
      "Sample: 100%|█████████████████████████████████████████████████████████████████| 100/100 [00:01, 54.58it/s, lr=2.00e-06]\n"
     ]
    },
    {
     "name": "stdout",
     "output_type": "stream",
     "text": [
      "Epoch [598/800] test accuracy: 0.9590 time: 4.46\n"
     ]
    },
    {
     "name": "stderr",
     "output_type": "stream",
     "text": [
      "Sample: 100%|█████████████████████████████████████████████████████████████████| 100/100 [00:01, 51.76it/s, lr=2.00e-06]\n"
     ]
    },
    {
     "name": "stdout",
     "output_type": "stream",
     "text": [
      "Epoch [599/800] test accuracy: 0.9590 time: 4.27\n"
     ]
    },
    {
     "name": "stderr",
     "output_type": "stream",
     "text": [
      "Sample: 100%|█████████████████████████████████████████████████████████████████| 100/100 [00:01, 53.53it/s, lr=2.00e-06]\n"
     ]
    },
    {
     "name": "stdout",
     "output_type": "stream",
     "text": [
      "Epoch [600/800] test accuracy: 0.9589 time: 4.36\n"
     ]
    },
    {
     "name": "stderr",
     "output_type": "stream",
     "text": [
      "Sample: 100%|█████████████████████████████████████████████████████████████████| 100/100 [00:01, 54.85it/s, lr=2.00e-06]\n"
     ]
    },
    {
     "name": "stdout",
     "output_type": "stream",
     "text": [
      "Epoch [601/800] test accuracy: 0.9589 time: 4.41\n"
     ]
    },
    {
     "name": "stderr",
     "output_type": "stream",
     "text": [
      "Sample: 100%|█████████████████████████████████████████████████████████████████| 100/100 [00:01, 50.13it/s, lr=2.00e-06]\n"
     ]
    },
    {
     "name": "stdout",
     "output_type": "stream",
     "text": [
      "Epoch [602/800] test accuracy: 0.9589 time: 4.55\n"
     ]
    },
    {
     "name": "stderr",
     "output_type": "stream",
     "text": [
      "Sample: 100%|█████████████████████████████████████████████████████████████████| 100/100 [00:01, 50.28it/s, lr=2.00e-06]\n"
     ]
    },
    {
     "name": "stdout",
     "output_type": "stream",
     "text": [
      "Epoch [603/800] test accuracy: 0.9590 time: 4.54\n"
     ]
    },
    {
     "name": "stderr",
     "output_type": "stream",
     "text": [
      "Sample: 100%|█████████████████████████████████████████████████████████████████| 100/100 [00:01, 50.90it/s, lr=2.00e-06]\n"
     ]
    },
    {
     "name": "stdout",
     "output_type": "stream",
     "text": [
      "Epoch [604/800] test accuracy: 0.9589 time: 4.57\n"
     ]
    },
    {
     "name": "stderr",
     "output_type": "stream",
     "text": [
      "Sample: 100%|█████████████████████████████████████████████████████████████████| 100/100 [00:01, 50.11it/s, lr=2.00e-06]\n"
     ]
    },
    {
     "name": "stdout",
     "output_type": "stream",
     "text": [
      "Epoch [605/800] test accuracy: 0.9592 time: 4.55\n"
     ]
    },
    {
     "name": "stderr",
     "output_type": "stream",
     "text": [
      "Sample: 100%|█████████████████████████████████████████████████████████████████| 100/100 [00:01, 53.53it/s, lr=2.00e-06]\n"
     ]
    },
    {
     "name": "stdout",
     "output_type": "stream",
     "text": [
      "Epoch [606/800] test accuracy: 0.9593 time: 4.27\n"
     ]
    },
    {
     "name": "stderr",
     "output_type": "stream",
     "text": [
      "Sample: 100%|█████████████████████████████████████████████████████████████████| 100/100 [00:01, 54.26it/s, lr=2.00e-06]\n"
     ]
    },
    {
     "name": "stdout",
     "output_type": "stream",
     "text": [
      "Epoch [607/800] test accuracy: 0.9594 time: 4.28\n"
     ]
    },
    {
     "name": "stderr",
     "output_type": "stream",
     "text": [
      "Sample: 100%|█████████████████████████████████████████████████████████████████| 100/100 [00:01, 55.09it/s, lr=2.00e-06]\n"
     ]
    },
    {
     "name": "stdout",
     "output_type": "stream",
     "text": [
      "Epoch [608/800] test accuracy: 0.9594 time: 4.29\n"
     ]
    },
    {
     "name": "stderr",
     "output_type": "stream",
     "text": [
      "Sample: 100%|█████████████████████████████████████████████████████████████████| 100/100 [00:01, 54.67it/s, lr=2.00e-06]\n"
     ]
    },
    {
     "name": "stdout",
     "output_type": "stream",
     "text": [
      "Epoch [609/800] test accuracy: 0.9594 time: 4.34\n"
     ]
    },
    {
     "name": "stderr",
     "output_type": "stream",
     "text": [
      "Sample: 100%|█████████████████████████████████████████████████████████████████| 100/100 [00:01, 54.85it/s, lr=2.00e-06]\n"
     ]
    },
    {
     "name": "stdout",
     "output_type": "stream",
     "text": [
      "Epoch [610/800] test accuracy: 0.9595 time: 4.36\n"
     ]
    },
    {
     "name": "stderr",
     "output_type": "stream",
     "text": [
      "Sample: 100%|█████████████████████████████████████████████████████████████████| 100/100 [00:01, 54.43it/s, lr=2.00e-06]\n"
     ]
    },
    {
     "name": "stdout",
     "output_type": "stream",
     "text": [
      "Epoch [611/800] test accuracy: 0.9595 time: 4.29\n"
     ]
    },
    {
     "name": "stderr",
     "output_type": "stream",
     "text": [
      "Sample: 100%|█████████████████████████████████████████████████████████████████| 100/100 [00:01, 54.11it/s, lr=2.00e-06]\n"
     ]
    },
    {
     "name": "stdout",
     "output_type": "stream",
     "text": [
      "Epoch [612/800] test accuracy: 0.9596 time: 4.29\n"
     ]
    },
    {
     "name": "stderr",
     "output_type": "stream",
     "text": [
      "Sample: 100%|█████████████████████████████████████████████████████████████████| 100/100 [00:01, 54.14it/s, lr=2.00e-06]\n"
     ]
    },
    {
     "name": "stdout",
     "output_type": "stream",
     "text": [
      "Epoch [613/800] test accuracy: 0.9596 time: 4.28\n"
     ]
    },
    {
     "name": "stderr",
     "output_type": "stream",
     "text": [
      "Sample: 100%|█████████████████████████████████████████████████████████████████| 100/100 [00:01, 54.61it/s, lr=2.00e-06]\n"
     ]
    },
    {
     "name": "stdout",
     "output_type": "stream",
     "text": [
      "Epoch [614/800] test accuracy: 0.9596 time: 4.21\n"
     ]
    },
    {
     "name": "stderr",
     "output_type": "stream",
     "text": [
      "Sample: 100%|█████████████████████████████████████████████████████████████████| 100/100 [00:01, 54.70it/s, lr=2.00e-06]\n"
     ]
    },
    {
     "name": "stdout",
     "output_type": "stream",
     "text": [
      "Epoch [615/800] test accuracy: 0.9596 time: 4.29\n"
     ]
    },
    {
     "name": "stderr",
     "output_type": "stream",
     "text": [
      "Sample: 100%|█████████████████████████████████████████████████████████████████| 100/100 [00:01, 52.30it/s, lr=2.00e-06]\n"
     ]
    },
    {
     "name": "stdout",
     "output_type": "stream",
     "text": [
      "Epoch [616/800] test accuracy: 0.9596 time: 4.39\n"
     ]
    },
    {
     "name": "stderr",
     "output_type": "stream",
     "text": [
      "Sample: 100%|█████████████████████████████████████████████████████████████████| 100/100 [00:01, 54.73it/s, lr=2.00e-06]\n"
     ]
    },
    {
     "name": "stdout",
     "output_type": "stream",
     "text": [
      "Epoch [617/800] test accuracy: 0.9598 time: 4.35\n"
     ]
    },
    {
     "name": "stderr",
     "output_type": "stream",
     "text": [
      "Sample: 100%|█████████████████████████████████████████████████████████████████| 100/100 [00:01, 54.14it/s, lr=2.00e-06]\n"
     ]
    },
    {
     "name": "stdout",
     "output_type": "stream",
     "text": [
      "Epoch [618/800] test accuracy: 0.9599 time: 4.27\n"
     ]
    },
    {
     "name": "stderr",
     "output_type": "stream",
     "text": [
      "Sample: 100%|█████████████████████████████████████████████████████████████████| 100/100 [00:01, 53.08it/s, lr=2.00e-06]\n"
     ]
    },
    {
     "name": "stdout",
     "output_type": "stream",
     "text": [
      "Epoch [619/800] test accuracy: 0.9600 time: 4.35\n"
     ]
    },
    {
     "name": "stderr",
     "output_type": "stream",
     "text": [
      "Sample: 100%|█████████████████████████████████████████████████████████████████| 100/100 [00:01, 54.02it/s, lr=2.00e-06]\n"
     ]
    },
    {
     "name": "stdout",
     "output_type": "stream",
     "text": [
      "Epoch [620/800] test accuracy: 0.9603 time: 4.37\n"
     ]
    },
    {
     "name": "stderr",
     "output_type": "stream",
     "text": [
      "Sample: 100%|█████████████████████████████████████████████████████████████████| 100/100 [00:01, 50.44it/s, lr=2.00e-06]\n"
     ]
    },
    {
     "name": "stdout",
     "output_type": "stream",
     "text": [
      "Epoch [621/800] test accuracy: 0.9604 time: 4.61\n"
     ]
    },
    {
     "name": "stderr",
     "output_type": "stream",
     "text": [
      "Sample: 100%|█████████████████████████████████████████████████████████████████| 100/100 [00:02, 49.15it/s, lr=2.00e-06]\n"
     ]
    },
    {
     "name": "stdout",
     "output_type": "stream",
     "text": [
      "Epoch [622/800] test accuracy: 0.9604 time: 4.54\n"
     ]
    },
    {
     "name": "stderr",
     "output_type": "stream",
     "text": [
      "Sample: 100%|█████████████████████████████████████████████████████████████████| 100/100 [00:01, 50.44it/s, lr=2.00e-06]\n"
     ]
    },
    {
     "name": "stdout",
     "output_type": "stream",
     "text": [
      "Epoch [623/800] test accuracy: 0.9604 time: 4.55\n"
     ]
    },
    {
     "name": "stderr",
     "output_type": "stream",
     "text": [
      "Sample: 100%|█████████████████████████████████████████████████████████████████| 100/100 [00:01, 50.13it/s, lr=2.00e-06]\n"
     ]
    },
    {
     "name": "stdout",
     "output_type": "stream",
     "text": [
      "Epoch [624/800] test accuracy: 0.9607 time: 4.59\n"
     ]
    },
    {
     "name": "stderr",
     "output_type": "stream",
     "text": [
      "Sample: 100%|█████████████████████████████████████████████████████████████████| 100/100 [00:01, 51.82it/s, lr=2.00e-06]\n"
     ]
    },
    {
     "name": "stdout",
     "output_type": "stream",
     "text": [
      "Epoch [625/800] test accuracy: 0.9607 time: 4.59\n"
     ]
    },
    {
     "name": "stderr",
     "output_type": "stream",
     "text": [
      "Sample: 100%|█████████████████████████████████████████████████████████████████| 100/100 [00:02, 49.20it/s, lr=2.00e-06]\n"
     ]
    },
    {
     "name": "stdout",
     "output_type": "stream",
     "text": [
      "Epoch [626/800] test accuracy: 0.9607 time: 4.56\n"
     ]
    },
    {
     "name": "stderr",
     "output_type": "stream",
     "text": [
      "Sample: 100%|█████████████████████████████████████████████████████████████████| 100/100 [00:01, 50.06it/s, lr=2.00e-06]\n"
     ]
    },
    {
     "name": "stdout",
     "output_type": "stream",
     "text": [
      "Epoch [627/800] test accuracy: 0.9607 time: 4.56\n"
     ]
    },
    {
     "name": "stderr",
     "output_type": "stream",
     "text": [
      "Sample: 100%|█████████████████████████████████████████████████████████████████| 100/100 [00:01, 50.72it/s, lr=2.00e-06]\n"
     ]
    },
    {
     "name": "stdout",
     "output_type": "stream",
     "text": [
      "Epoch [628/800] test accuracy: 0.9608 time: 4.56\n"
     ]
    },
    {
     "name": "stderr",
     "output_type": "stream",
     "text": [
      "Sample: 100%|█████████████████████████████████████████████████████████████████| 100/100 [00:02, 49.56it/s, lr=2.00e-06]\n"
     ]
    },
    {
     "name": "stdout",
     "output_type": "stream",
     "text": [
      "Epoch [629/800] test accuracy: 0.9608 time: 4.41\n"
     ]
    },
    {
     "name": "stderr",
     "output_type": "stream",
     "text": [
      "Sample: 100%|█████████████████████████████████████████████████████████████████| 100/100 [00:01, 54.38it/s, lr=2.00e-06]\n"
     ]
    },
    {
     "name": "stdout",
     "output_type": "stream",
     "text": [
      "Epoch [630/800] test accuracy: 0.9609 time: 4.28\n"
     ]
    },
    {
     "name": "stderr",
     "output_type": "stream",
     "text": [
      "Sample: 100%|█████████████████████████████████████████████████████████████████| 100/100 [00:01, 54.43it/s, lr=2.00e-06]\n"
     ]
    },
    {
     "name": "stdout",
     "output_type": "stream",
     "text": [
      "Epoch [631/800] test accuracy: 0.9609 time: 4.33\n"
     ]
    },
    {
     "name": "stderr",
     "output_type": "stream",
     "text": [
      "Sample: 100%|█████████████████████████████████████████████████████████████████| 100/100 [00:01, 53.71it/s, lr=2.00e-06]\n"
     ]
    },
    {
     "name": "stdout",
     "output_type": "stream",
     "text": [
      "Epoch [632/800] test accuracy: 0.9609 time: 4.24\n"
     ]
    },
    {
     "name": "stderr",
     "output_type": "stream",
     "text": [
      "Sample: 100%|█████████████████████████████████████████████████████████████████| 100/100 [00:01, 54.67it/s, lr=2.00e-06]\n"
     ]
    },
    {
     "name": "stdout",
     "output_type": "stream",
     "text": [
      "Epoch [633/800] test accuracy: 0.9610 time: 4.28\n"
     ]
    },
    {
     "name": "stderr",
     "output_type": "stream",
     "text": [
      "Sample: 100%|█████████████████████████████████████████████████████████████████| 100/100 [00:01, 55.12it/s, lr=2.00e-06]\n"
     ]
    },
    {
     "name": "stdout",
     "output_type": "stream",
     "text": [
      "Epoch [634/800] test accuracy: 0.9610 time: 4.25\n"
     ]
    },
    {
     "name": "stderr",
     "output_type": "stream",
     "text": [
      "Sample: 100%|█████████████████████████████████████████████████████████████████| 100/100 [00:01, 54.91it/s, lr=2.00e-06]\n"
     ]
    },
    {
     "name": "stdout",
     "output_type": "stream",
     "text": [
      "Epoch [635/800] test accuracy: 0.9610 time: 4.35\n"
     ]
    },
    {
     "name": "stderr",
     "output_type": "stream",
     "text": [
      "Sample: 100%|█████████████████████████████████████████████████████████████████| 100/100 [00:01, 54.40it/s, lr=2.00e-06]\n"
     ]
    },
    {
     "name": "stdout",
     "output_type": "stream",
     "text": [
      "Epoch [636/800] test accuracy: 0.9610 time: 4.26\n"
     ]
    },
    {
     "name": "stderr",
     "output_type": "stream",
     "text": [
      "Sample: 100%|█████████████████████████████████████████████████████████████████| 100/100 [00:01, 54.67it/s, lr=2.00e-06]\n"
     ]
    },
    {
     "name": "stdout",
     "output_type": "stream",
     "text": [
      "Epoch [637/800] test accuracy: 0.9611 time: 4.30\n"
     ]
    },
    {
     "name": "stderr",
     "output_type": "stream",
     "text": [
      "Sample: 100%|█████████████████████████████████████████████████████████████████| 100/100 [00:01, 52.55it/s, lr=2.00e-06]\n"
     ]
    },
    {
     "name": "stdout",
     "output_type": "stream",
     "text": [
      "Epoch [638/800] test accuracy: 0.9612 time: 4.33\n"
     ]
    },
    {
     "name": "stderr",
     "output_type": "stream",
     "text": [
      "Sample: 100%|█████████████████████████████████████████████████████████████████| 100/100 [00:01, 54.88it/s, lr=2.00e-06]\n"
     ]
    },
    {
     "name": "stdout",
     "output_type": "stream",
     "text": [
      "Epoch [639/800] test accuracy: 0.9612 time: 4.42\n"
     ]
    },
    {
     "name": "stderr",
     "output_type": "stream",
     "text": [
      "Sample: 100%|█████████████████████████████████████████████████████████████████| 100/100 [00:02, 49.71it/s, lr=2.00e-06]\n"
     ]
    },
    {
     "name": "stdout",
     "output_type": "stream",
     "text": [
      "Epoch [640/800] test accuracy: 0.9613 time: 4.54\n"
     ]
    },
    {
     "name": "stderr",
     "output_type": "stream",
     "text": [
      "Sample: 100%|█████████████████████████████████████████████████████████████████| 100/100 [00:01, 50.54it/s, lr=2.00e-06]\n"
     ]
    },
    {
     "name": "stdout",
     "output_type": "stream",
     "text": [
      "Epoch [641/800] test accuracy: 0.9615 time: 4.63\n"
     ]
    },
    {
     "name": "stderr",
     "output_type": "stream",
     "text": [
      "Sample: 100%|█████████████████████████████████████████████████████████████████| 100/100 [00:01, 50.51it/s, lr=2.00e-06]\n"
     ]
    },
    {
     "name": "stdout",
     "output_type": "stream",
     "text": [
      "Epoch [642/800] test accuracy: 0.9615 time: 4.56\n"
     ]
    },
    {
     "name": "stderr",
     "output_type": "stream",
     "text": [
      "Sample: 100%|█████████████████████████████████████████████████████████████████| 100/100 [00:01, 50.64it/s, lr=2.00e-06]\n"
     ]
    },
    {
     "name": "stdout",
     "output_type": "stream",
     "text": [
      "Epoch [643/800] test accuracy: 0.9616 time: 4.51\n"
     ]
    },
    {
     "name": "stderr",
     "output_type": "stream",
     "text": [
      "Sample: 100%|█████████████████████████████████████████████████████████████████| 100/100 [00:01, 52.03it/s, lr=2.00e-06]\n"
     ]
    },
    {
     "name": "stdout",
     "output_type": "stream",
     "text": [
      "Epoch [644/800] test accuracy: 0.9616 time: 4.36\n"
     ]
    },
    {
     "name": "stderr",
     "output_type": "stream",
     "text": [
      "Sample: 100%|█████████████████████████████████████████████████████████████████| 100/100 [00:01, 53.79it/s, lr=2.00e-06]\n"
     ]
    },
    {
     "name": "stdout",
     "output_type": "stream",
     "text": [
      "Epoch [645/800] test accuracy: 0.9616 time: 4.31\n"
     ]
    },
    {
     "name": "stderr",
     "output_type": "stream",
     "text": [
      "Sample: 100%|█████████████████████████████████████████████████████████████████| 100/100 [00:01, 53.45it/s, lr=2.00e-06]\n"
     ]
    },
    {
     "name": "stdout",
     "output_type": "stream",
     "text": [
      "Epoch [646/800] test accuracy: 0.9616 time: 4.29\n"
     ]
    },
    {
     "name": "stderr",
     "output_type": "stream",
     "text": [
      "Sample: 100%|█████████████████████████████████████████████████████████████████| 100/100 [00:01, 54.52it/s, lr=2.00e-06]\n"
     ]
    },
    {
     "name": "stdout",
     "output_type": "stream",
     "text": [
      "Epoch [647/800] test accuracy: 0.9619 time: 4.38\n"
     ]
    },
    {
     "name": "stderr",
     "output_type": "stream",
     "text": [
      "Sample: 100%|█████████████████████████████████████████████████████████████████| 100/100 [00:01, 54.11it/s, lr=2.00e-06]\n"
     ]
    },
    {
     "name": "stdout",
     "output_type": "stream",
     "text": [
      "Epoch [648/800] test accuracy: 0.9620 time: 4.32\n"
     ]
    },
    {
     "name": "stderr",
     "output_type": "stream",
     "text": [
      "Sample: 100%|█████████████████████████████████████████████████████████████████| 100/100 [00:01, 53.91it/s, lr=2.00e-06]\n"
     ]
    },
    {
     "name": "stdout",
     "output_type": "stream",
     "text": [
      "Epoch [649/800] test accuracy: 0.9620 time: 4.24\n"
     ]
    },
    {
     "name": "stderr",
     "output_type": "stream",
     "text": [
      "Sample: 100%|█████████████████████████████████████████████████████████████████| 100/100 [00:01, 53.91it/s, lr=2.00e-06]\n"
     ]
    },
    {
     "name": "stdout",
     "output_type": "stream",
     "text": [
      "Epoch [650/800] test accuracy: 0.9620 time: 4.31\n"
     ]
    },
    {
     "name": "stderr",
     "output_type": "stream",
     "text": [
      "Sample: 100%|█████████████████████████████████████████████████████████████████| 100/100 [00:01, 54.02it/s, lr=2.00e-06]\n"
     ]
    },
    {
     "name": "stdout",
     "output_type": "stream",
     "text": [
      "Epoch [651/800] test accuracy: 0.9621 time: 4.33\n"
     ]
    },
    {
     "name": "stderr",
     "output_type": "stream",
     "text": [
      "Sample: 100%|█████████████████████████████████████████████████████████████████| 100/100 [00:01, 53.99it/s, lr=2.00e-06]\n"
     ]
    },
    {
     "name": "stdout",
     "output_type": "stream",
     "text": [
      "Epoch [652/800] test accuracy: 0.9623 time: 4.30\n"
     ]
    },
    {
     "name": "stderr",
     "output_type": "stream",
     "text": [
      "Sample: 100%|█████████████████████████████████████████████████████████████████| 100/100 [00:01, 54.05it/s, lr=2.00e-06]\n"
     ]
    },
    {
     "name": "stdout",
     "output_type": "stream",
     "text": [
      "Epoch [653/800] test accuracy: 0.9625 time: 4.27\n"
     ]
    },
    {
     "name": "stderr",
     "output_type": "stream",
     "text": [
      "Sample: 100%|█████████████████████████████████████████████████████████████████| 100/100 [00:01, 54.79it/s, lr=2.00e-06]\n"
     ]
    },
    {
     "name": "stdout",
     "output_type": "stream",
     "text": [
      "Epoch [654/800] test accuracy: 0.9624 time: 4.33\n"
     ]
    },
    {
     "name": "stderr",
     "output_type": "stream",
     "text": [
      "Sample: 100%|█████████████████████████████████████████████████████████████████| 100/100 [00:01, 54.88it/s, lr=2.00e-06]\n"
     ]
    },
    {
     "name": "stdout",
     "output_type": "stream",
     "text": [
      "Epoch [655/800] test accuracy: 0.9626 time: 4.27\n"
     ]
    },
    {
     "name": "stderr",
     "output_type": "stream",
     "text": [
      "Sample: 100%|█████████████████████████████████████████████████████████████████| 100/100 [00:01, 54.97it/s, lr=2.00e-06]\n"
     ]
    },
    {
     "name": "stdout",
     "output_type": "stream",
     "text": [
      "Epoch [656/800] test accuracy: 0.9627 time: 4.26\n"
     ]
    },
    {
     "name": "stderr",
     "output_type": "stream",
     "text": [
      "Sample: 100%|█████████████████████████████████████████████████████████████████| 100/100 [00:01, 53.88it/s, lr=2.00e-06]\n"
     ]
    },
    {
     "name": "stdout",
     "output_type": "stream",
     "text": [
      "Epoch [657/800] test accuracy: 0.9627 time: 4.28\n"
     ]
    },
    {
     "name": "stderr",
     "output_type": "stream",
     "text": [
      "Sample: 100%|█████████████████████████████████████████████████████████████████| 100/100 [00:01, 55.64it/s, lr=2.00e-06]\n"
     ]
    },
    {
     "name": "stdout",
     "output_type": "stream",
     "text": [
      "Epoch [658/800] test accuracy: 0.9627 time: 4.40\n"
     ]
    },
    {
     "name": "stderr",
     "output_type": "stream",
     "text": [
      "Sample: 100%|█████████████████████████████████████████████████████████████████| 100/100 [00:01, 51.21it/s, lr=2.00e-06]\n"
     ]
    },
    {
     "name": "stdout",
     "output_type": "stream",
     "text": [
      "Epoch [659/800] test accuracy: 0.9626 time: 4.53\n"
     ]
    },
    {
     "name": "stderr",
     "output_type": "stream",
     "text": [
      "Sample: 100%|█████████████████████████████████████████████████████████████████| 100/100 [00:02, 49.66it/s, lr=2.00e-06]\n"
     ]
    },
    {
     "name": "stdout",
     "output_type": "stream",
     "text": [
      "Epoch [660/800] test accuracy: 0.9626 time: 4.57\n"
     ]
    },
    {
     "name": "stderr",
     "output_type": "stream",
     "text": [
      "Sample: 100%|█████████████████████████████████████████████████████████████████| 100/100 [00:01, 50.51it/s, lr=2.00e-06]\n"
     ]
    },
    {
     "name": "stdout",
     "output_type": "stream",
     "text": [
      "Epoch [661/800] test accuracy: 0.9627 time: 4.60\n"
     ]
    },
    {
     "name": "stderr",
     "output_type": "stream",
     "text": [
      "Sample: 100%|█████████████████████████████████████████████████████████████████| 100/100 [00:01, 50.01it/s, lr=2.00e-06]\n"
     ]
    },
    {
     "name": "stdout",
     "output_type": "stream",
     "text": [
      "Epoch [662/800] test accuracy: 0.9627 time: 4.55\n"
     ]
    },
    {
     "name": "stderr",
     "output_type": "stream",
     "text": [
      "Sample: 100%|█████████████████████████████████████████████████████████████████| 100/100 [00:01, 51.10it/s, lr=2.00e-06]\n"
     ]
    },
    {
     "name": "stdout",
     "output_type": "stream",
     "text": [
      "Epoch [663/800] test accuracy: 0.9627 time: 4.33\n"
     ]
    },
    {
     "name": "stderr",
     "output_type": "stream",
     "text": [
      "Sample: 100%|█████████████████████████████████████████████████████████████████| 100/100 [00:01, 53.14it/s, lr=2.00e-06]\n"
     ]
    },
    {
     "name": "stdout",
     "output_type": "stream",
     "text": [
      "Epoch [664/800] test accuracy: 0.9628 time: 4.30\n"
     ]
    },
    {
     "name": "stderr",
     "output_type": "stream",
     "text": [
      "Sample: 100%|█████████████████████████████████████████████████████████████████| 100/100 [00:01, 53.53it/s, lr=2.00e-06]\n"
     ]
    },
    {
     "name": "stdout",
     "output_type": "stream",
     "text": [
      "Epoch [665/800] test accuracy: 0.9630 time: 4.30\n"
     ]
    },
    {
     "name": "stderr",
     "output_type": "stream",
     "text": [
      "Sample: 100%|█████████████████████████████████████████████████████████████████| 100/100 [00:01, 54.35it/s, lr=2.00e-06]\n"
     ]
    },
    {
     "name": "stdout",
     "output_type": "stream",
     "text": [
      "Epoch [666/800] test accuracy: 0.9631 time: 4.29\n"
     ]
    },
    {
     "name": "stderr",
     "output_type": "stream",
     "text": [
      "Sample: 100%|█████████████████████████████████████████████████████████████████| 100/100 [00:01, 54.79it/s, lr=2.00e-06]\n"
     ]
    },
    {
     "name": "stdout",
     "output_type": "stream",
     "text": [
      "Epoch [667/800] test accuracy: 0.9632 time: 4.27\n"
     ]
    },
    {
     "name": "stderr",
     "output_type": "stream",
     "text": [
      "Sample: 100%|█████████████████████████████████████████████████████████████████| 100/100 [00:01, 54.17it/s, lr=2.00e-06]\n"
     ]
    },
    {
     "name": "stdout",
     "output_type": "stream",
     "text": [
      "Epoch [668/800] test accuracy: 0.9631 time: 4.27\n"
     ]
    },
    {
     "name": "stderr",
     "output_type": "stream",
     "text": [
      "Sample: 100%|█████████████████████████████████████████████████████████████████| 100/100 [00:01, 55.77it/s, lr=2.00e-06]\n"
     ]
    },
    {
     "name": "stdout",
     "output_type": "stream",
     "text": [
      "Epoch [669/800] test accuracy: 0.9631 time: 4.26\n"
     ]
    },
    {
     "name": "stderr",
     "output_type": "stream",
     "text": [
      "Sample: 100%|█████████████████████████████████████████████████████████████████| 100/100 [00:01, 55.21it/s, lr=2.00e-06]\n"
     ]
    },
    {
     "name": "stdout",
     "output_type": "stream",
     "text": [
      "Epoch [670/800] test accuracy: 0.9631 time: 4.26\n"
     ]
    },
    {
     "name": "stderr",
     "output_type": "stream",
     "text": [
      "Sample: 100%|█████████████████████████████████████████████████████████████████| 100/100 [00:01, 54.82it/s, lr=2.00e-06]\n"
     ]
    },
    {
     "name": "stdout",
     "output_type": "stream",
     "text": [
      "Epoch [671/800] test accuracy: 0.9632 time: 4.33\n"
     ]
    },
    {
     "name": "stderr",
     "output_type": "stream",
     "text": [
      "Sample: 100%|█████████████████████████████████████████████████████████████████| 100/100 [00:01, 55.03it/s, lr=2.00e-06]\n"
     ]
    },
    {
     "name": "stdout",
     "output_type": "stream",
     "text": [
      "Epoch [672/800] test accuracy: 0.9633 time: 4.27\n"
     ]
    },
    {
     "name": "stderr",
     "output_type": "stream",
     "text": [
      "Sample: 100%|█████████████████████████████████████████████████████████████████| 100/100 [00:01, 54.61it/s, lr=2.00e-06]\n"
     ]
    },
    {
     "name": "stdout",
     "output_type": "stream",
     "text": [
      "Epoch [673/800] test accuracy: 0.9633 time: 4.24\n"
     ]
    },
    {
     "name": "stderr",
     "output_type": "stream",
     "text": [
      "Sample: 100%|█████████████████████████████████████████████████████████████████| 100/100 [00:01, 55.00it/s, lr=2.00e-06]\n"
     ]
    },
    {
     "name": "stdout",
     "output_type": "stream",
     "text": [
      "Epoch [674/800] test accuracy: 0.9633 time: 4.27\n"
     ]
    },
    {
     "name": "stderr",
     "output_type": "stream",
     "text": [
      "Sample: 100%|█████████████████████████████████████████████████████████████████| 100/100 [00:01, 54.32it/s, lr=2.00e-06]\n"
     ]
    },
    {
     "name": "stdout",
     "output_type": "stream",
     "text": [
      "Epoch [675/800] test accuracy: 0.9634 time: 4.30\n"
     ]
    },
    {
     "name": "stderr",
     "output_type": "stream",
     "text": [
      "Sample: 100%|█████████████████████████████████████████████████████████████████| 100/100 [00:01, 53.45it/s, lr=2.00e-06]\n"
     ]
    },
    {
     "name": "stdout",
     "output_type": "stream",
     "text": [
      "Epoch [676/800] test accuracy: 0.9634 time: 4.27\n"
     ]
    },
    {
     "name": "stderr",
     "output_type": "stream",
     "text": [
      "Sample: 100%|█████████████████████████████████████████████████████████████████| 100/100 [00:01, 53.71it/s, lr=2.00e-06]\n"
     ]
    },
    {
     "name": "stdout",
     "output_type": "stream",
     "text": [
      "Epoch [677/800] test accuracy: 0.9634 time: 4.31\n"
     ]
    },
    {
     "name": "stderr",
     "output_type": "stream",
     "text": [
      "Sample: 100%|█████████████████████████████████████████████████████████████████| 100/100 [00:01, 50.79it/s, lr=2.00e-06]\n"
     ]
    },
    {
     "name": "stdout",
     "output_type": "stream",
     "text": [
      "Epoch [678/800] test accuracy: 0.9635 time: 4.52\n"
     ]
    },
    {
     "name": "stderr",
     "output_type": "stream",
     "text": [
      "Sample: 100%|█████████████████████████████████████████████████████████████████| 100/100 [00:01, 51.26it/s, lr=2.00e-06]\n"
     ]
    },
    {
     "name": "stdout",
     "output_type": "stream",
     "text": [
      "Epoch [679/800] test accuracy: 0.9635 time: 4.55\n"
     ]
    },
    {
     "name": "stderr",
     "output_type": "stream",
     "text": [
      "Sample: 100%|█████████████████████████████████████████████████████████████████| 100/100 [00:01, 50.28it/s, lr=2.00e-06]\n"
     ]
    },
    {
     "name": "stdout",
     "output_type": "stream",
     "text": [
      "Epoch [680/800] test accuracy: 0.9636 time: 4.55\n"
     ]
    },
    {
     "name": "stderr",
     "output_type": "stream",
     "text": [
      "Sample: 100%|█████████████████████████████████████████████████████████████████| 100/100 [00:02, 49.86it/s, lr=2.00e-06]\n"
     ]
    },
    {
     "name": "stdout",
     "output_type": "stream",
     "text": [
      "Epoch [681/800] test accuracy: 0.9637 time: 4.57\n"
     ]
    },
    {
     "name": "stderr",
     "output_type": "stream",
     "text": [
      "Sample: 100%|█████████████████████████████████████████████████████████████████| 100/100 [00:02, 49.37it/s, lr=2.00e-06]\n"
     ]
    },
    {
     "name": "stdout",
     "output_type": "stream",
     "text": [
      "Epoch [682/800] test accuracy: 0.9639 time: 4.38\n"
     ]
    },
    {
     "name": "stderr",
     "output_type": "stream",
     "text": [
      "Sample: 100%|█████████████████████████████████████████████████████████████████| 100/100 [00:01, 52.91it/s, lr=2.00e-06]\n"
     ]
    },
    {
     "name": "stdout",
     "output_type": "stream",
     "text": [
      "Epoch [683/800] test accuracy: 0.9639 time: 4.30\n"
     ]
    },
    {
     "name": "stderr",
     "output_type": "stream",
     "text": [
      "Sample: 100%|█████████████████████████████████████████████████████████████████| 100/100 [00:01, 52.22it/s, lr=2.00e-06]\n"
     ]
    },
    {
     "name": "stdout",
     "output_type": "stream",
     "text": [
      "Epoch [684/800] test accuracy: 0.9639 time: 4.39\n"
     ]
    },
    {
     "name": "stderr",
     "output_type": "stream",
     "text": [
      "Sample: 100%|█████████████████████████████████████████████████████████████████| 100/100 [00:01, 55.27it/s, lr=2.00e-06]\n"
     ]
    },
    {
     "name": "stdout",
     "output_type": "stream",
     "text": [
      "Epoch [685/800] test accuracy: 0.9639 time: 4.32\n"
     ]
    },
    {
     "name": "stderr",
     "output_type": "stream",
     "text": [
      "Sample: 100%|█████████████████████████████████████████████████████████████████| 100/100 [00:01, 55.06it/s, lr=2.00e-06]\n"
     ]
    },
    {
     "name": "stdout",
     "output_type": "stream",
     "text": [
      "Epoch [686/800] test accuracy: 0.9639 time: 4.28\n"
     ]
    },
    {
     "name": "stderr",
     "output_type": "stream",
     "text": [
      "Sample: 100%|█████████████████████████████████████████████████████████████████| 100/100 [00:01, 54.26it/s, lr=2.00e-06]\n"
     ]
    },
    {
     "name": "stdout",
     "output_type": "stream",
     "text": [
      "Epoch [687/800] test accuracy: 0.9639 time: 4.29\n"
     ]
    },
    {
     "name": "stderr",
     "output_type": "stream",
     "text": [
      "Sample: 100%|█████████████████████████████████████████████████████████████████| 100/100 [00:01, 54.85it/s, lr=2.00e-06]\n"
     ]
    },
    {
     "name": "stdout",
     "output_type": "stream",
     "text": [
      "Epoch [688/800] test accuracy: 0.9641 time: 4.33\n"
     ]
    },
    {
     "name": "stderr",
     "output_type": "stream",
     "text": [
      "Sample: 100%|█████████████████████████████████████████████████████████████████| 100/100 [00:01, 53.65it/s, lr=2.00e-06]\n"
     ]
    },
    {
     "name": "stdout",
     "output_type": "stream",
     "text": [
      "Epoch [689/800] test accuracy: 0.9641 time: 4.29\n"
     ]
    },
    {
     "name": "stderr",
     "output_type": "stream",
     "text": [
      "Sample: 100%|█████████████████████████████████████████████████████████████████| 100/100 [00:01, 53.42it/s, lr=2.00e-06]\n"
     ]
    },
    {
     "name": "stdout",
     "output_type": "stream",
     "text": [
      "Epoch [690/800] test accuracy: 0.9641 time: 4.29\n"
     ]
    },
    {
     "name": "stderr",
     "output_type": "stream",
     "text": [
      "Sample: 100%|█████████████████████████████████████████████████████████████████| 100/100 [00:01, 54.43it/s, lr=2.00e-06]\n"
     ]
    },
    {
     "name": "stdout",
     "output_type": "stream",
     "text": [
      "Epoch [691/800] test accuracy: 0.9641 time: 4.31\n"
     ]
    },
    {
     "name": "stderr",
     "output_type": "stream",
     "text": [
      "Sample: 100%|█████████████████████████████████████████████████████████████████| 100/100 [00:01, 53.99it/s, lr=2.00e-06]\n"
     ]
    },
    {
     "name": "stdout",
     "output_type": "stream",
     "text": [
      "Epoch [692/800] test accuracy: 0.9643 time: 4.30\n"
     ]
    },
    {
     "name": "stderr",
     "output_type": "stream",
     "text": [
      "Sample: 100%|█████████████████████████████████████████████████████████████████| 100/100 [00:01, 53.19it/s, lr=2.00e-06]\n"
     ]
    },
    {
     "name": "stdout",
     "output_type": "stream",
     "text": [
      "Epoch [693/800] test accuracy: 0.9644 time: 4.29\n"
     ]
    },
    {
     "name": "stderr",
     "output_type": "stream",
     "text": [
      "Sample: 100%|█████████████████████████████████████████████████████████████████| 100/100 [00:01, 53.71it/s, lr=2.00e-06]\n"
     ]
    },
    {
     "name": "stdout",
     "output_type": "stream",
     "text": [
      "Epoch [694/800] test accuracy: 0.9645 time: 4.30\n"
     ]
    },
    {
     "name": "stderr",
     "output_type": "stream",
     "text": [
      "Sample: 100%|█████████████████████████████████████████████████████████████████| 100/100 [00:01, 53.48it/s, lr=2.00e-06]\n"
     ]
    },
    {
     "name": "stdout",
     "output_type": "stream",
     "text": [
      "Epoch [695/800] test accuracy: 0.9645 time: 4.28\n"
     ]
    },
    {
     "name": "stderr",
     "output_type": "stream",
     "text": [
      "Sample: 100%|█████████████████████████████████████████████████████████████████| 100/100 [00:01, 54.32it/s, lr=2.00e-06]\n"
     ]
    },
    {
     "name": "stdout",
     "output_type": "stream",
     "text": [
      "Epoch [696/800] test accuracy: 0.9645 time: 4.30\n"
     ]
    },
    {
     "name": "stderr",
     "output_type": "stream",
     "text": [
      "Sample: 100%|█████████████████████████████████████████████████████████████████| 100/100 [00:01, 51.45it/s, lr=2.00e-06]\n"
     ]
    },
    {
     "name": "stdout",
     "output_type": "stream",
     "text": [
      "Epoch [697/800] test accuracy: 0.9646 time: 4.60\n"
     ]
    },
    {
     "name": "stderr",
     "output_type": "stream",
     "text": [
      "Sample: 100%|█████████████████████████████████████████████████████████████████| 100/100 [00:02, 49.66it/s, lr=2.00e-06]\n"
     ]
    },
    {
     "name": "stdout",
     "output_type": "stream",
     "text": [
      "Epoch [698/800] test accuracy: 0.9646 time: 4.53\n"
     ]
    },
    {
     "name": "stderr",
     "output_type": "stream",
     "text": [
      "Sample: 100%|█████████████████████████████████████████████████████████████████| 100/100 [00:01, 50.31it/s, lr=2.00e-06]\n"
     ]
    },
    {
     "name": "stdout",
     "output_type": "stream",
     "text": [
      "Epoch [699/800] test accuracy: 0.9648 time: 4.58\n"
     ]
    },
    {
     "name": "stderr",
     "output_type": "stream",
     "text": [
      "Sample: 100%|█████████████████████████████████████████████████████████████████| 100/100 [00:01, 50.21it/s, lr=2.00e-06]\n"
     ]
    },
    {
     "name": "stdout",
     "output_type": "stream",
     "text": [
      "Epoch [700/800] test accuracy: 0.9649 time: 4.51\n"
     ]
    },
    {
     "name": "stderr",
     "output_type": "stream",
     "text": [
      "Sample: 100%|█████████████████████████████████████████████████████████████████| 100/100 [00:01, 50.64it/s, lr=2.00e-06]\n"
     ]
    },
    {
     "name": "stdout",
     "output_type": "stream",
     "text": [
      "Epoch [701/800] test accuracy: 0.9650 time: 4.48\n"
     ]
    },
    {
     "name": "stderr",
     "output_type": "stream",
     "text": [
      "Sample: 100%|█████████████████████████████████████████████████████████████████| 100/100 [00:02, 49.61it/s, lr=2.00e-06]\n"
     ]
    },
    {
     "name": "stdout",
     "output_type": "stream",
     "text": [
      "Epoch [702/800] test accuracy: 0.9650 time: 4.61\n"
     ]
    },
    {
     "name": "stderr",
     "output_type": "stream",
     "text": [
      "Sample: 100%|█████████████████████████████████████████████████████████████████| 100/100 [00:01, 50.82it/s, lr=2.00e-06]\n"
     ]
    },
    {
     "name": "stdout",
     "output_type": "stream",
     "text": [
      "Epoch [703/800] test accuracy: 0.9650 time: 4.57\n"
     ]
    },
    {
     "name": "stderr",
     "output_type": "stream",
     "text": [
      "Sample: 100%|█████████████████████████████████████████████████████████████████| 100/100 [00:01, 51.87it/s, lr=2.00e-06]\n"
     ]
    },
    {
     "name": "stdout",
     "output_type": "stream",
     "text": [
      "Epoch [704/800] test accuracy: 0.9650 time: 4.61\n"
     ]
    },
    {
     "name": "stderr",
     "output_type": "stream",
     "text": [
      "Sample: 100%|█████████████████████████████████████████████████████████████████| 100/100 [00:01, 50.49it/s, lr=2.00e-06]\n"
     ]
    },
    {
     "name": "stdout",
     "output_type": "stream",
     "text": [
      "Epoch [705/800] test accuracy: 0.9650 time: 4.51\n"
     ]
    },
    {
     "name": "stderr",
     "output_type": "stream",
     "text": [
      "Sample: 100%|█████████████████████████████████████████████████████████████████| 100/100 [00:01, 54.46it/s, lr=2.00e-06]\n"
     ]
    },
    {
     "name": "stdout",
     "output_type": "stream",
     "text": [
      "Epoch [706/800] test accuracy: 0.9650 time: 4.28\n"
     ]
    },
    {
     "name": "stderr",
     "output_type": "stream",
     "text": [
      "Sample: 100%|█████████████████████████████████████████████████████████████████| 100/100 [00:01, 53.82it/s, lr=2.00e-06]\n"
     ]
    },
    {
     "name": "stdout",
     "output_type": "stream",
     "text": [
      "Epoch [707/800] test accuracy: 0.9650 time: 4.34\n"
     ]
    },
    {
     "name": "stderr",
     "output_type": "stream",
     "text": [
      "Sample: 100%|█████████████████████████████████████████████████████████████████| 100/100 [00:01, 54.61it/s, lr=2.00e-06]\n"
     ]
    },
    {
     "name": "stdout",
     "output_type": "stream",
     "text": [
      "Epoch [708/800] test accuracy: 0.9650 time: 4.28\n"
     ]
    },
    {
     "name": "stderr",
     "output_type": "stream",
     "text": [
      "Sample: 100%|█████████████████████████████████████████████████████████████████| 100/100 [00:01, 54.20it/s, lr=2.00e-06]\n"
     ]
    },
    {
     "name": "stdout",
     "output_type": "stream",
     "text": [
      "Epoch [709/800] test accuracy: 0.9650 time: 4.29\n"
     ]
    },
    {
     "name": "stderr",
     "output_type": "stream",
     "text": [
      "Sample: 100%|█████████████████████████████████████████████████████████████████| 100/100 [00:01, 53.62it/s, lr=2.00e-06]\n"
     ]
    },
    {
     "name": "stdout",
     "output_type": "stream",
     "text": [
      "Epoch [710/800] test accuracy: 0.9651 time: 4.28\n"
     ]
    },
    {
     "name": "stderr",
     "output_type": "stream",
     "text": [
      "Sample: 100%|█████████████████████████████████████████████████████████████████| 100/100 [00:01, 55.89it/s, lr=2.00e-06]\n"
     ]
    },
    {
     "name": "stdout",
     "output_type": "stream",
     "text": [
      "Epoch [711/800] test accuracy: 0.9651 time: 4.30\n"
     ]
    },
    {
     "name": "stderr",
     "output_type": "stream",
     "text": [
      "Sample: 100%|█████████████████████████████████████████████████████████████████| 100/100 [00:01, 54.38it/s, lr=2.00e-06]\n"
     ]
    },
    {
     "name": "stdout",
     "output_type": "stream",
     "text": [
      "Epoch [712/800] test accuracy: 0.9652 time: 4.29\n"
     ]
    },
    {
     "name": "stderr",
     "output_type": "stream",
     "text": [
      "Sample: 100%|█████████████████████████████████████████████████████████████████| 100/100 [00:01, 54.49it/s, lr=2.00e-06]\n"
     ]
    },
    {
     "name": "stdout",
     "output_type": "stream",
     "text": [
      "Epoch [713/800] test accuracy: 0.9652 time: 4.31\n"
     ]
    },
    {
     "name": "stderr",
     "output_type": "stream",
     "text": [
      "Sample: 100%|█████████████████████████████████████████████████████████████████| 100/100 [00:01, 54.58it/s, lr=2.00e-06]\n"
     ]
    },
    {
     "name": "stdout",
     "output_type": "stream",
     "text": [
      "Epoch [714/800] test accuracy: 0.9652 time: 4.26\n"
     ]
    },
    {
     "name": "stderr",
     "output_type": "stream",
     "text": [
      "Sample: 100%|█████████████████████████████████████████████████████████████████| 100/100 [00:01, 54.61it/s, lr=2.00e-06]\n"
     ]
    },
    {
     "name": "stdout",
     "output_type": "stream",
     "text": [
      "Epoch [715/800] test accuracy: 0.9652 time: 4.28\n"
     ]
    },
    {
     "name": "stderr",
     "output_type": "stream",
     "text": [
      "Sample: 100%|█████████████████████████████████████████████████████████████████| 100/100 [00:02, 49.71it/s, lr=2.00e-06]\n"
     ]
    },
    {
     "name": "stdout",
     "output_type": "stream",
     "text": [
      "Epoch [716/800] test accuracy: 0.9653 time: 4.60\n"
     ]
    },
    {
     "name": "stderr",
     "output_type": "stream",
     "text": [
      "Sample: 100%|█████████████████████████████████████████████████████████████████| 100/100 [00:02, 48.93it/s, lr=2.00e-06]\n"
     ]
    },
    {
     "name": "stdout",
     "output_type": "stream",
     "text": [
      "Epoch [717/800] test accuracy: 0.9654 time: 4.55\n"
     ]
    },
    {
     "name": "stderr",
     "output_type": "stream",
     "text": [
      "Sample: 100%|█████████████████████████████████████████████████████████████████| 100/100 [00:01, 50.36it/s, lr=2.00e-06]\n"
     ]
    },
    {
     "name": "stdout",
     "output_type": "stream",
     "text": [
      "Epoch [718/800] test accuracy: 0.9655 time: 4.57\n"
     ]
    },
    {
     "name": "stderr",
     "output_type": "stream",
     "text": [
      "Sample: 100%|█████████████████████████████████████████████████████████████████| 100/100 [00:01, 50.08it/s, lr=2.00e-06]\n"
     ]
    },
    {
     "name": "stdout",
     "output_type": "stream",
     "text": [
      "Epoch [719/800] test accuracy: 0.9655 time: 4.59\n"
     ]
    },
    {
     "name": "stderr",
     "output_type": "stream",
     "text": [
      "Sample: 100%|█████████████████████████████████████████████████████████████████| 100/100 [00:02, 49.39it/s, lr=2.00e-06]\n"
     ]
    },
    {
     "name": "stdout",
     "output_type": "stream",
     "text": [
      "Epoch [720/800] test accuracy: 0.9655 time: 4.51\n"
     ]
    },
    {
     "name": "stderr",
     "output_type": "stream",
     "text": [
      "Sample: 100%|█████████████████████████████████████████████████████████████████| 100/100 [00:02, 49.69it/s, lr=2.00e-06]\n"
     ]
    },
    {
     "name": "stdout",
     "output_type": "stream",
     "text": [
      "Epoch [721/800] test accuracy: 0.9655 time: 4.59\n"
     ]
    },
    {
     "name": "stderr",
     "output_type": "stream",
     "text": [
      "Sample: 100%|█████████████████████████████████████████████████████████████████| 100/100 [00:02, 49.66it/s, lr=2.00e-06]\n"
     ]
    },
    {
     "name": "stdout",
     "output_type": "stream",
     "text": [
      "Epoch [722/800] test accuracy: 0.9655 time: 4.62\n"
     ]
    },
    {
     "name": "stderr",
     "output_type": "stream",
     "text": [
      "Sample: 100%|█████████████████████████████████████████████████████████████████| 100/100 [00:02, 49.91it/s, lr=2.00e-06]\n"
     ]
    },
    {
     "name": "stdout",
     "output_type": "stream",
     "text": [
      "Epoch [723/800] test accuracy: 0.9655 time: 4.57\n"
     ]
    },
    {
     "name": "stderr",
     "output_type": "stream",
     "text": [
      "Sample: 100%|█████████████████████████████████████████████████████████████████| 100/100 [00:01, 50.54it/s, lr=2.00e-06]\n"
     ]
    },
    {
     "name": "stdout",
     "output_type": "stream",
     "text": [
      "Epoch [724/800] test accuracy: 0.9657 time: 4.42\n"
     ]
    },
    {
     "name": "stderr",
     "output_type": "stream",
     "text": [
      "Sample: 100%|█████████████████████████████████████████████████████████████████| 100/100 [00:01, 53.22it/s, lr=2.00e-06]\n"
     ]
    },
    {
     "name": "stdout",
     "output_type": "stream",
     "text": [
      "Epoch [725/800] test accuracy: 0.9657 time: 4.30\n"
     ]
    },
    {
     "name": "stderr",
     "output_type": "stream",
     "text": [
      "Sample: 100%|█████████████████████████████████████████████████████████████████| 100/100 [00:01, 54.40it/s, lr=2.00e-06]\n"
     ]
    },
    {
     "name": "stdout",
     "output_type": "stream",
     "text": [
      "Epoch [726/800] test accuracy: 0.9657 time: 4.28\n"
     ]
    },
    {
     "name": "stderr",
     "output_type": "stream",
     "text": [
      "Sample: 100%|█████████████████████████████████████████████████████████████████| 100/100 [00:01, 54.20it/s, lr=2.00e-06]\n"
     ]
    },
    {
     "name": "stdout",
     "output_type": "stream",
     "text": [
      "Epoch [727/800] test accuracy: 0.9657 time: 4.27\n"
     ]
    },
    {
     "name": "stderr",
     "output_type": "stream",
     "text": [
      "Sample: 100%|█████████████████████████████████████████████████████████████████| 100/100 [00:01, 53.16it/s, lr=2.00e-06]\n"
     ]
    },
    {
     "name": "stdout",
     "output_type": "stream",
     "text": [
      "Epoch [728/800] test accuracy: 0.9658 time: 4.30\n"
     ]
    },
    {
     "name": "stderr",
     "output_type": "stream",
     "text": [
      "Sample: 100%|█████████████████████████████████████████████████████████████████| 100/100 [00:01, 53.73it/s, lr=2.00e-06]\n"
     ]
    },
    {
     "name": "stdout",
     "output_type": "stream",
     "text": [
      "Epoch [729/800] test accuracy: 0.9658 time: 4.32\n"
     ]
    },
    {
     "name": "stderr",
     "output_type": "stream",
     "text": [
      "Sample: 100%|█████████████████████████████████████████████████████████████████| 100/100 [00:01, 54.43it/s, lr=2.00e-06]\n"
     ]
    },
    {
     "name": "stdout",
     "output_type": "stream",
     "text": [
      "Epoch [730/800] test accuracy: 0.9658 time: 4.31\n"
     ]
    },
    {
     "name": "stderr",
     "output_type": "stream",
     "text": [
      "Sample: 100%|█████████████████████████████████████████████████████████████████| 100/100 [00:01, 54.35it/s, lr=2.00e-06]\n"
     ]
    },
    {
     "name": "stdout",
     "output_type": "stream",
     "text": [
      "Epoch [731/800] test accuracy: 0.9660 time: 4.29\n"
     ]
    },
    {
     "name": "stderr",
     "output_type": "stream",
     "text": [
      "Sample: 100%|█████████████████████████████████████████████████████████████████| 100/100 [00:01, 54.85it/s, lr=2.00e-06]\n"
     ]
    },
    {
     "name": "stdout",
     "output_type": "stream",
     "text": [
      "Epoch [732/800] test accuracy: 0.9661 time: 4.30\n"
     ]
    },
    {
     "name": "stderr",
     "output_type": "stream",
     "text": [
      "Sample: 100%|█████████████████████████████████████████████████████████████████| 100/100 [00:01, 54.55it/s, lr=2.00e-06]\n"
     ]
    },
    {
     "name": "stdout",
     "output_type": "stream",
     "text": [
      "Epoch [733/800] test accuracy: 0.9661 time: 4.27\n"
     ]
    },
    {
     "name": "stderr",
     "output_type": "stream",
     "text": [
      "Sample: 100%|█████████████████████████████████████████████████████████████████| 100/100 [00:01, 54.02it/s, lr=2.00e-06]\n"
     ]
    },
    {
     "name": "stdout",
     "output_type": "stream",
     "text": [
      "Epoch [734/800] test accuracy: 0.9663 time: 4.35\n"
     ]
    },
    {
     "name": "stderr",
     "output_type": "stream",
     "text": [
      "Sample: 100%|█████████████████████████████████████████████████████████████████| 100/100 [00:01, 50.44it/s, lr=2.00e-06]\n"
     ]
    },
    {
     "name": "stdout",
     "output_type": "stream",
     "text": [
      "Epoch [735/800] test accuracy: 0.9665 time: 4.56\n"
     ]
    },
    {
     "name": "stderr",
     "output_type": "stream",
     "text": [
      "Sample: 100%|█████████████████████████████████████████████████████████████████| 100/100 [00:01, 50.11it/s, lr=2.00e-06]\n"
     ]
    },
    {
     "name": "stdout",
     "output_type": "stream",
     "text": [
      "Epoch [736/800] test accuracy: 0.9665 time: 4.59\n"
     ]
    },
    {
     "name": "stderr",
     "output_type": "stream",
     "text": [
      "Sample: 100%|█████████████████████████████████████████████████████████████████| 100/100 [00:01, 50.90it/s, lr=2.00e-06]\n"
     ]
    },
    {
     "name": "stdout",
     "output_type": "stream",
     "text": [
      "Epoch [737/800] test accuracy: 0.9666 time: 4.58\n"
     ]
    },
    {
     "name": "stderr",
     "output_type": "stream",
     "text": [
      "Sample: 100%|█████████████████████████████████████████████████████████████████| 100/100 [00:02, 49.91it/s, lr=2.00e-06]\n"
     ]
    },
    {
     "name": "stdout",
     "output_type": "stream",
     "text": [
      "Epoch [738/800] test accuracy: 0.9668 time: 4.64\n"
     ]
    },
    {
     "name": "stderr",
     "output_type": "stream",
     "text": [
      "Sample: 100%|█████████████████████████████████████████████████████████████████| 100/100 [00:02, 49.64it/s, lr=2.00e-06]\n"
     ]
    },
    {
     "name": "stdout",
     "output_type": "stream",
     "text": [
      "Epoch [739/800] test accuracy: 0.9668 time: 4.36\n"
     ]
    },
    {
     "name": "stderr",
     "output_type": "stream",
     "text": [
      "Sample: 100%|█████████████████████████████████████████████████████████████████| 100/100 [00:01, 53.11it/s, lr=2.00e-06]\n"
     ]
    },
    {
     "name": "stdout",
     "output_type": "stream",
     "text": [
      "Epoch [740/800] test accuracy: 0.9669 time: 4.32\n"
     ]
    },
    {
     "name": "stderr",
     "output_type": "stream",
     "text": [
      "Sample: 100%|█████████████████████████████████████████████████████████████████| 100/100 [00:01, 54.29it/s, lr=2.00e-06]\n"
     ]
    },
    {
     "name": "stdout",
     "output_type": "stream",
     "text": [
      "Epoch [741/800] test accuracy: 0.9670 time: 4.28\n"
     ]
    },
    {
     "name": "stderr",
     "output_type": "stream",
     "text": [
      "Sample: 100%|█████████████████████████████████████████████████████████████████| 100/100 [00:01, 53.53it/s, lr=2.00e-06]\n"
     ]
    },
    {
     "name": "stdout",
     "output_type": "stream",
     "text": [
      "Epoch [742/800] test accuracy: 0.9670 time: 4.30\n"
     ]
    },
    {
     "name": "stderr",
     "output_type": "stream",
     "text": [
      "Sample: 100%|█████████████████████████████████████████████████████████████████| 100/100 [00:01, 53.91it/s, lr=2.00e-06]\n"
     ]
    },
    {
     "name": "stdout",
     "output_type": "stream",
     "text": [
      "Epoch [743/800] test accuracy: 0.9670 time: 4.24\n"
     ]
    },
    {
     "name": "stderr",
     "output_type": "stream",
     "text": [
      "Sample: 100%|█████████████████████████████████████████████████████████████████| 100/100 [00:01, 54.61it/s, lr=2.00e-06]\n"
     ]
    },
    {
     "name": "stdout",
     "output_type": "stream",
     "text": [
      "Epoch [744/800] test accuracy: 0.9670 time: 4.26\n"
     ]
    },
    {
     "name": "stderr",
     "output_type": "stream",
     "text": [
      "Sample: 100%|█████████████████████████████████████████████████████████████████| 100/100 [00:01, 54.37it/s, lr=2.00e-06]\n"
     ]
    },
    {
     "name": "stdout",
     "output_type": "stream",
     "text": [
      "Epoch [745/800] test accuracy: 0.9671 time: 4.33\n"
     ]
    },
    {
     "name": "stderr",
     "output_type": "stream",
     "text": [
      "Sample: 100%|█████████████████████████████████████████████████████████████████| 100/100 [00:01, 53.16it/s, lr=2.00e-06]\n"
     ]
    },
    {
     "name": "stdout",
     "output_type": "stream",
     "text": [
      "Epoch [746/800] test accuracy: 0.9672 time: 4.27\n"
     ]
    },
    {
     "name": "stderr",
     "output_type": "stream",
     "text": [
      "Sample: 100%|█████████████████████████████████████████████████████████████████| 100/100 [00:01, 54.70it/s, lr=2.00e-06]\n"
     ]
    },
    {
     "name": "stdout",
     "output_type": "stream",
     "text": [
      "Epoch [747/800] test accuracy: 0.9672 time: 4.30\n"
     ]
    },
    {
     "name": "stderr",
     "output_type": "stream",
     "text": [
      "Sample: 100%|█████████████████████████████████████████████████████████████████| 100/100 [00:01, 54.58it/s, lr=2.00e-06]\n"
     ]
    },
    {
     "name": "stdout",
     "output_type": "stream",
     "text": [
      "Epoch [748/800] test accuracy: 0.9674 time: 4.28\n"
     ]
    },
    {
     "name": "stderr",
     "output_type": "stream",
     "text": [
      "Sample: 100%|█████████████████████████████████████████████████████████████████| 100/100 [00:01, 55.55it/s, lr=2.00e-06]\n"
     ]
    },
    {
     "name": "stdout",
     "output_type": "stream",
     "text": [
      "Epoch [749/800] test accuracy: 0.9676 time: 4.26\n"
     ]
    },
    {
     "name": "stderr",
     "output_type": "stream",
     "text": [
      "Sample: 100%|█████████████████████████████████████████████████████████████████| 100/100 [00:01, 54.35it/s, lr=2.00e-06]\n"
     ]
    },
    {
     "name": "stdout",
     "output_type": "stream",
     "text": [
      "Epoch [750/800] test accuracy: 0.9675 time: 4.29\n"
     ]
    },
    {
     "name": "stderr",
     "output_type": "stream",
     "text": [
      "Sample: 100%|█████████████████████████████████████████████████████████████████| 100/100 [00:01, 54.14it/s, lr=2.00e-06]\n"
     ]
    },
    {
     "name": "stdout",
     "output_type": "stream",
     "text": [
      "Epoch [751/800] test accuracy: 0.9676 time: 4.27\n"
     ]
    },
    {
     "name": "stderr",
     "output_type": "stream",
     "text": [
      "Sample: 100%|█████████████████████████████████████████████████████████████████| 100/100 [00:01, 54.02it/s, lr=2.00e-06]\n"
     ]
    },
    {
     "name": "stdout",
     "output_type": "stream",
     "text": [
      "Epoch [752/800] test accuracy: 0.9676 time: 4.36\n"
     ]
    },
    {
     "name": "stderr",
     "output_type": "stream",
     "text": [
      "Sample: 100%|█████████████████████████████████████████████████████████████████| 100/100 [00:01, 54.08it/s, lr=2.00e-06]\n"
     ]
    },
    {
     "name": "stdout",
     "output_type": "stream",
     "text": [
      "Epoch [753/800] test accuracy: 0.9676 time: 4.19\n"
     ]
    },
    {
     "name": "stderr",
     "output_type": "stream",
     "text": [
      "Sample: 100%|█████████████████████████████████████████████████████████████████| 100/100 [00:01, 51.24it/s, lr=2.00e-06]\n"
     ]
    },
    {
     "name": "stdout",
     "output_type": "stream",
     "text": [
      "Epoch [754/800] test accuracy: 0.9677 time: 4.52\n"
     ]
    },
    {
     "name": "stderr",
     "output_type": "stream",
     "text": [
      "Sample: 100%|█████████████████████████████████████████████████████████████████| 100/100 [00:01, 50.31it/s, lr=2.00e-06]\n"
     ]
    },
    {
     "name": "stdout",
     "output_type": "stream",
     "text": [
      "Epoch [755/800] test accuracy: 0.9678 time: 4.55\n"
     ]
    },
    {
     "name": "stderr",
     "output_type": "stream",
     "text": [
      "Sample: 100%|█████████████████████████████████████████████████████████████████| 100/100 [00:01, 50.08it/s, lr=2.00e-06]\n"
     ]
    },
    {
     "name": "stdout",
     "output_type": "stream",
     "text": [
      "Epoch [756/800] test accuracy: 0.9677 time: 4.58\n"
     ]
    },
    {
     "name": "stderr",
     "output_type": "stream",
     "text": [
      "Sample: 100%|█████████████████████████████████████████████████████████████████| 100/100 [00:02, 49.96it/s, lr=2.00e-06]\n"
     ]
    },
    {
     "name": "stdout",
     "output_type": "stream",
     "text": [
      "Epoch [757/800] test accuracy: 0.9678 time: 4.54\n"
     ]
    },
    {
     "name": "stderr",
     "output_type": "stream",
     "text": [
      "Sample: 100%|█████████████████████████████████████████████████████████████████| 100/100 [00:01, 50.67it/s, lr=2.00e-06]\n"
     ]
    },
    {
     "name": "stdout",
     "output_type": "stream",
     "text": [
      "Epoch [758/800] test accuracy: 0.9678 time: 4.54\n"
     ]
    },
    {
     "name": "stderr",
     "output_type": "stream",
     "text": [
      "Sample: 100%|█████████████████████████████████████████████████████████████████| 100/100 [00:01, 50.34it/s, lr=2.00e-06]\n"
     ]
    },
    {
     "name": "stdout",
     "output_type": "stream",
     "text": [
      "Epoch [759/800] test accuracy: 0.9680 time: 4.56\n"
     ]
    },
    {
     "name": "stderr",
     "output_type": "stream",
     "text": [
      "Sample: 100%|█████████████████████████████████████████████████████████████████| 100/100 [00:01, 50.61it/s, lr=2.00e-06]\n"
     ]
    },
    {
     "name": "stdout",
     "output_type": "stream",
     "text": [
      "Epoch [760/800] test accuracy: 0.9680 time: 4.55\n"
     ]
    },
    {
     "name": "stderr",
     "output_type": "stream",
     "text": [
      "Sample: 100%|█████████████████████████████████████████████████████████████████| 100/100 [00:02, 49.98it/s, lr=2.00e-06]\n"
     ]
    },
    {
     "name": "stdout",
     "output_type": "stream",
     "text": [
      "Epoch [761/800] test accuracy: 0.9682 time: 4.55\n"
     ]
    },
    {
     "name": "stderr",
     "output_type": "stream",
     "text": [
      "Sample: 100%|█████████████████████████████████████████████████████████████████| 100/100 [00:01, 50.08it/s, lr=2.00e-06]\n"
     ]
    },
    {
     "name": "stdout",
     "output_type": "stream",
     "text": [
      "Epoch [762/800] test accuracy: 0.9682 time: 4.48\n"
     ]
    },
    {
     "name": "stderr",
     "output_type": "stream",
     "text": [
      "Sample: 100%|█████████████████████████████████████████████████████████████████| 100/100 [00:01, 53.33it/s, lr=2.00e-06]\n"
     ]
    },
    {
     "name": "stdout",
     "output_type": "stream",
     "text": [
      "Epoch [763/800] test accuracy: 0.9683 time: 4.33\n"
     ]
    },
    {
     "name": "stderr",
     "output_type": "stream",
     "text": [
      "Sample: 100%|█████████████████████████████████████████████████████████████████| 100/100 [00:01, 54.35it/s, lr=2.00e-06]\n"
     ]
    },
    {
     "name": "stdout",
     "output_type": "stream",
     "text": [
      "Epoch [764/800] test accuracy: 0.9683 time: 4.26\n"
     ]
    },
    {
     "name": "stderr",
     "output_type": "stream",
     "text": [
      "Sample: 100%|█████████████████████████████████████████████████████████████████| 100/100 [00:01, 53.11it/s, lr=2.00e-06]\n"
     ]
    },
    {
     "name": "stdout",
     "output_type": "stream",
     "text": [
      "Epoch [765/800] test accuracy: 0.9684 time: 4.29\n"
     ]
    },
    {
     "name": "stderr",
     "output_type": "stream",
     "text": [
      "Sample: 100%|█████████████████████████████████████████████████████████████████| 100/100 [00:01, 54.08it/s, lr=2.00e-06]\n"
     ]
    },
    {
     "name": "stdout",
     "output_type": "stream",
     "text": [
      "Epoch [766/800] test accuracy: 0.9684 time: 4.29\n"
     ]
    },
    {
     "name": "stderr",
     "output_type": "stream",
     "text": [
      "Sample: 100%|█████████████████████████████████████████████████████████████████| 100/100 [00:01, 53.82it/s, lr=2.00e-06]\n"
     ]
    },
    {
     "name": "stdout",
     "output_type": "stream",
     "text": [
      "Epoch [767/800] test accuracy: 0.9685 time: 4.28\n"
     ]
    },
    {
     "name": "stderr",
     "output_type": "stream",
     "text": [
      "Sample: 100%|█████████████████████████████████████████████████████████████████| 100/100 [00:01, 54.49it/s, lr=2.00e-06]\n"
     ]
    },
    {
     "name": "stdout",
     "output_type": "stream",
     "text": [
      "Epoch [768/800] test accuracy: 0.9685 time: 4.34\n"
     ]
    },
    {
     "name": "stderr",
     "output_type": "stream",
     "text": [
      "Sample: 100%|█████████████████████████████████████████████████████████████████| 100/100 [00:01, 54.02it/s, lr=2.00e-06]\n"
     ]
    },
    {
     "name": "stdout",
     "output_type": "stream",
     "text": [
      "Epoch [769/800] test accuracy: 0.9685 time: 4.30\n"
     ]
    },
    {
     "name": "stderr",
     "output_type": "stream",
     "text": [
      "Sample: 100%|█████████████████████████████████████████████████████████████████| 100/100 [00:01, 53.94it/s, lr=2.00e-06]\n"
     ]
    },
    {
     "name": "stdout",
     "output_type": "stream",
     "text": [
      "Epoch [770/800] test accuracy: 0.9687 time: 4.28\n"
     ]
    },
    {
     "name": "stderr",
     "output_type": "stream",
     "text": [
      "Sample: 100%|█████████████████████████████████████████████████████████████████| 100/100 [00:01, 54.46it/s, lr=2.00e-06]\n"
     ]
    },
    {
     "name": "stdout",
     "output_type": "stream",
     "text": [
      "Epoch [771/800] test accuracy: 0.9687 time: 4.29\n"
     ]
    },
    {
     "name": "stderr",
     "output_type": "stream",
     "text": [
      "Sample: 100%|█████████████████████████████████████████████████████████████████| 100/100 [00:01, 54.58it/s, lr=2.00e-06]\n"
     ]
    },
    {
     "name": "stdout",
     "output_type": "stream",
     "text": [
      "Epoch [772/800] test accuracy: 0.9687 time: 4.32\n"
     ]
    },
    {
     "name": "stderr",
     "output_type": "stream",
     "text": [
      "Sample: 100%|█████████████████████████████████████████████████████████████████| 100/100 [00:02, 49.79it/s, lr=2.00e-06]\n"
     ]
    },
    {
     "name": "stdout",
     "output_type": "stream",
     "text": [
      "Epoch [773/800] test accuracy: 0.9687 time: 4.60\n"
     ]
    },
    {
     "name": "stderr",
     "output_type": "stream",
     "text": [
      "Sample: 100%|█████████████████████████████████████████████████████████████████| 100/100 [00:02, 49.64it/s, lr=2.00e-06]\n"
     ]
    },
    {
     "name": "stdout",
     "output_type": "stream",
     "text": [
      "Epoch [774/800] test accuracy: 0.9689 time: 4.60\n"
     ]
    },
    {
     "name": "stderr",
     "output_type": "stream",
     "text": [
      "Sample: 100%|█████████████████████████████████████████████████████████████████| 100/100 [00:01, 50.26it/s, lr=2.00e-06]\n"
     ]
    },
    {
     "name": "stdout",
     "output_type": "stream",
     "text": [
      "Epoch [775/800] test accuracy: 0.9690 time: 4.59\n"
     ]
    },
    {
     "name": "stderr",
     "output_type": "stream",
     "text": [
      "Sample: 100%|█████████████████████████████████████████████████████████████████| 100/100 [00:01, 50.64it/s, lr=2.00e-06]\n"
     ]
    },
    {
     "name": "stdout",
     "output_type": "stream",
     "text": [
      "Epoch [776/800] test accuracy: 0.9690 time: 4.60\n"
     ]
    },
    {
     "name": "stderr",
     "output_type": "stream",
     "text": [
      "Sample: 100%|█████████████████████████████████████████████████████████████████| 100/100 [00:01, 50.56it/s, lr=2.00e-06]\n"
     ]
    },
    {
     "name": "stdout",
     "output_type": "stream",
     "text": [
      "Epoch [777/800] test accuracy: 0.9690 time: 4.35\n"
     ]
    },
    {
     "name": "stderr",
     "output_type": "stream",
     "text": [
      "Sample: 100%|█████████████████████████████████████████████████████████████████| 100/100 [00:01, 54.40it/s, lr=2.00e-06]\n"
     ]
    },
    {
     "name": "stdout",
     "output_type": "stream",
     "text": [
      "Epoch [778/800] test accuracy: 0.9690 time: 4.29\n"
     ]
    },
    {
     "name": "stderr",
     "output_type": "stream",
     "text": [
      "Sample: 100%|█████████████████████████████████████████████████████████████████| 100/100 [00:01, 54.52it/s, lr=2.00e-06]\n"
     ]
    },
    {
     "name": "stdout",
     "output_type": "stream",
     "text": [
      "Epoch [779/800] test accuracy: 0.9690 time: 4.29\n"
     ]
    },
    {
     "name": "stderr",
     "output_type": "stream",
     "text": [
      "Sample: 100%|█████████████████████████████████████████████████████████████████| 100/100 [00:01, 52.94it/s, lr=2.00e-06]\n"
     ]
    },
    {
     "name": "stdout",
     "output_type": "stream",
     "text": [
      "Epoch [780/800] test accuracy: 0.9690 time: 4.27\n"
     ]
    },
    {
     "name": "stderr",
     "output_type": "stream",
     "text": [
      "Sample: 100%|█████████████████████████████████████████████████████████████████| 100/100 [00:01, 53.39it/s, lr=2.00e-06]\n"
     ]
    },
    {
     "name": "stdout",
     "output_type": "stream",
     "text": [
      "Epoch [781/800] test accuracy: 0.9690 time: 4.34\n"
     ]
    },
    {
     "name": "stderr",
     "output_type": "stream",
     "text": [
      "Sample: 100%|█████████████████████████████████████████████████████████████████| 100/100 [00:01, 54.55it/s, lr=2.00e-06]\n"
     ]
    },
    {
     "name": "stdout",
     "output_type": "stream",
     "text": [
      "Epoch [782/800] test accuracy: 0.9690 time: 4.27\n"
     ]
    },
    {
     "name": "stderr",
     "output_type": "stream",
     "text": [
      "Sample: 100%|█████████████████████████████████████████████████████████████████| 100/100 [00:01, 53.33it/s, lr=2.00e-06]\n"
     ]
    },
    {
     "name": "stdout",
     "output_type": "stream",
     "text": [
      "Epoch [783/800] test accuracy: 0.9691 time: 4.38\n"
     ]
    },
    {
     "name": "stderr",
     "output_type": "stream",
     "text": [
      "Sample: 100%|█████████████████████████████████████████████████████████████████| 100/100 [00:01, 54.11it/s, lr=2.00e-06]\n"
     ]
    },
    {
     "name": "stdout",
     "output_type": "stream",
     "text": [
      "Epoch [784/800] test accuracy: 0.9691 time: 4.35\n"
     ]
    },
    {
     "name": "stderr",
     "output_type": "stream",
     "text": [
      "Sample: 100%|█████████████████████████████████████████████████████████████████| 100/100 [00:01, 53.02it/s, lr=2.00e-06]\n"
     ]
    },
    {
     "name": "stdout",
     "output_type": "stream",
     "text": [
      "Epoch [785/800] test accuracy: 0.9691 time: 4.33\n"
     ]
    },
    {
     "name": "stderr",
     "output_type": "stream",
     "text": [
      "Sample: 100%|█████████████████████████████████████████████████████████████████| 100/100 [00:01, 53.79it/s, lr=2.00e-06]\n"
     ]
    },
    {
     "name": "stdout",
     "output_type": "stream",
     "text": [
      "Epoch [786/800] test accuracy: 0.9691 time: 4.31\n"
     ]
    },
    {
     "name": "stderr",
     "output_type": "stream",
     "text": [
      "Sample: 100%|█████████████████████████████████████████████████████████████████| 100/100 [00:01, 55.27it/s, lr=2.00e-06]\n"
     ]
    },
    {
     "name": "stdout",
     "output_type": "stream",
     "text": [
      "Epoch [787/800] test accuracy: 0.9690 time: 4.34\n"
     ]
    },
    {
     "name": "stderr",
     "output_type": "stream",
     "text": [
      "Sample: 100%|█████████████████████████████████████████████████████████████████| 100/100 [00:01, 52.94it/s, lr=2.00e-06]\n"
     ]
    },
    {
     "name": "stdout",
     "output_type": "stream",
     "text": [
      "Epoch [788/800] test accuracy: 0.9690 time: 4.30\n"
     ]
    },
    {
     "name": "stderr",
     "output_type": "stream",
     "text": [
      "Sample: 100%|█████████████████████████████████████████████████████████████████| 100/100 [00:01, 53.50it/s, lr=2.00e-06]\n"
     ]
    },
    {
     "name": "stdout",
     "output_type": "stream",
     "text": [
      "Epoch [789/800] test accuracy: 0.9690 time: 4.32\n"
     ]
    },
    {
     "name": "stderr",
     "output_type": "stream",
     "text": [
      "Sample: 100%|█████████████████████████████████████████████████████████████████| 100/100 [00:01, 53.88it/s, lr=2.00e-06]\n"
     ]
    },
    {
     "name": "stdout",
     "output_type": "stream",
     "text": [
      "Epoch [790/800] test accuracy: 0.9690 time: 4.34\n"
     ]
    },
    {
     "name": "stderr",
     "output_type": "stream",
     "text": [
      "Sample: 100%|█████████████████████████████████████████████████████████████████| 100/100 [00:01, 53.73it/s, lr=2.00e-06]\n"
     ]
    },
    {
     "name": "stdout",
     "output_type": "stream",
     "text": [
      "Epoch [791/800] test accuracy: 0.9690 time: 4.36\n"
     ]
    },
    {
     "name": "stderr",
     "output_type": "stream",
     "text": [
      "Sample: 100%|█████████████████████████████████████████████████████████████████| 100/100 [00:02, 49.37it/s, lr=2.00e-06]\n"
     ]
    },
    {
     "name": "stdout",
     "output_type": "stream",
     "text": [
      "Epoch [792/800] test accuracy: 0.9691 time: 4.59\n"
     ]
    },
    {
     "name": "stderr",
     "output_type": "stream",
     "text": [
      "Sample: 100%|█████████████████████████████████████████████████████████████████| 100/100 [00:01, 50.56it/s, lr=2.00e-06]\n"
     ]
    },
    {
     "name": "stdout",
     "output_type": "stream",
     "text": [
      "Epoch [793/800] test accuracy: 0.9692 time: 4.66\n"
     ]
    },
    {
     "name": "stderr",
     "output_type": "stream",
     "text": [
      "Sample: 100%|█████████████████████████████████████████████████████████████████| 100/100 [00:01, 50.49it/s, lr=2.00e-06]\n"
     ]
    },
    {
     "name": "stdout",
     "output_type": "stream",
     "text": [
      "Epoch [794/800] test accuracy: 0.9694 time: 4.60\n"
     ]
    },
    {
     "name": "stderr",
     "output_type": "stream",
     "text": [
      "Sample: 100%|█████████████████████████████████████████████████████████████████| 100/100 [00:01, 50.28it/s, lr=2.00e-06]\n"
     ]
    },
    {
     "name": "stdout",
     "output_type": "stream",
     "text": [
      "Epoch [795/800] test accuracy: 0.9693 time: 4.58\n"
     ]
    },
    {
     "name": "stderr",
     "output_type": "stream",
     "text": [
      "Sample: 100%|█████████████████████████████████████████████████████████████████| 100/100 [00:02, 49.13it/s, lr=2.00e-06]\n"
     ]
    },
    {
     "name": "stdout",
     "output_type": "stream",
     "text": [
      "Epoch [796/800] test accuracy: 0.9694 time: 4.58\n"
     ]
    },
    {
     "name": "stderr",
     "output_type": "stream",
     "text": [
      "Sample: 100%|█████████████████████████████████████████████████████████████████| 100/100 [00:01, 50.69it/s, lr=2.00e-06]\n"
     ]
    },
    {
     "name": "stdout",
     "output_type": "stream",
     "text": [
      "Epoch [797/800] test accuracy: 0.9693 time: 4.58\n"
     ]
    },
    {
     "name": "stderr",
     "output_type": "stream",
     "text": [
      "Sample: 100%|█████████████████████████████████████████████████████████████████| 100/100 [00:01, 50.01it/s, lr=2.00e-06]\n"
     ]
    },
    {
     "name": "stdout",
     "output_type": "stream",
     "text": [
      "Epoch [798/800] test accuracy: 0.9694 time: 4.60\n"
     ]
    },
    {
     "name": "stderr",
     "output_type": "stream",
     "text": [
      "Sample: 100%|█████████████████████████████████████████████████████████████████| 100/100 [00:01, 50.06it/s, lr=2.00e-06]\n"
     ]
    },
    {
     "name": "stdout",
     "output_type": "stream",
     "text": [
      "Epoch [799/800] test accuracy: 0.9694 time: 4.65\n"
     ]
    },
    {
     "name": "stderr",
     "output_type": "stream",
     "text": [
      "Sample: 100%|█████████████████████████████████████████████████████████████████| 100/100 [00:01, 50.59it/s, lr=2.00e-06]\n"
     ]
    },
    {
     "name": "stdout",
     "output_type": "stream",
     "text": [
      "Epoch [800/800] test accuracy: 0.9694 time: 4.45\n"
     ]
    }
   ],
   "source": [
    "LR = 2e-6\n",
    "MOMENTUM_DECAY = 0.01\n",
    "RESAMPLE_EVERY_N = 0\n",
    "NUM_STEPS = 1\n",
    "\n",
    "pyro.clear_param_store()\n",
    "\n",
    "bnn = BNN(28*28, HIDDEN_SIZE, 10)\n",
    "\n",
    "sghmc = SGHMC(bnn,\n",
    "              subsample_positions=[0, 1],\n",
    "              batch_size=BATCH_SIZE,\n",
    "              learning_rate=LR,\n",
    "              momentum_decay=MOMENTUM_DECAY,\n",
    "              num_steps=NUM_STEPS,\n",
    "              resample_every_n=RESAMPLE_EVERY_N)\n",
    "\n",
    "sghmc_mcmc = MCMC(sghmc, num_samples=len(train_dataset)//BATCH_SIZE, warmup_steps=0)\n",
    "\n",
    "sghmc_test_errs = []\n",
    "\n",
    "# full posterior predictive \n",
    "full_predictive = torch.FloatTensor(10000, 10)\n",
    "full_predictive.zero_()\n",
    "\n",
    "for epoch in range(1, 1+NUM_EPOCHS + WARMUP_EPOCHS):\n",
    "    sghmc_mcmc.run(X_train, Y_train)\n",
    "    \n",
    "    if epoch >= WARMUP_EPOCHS:\n",
    "        \n",
    "        sghmc_samples = sghmc_mcmc.get_samples()\n",
    "        predictive = pyro.infer.Predictive(bnn, posterior_samples=sghmc_samples)\n",
    "        start = time.time()\n",
    "        \n",
    "        with torch.no_grad():\n",
    "            epoch_predictive = None\n",
    "            for x, y in val_loader:\n",
    "                if epoch_predictive is None:\n",
    "                    epoch_predictive = predictive(x)['obs'].to(torch.int64)\n",
    "                else:\n",
    "                    epoch_predictive = torch.cat((epoch_predictive, predictive(x)['obs'].to(torch.int64)), dim=1)\n",
    "                    \n",
    "            for sample in epoch_predictive:\n",
    "                predictive_one_hot = F.one_hot(sample, num_classes=10)\n",
    "                full_predictive = full_predictive + predictive_one_hot\n",
    "                \n",
    "            full_y_hat = torch.argmax(full_predictive, dim=1)\n",
    "            total = Y_val.shape[0]\n",
    "            correct = int((full_y_hat == Y_val).sum())\n",
    "            \n",
    "        end = time.time()\n",
    "        \n",
    "        sghmc_test_errs.append(1.0 - correct/total)\n",
    "\n",
    "        print(\"Epoch [{}/{}] test accuracy: {:.4f} time: {:.2f}\".format(epoch-WARMUP_EPOCHS, NUM_EPOCHS, correct/total, end - start))"
   ]
  },
  {
   "cell_type": "markdown",
   "id": "14f851ed",
   "metadata": {},
   "source": [
    "### Plot VI against SGHMC"
   ]
  },
  {
   "cell_type": "code",
   "execution_count": 10,
   "id": "0b40dcb1",
   "metadata": {},
   "outputs": [
    {
     "data": {
      "image/png": "[encoded data removed]",
      "text/plain": [
       "<Figure size 1800x1200 with 1 Axes>"
      ]
     },
     "metadata": {},
     "output_type": "display_data"
    }
   ],
   "source": [
    "sns.set_style(\"dark\")\n",
    "    \n",
    "sghmc_test_errs = np.array(sghmc_test_errs)\n",
    "vi_test_errs = np.array(vi_test_errs)\n",
    "\n",
    "err_dict = {'SGHMC' : sghmc_test_errs, 'VI' : vi_test_errs}\n",
    "x = np.arange(1, NUM_EPOCHS+1)\n",
    "lst = []\n",
    "for i in range(len(x)):\n",
    "    for updater in err_dict.keys():\n",
    "        lst.append([x[i], updater, err_dict[updater][i]])\n",
    "\n",
    "df = pd.DataFrame(lst, columns=['samples', 'updater','test error'])\n",
    "sns.lineplot(data=df.pivot(\"samples\", \"updater\", \"test error\"))\n",
    "plt.ylabel(\"test error\")\n",
    "plt.show() #dpi=300"
   ]
  }
 ],
 "metadata": {
  "kernelspec": {
   "display_name": "Python 3 (ipykernel)",
   "language": "python",
   "name": "python3"
  },
  "language_info": {
   "codemirror_mode": {
    "name": "ipython",
    "version": 3
   },
   "file_extension": ".py",
   "mimetype": "text/x-python",
   "name": "python",
   "nbconvert_exporter": "python",
   "pygments_lexer": "ipython3",
   "version": "3.9.7"
  }
 },
 "nbformat": 4,
 "nbformat_minor": 5
}
