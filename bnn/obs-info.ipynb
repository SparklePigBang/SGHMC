{
 "cells": [
  {
   "cell_type": "markdown",
   "metadata": {},
   "source": [
    "# Testing the effect of incorporating observed information"
   ]
  },
  {
   "cell_type": "markdown",
   "metadata": {},
   "source": [
    "We test the effect on SGHMC of using observed information to estimate the noise model. We test three configurations:\n",
    "- Not using observed information.\n",
    "- Only calculating the estimate at setup time.\n",
    "- Recalculating every sample.\n",
    "- Recalculating before every step while simulating the dynamics in a sample.\n",
    "\n",
    "We record the test accuracy and time taken for each sample."
   ]
  },
  {
   "cell_type": "code",
   "execution_count": 4,
   "metadata": {},
   "outputs": [],
   "source": [
    "import sys\n",
    "sys.path.append(\"..\")\n",
    "\n",
    "import os.path\n",
    "import json\n",
    "\n",
    "import time\n",
    "import numpy as np\n",
    "import matplotlib.pyplot as plt\n",
    "\n",
    "import torch\n",
    "from torchvision import datasets, transforms\n",
    "from torch.utils.data import DataLoader\n",
    "import torch.nn.functional as F\n",
    "\n",
    "import seaborn as sns # conda install seaborn\n",
    "import pandas as pd # ^^ this will automatically install pandas\n",
    "\n",
    "import pyro\n",
    "from pyro.infer.mcmc import MCMC\n",
    "import pyro.distributions as dist\n",
    "\n",
    "from kernel.sghmc import SGHMC\n",
    "from kernel.sgld import SGLD\n",
    "from kernel.sgd import SGD\n",
    "from kernel.sgnuts import NUTS as SGNUTS\n",
    "\n",
    "pyro.set_rng_seed(101)\n",
    "\n",
    "plt.rcParams['figure.dpi'] = 300"
   ]
  },
  {
   "cell_type": "code",
   "execution_count": null,
   "metadata": {},
   "outputs": [],
   "source": [
    "# assert torch.cuda.is_available()\n",
    "device = torch.device(\"cuda\" if torch.cuda.is_available() else \"cpu\" )\n",
    "device = torch.device(\"cpu\")"
   ]
  },
  {
   "cell_type": "code",
   "execution_count": 6,
   "metadata": {},
   "outputs": [],
   "source": [
    "RESULTS_DIR = os.path.join(\"results\", \"obs-info\")\n",
    "RESULTS_NOINFO = os.path.join(RESULTS_DIR, \"noinfo.json\")\n",
    "RESULTS_START = os.path.join(RESULTS_DIR, \"start.json\")\n",
    "RESULTS_EVERY_SAMPLE = os.path.join(RESULTS_DIR, \"every-sample.json\")\n",
    "RESULTS_EVERY_STEP = os.path.join(RESULTS_DIR, \"every-step.json\")"
   ]
  },
  {
   "cell_type": "code",
   "execution_count": null,
   "metadata": {},
   "outputs": [],
   "source": [
    "# Simple dataset wrapper class\n",
    "\n",
    "class Dataset(torch.utils.data.Dataset):\n",
    "    def __init__(self, data, targets):\n",
    "        self.data = data\n",
    "        self.targets = targets\n",
    "        \n",
    "    def __len__(self):\n",
    "        return(len(self.data))\n",
    "    \n",
    "    def __getitem__(self, idx):\n",
    "        return self.data[idx], self.targets[idx]"
   ]
  },
  {
   "cell_type": "markdown",
   "metadata": {},
   "source": [
    "## Hyperparams\n",
    "\n",
    "These hyperparameters were fixed during the hyperparameter search. All other hyperparameters in this notebook are the best ones we found during the hyperparameter search."
   ]
  },
  {
   "cell_type": "code",
   "execution_count": 9,
   "metadata": {},
   "outputs": [],
   "source": [
    "BATCH_SIZE = 500\n",
    "NUM_EPOCHS = 100\n",
    "WARMUP_EPOCHS = 50\n",
    "HIDDEN_SIZE = 100"
   ]
  },
  {
   "cell_type": "markdown",
   "metadata": {},
   "source": [
    "## Download MNIST and setup datasets / dataloaders"
   ]
  },
  {
   "cell_type": "code",
   "execution_count": null,
   "metadata": {},
   "outputs": [],
   "source": [
    "train_dataset = datasets.MNIST('./data', train=True, download=True)\n",
    "\n",
    "test_dataset = datasets.MNIST('./data', train=False, download=True)\n",
    "\n",
    "nvalid = 10000\n",
    "\n",
    "perm = torch.arange(len(train_dataset))\n",
    "train_idx = perm[nvalid:]\n",
    "val_idx = perm[:nvalid]\n",
    "    \n",
    "mean = 0.1307\n",
    "std = 0.3081\n",
    "\n",
    "# scale the datasets\n",
    "X_train = train_dataset.data[train_idx] / 255.0\n",
    "Y_train = train_dataset.targets[train_idx]\n",
    "\n",
    "X_val = train_dataset.data[val_idx] / 255.0\n",
    "Y_val = train_dataset.targets[val_idx]\n",
    "\n",
    "X_test = test_dataset.data / 255.0\n",
    "Y_test = test_dataset.targets\n",
    "\n",
    "# redefine the datasets\n",
    "train_dataset = Dataset(X_train, Y_train)\n",
    "val_dataset = Dataset(X_val, Y_val)\n",
    "test_dataset = Dataset(X_test, Y_test)\n",
    "\n",
    "# setup the dataloaders\n",
    "train_loader = DataLoader(train_dataset, batch_size=BATCH_SIZE, shuffle=True)\n",
    "val_loader = DataLoader(val_dataset, batch_size=BATCH_SIZE, shuffle=False)\n",
    "test_loader = DataLoader(test_dataset, batch_size=BATCH_SIZE, shuffle=False)"
   ]
  },
  {
   "cell_type": "markdown",
   "metadata": {},
   "source": [
    "## Define the Bayesian neural network  model"
   ]
  },
  {
   "cell_type": "code",
   "execution_count": null,
   "metadata": {},
   "outputs": [],
   "source": [
    "PyroLinear = pyro.nn.PyroModule[torch.nn.Linear]\n",
    "    \n",
    "class BNN(pyro.nn.PyroModule):\n",
    "    \n",
    "    def __init__(self, input_size, hidden_size, output_size, prec=1., device='cpu'):\n",
    "        super().__init__()\n",
    "        # prec is a kwarg that should only used by SGD to set the regularization strength \n",
    "        # recall that a Guassian prior over the weights is equivalent to L2 norm regularization in the non-Bayes setting\n",
    "\n",
    "        self.device = device\n",
    "        \n",
    "        # TODO add gamma priors to precision terms\n",
    "\n",
    "        self.fc1 = PyroLinear(input_size, hidden_size)\n",
    "\n",
    "        fc1_weight_loc = torch.zeros((hidden_size, input_size), device=self.device)\n",
    "        fc1_weight_scale = torch.ones((hidden_size, input_size), device=self.device) * prec\n",
    "\n",
    "        fc1_bias_loc = torch.zeros((hidden_size,), device=self.device)\n",
    "        fc1_bias_scale = torch.ones((hidden_size,), device=self.device) * prec\n",
    "\n",
    "        self.fc1.weight = pyro.nn.PyroSample(dist.Normal(fc1_weight_loc, fc1_weight_scale).to_event(2))\n",
    "        self.fc1.bias   = pyro.nn.PyroSample(dist.Normal(fc1_bias_loc, fc1_bias_scale).to_event(1))\n",
    "        \n",
    "        self.fc2 = PyroLinear(hidden_size, output_size)\n",
    "\n",
    "        fc2_weight_loc = torch.zeros((output_size, hidden_size), device=self.device)\n",
    "        fc2_weight_scale = torch.ones((output_size, hidden_size), device=self.device) * prec\n",
    "\n",
    "        fc2_bias_loc = torch.zeros((output_size,), device=self.device)\n",
    "        fc2_bias_scale = torch.ones((output_size,), device=self.device) * prec\n",
    "\n",
    "        self.fc2.weight = pyro.nn.PyroSample(dist.Normal(fc2_weight_loc, fc2_weight_scale).to_event(2))\n",
    "        self.fc2.bias   = pyro.nn.PyroSample(dist.Normal(fc2_bias_loc, fc2_bias_scale).to_event(1))\n",
    "        \n",
    "        self.relu = torch.nn.ReLU()\n",
    "        self.log_softmax = torch.nn.LogSoftmax(dim=1)\n",
    "\n",
    "    def forward(self, x, y=None):\n",
    "        x = x.view(-1, 28*28).to(self.device)\n",
    "        x = self.relu(self.fc1(x))\n",
    "        x = self.fc2(x)\n",
    "        x = self.log_softmax(x)# output (log) softmax probabilities of each class\n",
    "\n",
    "        if y is not None:\n",
    "            y = y.to(self.device)\n",
    "        \n",
    "        with pyro.plate(\"data\", x.shape[0]):\n",
    "            obs = pyro.sample(\"obs\", dist.Categorical(logits=x), obs=y)"
   ]
  },
  {
   "cell_type": "markdown",
   "metadata": {},
   "source": [
    "## Not using observed information"
   ]
  },
  {
   "cell_type": "code",
   "execution_count": 8,
   "metadata": {
    "scrolled": true,
    "tags": []
   },
   "outputs": [
    {
     "name": "stderr",
     "output_type": "stream",
     "text": [
      "Sample: 100%|██████████████████████████| 100/100 [00:06, 14.40it/s, lr=2.00e-06]\n",
      "Sample: 100%|██████████████████████████| 100/100 [00:05, 16.76it/s, lr=2.00e-06]\n",
      "Sample: 100%|██████████████████████████| 100/100 [00:06, 16.16it/s, lr=2.00e-06]\n",
      "Sample: 100%|██████████████████████████| 100/100 [00:05, 17.25it/s, lr=2.00e-06]\n",
      "Sample: 100%|██████████████████████████| 100/100 [00:05, 16.75it/s, lr=2.00e-06]\n",
      "Sample: 100%|██████████████████████████| 100/100 [00:05, 16.89it/s, lr=2.00e-06]\n",
      "Sample: 100%|██████████████████████████| 100/100 [00:05, 16.70it/s, lr=2.00e-06]\n",
      "Sample: 100%|██████████████████████████| 100/100 [00:06, 16.66it/s, lr=2.00e-06]\n",
      "Sample: 100%|██████████████████████████| 100/100 [00:05, 17.17it/s, lr=2.00e-06]\n",
      "Sample: 100%|██████████████████████████| 100/100 [00:05, 16.98it/s, lr=2.00e-06]\n",
      "Sample: 100%|██████████████████████████| 100/100 [00:05, 16.73it/s, lr=2.00e-06]\n",
      "Sample: 100%|██████████████████████████| 100/100 [00:05, 16.67it/s, lr=2.00e-06]\n",
      "Sample: 100%|██████████████████████████| 100/100 [00:05, 16.90it/s, lr=2.00e-06]\n",
      "Sample: 100%|██████████████████████████| 100/100 [00:05, 16.81it/s, lr=2.00e-06]\n",
      "Sample: 100%|██████████████████████████| 100/100 [00:06, 16.58it/s, lr=2.00e-06]\n",
      "Sample: 100%|██████████████████████████| 100/100 [00:05, 16.95it/s, lr=2.00e-06]\n",
      "Sample: 100%|██████████████████████████| 100/100 [00:05, 16.70it/s, lr=2.00e-06]\n",
      "Sample: 100%|██████████████████████████| 100/100 [00:05, 17.16it/s, lr=2.00e-06]\n",
      "Sample: 100%|██████████████████████████| 100/100 [00:06, 16.40it/s, lr=2.00e-06]\n",
      "Sample: 100%|██████████████████████████| 100/100 [00:05, 16.68it/s, lr=2.00e-06]\n",
      "Sample: 100%|██████████████████████████| 100/100 [00:06, 16.42it/s, lr=2.00e-06]\n",
      "Sample: 100%|██████████████████████████| 100/100 [00:05, 17.21it/s, lr=2.00e-06]\n",
      "Sample: 100%|██████████████████████████| 100/100 [00:06, 16.60it/s, lr=2.00e-06]\n",
      "Sample: 100%|██████████████████████████| 100/100 [00:05, 16.88it/s, lr=2.00e-06]\n",
      "Sample: 100%|██████████████████████████| 100/100 [00:05, 17.18it/s, lr=2.00e-06]\n",
      "Sample: 100%|██████████████████████████| 100/100 [00:06, 16.30it/s, lr=2.00e-06]\n",
      "Sample: 100%|██████████████████████████| 100/100 [00:05, 17.09it/s, lr=2.00e-06]\n",
      "Sample: 100%|██████████████████████████| 100/100 [00:05, 16.88it/s, lr=2.00e-06]\n",
      "Sample: 100%|██████████████████████████| 100/100 [00:05, 16.90it/s, lr=2.00e-06]\n",
      "Sample: 100%|██████████████████████████| 100/100 [00:05, 16.70it/s, lr=2.00e-06]\n",
      "Sample: 100%|██████████████████████████| 100/100 [00:05, 17.03it/s, lr=2.00e-06]\n",
      "Sample: 100%|██████████████████████████| 100/100 [00:05, 17.17it/s, lr=2.00e-06]\n",
      "Sample: 100%|██████████████████████████| 100/100 [00:05, 16.96it/s, lr=2.00e-06]\n",
      "Sample: 100%|██████████████████████████| 100/100 [00:06, 16.65it/s, lr=2.00e-06]\n",
      "Sample: 100%|██████████████████████████| 100/100 [00:05, 16.72it/s, lr=2.00e-06]\n",
      "Sample: 100%|██████████████████████████| 100/100 [00:05, 17.31it/s, lr=2.00e-06]\n",
      "Sample: 100%|██████████████████████████| 100/100 [00:05, 16.96it/s, lr=2.00e-06]\n",
      "Sample: 100%|██████████████████████████| 100/100 [00:05, 17.03it/s, lr=2.00e-06]\n",
      "Sample: 100%|██████████████████████████| 100/100 [00:05, 16.69it/s, lr=2.00e-06]\n",
      "Sample: 100%|██████████████████████████| 100/100 [00:05, 17.61it/s, lr=2.00e-06]\n",
      "Sample: 100%|██████████████████████████| 100/100 [00:06, 16.43it/s, lr=2.00e-06]\n",
      "Sample: 100%|██████████████████████████| 100/100 [00:06, 16.54it/s, lr=2.00e-06]\n",
      "Sample: 100%|██████████████████████████| 100/100 [00:05, 16.91it/s, lr=2.00e-06]\n",
      "Sample: 100%|██████████████████████████| 100/100 [00:05, 16.86it/s, lr=2.00e-06]\n",
      "Sample: 100%|██████████████████████████| 100/100 [00:05, 17.53it/s, lr=2.00e-06]\n",
      "Sample: 100%|██████████████████████████| 100/100 [00:05, 17.03it/s, lr=2.00e-06]\n",
      "Sample: 100%|██████████████████████████| 100/100 [00:06, 16.47it/s, lr=2.00e-06]\n",
      "Sample: 100%|██████████████████████████| 100/100 [00:06, 15.81it/s, lr=2.00e-06]\n",
      "Sample: 100%|██████████████████████████| 100/100 [00:06, 15.91it/s, lr=2.00e-06]\n",
      "Sample: 100%|██████████████████████████| 100/100 [00:06, 15.69it/s, lr=2.00e-06]\n"
     ]
    },
    {
     "name": "stdout",
     "output_type": "stream",
     "text": [
      "Epoch [0/100] test accuracy: 0.9166 time: 14.09\n"
     ]
    },
    {
     "name": "stderr",
     "output_type": "stream",
     "text": [
      "Sample: 100%|██████████████████████████| 100/100 [00:05, 17.82it/s, lr=2.00e-06]\n"
     ]
    },
    {
     "name": "stdout",
     "output_type": "stream",
     "text": [
      "Epoch [1/100] test accuracy: 0.9188 time: 13.81\n"
     ]
    },
    {
     "name": "stderr",
     "output_type": "stream",
     "text": [
      "Sample: 100%|██████████████████████████| 100/100 [00:06, 16.44it/s, lr=2.00e-06]\n"
     ]
    },
    {
     "name": "stdout",
     "output_type": "stream",
     "text": [
      "Epoch [2/100] test accuracy: 0.9197 time: 14.20\n"
     ]
    },
    {
     "name": "stderr",
     "output_type": "stream",
     "text": [
      "Sample: 100%|██████████████████████████| 100/100 [00:06, 16.33it/s, lr=2.00e-06]\n"
     ]
    },
    {
     "name": "stdout",
     "output_type": "stream",
     "text": [
      "Epoch [3/100] test accuracy: 0.9197 time: 14.41\n"
     ]
    },
    {
     "name": "stderr",
     "output_type": "stream",
     "text": [
      "Sample: 100%|██████████████████████████| 100/100 [00:06, 16.09it/s, lr=2.00e-06]\n"
     ]
    },
    {
     "name": "stdout",
     "output_type": "stream",
     "text": [
      "Epoch [4/100] test accuracy: 0.9211 time: 14.40\n"
     ]
    },
    {
     "name": "stderr",
     "output_type": "stream",
     "text": [
      "Sample: 100%|██████████████████████████| 100/100 [00:05, 17.23it/s, lr=2.00e-06]\n"
     ]
    },
    {
     "name": "stdout",
     "output_type": "stream",
     "text": [
      "Epoch [5/100] test accuracy: 0.9212 time: 14.11\n"
     ]
    },
    {
     "name": "stderr",
     "output_type": "stream",
     "text": [
      "Sample: 100%|██████████████████████████| 100/100 [00:05, 16.99it/s, lr=2.00e-06]\n"
     ]
    },
    {
     "name": "stdout",
     "output_type": "stream",
     "text": [
      "Epoch [6/100] test accuracy: 0.9209 time: 13.59\n"
     ]
    },
    {
     "name": "stderr",
     "output_type": "stream",
     "text": [
      "Sample: 100%|██████████████████████████| 100/100 [00:06, 15.93it/s, lr=2.00e-06]\n"
     ]
    },
    {
     "name": "stdout",
     "output_type": "stream",
     "text": [
      "Epoch [7/100] test accuracy: 0.9220 time: 14.29\n"
     ]
    },
    {
     "name": "stderr",
     "output_type": "stream",
     "text": [
      "Sample: 100%|██████████████████████████| 100/100 [00:05, 17.50it/s, lr=2.00e-06]\n"
     ]
    },
    {
     "name": "stdout",
     "output_type": "stream",
     "text": [
      "Epoch [8/100] test accuracy: 0.9220 time: 13.59\n"
     ]
    },
    {
     "name": "stderr",
     "output_type": "stream",
     "text": [
      "Sample: 100%|██████████████████████████| 100/100 [00:06, 16.56it/s, lr=2.00e-06]\n"
     ]
    },
    {
     "name": "stdout",
     "output_type": "stream",
     "text": [
      "Epoch [9/100] test accuracy: 0.9227 time: 14.32\n"
     ]
    },
    {
     "name": "stderr",
     "output_type": "stream",
     "text": [
      "Sample: 100%|██████████████████████████| 100/100 [00:06, 16.61it/s, lr=2.00e-06]\n"
     ]
    },
    {
     "name": "stdout",
     "output_type": "stream",
     "text": [
      "Epoch [10/100] test accuracy: 0.9238 time: 12.90\n"
     ]
    },
    {
     "name": "stderr",
     "output_type": "stream",
     "text": [
      "Sample: 100%|██████████████████████████| 100/100 [00:05, 16.74it/s, lr=2.00e-06]\n"
     ]
    },
    {
     "name": "stdout",
     "output_type": "stream",
     "text": [
      "Epoch [11/100] test accuracy: 0.9242 time: 13.21\n"
     ]
    },
    {
     "name": "stderr",
     "output_type": "stream",
     "text": [
      "Sample: 100%|██████████████████████████| 100/100 [00:05, 16.95it/s, lr=2.00e-06]\n"
     ]
    },
    {
     "name": "stdout",
     "output_type": "stream",
     "text": [
      "Epoch [12/100] test accuracy: 0.9238 time: 13.67\n"
     ]
    },
    {
     "name": "stderr",
     "output_type": "stream",
     "text": [
      "Sample: 100%|██████████████████████████| 100/100 [00:06, 16.41it/s, lr=2.00e-06]\n"
     ]
    },
    {
     "name": "stdout",
     "output_type": "stream",
     "text": [
      "Epoch [13/100] test accuracy: 0.9243 time: 14.04\n"
     ]
    },
    {
     "name": "stderr",
     "output_type": "stream",
     "text": [
      "Sample: 100%|██████████████████████████| 100/100 [00:05, 17.53it/s, lr=2.00e-06]\n"
     ]
    },
    {
     "name": "stdout",
     "output_type": "stream",
     "text": [
      "Epoch [14/100] test accuracy: 0.9254 time: 13.30\n"
     ]
    },
    {
     "name": "stderr",
     "output_type": "stream",
     "text": [
      "Sample: 100%|██████████████████████████| 100/100 [00:05, 16.79it/s, lr=2.00e-06]\n"
     ]
    },
    {
     "name": "stdout",
     "output_type": "stream",
     "text": [
      "Epoch [15/100] test accuracy: 0.9260 time: 12.76\n"
     ]
    },
    {
     "name": "stderr",
     "output_type": "stream",
     "text": [
      "Sample: 100%|██████████████████████████| 100/100 [00:05, 17.22it/s, lr=2.00e-06]\n"
     ]
    },
    {
     "name": "stdout",
     "output_type": "stream",
     "text": [
      "Epoch [16/100] test accuracy: 0.9270 time: 13.71\n"
     ]
    },
    {
     "name": "stderr",
     "output_type": "stream",
     "text": [
      "Sample: 100%|██████████████████████████| 100/100 [00:05, 17.59it/s, lr=2.00e-06]\n"
     ]
    },
    {
     "name": "stdout",
     "output_type": "stream",
     "text": [
      "Epoch [17/100] test accuracy: 0.9279 time: 14.00\n"
     ]
    },
    {
     "name": "stderr",
     "output_type": "stream",
     "text": [
      "Sample: 100%|██████████████████████████| 100/100 [00:06, 15.82it/s, lr=2.00e-06]\n"
     ]
    },
    {
     "name": "stdout",
     "output_type": "stream",
     "text": [
      "Epoch [18/100] test accuracy: 0.9279 time: 13.71\n"
     ]
    },
    {
     "name": "stderr",
     "output_type": "stream",
     "text": [
      "Sample: 100%|██████████████████████████| 100/100 [00:05, 17.54it/s, lr=2.00e-06]\n"
     ]
    },
    {
     "name": "stdout",
     "output_type": "stream",
     "text": [
      "Epoch [19/100] test accuracy: 0.9285 time: 13.59\n"
     ]
    },
    {
     "name": "stderr",
     "output_type": "stream",
     "text": [
      "Sample: 100%|██████████████████████████| 100/100 [00:05, 16.98it/s, lr=2.00e-06]\n"
     ]
    },
    {
     "name": "stdout",
     "output_type": "stream",
     "text": [
      "Epoch [20/100] test accuracy: 0.9291 time: 13.81\n"
     ]
    },
    {
     "name": "stderr",
     "output_type": "stream",
     "text": [
      "Sample: 100%|██████████████████████████| 100/100 [00:05, 16.68it/s, lr=2.00e-06]\n"
     ]
    },
    {
     "name": "stdout",
     "output_type": "stream",
     "text": [
      "Epoch [21/100] test accuracy: 0.9296 time: 13.91\n"
     ]
    },
    {
     "name": "stderr",
     "output_type": "stream",
     "text": [
      "Sample: 100%|██████████████████████████| 100/100 [00:05, 16.94it/s, lr=2.00e-06]\n"
     ]
    },
    {
     "name": "stdout",
     "output_type": "stream",
     "text": [
      "Epoch [22/100] test accuracy: 0.9301 time: 13.79\n"
     ]
    },
    {
     "name": "stderr",
     "output_type": "stream",
     "text": [
      "Sample: 100%|██████████████████████████| 100/100 [00:06, 15.23it/s, lr=2.00e-06]\n"
     ]
    },
    {
     "name": "stdout",
     "output_type": "stream",
     "text": [
      "Epoch [23/100] test accuracy: 0.9306 time: 14.00\n"
     ]
    },
    {
     "name": "stderr",
     "output_type": "stream",
     "text": [
      "Sample: 100%|██████████████████████████| 100/100 [00:05, 17.06it/s, lr=2.00e-06]\n"
     ]
    },
    {
     "name": "stdout",
     "output_type": "stream",
     "text": [
      "Epoch [24/100] test accuracy: 0.9307 time: 13.90\n"
     ]
    },
    {
     "name": "stderr",
     "output_type": "stream",
     "text": [
      "Sample: 100%|██████████████████████████| 100/100 [00:05, 16.95it/s, lr=2.00e-06]\n"
     ]
    },
    {
     "name": "stdout",
     "output_type": "stream",
     "text": [
      "Epoch [25/100] test accuracy: 0.9313 time: 13.90\n"
     ]
    },
    {
     "name": "stderr",
     "output_type": "stream",
     "text": [
      "Sample: 100%|██████████████████████████| 100/100 [00:05, 17.56it/s, lr=2.00e-06]\n"
     ]
    },
    {
     "name": "stdout",
     "output_type": "stream",
     "text": [
      "Epoch [26/100] test accuracy: 0.9315 time: 13.56\n"
     ]
    },
    {
     "name": "stderr",
     "output_type": "stream",
     "text": [
      "Sample: 100%|██████████████████████████| 100/100 [00:05, 16.88it/s, lr=2.00e-06]\n"
     ]
    },
    {
     "name": "stdout",
     "output_type": "stream",
     "text": [
      "Epoch [27/100] test accuracy: 0.9318 time: 13.25\n"
     ]
    },
    {
     "name": "stderr",
     "output_type": "stream",
     "text": [
      "Sample: 100%|██████████████████████████| 100/100 [00:05, 17.38it/s, lr=2.00e-06]\n"
     ]
    },
    {
     "name": "stdout",
     "output_type": "stream",
     "text": [
      "Epoch [28/100] test accuracy: 0.9321 time: 12.96\n"
     ]
    },
    {
     "name": "stderr",
     "output_type": "stream",
     "text": [
      "Sample: 100%|██████████████████████████| 100/100 [00:05, 17.16it/s, lr=2.00e-06]\n"
     ]
    },
    {
     "name": "stdout",
     "output_type": "stream",
     "text": [
      "Epoch [29/100] test accuracy: 0.9327 time: 13.41\n"
     ]
    },
    {
     "name": "stderr",
     "output_type": "stream",
     "text": [
      "Sample: 100%|██████████████████████████| 100/100 [00:06, 16.33it/s, lr=2.00e-06]\n"
     ]
    },
    {
     "name": "stdout",
     "output_type": "stream",
     "text": [
      "Epoch [30/100] test accuracy: 0.9333 time: 13.91\n"
     ]
    },
    {
     "name": "stderr",
     "output_type": "stream",
     "text": [
      "Sample: 100%|██████████████████████████| 100/100 [00:05, 17.02it/s, lr=2.00e-06]\n"
     ]
    },
    {
     "name": "stdout",
     "output_type": "stream",
     "text": [
      "Epoch [31/100] test accuracy: 0.9340 time: 13.80\n"
     ]
    },
    {
     "name": "stderr",
     "output_type": "stream",
     "text": [
      "Sample: 100%|██████████████████████████| 100/100 [00:06, 16.37it/s, lr=2.00e-06]\n"
     ]
    },
    {
     "name": "stdout",
     "output_type": "stream",
     "text": [
      "Epoch [32/100] test accuracy: 0.9346 time: 12.59\n"
     ]
    },
    {
     "name": "stderr",
     "output_type": "stream",
     "text": [
      "Sample: 100%|██████████████████████████| 100/100 [00:05, 17.20it/s, lr=2.00e-06]\n"
     ]
    },
    {
     "name": "stdout",
     "output_type": "stream",
     "text": [
      "Epoch [33/100] test accuracy: 0.9349 time: 13.98\n"
     ]
    },
    {
     "name": "stderr",
     "output_type": "stream",
     "text": [
      "Sample: 100%|██████████████████████████| 100/100 [00:05, 17.19it/s, lr=2.00e-06]\n"
     ]
    },
    {
     "name": "stdout",
     "output_type": "stream",
     "text": [
      "Epoch [34/100] test accuracy: 0.9355 time: 13.81\n"
     ]
    },
    {
     "name": "stderr",
     "output_type": "stream",
     "text": [
      "Sample: 100%|██████████████████████████| 100/100 [00:05, 16.71it/s, lr=2.00e-06]\n"
     ]
    },
    {
     "name": "stdout",
     "output_type": "stream",
     "text": [
      "Epoch [35/100] test accuracy: 0.9361 time: 13.71\n"
     ]
    },
    {
     "name": "stderr",
     "output_type": "stream",
     "text": [
      "Sample: 100%|██████████████████████████| 100/100 [00:05, 16.94it/s, lr=2.00e-06]\n"
     ]
    },
    {
     "name": "stdout",
     "output_type": "stream",
     "text": [
      "Epoch [36/100] test accuracy: 0.9364 time: 13.57\n"
     ]
    },
    {
     "name": "stderr",
     "output_type": "stream",
     "text": [
      "Sample: 100%|██████████████████████████| 100/100 [00:05, 17.56it/s, lr=2.00e-06]\n"
     ]
    },
    {
     "name": "stdout",
     "output_type": "stream",
     "text": [
      "Epoch [37/100] test accuracy: 0.9366 time: 13.92\n"
     ]
    },
    {
     "name": "stderr",
     "output_type": "stream",
     "text": [
      "Sample: 100%|██████████████████████████| 100/100 [00:05, 17.21it/s, lr=2.00e-06]\n"
     ]
    },
    {
     "name": "stdout",
     "output_type": "stream",
     "text": [
      "Epoch [38/100] test accuracy: 0.9370 time: 13.59\n"
     ]
    },
    {
     "name": "stderr",
     "output_type": "stream",
     "text": [
      "Sample: 100%|██████████████████████████| 100/100 [00:05, 16.98it/s, lr=2.00e-06]\n"
     ]
    },
    {
     "name": "stdout",
     "output_type": "stream",
     "text": [
      "Epoch [39/100] test accuracy: 0.9370 time: 13.51\n"
     ]
    },
    {
     "name": "stderr",
     "output_type": "stream",
     "text": [
      "Sample: 100%|██████████████████████████| 100/100 [00:06, 16.60it/s, lr=2.00e-06]\n"
     ]
    },
    {
     "name": "stdout",
     "output_type": "stream",
     "text": [
      "Epoch [40/100] test accuracy: 0.9374 time: 13.88\n"
     ]
    },
    {
     "name": "stderr",
     "output_type": "stream",
     "text": [
      "Sample: 100%|██████████████████████████| 100/100 [00:05, 16.67it/s, lr=2.00e-06]\n"
     ]
    },
    {
     "name": "stdout",
     "output_type": "stream",
     "text": [
      "Epoch [41/100] test accuracy: 0.9374 time: 13.80\n"
     ]
    },
    {
     "name": "stderr",
     "output_type": "stream",
     "text": [
      "Sample: 100%|██████████████████████████| 100/100 [00:05, 16.97it/s, lr=2.00e-06]\n"
     ]
    },
    {
     "name": "stdout",
     "output_type": "stream",
     "text": [
      "Epoch [42/100] test accuracy: 0.9373 time: 13.82\n"
     ]
    },
    {
     "name": "stderr",
     "output_type": "stream",
     "text": [
      "Sample: 100%|██████████████████████████| 100/100 [00:05, 16.97it/s, lr=2.00e-06]\n"
     ]
    },
    {
     "name": "stdout",
     "output_type": "stream",
     "text": [
      "Epoch [43/100] test accuracy: 0.9379 time: 13.90\n"
     ]
    },
    {
     "name": "stderr",
     "output_type": "stream",
     "text": [
      "Sample: 100%|██████████████████████████| 100/100 [00:05, 16.91it/s, lr=2.00e-06]\n"
     ]
    },
    {
     "name": "stdout",
     "output_type": "stream",
     "text": [
      "Epoch [44/100] test accuracy: 0.9380 time: 13.60\n"
     ]
    },
    {
     "name": "stderr",
     "output_type": "stream",
     "text": [
      "Sample: 100%|██████████████████████████| 100/100 [00:05, 16.96it/s, lr=2.00e-06]\n"
     ]
    },
    {
     "name": "stdout",
     "output_type": "stream",
     "text": [
      "Epoch [45/100] test accuracy: 0.9380 time: 13.11\n"
     ]
    },
    {
     "name": "stderr",
     "output_type": "stream",
     "text": [
      "Sample: 100%|██████████████████████████| 100/100 [00:05, 16.98it/s, lr=2.00e-06]\n"
     ]
    },
    {
     "name": "stdout",
     "output_type": "stream",
     "text": [
      "Epoch [46/100] test accuracy: 0.9387 time: 13.57\n"
     ]
    },
    {
     "name": "stderr",
     "output_type": "stream",
     "text": [
      "Sample: 100%|██████████████████████████| 100/100 [00:05, 17.12it/s, lr=2.00e-06]\n"
     ]
    },
    {
     "name": "stdout",
     "output_type": "stream",
     "text": [
      "Epoch [47/100] test accuracy: 0.9390 time: 13.94\n"
     ]
    },
    {
     "name": "stderr",
     "output_type": "stream",
     "text": [
      "Sample: 100%|██████████████████████████| 100/100 [00:05, 16.70it/s, lr=2.00e-06]\n"
     ]
    },
    {
     "name": "stdout",
     "output_type": "stream",
     "text": [
      "Epoch [48/100] test accuracy: 0.9390 time: 13.69\n"
     ]
    },
    {
     "name": "stderr",
     "output_type": "stream",
     "text": [
      "Sample: 100%|██████████████████████████| 100/100 [00:05, 17.20it/s, lr=2.00e-06]\n"
     ]
    },
    {
     "name": "stdout",
     "output_type": "stream",
     "text": [
      "Epoch [49/100] test accuracy: 0.9390 time: 13.58\n"
     ]
    },
    {
     "name": "stderr",
     "output_type": "stream",
     "text": [
      "Sample: 100%|██████████████████████████| 100/100 [00:05, 17.12it/s, lr=2.00e-06]\n"
     ]
    },
    {
     "name": "stdout",
     "output_type": "stream",
     "text": [
      "Epoch [50/100] test accuracy: 0.9394 time: 13.72\n"
     ]
    },
    {
     "name": "stderr",
     "output_type": "stream",
     "text": [
      "Sample: 100%|██████████████████████████| 100/100 [00:05, 16.75it/s, lr=2.00e-06]\n"
     ]
    },
    {
     "name": "stdout",
     "output_type": "stream",
     "text": [
      "Epoch [51/100] test accuracy: 0.9397 time: 13.81\n"
     ]
    },
    {
     "name": "stderr",
     "output_type": "stream",
     "text": [
      "Sample: 100%|██████████████████████████| 100/100 [00:05, 16.76it/s, lr=2.00e-06]\n"
     ]
    },
    {
     "name": "stdout",
     "output_type": "stream",
     "text": [
      "Epoch [52/100] test accuracy: 0.9402 time: 13.79\n"
     ]
    },
    {
     "name": "stderr",
     "output_type": "stream",
     "text": [
      "Sample: 100%|██████████████████████████| 100/100 [00:06, 15.34it/s, lr=2.00e-06]\n"
     ]
    },
    {
     "name": "stdout",
     "output_type": "stream",
     "text": [
      "Epoch [53/100] test accuracy: 0.9402 time: 14.31\n"
     ]
    },
    {
     "name": "stderr",
     "output_type": "stream",
     "text": [
      "Sample: 100%|██████████████████████████| 100/100 [00:05, 16.71it/s, lr=2.00e-06]\n"
     ]
    },
    {
     "name": "stdout",
     "output_type": "stream",
     "text": [
      "Epoch [54/100] test accuracy: 0.9405 time: 13.69\n"
     ]
    },
    {
     "name": "stderr",
     "output_type": "stream",
     "text": [
      "Sample: 100%|██████████████████████████| 100/100 [00:05, 16.97it/s, lr=2.00e-06]\n"
     ]
    },
    {
     "name": "stdout",
     "output_type": "stream",
     "text": [
      "Epoch [55/100] test accuracy: 0.9409 time: 13.61\n"
     ]
    },
    {
     "name": "stderr",
     "output_type": "stream",
     "text": [
      "Sample: 100%|██████████████████████████| 100/100 [00:06, 16.22it/s, lr=2.00e-06]\n"
     ]
    },
    {
     "name": "stdout",
     "output_type": "stream",
     "text": [
      "Epoch [56/100] test accuracy: 0.9409 time: 12.88\n"
     ]
    },
    {
     "name": "stderr",
     "output_type": "stream",
     "text": [
      "Sample: 100%|██████████████████████████| 100/100 [00:06, 16.35it/s, lr=2.00e-06]\n"
     ]
    },
    {
     "name": "stdout",
     "output_type": "stream",
     "text": [
      "Epoch [57/100] test accuracy: 0.9411 time: 13.81\n"
     ]
    },
    {
     "name": "stderr",
     "output_type": "stream",
     "text": [
      "Sample: 100%|██████████████████████████| 100/100 [00:05, 16.77it/s, lr=2.00e-06]\n"
     ]
    },
    {
     "name": "stdout",
     "output_type": "stream",
     "text": [
      "Epoch [58/100] test accuracy: 0.9417 time: 13.68\n"
     ]
    },
    {
     "name": "stderr",
     "output_type": "stream",
     "text": [
      "Sample: 100%|██████████████████████████| 100/100 [00:05, 17.22it/s, lr=2.00e-06]\n"
     ]
    },
    {
     "name": "stdout",
     "output_type": "stream",
     "text": [
      "Epoch [59/100] test accuracy: 0.9421 time: 13.79\n"
     ]
    },
    {
     "name": "stderr",
     "output_type": "stream",
     "text": [
      "Sample: 100%|██████████████████████████| 100/100 [00:05, 17.17it/s, lr=2.00e-06]\n"
     ]
    },
    {
     "name": "stdout",
     "output_type": "stream",
     "text": [
      "Epoch [60/100] test accuracy: 0.9423 time: 13.24\n"
     ]
    },
    {
     "name": "stderr",
     "output_type": "stream",
     "text": [
      "Sample: 100%|██████████████████████████| 100/100 [00:05, 16.71it/s, lr=2.00e-06]\n"
     ]
    },
    {
     "name": "stdout",
     "output_type": "stream",
     "text": [
      "Epoch [61/100] test accuracy: 0.9428 time: 13.66\n"
     ]
    },
    {
     "name": "stderr",
     "output_type": "stream",
     "text": [
      "Sample: 100%|██████████████████████████| 100/100 [00:05, 17.46it/s, lr=2.00e-06]\n"
     ]
    },
    {
     "name": "stdout",
     "output_type": "stream",
     "text": [
      "Epoch [62/100] test accuracy: 0.9431 time: 13.40\n"
     ]
    },
    {
     "name": "stderr",
     "output_type": "stream",
     "text": [
      "Sample: 100%|██████████████████████████| 100/100 [00:05, 17.29it/s, lr=2.00e-06]\n"
     ]
    },
    {
     "name": "stdout",
     "output_type": "stream",
     "text": [
      "Epoch [63/100] test accuracy: 0.9432 time: 13.51\n"
     ]
    },
    {
     "name": "stderr",
     "output_type": "stream",
     "text": [
      "Sample: 100%|██████████████████████████| 100/100 [00:06, 16.61it/s, lr=2.00e-06]\n"
     ]
    },
    {
     "name": "stdout",
     "output_type": "stream",
     "text": [
      "Epoch [64/100] test accuracy: 0.9435 time: 14.20\n"
     ]
    },
    {
     "name": "stderr",
     "output_type": "stream",
     "text": [
      "Sample: 100%|██████████████████████████| 100/100 [00:05, 16.94it/s, lr=2.00e-06]\n"
     ]
    },
    {
     "name": "stdout",
     "output_type": "stream",
     "text": [
      "Epoch [65/100] test accuracy: 0.9437 time: 13.80\n"
     ]
    },
    {
     "name": "stderr",
     "output_type": "stream",
     "text": [
      "Sample: 100%|██████████████████████████| 100/100 [00:05, 16.97it/s, lr=2.00e-06]\n"
     ]
    },
    {
     "name": "stdout",
     "output_type": "stream",
     "text": [
      "Epoch [66/100] test accuracy: 0.9438 time: 13.31\n"
     ]
    },
    {
     "name": "stderr",
     "output_type": "stream",
     "text": [
      "Sample: 100%|██████████████████████████| 100/100 [00:05, 17.30it/s, lr=2.00e-06]\n"
     ]
    },
    {
     "name": "stdout",
     "output_type": "stream",
     "text": [
      "Epoch [67/100] test accuracy: 0.9439 time: 13.69\n"
     ]
    },
    {
     "name": "stderr",
     "output_type": "stream",
     "text": [
      "Sample: 100%|██████████████████████████| 100/100 [00:06, 16.13it/s, lr=2.00e-06]\n"
     ]
    },
    {
     "name": "stdout",
     "output_type": "stream",
     "text": [
      "Epoch [68/100] test accuracy: 0.9444 time: 14.21\n"
     ]
    },
    {
     "name": "stderr",
     "output_type": "stream",
     "text": [
      "Sample: 100%|██████████████████████████| 100/100 [00:06, 15.82it/s, lr=2.00e-06]\n"
     ]
    },
    {
     "name": "stdout",
     "output_type": "stream",
     "text": [
      "Epoch [69/100] test accuracy: 0.9446 time: 13.81\n"
     ]
    },
    {
     "name": "stderr",
     "output_type": "stream",
     "text": [
      "Sample: 100%|██████████████████████████| 100/100 [00:06, 16.67it/s, lr=2.00e-06]\n"
     ]
    },
    {
     "name": "stdout",
     "output_type": "stream",
     "text": [
      "Epoch [70/100] test accuracy: 0.9446 time: 13.80\n"
     ]
    },
    {
     "name": "stderr",
     "output_type": "stream",
     "text": [
      "Sample: 100%|██████████████████████████| 100/100 [00:05, 17.39it/s, lr=2.00e-06]\n"
     ]
    },
    {
     "name": "stdout",
     "output_type": "stream",
     "text": [
      "Epoch [71/100] test accuracy: 0.9447 time: 12.90\n"
     ]
    },
    {
     "name": "stderr",
     "output_type": "stream",
     "text": [
      "Sample: 100%|██████████████████████████| 100/100 [00:05, 16.98it/s, lr=2.00e-06]\n"
     ]
    },
    {
     "name": "stdout",
     "output_type": "stream",
     "text": [
      "Epoch [72/100] test accuracy: 0.9446 time: 12.88\n"
     ]
    },
    {
     "name": "stderr",
     "output_type": "stream",
     "text": [
      "Sample: 100%|██████████████████████████| 100/100 [00:06, 16.64it/s, lr=2.00e-06]\n"
     ]
    },
    {
     "name": "stdout",
     "output_type": "stream",
     "text": [
      "Epoch [73/100] test accuracy: 0.9450 time: 13.68\n"
     ]
    },
    {
     "name": "stderr",
     "output_type": "stream",
     "text": [
      "Sample: 100%|██████████████████████████| 100/100 [00:05, 16.92it/s, lr=2.00e-06]\n"
     ]
    },
    {
     "name": "stdout",
     "output_type": "stream",
     "text": [
      "Epoch [74/100] test accuracy: 0.9451 time: 13.30\n"
     ]
    },
    {
     "name": "stderr",
     "output_type": "stream",
     "text": [
      "Sample: 100%|██████████████████████████| 100/100 [00:05, 17.22it/s, lr=2.00e-06]\n"
     ]
    },
    {
     "name": "stdout",
     "output_type": "stream",
     "text": [
      "Epoch [75/100] test accuracy: 0.9456 time: 13.41\n"
     ]
    },
    {
     "name": "stderr",
     "output_type": "stream",
     "text": [
      "Sample: 100%|██████████████████████████| 100/100 [00:05, 16.90it/s, lr=2.00e-06]\n"
     ]
    },
    {
     "name": "stdout",
     "output_type": "stream",
     "text": [
      "Epoch [76/100] test accuracy: 0.9455 time: 13.88\n"
     ]
    },
    {
     "name": "stderr",
     "output_type": "stream",
     "text": [
      "Sample: 100%|██████████████████████████| 100/100 [00:05, 16.84it/s, lr=2.00e-06]\n"
     ]
    },
    {
     "name": "stdout",
     "output_type": "stream",
     "text": [
      "Epoch [77/100] test accuracy: 0.9454 time: 13.61\n"
     ]
    },
    {
     "name": "stderr",
     "output_type": "stream",
     "text": [
      "Sample: 100%|██████████████████████████| 100/100 [00:05, 17.55it/s, lr=2.00e-06]\n"
     ]
    },
    {
     "name": "stdout",
     "output_type": "stream",
     "text": [
      "Epoch [78/100] test accuracy: 0.9454 time: 12.90\n"
     ]
    },
    {
     "name": "stderr",
     "output_type": "stream",
     "text": [
      "Sample: 100%|██████████████████████████| 100/100 [00:06, 16.55it/s, lr=2.00e-06]\n"
     ]
    },
    {
     "name": "stdout",
     "output_type": "stream",
     "text": [
      "Epoch [79/100] test accuracy: 0.9457 time: 12.93\n"
     ]
    },
    {
     "name": "stderr",
     "output_type": "stream",
     "text": [
      "Sample: 100%|██████████████████████████| 100/100 [00:05, 16.68it/s, lr=2.00e-06]\n"
     ]
    },
    {
     "name": "stdout",
     "output_type": "stream",
     "text": [
      "Epoch [80/100] test accuracy: 0.9458 time: 13.40\n"
     ]
    },
    {
     "name": "stderr",
     "output_type": "stream",
     "text": [
      "Sample: 100%|██████████████████████████| 100/100 [00:06, 16.45it/s, lr=2.00e-06]\n"
     ]
    },
    {
     "name": "stdout",
     "output_type": "stream",
     "text": [
      "Epoch [81/100] test accuracy: 0.9463 time: 13.90\n"
     ]
    },
    {
     "name": "stderr",
     "output_type": "stream",
     "text": [
      "Sample: 100%|██████████████████████████| 100/100 [00:05, 16.89it/s, lr=2.00e-06]\n"
     ]
    },
    {
     "name": "stdout",
     "output_type": "stream",
     "text": [
      "Epoch [82/100] test accuracy: 0.9471 time: 12.49\n"
     ]
    },
    {
     "name": "stderr",
     "output_type": "stream",
     "text": [
      "Sample: 100%|██████████████████████████| 100/100 [00:05, 17.21it/s, lr=2.00e-06]\n"
     ]
    },
    {
     "name": "stdout",
     "output_type": "stream",
     "text": [
      "Epoch [83/100] test accuracy: 0.9471 time: 13.09\n"
     ]
    },
    {
     "name": "stderr",
     "output_type": "stream",
     "text": [
      "Sample: 100%|██████████████████████████| 100/100 [00:06, 16.62it/s, lr=2.00e-06]\n"
     ]
    },
    {
     "name": "stdout",
     "output_type": "stream",
     "text": [
      "Epoch [84/100] test accuracy: 0.9471 time: 13.80\n"
     ]
    },
    {
     "name": "stderr",
     "output_type": "stream",
     "text": [
      "Sample: 100%|██████████████████████████| 100/100 [00:06, 15.91it/s, lr=2.00e-06]\n"
     ]
    },
    {
     "name": "stdout",
     "output_type": "stream",
     "text": [
      "Epoch [85/100] test accuracy: 0.9473 time: 14.31\n"
     ]
    },
    {
     "name": "stderr",
     "output_type": "stream",
     "text": [
      "Sample: 100%|██████████████████████████| 100/100 [00:05, 16.97it/s, lr=2.00e-06]\n"
     ]
    },
    {
     "name": "stdout",
     "output_type": "stream",
     "text": [
      "Epoch [86/100] test accuracy: 0.9474 time: 13.48\n"
     ]
    },
    {
     "name": "stderr",
     "output_type": "stream",
     "text": [
      "Sample: 100%|██████████████████████████| 100/100 [00:05, 17.59it/s, lr=2.00e-06]\n"
     ]
    },
    {
     "name": "stdout",
     "output_type": "stream",
     "text": [
      "Epoch [87/100] test accuracy: 0.9478 time: 13.43\n"
     ]
    },
    {
     "name": "stderr",
     "output_type": "stream",
     "text": [
      "Sample: 100%|██████████████████████████| 100/100 [00:06, 16.19it/s, lr=2.00e-06]\n"
     ]
    },
    {
     "name": "stdout",
     "output_type": "stream",
     "text": [
      "Epoch [88/100] test accuracy: 0.9484 time: 13.59\n"
     ]
    },
    {
     "name": "stderr",
     "output_type": "stream",
     "text": [
      "Sample: 100%|██████████████████████████| 100/100 [00:05, 17.55it/s, lr=2.00e-06]\n"
     ]
    },
    {
     "name": "stdout",
     "output_type": "stream",
     "text": [
      "Epoch [89/100] test accuracy: 0.9486 time: 13.37\n"
     ]
    },
    {
     "name": "stderr",
     "output_type": "stream",
     "text": [
      "Sample: 100%|██████████████████████████| 100/100 [00:05, 16.70it/s, lr=2.00e-06]\n"
     ]
    },
    {
     "name": "stdout",
     "output_type": "stream",
     "text": [
      "Epoch [90/100] test accuracy: 0.9486 time: 13.04\n"
     ]
    },
    {
     "name": "stderr",
     "output_type": "stream",
     "text": [
      "Sample: 100%|██████████████████████████| 100/100 [00:05, 17.25it/s, lr=2.00e-06]\n"
     ]
    },
    {
     "name": "stdout",
     "output_type": "stream",
     "text": [
      "Epoch [91/100] test accuracy: 0.9489 time: 13.52\n"
     ]
    },
    {
     "name": "stderr",
     "output_type": "stream",
     "text": [
      "Sample: 100%|██████████████████████████| 100/100 [00:05, 17.24it/s, lr=2.00e-06]\n"
     ]
    },
    {
     "name": "stdout",
     "output_type": "stream",
     "text": [
      "Epoch [92/100] test accuracy: 0.9491 time: 13.61\n"
     ]
    },
    {
     "name": "stderr",
     "output_type": "stream",
     "text": [
      "Sample: 100%|██████████████████████████| 100/100 [00:06, 16.63it/s, lr=2.00e-06]\n"
     ]
    },
    {
     "name": "stdout",
     "output_type": "stream",
     "text": [
      "Epoch [93/100] test accuracy: 0.9492 time: 13.80\n"
     ]
    },
    {
     "name": "stderr",
     "output_type": "stream",
     "text": [
      "Sample: 100%|██████████████████████████| 100/100 [00:06, 16.37it/s, lr=2.00e-06]\n"
     ]
    },
    {
     "name": "stdout",
     "output_type": "stream",
     "text": [
      "Epoch [94/100] test accuracy: 0.9495 time: 13.38\n"
     ]
    },
    {
     "name": "stderr",
     "output_type": "stream",
     "text": [
      "Sample: 100%|██████████████████████████| 100/100 [00:06, 16.64it/s, lr=2.00e-06]\n"
     ]
    },
    {
     "name": "stdout",
     "output_type": "stream",
     "text": [
      "Epoch [95/100] test accuracy: 0.9496 time: 13.10\n"
     ]
    },
    {
     "name": "stderr",
     "output_type": "stream",
     "text": [
      "Sample: 100%|██████████████████████████| 100/100 [00:05, 17.74it/s, lr=2.00e-06]\n"
     ]
    },
    {
     "name": "stdout",
     "output_type": "stream",
     "text": [
      "Epoch [96/100] test accuracy: 0.9497 time: 12.91\n"
     ]
    },
    {
     "name": "stderr",
     "output_type": "stream",
     "text": [
      "Sample: 100%|██████████████████████████| 100/100 [00:05, 17.19it/s, lr=2.00e-06]\n"
     ]
    },
    {
     "name": "stdout",
     "output_type": "stream",
     "text": [
      "Epoch [97/100] test accuracy: 0.9502 time: 13.79\n"
     ]
    },
    {
     "name": "stderr",
     "output_type": "stream",
     "text": [
      "Sample: 100%|██████████████████████████| 100/100 [00:05, 17.21it/s, lr=2.00e-06]\n"
     ]
    },
    {
     "name": "stdout",
     "output_type": "stream",
     "text": [
      "Epoch [98/100] test accuracy: 0.9509 time: 13.41\n"
     ]
    },
    {
     "name": "stderr",
     "output_type": "stream",
     "text": [
      "Sample: 100%|██████████████████████████| 100/100 [00:05, 17.63it/s, lr=2.00e-06]\n"
     ]
    },
    {
     "name": "stdout",
     "output_type": "stream",
     "text": [
      "Epoch [99/100] test accuracy: 0.9509 time: 13.28\n"
     ]
    },
    {
     "name": "stderr",
     "output_type": "stream",
     "text": [
      "Sample: 100%|██████████████████████████| 100/100 [00:05, 17.43it/s, lr=2.00e-06]\n"
     ]
    },
    {
     "name": "stdout",
     "output_type": "stream",
     "text": [
      "Epoch [100/100] test accuracy: 0.9509 time: 13.82\n"
     ]
    }
   ],
   "source": [
    "LR = 2e-6\n",
    "MOMENTUM_DECAY = 0.01\n",
    "RESAMPLE_EVERY_N = 0\n",
    "NUM_STEPS = 1 # fixed during hypeparameter search\n",
    "\n",
    "pyro.clear_param_store()\n",
    "\n",
    "bnn = BNN(28*28, HIDDEN_SIZE, 10, device=device).to(device)\n",
    "\n",
    "sghmc = SGHMC(bnn,\n",
    "              subsample_positions=[0, 1],\n",
    "              batch_size=BATCH_SIZE,\n",
    "              learning_rate=LR,\n",
    "              momentum_decay=MOMENTUM_DECAY,\n",
    "              num_steps=NUM_STEPS,\n",
    "              resample_every_n=RESAMPLE_EVERY_N,\n",
    "              obs_info_noise=False,\n",
    "              device=device)\n",
    "\n",
    "sghmc_mcmc = MCMC(sghmc, num_samples=len(train_dataset)//BATCH_SIZE, warmup_steps=0)\n",
    "\n",
    "noinfo_test_errs = []\n",
    "noinfo_times = []\n",
    "\n",
    "# full posterior predictive \n",
    "full_predictive = torch.FloatTensor(10000, 10)\n",
    "full_predictive.zero_()\n",
    "\n",
    "for epoch in range(1, 1+NUM_EPOCHS + WARMUP_EPOCHS):\n",
    "    \n",
    "    start = time.time()\n",
    "\n",
    "    sghmc_mcmc.run(X_train, Y_train)\n",
    "    \n",
    "    if epoch >= WARMUP_EPOCHS:\n",
    "        \n",
    "        sghmc_samples = sghmc_mcmc.get_samples()\n",
    "        predictive = pyro.infer.Predictive(bnn, posterior_samples=sghmc_samples)\n",
    "        \n",
    "        with torch.no_grad():\n",
    "            epoch_predictive = None\n",
    "            for x, y in val_loader:\n",
    "                prediction = predictive(x)['obs'].to(torch.int64).to(\"cpu\")\n",
    "                if epoch_predictive is None:\n",
    "                    epoch_predictive = prediction\n",
    "                else:\n",
    "                    epoch_predictive = torch.cat((epoch_predictive, prediction), dim=1)\n",
    "                    \n",
    "            for sample in epoch_predictive:\n",
    "                predictive_one_hot = F.one_hot(sample, num_classes=10)\n",
    "                full_predictive = full_predictive + predictive_one_hot\n",
    "                \n",
    "            full_y_hat = torch.argmax(full_predictive, dim=1)\n",
    "            total = Y_val.shape[0]\n",
    "            correct = int((full_y_hat == Y_val).sum())\n",
    "            \n",
    "        end = time.time()\n",
    "        \n",
    "        noinfo_test_errs.append(1.0 - correct/total)\n",
    "        noinfo_times.append(end - start)\n",
    "\n",
    "        print(\"Epoch [{}/{}] test accuracy: {:.4f} time: {:.2f}\".format(epoch-WARMUP_EPOCHS, NUM_EPOCHS, correct/total, end - start))\n",
    "\n",
    "# Save the errors to a file\n",
    "with open(RESULTS_NOINFO, \"w\") as f:\n",
    "    json.dump((noinfo_test_errs, noinfo_times), f)"
   ]
  },
  {
   "cell_type": "markdown",
   "metadata": {},
   "source": [
    "## Estimating at setup time"
   ]
  },
  {
   "cell_type": "code",
   "execution_count": 8,
   "metadata": {
    "scrolled": true
   },
   "outputs": [
    {
     "name": "stderr",
     "output_type": "stream",
     "text": [
      "Sample: 100%|██████████████████████████| 100/100 [10:00,  6.00s/it, lr=2.00e-06]\n",
      "Sample: 100%|██████████████████████████| 100/100 [05:55,  3.56s/it, lr=2.00e-06]\n",
      "Sample: 100%|██████████████████████████| 100/100 [05:50,  3.51s/it, lr=2.00e-06]\n",
      "Sample: 100%|██████████████████████████| 100/100 [05:56,  3.57s/it, lr=2.00e-06]\n",
      "Sample: 100%|██████████████████████████| 100/100 [05:53,  3.54s/it, lr=2.00e-06]\n",
      "Sample: 100%|██████████████████████████| 100/100 [06:04,  3.64s/it, lr=2.00e-06]\n",
      "Sample: 100%|██████████████████████████| 100/100 [06:04,  3.65s/it, lr=2.00e-06]\n",
      "Sample: 100%|██████████████████████████| 100/100 [05:59,  3.59s/it, lr=2.00e-06]\n",
      "Sample: 100%|██████████████████████████| 100/100 [06:02,  3.62s/it, lr=2.00e-06]\n",
      "Sample: 100%|██████████████████████████| 100/100 [06:00,  3.60s/it, lr=2.00e-06]\n",
      "Sample: 100%|██████████████████████████| 100/100 [06:00,  3.60s/it, lr=2.00e-06]\n",
      "Sample: 100%|██████████████████████████| 100/100 [06:01,  3.62s/it, lr=2.00e-06]\n",
      "Sample: 100%|██████████████████████████| 100/100 [06:08,  3.68s/it, lr=2.00e-06]\n",
      "Sample: 100%|██████████████████████████| 100/100 [06:02,  3.63s/it, lr=2.00e-06]\n",
      "Sample: 100%|██████████████████████████| 100/100 [05:58,  3.58s/it, lr=2.00e-06]\n",
      "Sample: 100%|██████████████████████████| 100/100 [06:01,  3.61s/it, lr=2.00e-06]\n",
      "Sample: 100%|██████████████████████████| 100/100 [06:00,  3.61s/it, lr=2.00e-06]\n",
      "Sample: 100%|██████████████████████████| 100/100 [06:03,  3.64s/it, lr=2.00e-06]\n",
      "Sample: 100%|██████████████████████████| 100/100 [06:00,  3.61s/it, lr=2.00e-06]\n",
      "Sample: 100%|██████████████████████████| 100/100 [06:03,  3.64s/it, lr=2.00e-06]\n",
      "Sample: 100%|██████████████████████████| 100/100 [06:10,  3.70s/it, lr=2.00e-06]\n",
      "Sample: 100%|██████████████████████████| 100/100 [06:10,  3.71s/it, lr=2.00e-06]\n",
      "Sample: 100%|██████████████████████████| 100/100 [06:02,  3.63s/it, lr=2.00e-06]\n",
      "Sample: 100%|██████████████████████████| 100/100 [06:05,  3.65s/it, lr=2.00e-06]\n",
      "Sample: 100%|██████████████████████████| 100/100 [06:03,  3.63s/it, lr=2.00e-06]\n",
      "Sample: 100%|██████████████████████████| 100/100 [06:12,  3.73s/it, lr=2.00e-06]\n",
      "Sample: 100%|██████████████████████████| 100/100 [06:10,  3.70s/it, lr=2.00e-06]\n",
      "Sample: 100%|██████████████████████████| 100/100 [06:05,  3.65s/it, lr=2.00e-06]\n",
      "Sample: 100%|██████████████████████████| 100/100 [06:09,  3.69s/it, lr=2.00e-06]\n",
      "Sample: 100%|██████████████████████████| 100/100 [06:08,  3.68s/it, lr=2.00e-06]\n",
      "Sample: 100%|██████████████████████████| 100/100 [06:08,  3.69s/it, lr=2.00e-06]\n",
      "Sample: 100%|██████████████████████████| 100/100 [06:10,  3.70s/it, lr=2.00e-06]\n",
      "Sample: 100%|██████████████████████████| 100/100 [06:09,  3.70s/it, lr=2.00e-06]\n",
      "Sample: 100%|██████████████████████████| 100/100 [06:16,  3.77s/it, lr=2.00e-06]\n",
      "Sample: 100%|██████████████████████████| 100/100 [06:10,  3.70s/it, lr=2.00e-06]\n",
      "Sample: 100%|██████████████████████████| 100/100 [06:08,  3.68s/it, lr=2.00e-06]\n",
      "Sample: 100%|██████████████████████████| 100/100 [06:07,  3.67s/it, lr=2.00e-06]\n",
      "Sample: 100%|██████████████████████████| 100/100 [06:03,  3.63s/it, lr=2.00e-06]\n",
      "Sample: 100%|██████████████████████████| 100/100 [06:10,  3.71s/it, lr=2.00e-06]\n",
      "Sample: 100%|██████████████████████████| 100/100 [06:09,  3.69s/it, lr=2.00e-06]\n",
      "Sample: 100%|██████████████████████████| 100/100 [06:16,  3.76s/it, lr=2.00e-06]\n",
      "Sample: 100%|██████████████████████████| 100/100 [06:14,  3.74s/it, lr=2.00e-06]\n",
      "Sample: 100%|██████████████████████████| 100/100 [06:13,  3.73s/it, lr=2.00e-06]\n",
      "Sample: 100%|██████████████████████████| 100/100 [06:13,  3.73s/it, lr=2.00e-06]\n",
      "Sample: 100%|██████████████████████████| 100/100 [06:15,  3.75s/it, lr=2.00e-06]\n",
      "Sample: 100%|██████████████████████████| 100/100 [06:08,  3.69s/it, lr=2.00e-06]\n",
      "Sample: 100%|██████████████████████████| 100/100 [06:17,  3.77s/it, lr=2.00e-06]\n",
      "Sample: 100%|██████████████████████████| 100/100 [06:15,  3.75s/it, lr=2.00e-06]\n",
      "Sample: 100%|██████████████████████████| 100/100 [06:09,  3.70s/it, lr=2.00e-06]\n",
      "Sample: 100%|██████████████████████████| 100/100 [06:39,  3.99s/it, lr=2.00e-06]\n"
     ]
    },
    {
     "name": "stdout",
     "output_type": "stream",
     "text": [
      "Epoch [0/100] test accuracy: 0.9166 time: 443.40\n"
     ]
    },
    {
     "name": "stderr",
     "output_type": "stream",
     "text": [
      "Sample: 100%|██████████████████████████| 100/100 [06:40,  4.00s/it, lr=2.00e-06]\n"
     ]
    },
    {
     "name": "stdout",
     "output_type": "stream",
     "text": [
      "Epoch [1/100] test accuracy: 0.9188 time: 429.39\n"
     ]
    },
    {
     "name": "stderr",
     "output_type": "stream",
     "text": [
      "Sample: 100%|██████████████████████████| 100/100 [06:16,  3.76s/it, lr=2.00e-06]\n"
     ]
    },
    {
     "name": "stdout",
     "output_type": "stream",
     "text": [
      "Epoch [2/100] test accuracy: 0.9197 time: 407.44\n"
     ]
    },
    {
     "name": "stderr",
     "output_type": "stream",
     "text": [
      "Sample: 100%|██████████████████████████| 100/100 [06:16,  3.77s/it, lr=2.00e-06]\n"
     ]
    },
    {
     "name": "stdout",
     "output_type": "stream",
     "text": [
      "Epoch [3/100] test accuracy: 0.9197 time: 403.52\n"
     ]
    },
    {
     "name": "stderr",
     "output_type": "stream",
     "text": [
      "Sample: 100%|██████████████████████████| 100/100 [06:15,  3.76s/it, lr=2.00e-06]\n"
     ]
    },
    {
     "name": "stdout",
     "output_type": "stream",
     "text": [
      "Epoch [4/100] test accuracy: 0.9211 time: 413.89\n"
     ]
    },
    {
     "name": "stderr",
     "output_type": "stream",
     "text": [
      "Sample: 100%|██████████████████████████| 100/100 [06:21,  3.81s/it, lr=2.00e-06]\n"
     ]
    },
    {
     "name": "stdout",
     "output_type": "stream",
     "text": [
      "Epoch [5/100] test accuracy: 0.9212 time: 414.16\n"
     ]
    },
    {
     "name": "stderr",
     "output_type": "stream",
     "text": [
      "Sample: 100%|██████████████████████████| 100/100 [06:25,  3.85s/it, lr=2.00e-06]\n"
     ]
    },
    {
     "name": "stdout",
     "output_type": "stream",
     "text": [
      "Epoch [6/100] test accuracy: 0.9209 time: 414.30\n"
     ]
    },
    {
     "name": "stderr",
     "output_type": "stream",
     "text": [
      "Sample: 100%|██████████████████████████| 100/100 [06:18,  3.79s/it, lr=2.00e-06]\n"
     ]
    },
    {
     "name": "stdout",
     "output_type": "stream",
     "text": [
      "Epoch [7/100] test accuracy: 0.9220 time: 408.94\n"
     ]
    },
    {
     "name": "stderr",
     "output_type": "stream",
     "text": [
      "Sample: 100%|██████████████████████████| 100/100 [06:22,  3.82s/it, lr=2.00e-06]\n"
     ]
    },
    {
     "name": "stdout",
     "output_type": "stream",
     "text": [
      "Epoch [8/100] test accuracy: 0.9220 time: 407.96\n"
     ]
    },
    {
     "name": "stderr",
     "output_type": "stream",
     "text": [
      "Sample: 100%|██████████████████████████| 100/100 [06:16,  3.77s/it, lr=2.00e-06]\n"
     ]
    },
    {
     "name": "stdout",
     "output_type": "stream",
     "text": [
      "Epoch [9/100] test accuracy: 0.9227 time: 404.25\n"
     ]
    },
    {
     "name": "stderr",
     "output_type": "stream",
     "text": [
      "Sample: 100%|██████████████████████████| 100/100 [06:19,  3.80s/it, lr=2.00e-06]\n"
     ]
    },
    {
     "name": "stdout",
     "output_type": "stream",
     "text": [
      "Epoch [10/100] test accuracy: 0.9238 time: 402.50\n"
     ]
    },
    {
     "name": "stderr",
     "output_type": "stream",
     "text": [
      "Sample: 100%|██████████████████████████| 100/100 [06:29,  3.90s/it, lr=2.00e-06]\n"
     ]
    },
    {
     "name": "stdout",
     "output_type": "stream",
     "text": [
      "Epoch [11/100] test accuracy: 0.9242 time: 419.80\n"
     ]
    },
    {
     "name": "stderr",
     "output_type": "stream",
     "text": [
      "Sample: 100%|██████████████████████████| 100/100 [06:37,  3.97s/it, lr=2.00e-06]\n"
     ]
    },
    {
     "name": "stdout",
     "output_type": "stream",
     "text": [
      "Epoch [12/100] test accuracy: 0.9238 time: 426.85\n"
     ]
    },
    {
     "name": "stderr",
     "output_type": "stream",
     "text": [
      "Sample: 100%|██████████████████████████| 100/100 [06:30,  3.90s/it, lr=2.00e-06]\n"
     ]
    },
    {
     "name": "stdout",
     "output_type": "stream",
     "text": [
      "Epoch [13/100] test accuracy: 0.9243 time: 415.80\n"
     ]
    },
    {
     "name": "stderr",
     "output_type": "stream",
     "text": [
      "Sample: 100%|██████████████████████████| 100/100 [06:36,  3.97s/it, lr=2.00e-06]\n"
     ]
    },
    {
     "name": "stdout",
     "output_type": "stream",
     "text": [
      "Epoch [14/100] test accuracy: 0.9254 time: 423.24\n"
     ]
    },
    {
     "name": "stderr",
     "output_type": "stream",
     "text": [
      "Sample: 100%|██████████████████████████| 100/100 [06:29,  3.90s/it, lr=2.00e-06]\n"
     ]
    },
    {
     "name": "stdout",
     "output_type": "stream",
     "text": [
      "Epoch [15/100] test accuracy: 0.9260 time: 415.90\n"
     ]
    },
    {
     "name": "stderr",
     "output_type": "stream",
     "text": [
      "Sample: 100%|██████████████████████████| 100/100 [06:27,  3.87s/it, lr=2.00e-06]\n"
     ]
    },
    {
     "name": "stdout",
     "output_type": "stream",
     "text": [
      "Epoch [16/100] test accuracy: 0.9270 time: 411.06\n"
     ]
    },
    {
     "name": "stderr",
     "output_type": "stream",
     "text": [
      "Sample: 100%|██████████████████████████| 100/100 [06:28,  3.88s/it, lr=2.00e-06]\n"
     ]
    },
    {
     "name": "stdout",
     "output_type": "stream",
     "text": [
      "Epoch [17/100] test accuracy: 0.9279 time: 415.90\n"
     ]
    },
    {
     "name": "stderr",
     "output_type": "stream",
     "text": [
      "Sample: 100%|██████████████████████████| 100/100 [06:26,  3.87s/it, lr=2.00e-06]\n"
     ]
    },
    {
     "name": "stdout",
     "output_type": "stream",
     "text": [
      "Epoch [18/100] test accuracy: 0.9279 time: 411.54\n"
     ]
    },
    {
     "name": "stderr",
     "output_type": "stream",
     "text": [
      "Sample: 100%|██████████████████████████| 100/100 [06:22,  3.83s/it, lr=2.00e-06]\n"
     ]
    },
    {
     "name": "stdout",
     "output_type": "stream",
     "text": [
      "Epoch [19/100] test accuracy: 0.9285 time: 408.85\n"
     ]
    },
    {
     "name": "stderr",
     "output_type": "stream",
     "text": [
      "Sample: 100%|██████████████████████████| 100/100 [06:32,  3.92s/it, lr=2.00e-06]\n"
     ]
    },
    {
     "name": "stdout",
     "output_type": "stream",
     "text": [
      "Epoch [20/100] test accuracy: 0.9291 time: 424.31\n"
     ]
    },
    {
     "name": "stderr",
     "output_type": "stream",
     "text": [
      "Sample: 100%|██████████████████████████| 100/100 [06:38,  3.98s/it, lr=2.00e-06]\n"
     ]
    },
    {
     "name": "stdout",
     "output_type": "stream",
     "text": [
      "Epoch [21/100] test accuracy: 0.9296 time: 425.00\n"
     ]
    },
    {
     "name": "stderr",
     "output_type": "stream",
     "text": [
      "Sample: 100%|██████████████████████████| 100/100 [06:28,  3.88s/it, lr=2.00e-06]\n"
     ]
    },
    {
     "name": "stdout",
     "output_type": "stream",
     "text": [
      "Epoch [22/100] test accuracy: 0.9301 time: 409.56\n"
     ]
    },
    {
     "name": "stderr",
     "output_type": "stream",
     "text": [
      "Sample: 100%|██████████████████████████| 100/100 [06:29,  3.89s/it, lr=2.00e-06]\n"
     ]
    },
    {
     "name": "stdout",
     "output_type": "stream",
     "text": [
      "Epoch [23/100] test accuracy: 0.9306 time: 414.84\n"
     ]
    },
    {
     "name": "stderr",
     "output_type": "stream",
     "text": [
      "Sample: 100%|██████████████████████████| 100/100 [06:30,  3.90s/it, lr=2.00e-06]\n"
     ]
    },
    {
     "name": "stdout",
     "output_type": "stream",
     "text": [
      "Epoch [24/100] test accuracy: 0.9307 time: 414.96\n"
     ]
    },
    {
     "name": "stderr",
     "output_type": "stream",
     "text": [
      "Sample: 100%|██████████████████████████| 100/100 [06:30,  3.90s/it, lr=2.00e-06]\n"
     ]
    },
    {
     "name": "stdout",
     "output_type": "stream",
     "text": [
      "Epoch [25/100] test accuracy: 0.9313 time: 418.39\n"
     ]
    },
    {
     "name": "stderr",
     "output_type": "stream",
     "text": [
      "Sample: 100%|██████████████████████████| 100/100 [06:37,  3.97s/it, lr=2.00e-06]\n"
     ]
    },
    {
     "name": "stdout",
     "output_type": "stream",
     "text": [
      "Epoch [26/100] test accuracy: 0.9315 time: 425.41\n"
     ]
    },
    {
     "name": "stderr",
     "output_type": "stream",
     "text": [
      "Sample: 100%|██████████████████████████| 100/100 [06:28,  3.88s/it, lr=2.00e-06]\n"
     ]
    },
    {
     "name": "stdout",
     "output_type": "stream",
     "text": [
      "Epoch [27/100] test accuracy: 0.9318 time: 413.20\n"
     ]
    },
    {
     "name": "stderr",
     "output_type": "stream",
     "text": [
      "Sample: 100%|██████████████████████████| 100/100 [06:29,  3.90s/it, lr=2.00e-06]\n"
     ]
    },
    {
     "name": "stdout",
     "output_type": "stream",
     "text": [
      "Epoch [28/100] test accuracy: 0.9321 time: 415.10\n"
     ]
    },
    {
     "name": "stderr",
     "output_type": "stream",
     "text": [
      "Sample: 100%|██████████████████████████| 100/100 [07:02,  4.23s/it, lr=2.00e-06]\n"
     ]
    },
    {
     "name": "stdout",
     "output_type": "stream",
     "text": [
      "Epoch [29/100] test accuracy: 0.9327 time: 455.80\n"
     ]
    },
    {
     "name": "stderr",
     "output_type": "stream",
     "text": [
      "Sample: 100%|██████████████████████████| 100/100 [06:44,  4.04s/it, lr=2.00e-06]\n"
     ]
    },
    {
     "name": "stdout",
     "output_type": "stream",
     "text": [
      "Epoch [30/100] test accuracy: 0.9333 time: 440.39\n"
     ]
    },
    {
     "name": "stderr",
     "output_type": "stream",
     "text": [
      "Sample: 100%|██████████████████████████| 100/100 [06:31,  3.92s/it, lr=2.00e-06]\n"
     ]
    },
    {
     "name": "stdout",
     "output_type": "stream",
     "text": [
      "Epoch [31/100] test accuracy: 0.9340 time: 414.71\n"
     ]
    },
    {
     "name": "stderr",
     "output_type": "stream",
     "text": [
      "Sample: 100%|██████████████████████████| 100/100 [06:24,  3.85s/it, lr=2.00e-06]\n"
     ]
    },
    {
     "name": "stdout",
     "output_type": "stream",
     "text": [
      "Epoch [32/100] test accuracy: 0.9346 time: 409.50\n"
     ]
    },
    {
     "name": "stderr",
     "output_type": "stream",
     "text": [
      "Sample: 100%|██████████████████████████| 100/100 [06:28,  3.89s/it, lr=2.00e-06]\n"
     ]
    },
    {
     "name": "stdout",
     "output_type": "stream",
     "text": [
      "Epoch [33/100] test accuracy: 0.9349 time: 417.70\n"
     ]
    },
    {
     "name": "stderr",
     "output_type": "stream",
     "text": [
      "Sample: 100%|██████████████████████████| 100/100 [06:38,  3.98s/it, lr=2.00e-06]\n"
     ]
    },
    {
     "name": "stdout",
     "output_type": "stream",
     "text": [
      "Epoch [34/100] test accuracy: 0.9355 time: 423.20\n"
     ]
    },
    {
     "name": "stderr",
     "output_type": "stream",
     "text": [
      "Sample: 100%|██████████████████████████| 100/100 [06:26,  3.87s/it, lr=2.00e-06]\n"
     ]
    },
    {
     "name": "stdout",
     "output_type": "stream",
     "text": [
      "Epoch [35/100] test accuracy: 0.9361 time: 406.20\n"
     ]
    },
    {
     "name": "stderr",
     "output_type": "stream",
     "text": [
      "Sample: 100%|██████████████████████████| 100/100 [06:26,  3.86s/it, lr=2.00e-06]\n"
     ]
    },
    {
     "name": "stdout",
     "output_type": "stream",
     "text": [
      "Epoch [36/100] test accuracy: 0.9364 time: 410.80\n"
     ]
    },
    {
     "name": "stderr",
     "output_type": "stream",
     "text": [
      "Sample: 100%|██████████████████████████| 100/100 [06:27,  3.88s/it, lr=2.00e-06]\n"
     ]
    },
    {
     "name": "stdout",
     "output_type": "stream",
     "text": [
      "Epoch [37/100] test accuracy: 0.9366 time: 415.10\n"
     ]
    },
    {
     "name": "stderr",
     "output_type": "stream",
     "text": [
      "Sample: 100%|██████████████████████████| 100/100 [06:33,  3.93s/it, lr=2.00e-06]\n"
     ]
    },
    {
     "name": "stdout",
     "output_type": "stream",
     "text": [
      "Epoch [38/100] test accuracy: 0.9370 time: 418.10\n"
     ]
    },
    {
     "name": "stderr",
     "output_type": "stream",
     "text": [
      "Sample: 100%|██████████████████████████| 100/100 [06:37,  3.98s/it, lr=2.00e-06]\n"
     ]
    },
    {
     "name": "stdout",
     "output_type": "stream",
     "text": [
      "Epoch [39/100] test accuracy: 0.9370 time: 425.25\n"
     ]
    },
    {
     "name": "stderr",
     "output_type": "stream",
     "text": [
      "Sample: 100%|██████████████████████████| 100/100 [06:31,  3.92s/it, lr=2.00e-06]\n"
     ]
    },
    {
     "name": "stdout",
     "output_type": "stream",
     "text": [
      "Epoch [40/100] test accuracy: 0.9374 time: 416.69\n"
     ]
    },
    {
     "name": "stderr",
     "output_type": "stream",
     "text": [
      "Sample: 100%|██████████████████████████| 100/100 [06:33,  3.93s/it, lr=2.00e-06]\n"
     ]
    },
    {
     "name": "stdout",
     "output_type": "stream",
     "text": [
      "Epoch [41/100] test accuracy: 0.9374 time: 417.01\n"
     ]
    },
    {
     "name": "stderr",
     "output_type": "stream",
     "text": [
      "Sample: 100%|██████████████████████████| 100/100 [06:28,  3.88s/it, lr=2.00e-06]\n"
     ]
    },
    {
     "name": "stdout",
     "output_type": "stream",
     "text": [
      "Epoch [42/100] test accuracy: 0.9373 time: 413.03\n"
     ]
    },
    {
     "name": "stderr",
     "output_type": "stream",
     "text": [
      "Sample: 100%|██████████████████████████| 100/100 [06:51,  4.11s/it, lr=2.00e-06]\n"
     ]
    },
    {
     "name": "stdout",
     "output_type": "stream",
     "text": [
      "Epoch [43/100] test accuracy: 0.9379 time: 465.75\n"
     ]
    },
    {
     "name": "stderr",
     "output_type": "stream",
     "text": [
      "Sample: 100%|██████████████████████████| 100/100 [06:49,  4.10s/it, lr=2.00e-06]\n"
     ]
    },
    {
     "name": "stdout",
     "output_type": "stream",
     "text": [
      "Epoch [44/100] test accuracy: 0.9380 time: 432.76\n"
     ]
    },
    {
     "name": "stderr",
     "output_type": "stream",
     "text": [
      "Sample: 100%|██████████████████████████| 100/100 [06:23,  3.83s/it, lr=2.00e-06]\n"
     ]
    },
    {
     "name": "stdout",
     "output_type": "stream",
     "text": [
      "Epoch [45/100] test accuracy: 0.9380 time: 405.96\n"
     ]
    },
    {
     "name": "stderr",
     "output_type": "stream",
     "text": [
      "Sample: 100%|██████████████████████████| 100/100 [06:39,  4.00s/it, lr=2.00e-06]\n"
     ]
    },
    {
     "name": "stdout",
     "output_type": "stream",
     "text": [
      "Epoch [46/100] test accuracy: 0.9387 time: 427.94\n"
     ]
    },
    {
     "name": "stderr",
     "output_type": "stream",
     "text": [
      "Sample: 100%|██████████████████████████| 100/100 [06:33,  3.94s/it, lr=2.00e-06]\n"
     ]
    },
    {
     "name": "stdout",
     "output_type": "stream",
     "text": [
      "Epoch [47/100] test accuracy: 0.9390 time: 420.30\n"
     ]
    },
    {
     "name": "stderr",
     "output_type": "stream",
     "text": [
      "Sample: 100%|██████████████████████████| 100/100 [06:31,  3.91s/it, lr=2.00e-06]\n"
     ]
    },
    {
     "name": "stdout",
     "output_type": "stream",
     "text": [
      "Epoch [48/100] test accuracy: 0.9390 time: 416.10\n"
     ]
    },
    {
     "name": "stderr",
     "output_type": "stream",
     "text": [
      "Sample: 100%|██████████████████████████| 100/100 [06:27,  3.88s/it, lr=2.00e-06]\n"
     ]
    },
    {
     "name": "stdout",
     "output_type": "stream",
     "text": [
      "Epoch [49/100] test accuracy: 0.9390 time: 414.59\n"
     ]
    },
    {
     "name": "stderr",
     "output_type": "stream",
     "text": [
      "Sample: 100%|██████████████████████████| 100/100 [06:28,  3.89s/it, lr=2.00e-06]\n"
     ]
    },
    {
     "name": "stdout",
     "output_type": "stream",
     "text": [
      "Epoch [50/100] test accuracy: 0.9394 time: 413.79\n"
     ]
    },
    {
     "name": "stderr",
     "output_type": "stream",
     "text": [
      "Sample: 100%|██████████████████████████| 100/100 [06:22,  3.82s/it, lr=2.00e-06]\n"
     ]
    },
    {
     "name": "stdout",
     "output_type": "stream",
     "text": [
      "Epoch [51/100] test accuracy: 0.9397 time: 408.76\n"
     ]
    },
    {
     "name": "stderr",
     "output_type": "stream",
     "text": [
      "Sample: 100%|██████████████████████████| 100/100 [06:30,  3.90s/it, lr=2.00e-06]\n"
     ]
    },
    {
     "name": "stdout",
     "output_type": "stream",
     "text": [
      "Epoch [52/100] test accuracy: 0.9402 time: 412.90\n"
     ]
    },
    {
     "name": "stderr",
     "output_type": "stream",
     "text": [
      "Sample: 100%|██████████████████████████| 100/100 [06:29,  3.90s/it, lr=2.00e-06]\n"
     ]
    },
    {
     "name": "stdout",
     "output_type": "stream",
     "text": [
      "Epoch [53/100] test accuracy: 0.9402 time: 412.81\n"
     ]
    },
    {
     "name": "stderr",
     "output_type": "stream",
     "text": [
      "Sample: 100%|██████████████████████████| 100/100 [06:28,  3.89s/it, lr=2.00e-06]\n"
     ]
    },
    {
     "name": "stdout",
     "output_type": "stream",
     "text": [
      "Epoch [54/100] test accuracy: 0.9405 time: 413.55\n"
     ]
    },
    {
     "name": "stderr",
     "output_type": "stream",
     "text": [
      "Sample: 100%|██████████████████████████| 100/100 [06:27,  3.88s/it, lr=2.00e-06]\n"
     ]
    },
    {
     "name": "stdout",
     "output_type": "stream",
     "text": [
      "Epoch [55/100] test accuracy: 0.9409 time: 410.60\n"
     ]
    },
    {
     "name": "stderr",
     "output_type": "stream",
     "text": [
      "Sample: 100%|██████████████████████████| 100/100 [06:30,  3.90s/it, lr=2.00e-06]\n"
     ]
    },
    {
     "name": "stdout",
     "output_type": "stream",
     "text": [
      "Epoch [56/100] test accuracy: 0.9409 time: 412.70\n"
     ]
    },
    {
     "name": "stderr",
     "output_type": "stream",
     "text": [
      "Sample: 100%|██████████████████████████| 100/100 [06:31,  3.92s/it, lr=2.00e-06]\n"
     ]
    },
    {
     "name": "stdout",
     "output_type": "stream",
     "text": [
      "Epoch [57/100] test accuracy: 0.9411 time: 415.20\n"
     ]
    },
    {
     "name": "stderr",
     "output_type": "stream",
     "text": [
      "Sample: 100%|██████████████████████████| 100/100 [06:31,  3.92s/it, lr=2.00e-06]\n"
     ]
    },
    {
     "name": "stdout",
     "output_type": "stream",
     "text": [
      "Epoch [58/100] test accuracy: 0.9417 time: 416.39\n"
     ]
    },
    {
     "name": "stderr",
     "output_type": "stream",
     "text": [
      "Sample: 100%|██████████████████████████| 100/100 [06:32,  3.93s/it, lr=2.00e-06]\n"
     ]
    },
    {
     "name": "stdout",
     "output_type": "stream",
     "text": [
      "Epoch [59/100] test accuracy: 0.9421 time: 419.90\n"
     ]
    },
    {
     "name": "stderr",
     "output_type": "stream",
     "text": [
      "Sample: 100%|██████████████████████████| 100/100 [06:44,  4.05s/it, lr=2.00e-06]\n"
     ]
    },
    {
     "name": "stdout",
     "output_type": "stream",
     "text": [
      "Epoch [60/100] test accuracy: 0.9423 time: 440.90\n"
     ]
    },
    {
     "name": "stderr",
     "output_type": "stream",
     "text": [
      "Sample: 100%|██████████████████████████| 100/100 [06:45,  4.05s/it, lr=2.00e-06]\n"
     ]
    },
    {
     "name": "stdout",
     "output_type": "stream",
     "text": [
      "Epoch [61/100] test accuracy: 0.9428 time: 431.00\n"
     ]
    },
    {
     "name": "stderr",
     "output_type": "stream",
     "text": [
      "Sample: 100%|██████████████████████████| 100/100 [06:30,  3.90s/it, lr=2.00e-06]\n"
     ]
    },
    {
     "name": "stdout",
     "output_type": "stream",
     "text": [
      "Epoch [62/100] test accuracy: 0.9431 time: 413.10\n"
     ]
    },
    {
     "name": "stderr",
     "output_type": "stream",
     "text": [
      "Sample: 100%|██████████████████████████| 100/100 [06:28,  3.88s/it, lr=2.00e-06]\n"
     ]
    },
    {
     "name": "stdout",
     "output_type": "stream",
     "text": [
      "Epoch [63/100] test accuracy: 0.9432 time: 411.30\n"
     ]
    },
    {
     "name": "stderr",
     "output_type": "stream",
     "text": [
      "Sample: 100%|██████████████████████████| 100/100 [06:28,  3.88s/it, lr=2.00e-06]\n"
     ]
    },
    {
     "name": "stdout",
     "output_type": "stream",
     "text": [
      "Epoch [64/100] test accuracy: 0.9435 time: 410.70\n"
     ]
    },
    {
     "name": "stderr",
     "output_type": "stream",
     "text": [
      "Sample: 100%|██████████████████████████| 100/100 [06:29,  3.89s/it, lr=2.00e-06]\n"
     ]
    },
    {
     "name": "stdout",
     "output_type": "stream",
     "text": [
      "Epoch [65/100] test accuracy: 0.9437 time: 412.60\n"
     ]
    },
    {
     "name": "stderr",
     "output_type": "stream",
     "text": [
      "Sample: 100%|██████████████████████████| 100/100 [06:28,  3.89s/it, lr=2.00e-06]\n"
     ]
    },
    {
     "name": "stdout",
     "output_type": "stream",
     "text": [
      "Epoch [66/100] test accuracy: 0.9438 time: 412.04\n"
     ]
    },
    {
     "name": "stderr",
     "output_type": "stream",
     "text": [
      "Sample: 100%|██████████████████████████| 100/100 [06:31,  3.92s/it, lr=2.00e-06]\n"
     ]
    },
    {
     "name": "stdout",
     "output_type": "stream",
     "text": [
      "Epoch [67/100] test accuracy: 0.9439 time: 409.25\n"
     ]
    },
    {
     "name": "stderr",
     "output_type": "stream",
     "text": [
      "Sample: 100%|██████████████████████████| 100/100 [06:34,  3.94s/it, lr=2.00e-06]\n"
     ]
    },
    {
     "name": "stdout",
     "output_type": "stream",
     "text": [
      "Epoch [68/100] test accuracy: 0.9444 time: 422.16\n"
     ]
    },
    {
     "name": "stderr",
     "output_type": "stream",
     "text": [
      "Sample: 100%|██████████████████████████| 100/100 [06:11,  3.72s/it, lr=2.00e-06]\n"
     ]
    },
    {
     "name": "stdout",
     "output_type": "stream",
     "text": [
      "Epoch [69/100] test accuracy: 0.9446 time: 431.07\n"
     ]
    },
    {
     "name": "stderr",
     "output_type": "stream",
     "text": [
      "Sample: 100%|██████████████████████████| 100/100 [05:57,  3.58s/it, lr=2.00e-06]\n"
     ]
    },
    {
     "name": "stdout",
     "output_type": "stream",
     "text": [
      "Epoch [70/100] test accuracy: 0.9446 time: 413.79\n"
     ]
    },
    {
     "name": "stderr",
     "output_type": "stream",
     "text": [
      "Sample: 100%|██████████████████████████| 100/100 [05:54,  3.55s/it, lr=2.00e-06]\n"
     ]
    },
    {
     "name": "stdout",
     "output_type": "stream",
     "text": [
      "Epoch [71/100] test accuracy: 0.9447 time: 418.41\n"
     ]
    },
    {
     "name": "stderr",
     "output_type": "stream",
     "text": [
      "Sample: 100%|██████████████████████████| 100/100 [05:50,  3.50s/it, lr=2.00e-06]\n"
     ]
    },
    {
     "name": "stdout",
     "output_type": "stream",
     "text": [
      "Epoch [72/100] test accuracy: 0.9446 time: 403.48\n"
     ]
    },
    {
     "name": "stderr",
     "output_type": "stream",
     "text": [
      "Sample: 100%|██████████████████████████| 100/100 [06:02,  3.62s/it, lr=2.00e-06]\n"
     ]
    },
    {
     "name": "stdout",
     "output_type": "stream",
     "text": [
      "Epoch [73/100] test accuracy: 0.9450 time: 420.21\n"
     ]
    },
    {
     "name": "stderr",
     "output_type": "stream",
     "text": [
      "Sample: 100%|██████████████████████████| 100/100 [06:00,  3.61s/it, lr=2.00e-06]\n"
     ]
    },
    {
     "name": "stdout",
     "output_type": "stream",
     "text": [
      "Epoch [74/100] test accuracy: 0.9451 time: 417.70\n"
     ]
    },
    {
     "name": "stderr",
     "output_type": "stream",
     "text": [
      "Sample: 100%|██████████████████████████| 100/100 [06:07,  3.67s/it, lr=2.00e-06]\n"
     ]
    },
    {
     "name": "stdout",
     "output_type": "stream",
     "text": [
      "Epoch [75/100] test accuracy: 0.9456 time: 389.87\n"
     ]
    },
    {
     "name": "stderr",
     "output_type": "stream",
     "text": [
      "Sample: 100%|██████████████████████████| 100/100 [06:33,  3.93s/it, lr=2.00e-06]\n"
     ]
    },
    {
     "name": "stdout",
     "output_type": "stream",
     "text": [
      "Epoch [76/100] test accuracy: 0.9455 time: 425.49\n"
     ]
    },
    {
     "name": "stderr",
     "output_type": "stream",
     "text": [
      "Sample: 100%|██████████████████████████| 100/100 [05:56,  3.57s/it, lr=2.00e-06]\n"
     ]
    },
    {
     "name": "stdout",
     "output_type": "stream",
     "text": [
      "Epoch [77/100] test accuracy: 0.9454 time: 406.73\n"
     ]
    },
    {
     "name": "stderr",
     "output_type": "stream",
     "text": [
      "Sample: 100%|██████████████████████████| 100/100 [05:51,  3.51s/it, lr=2.00e-06]\n"
     ]
    },
    {
     "name": "stdout",
     "output_type": "stream",
     "text": [
      "Epoch [78/100] test accuracy: 0.9454 time: 396.90\n"
     ]
    },
    {
     "name": "stderr",
     "output_type": "stream",
     "text": [
      "Sample: 100%|██████████████████████████| 100/100 [06:02,  3.62s/it, lr=2.00e-06]\n"
     ]
    },
    {
     "name": "stdout",
     "output_type": "stream",
     "text": [
      "Epoch [79/100] test accuracy: 0.9457 time: 423.20\n"
     ]
    },
    {
     "name": "stderr",
     "output_type": "stream",
     "text": [
      "Sample: 100%|██████████████████████████| 100/100 [05:50,  3.50s/it, lr=2.00e-06]\n"
     ]
    },
    {
     "name": "stdout",
     "output_type": "stream",
     "text": [
      "Epoch [80/100] test accuracy: 0.9458 time: 400.24\n"
     ]
    },
    {
     "name": "stderr",
     "output_type": "stream",
     "text": [
      "Sample: 100%|██████████████████████████| 100/100 [05:57,  3.58s/it, lr=2.00e-06]\n"
     ]
    },
    {
     "name": "stdout",
     "output_type": "stream",
     "text": [
      "Epoch [81/100] test accuracy: 0.9463 time: 408.35\n"
     ]
    },
    {
     "name": "stderr",
     "output_type": "stream",
     "text": [
      "Sample: 100%|██████████████████████████| 100/100 [05:48,  3.48s/it, lr=2.00e-06]\n"
     ]
    },
    {
     "name": "stdout",
     "output_type": "stream",
     "text": [
      "Epoch [82/100] test accuracy: 0.9471 time: 397.20\n"
     ]
    },
    {
     "name": "stderr",
     "output_type": "stream",
     "text": [
      "Sample: 100%|██████████████████████████| 100/100 [06:00,  3.61s/it, lr=2.00e-06]\n"
     ]
    },
    {
     "name": "stdout",
     "output_type": "stream",
     "text": [
      "Epoch [83/100] test accuracy: 0.9471 time: 412.21\n"
     ]
    },
    {
     "name": "stderr",
     "output_type": "stream",
     "text": [
      "Sample: 100%|██████████████████████████| 100/100 [05:55,  3.55s/it, lr=2.00e-06]\n"
     ]
    },
    {
     "name": "stdout",
     "output_type": "stream",
     "text": [
      "Epoch [84/100] test accuracy: 0.9471 time: 408.41\n"
     ]
    },
    {
     "name": "stderr",
     "output_type": "stream",
     "text": [
      "Sample: 100%|██████████████████████████| 100/100 [05:42,  3.43s/it, lr=2.00e-06]\n"
     ]
    },
    {
     "name": "stdout",
     "output_type": "stream",
     "text": [
      "Epoch [85/100] test accuracy: 0.9473 time: 389.29\n"
     ]
    },
    {
     "name": "stderr",
     "output_type": "stream",
     "text": [
      "Sample: 100%|██████████████████████████| 100/100 [05:54,  3.54s/it, lr=2.00e-06]\n"
     ]
    },
    {
     "name": "stdout",
     "output_type": "stream",
     "text": [
      "Epoch [86/100] test accuracy: 0.9474 time: 405.49\n"
     ]
    },
    {
     "name": "stderr",
     "output_type": "stream",
     "text": [
      "Sample: 100%|██████████████████████████| 100/100 [05:54,  3.54s/it, lr=2.00e-06]\n"
     ]
    },
    {
     "name": "stdout",
     "output_type": "stream",
     "text": [
      "Epoch [87/100] test accuracy: 0.9478 time: 404.39\n"
     ]
    },
    {
     "name": "stderr",
     "output_type": "stream",
     "text": [
      "Sample: 100%|██████████████████████████| 100/100 [05:44,  3.44s/it, lr=2.00e-06]\n"
     ]
    },
    {
     "name": "stdout",
     "output_type": "stream",
     "text": [
      "Epoch [88/100] test accuracy: 0.9484 time: 389.41\n"
     ]
    },
    {
     "name": "stderr",
     "output_type": "stream",
     "text": [
      "Sample: 100%|██████████████████████████| 100/100 [05:55,  3.56s/it, lr=2.00e-06]\n"
     ]
    },
    {
     "name": "stdout",
     "output_type": "stream",
     "text": [
      "Epoch [89/100] test accuracy: 0.9486 time: 410.22\n"
     ]
    },
    {
     "name": "stderr",
     "output_type": "stream",
     "text": [
      "Sample: 100%|██████████████████████████| 100/100 [06:03,  3.63s/it, lr=2.00e-06]\n"
     ]
    },
    {
     "name": "stdout",
     "output_type": "stream",
     "text": [
      "Epoch [90/100] test accuracy: 0.9486 time: 432.68\n"
     ]
    },
    {
     "name": "stderr",
     "output_type": "stream",
     "text": [
      "Sample: 100%|██████████████████████████| 100/100 [05:52,  3.53s/it, lr=2.00e-06]\n"
     ]
    },
    {
     "name": "stdout",
     "output_type": "stream",
     "text": [
      "Epoch [91/100] test accuracy: 0.9489 time: 416.71\n"
     ]
    },
    {
     "name": "stderr",
     "output_type": "stream",
     "text": [
      "Sample: 100%|██████████████████████████| 100/100 [05:54,  3.54s/it, lr=2.00e-06]\n"
     ]
    },
    {
     "name": "stdout",
     "output_type": "stream",
     "text": [
      "Epoch [92/100] test accuracy: 0.9491 time: 407.31\n"
     ]
    },
    {
     "name": "stderr",
     "output_type": "stream",
     "text": [
      "Sample: 100%|██████████████████████████| 100/100 [05:56,  3.56s/it, lr=2.00e-06]\n"
     ]
    },
    {
     "name": "stdout",
     "output_type": "stream",
     "text": [
      "Epoch [93/100] test accuracy: 0.9492 time: 415.57\n"
     ]
    },
    {
     "name": "stderr",
     "output_type": "stream",
     "text": [
      "Sample: 100%|██████████████████████████| 100/100 [05:45,  3.46s/it, lr=2.00e-06]\n"
     ]
    },
    {
     "name": "stdout",
     "output_type": "stream",
     "text": [
      "Epoch [94/100] test accuracy: 0.9495 time: 410.60\n"
     ]
    },
    {
     "name": "stderr",
     "output_type": "stream",
     "text": [
      "Sample: 100%|██████████████████████████| 100/100 [05:55,  3.55s/it, lr=2.00e-06]\n"
     ]
    },
    {
     "name": "stdout",
     "output_type": "stream",
     "text": [
      "Epoch [95/100] test accuracy: 0.9496 time: 380.03\n"
     ]
    },
    {
     "name": "stderr",
     "output_type": "stream",
     "text": [
      "Sample: 100%|██████████████████████████| 100/100 [06:06,  3.67s/it, lr=2.00e-06]\n"
     ]
    },
    {
     "name": "stdout",
     "output_type": "stream",
     "text": [
      "Epoch [96/100] test accuracy: 0.9497 time: 416.88\n"
     ]
    },
    {
     "name": "stderr",
     "output_type": "stream",
     "text": [
      "Sample: 100%|██████████████████████████| 100/100 [06:12,  3.73s/it, lr=2.00e-06]\n"
     ]
    },
    {
     "name": "stdout",
     "output_type": "stream",
     "text": [
      "Epoch [97/100] test accuracy: 0.9502 time: 427.09\n"
     ]
    },
    {
     "name": "stderr",
     "output_type": "stream",
     "text": [
      "Sample: 100%|██████████████████████████| 100/100 [05:57,  3.57s/it, lr=2.00e-06]\n"
     ]
    },
    {
     "name": "stdout",
     "output_type": "stream",
     "text": [
      "Epoch [98/100] test accuracy: 0.9509 time: 410.39\n"
     ]
    },
    {
     "name": "stderr",
     "output_type": "stream",
     "text": [
      "Sample: 100%|██████████████████████████| 100/100 [05:46,  3.46s/it, lr=2.00e-06]\n"
     ]
    },
    {
     "name": "stdout",
     "output_type": "stream",
     "text": [
      "Epoch [99/100] test accuracy: 0.9509 time: 397.51\n"
     ]
    },
    {
     "name": "stderr",
     "output_type": "stream",
     "text": [
      "Sample: 100%|██████████████████████████| 100/100 [05:47,  3.48s/it, lr=2.00e-06]\n"
     ]
    },
    {
     "name": "stdout",
     "output_type": "stream",
     "text": [
      "Epoch [100/100] test accuracy: 0.9509 time: 398.57\n"
     ]
    }
   ],
   "source": [
    "LR = 2e-6\n",
    "MOMENTUM_DECAY = 0.01\n",
    "RESAMPLE_EVERY_N = 0\n",
    "NUM_STEPS = 1 # fixed during hypeparameter search\n",
    "\n",
    "pyro.clear_param_store()\n",
    "\n",
    "bnn = BNN(28*28, HIDDEN_SIZE, 10, device=device).to(device)\n",
    "\n",
    "sghmc = SGHMC(bnn,\n",
    "              subsample_positions=[0, 1],\n",
    "              batch_size=BATCH_SIZE,\n",
    "              learning_rate=LR,\n",
    "              momentum_decay=MOMENTUM_DECAY,\n",
    "              num_steps=NUM_STEPS,\n",
    "              resample_every_n=RESAMPLE_EVERY_N,\n",
    "              obs_info_noise=True,\n",
    "              compute_obs_info=\"start\",\n",
    "              device=device)\n",
    "\n",
    "sghmc_mcmc = MCMC(sghmc, num_samples=len(train_dataset)//BATCH_SIZE, warmup_steps=0)\n",
    "\n",
    "start_test_errs = []\n",
    "start_times = []\n",
    "\n",
    "# full posterior predictive \n",
    "full_predictive = torch.FloatTensor(10000, 10)\n",
    "full_predictive.zero_()\n",
    "\n",
    "for epoch in range(1, 1+NUM_EPOCHS + WARMUP_EPOCHS):\n",
    "    \n",
    "    start = time.time()\n",
    "\n",
    "    sghmc_mcmc.run(X_train, Y_train)\n",
    "    \n",
    "    if epoch >= WARMUP_EPOCHS:\n",
    "        \n",
    "        sghmc_samples = sghmc_mcmc.get_samples()\n",
    "        predictive = pyro.infer.Predictive(bnn, posterior_samples=sghmc_samples)\n",
    "        \n",
    "        with torch.no_grad():\n",
    "            epoch_predictive = None\n",
    "            for x, y in val_loader:\n",
    "                prediction = predictive(x)['obs'].to(torch.int64).to(\"cpu\")\n",
    "                if epoch_predictive is None:\n",
    "                    epoch_predictive = prediction\n",
    "                else:\n",
    "                    epoch_predictive = torch.cat((epoch_predictive, prediction), dim=1)\n",
    "                    \n",
    "            for sample in epoch_predictive:\n",
    "                predictive_one_hot = F.one_hot(sample, num_classes=10)\n",
    "                full_predictive = full_predictive + predictive_one_hot\n",
    "                \n",
    "            full_y_hat = torch.argmax(full_predictive, dim=1)\n",
    "            total = Y_val.shape[0]\n",
    "            correct = int((full_y_hat == Y_val).sum())\n",
    "            \n",
    "        end = time.time()\n",
    "        \n",
    "        start_test_errs.append(1.0 - correct/total)\n",
    "        start_times.append(end - start)\n",
    "\n",
    "        print(\"Epoch [{}/{}] test accuracy: {:.4f} time: {:.2f}\".format(epoch-WARMUP_EPOCHS, NUM_EPOCHS, correct/total, end - start))\n",
    "\n",
    "# Save the errors to a file\n",
    "with open(RESULTS_START, \"w\") as f:\n",
    "    json.dump((start_test_errs, start_times), f)"
   ]
  },
  {
   "cell_type": "code",
   "execution_count": 10,
   "metadata": {},
   "outputs": [],
   "source": [
    "\n",
    "# Save the errors to a file\n",
    "with open(RESULTS_START, \"w\") as f:\n",
    "    json.dump((start_test_errs, start_times), f)"
   ]
  },
  {
   "cell_type": "markdown",
   "metadata": {},
   "source": [
    "## Recalculating every sample"
   ]
  },
  {
   "cell_type": "code",
   "execution_count": 8,
   "metadata": {
    "scrolled": true
   },
   "outputs": [
    {
     "name": "stderr",
     "output_type": "stream",
     "text": [
      "Sample:  54%|██████████████▌            | 54/100 [42:04, 50.61s/it, lr=2.00e-06]"
     ]
    },
    {
     "ename": "KeyboardInterrupt",
     "evalue": "",
     "output_type": "error",
     "traceback": [
      "\u001b[0;31m---------------------------------------------------------------------------\u001b[0m"
     ]
    }
   ],
   "source": [
    "LR = 2e-6\n",
    "MOMENTUM_DECAY = 0.01\n",
    "RESAMPLE_EVERY_N = 0\n",
    "NUM_STEPS = 1 # fixed during hypeparameter search\n",
    "\n",
    "pyro.clear_param_store()\n",
    "\n",
    "bnn = BNN(28*28, HIDDEN_SIZE, 10, device=device).to(device)\n",
    "\n",
    "sghmc = SGHMC(bnn,\n",
    "              subsample_positions=[0, 1],\n",
    "              batch_size=BATCH_SIZE,\n",
    "              learning_rate=LR,\n",
    "              momentum_decay=MOMENTUM_DECAY,\n",
    "              num_steps=NUM_STEPS,\n",
    "              resample_every_n=RESAMPLE_EVERY_N,\n",
    "              obs_info_noise=True,\n",
    "              compute_obs_info=\"every_sample\",\n",
    "              device=device)\n",
    "\n",
    "sghmc_mcmc = MCMC(sghmc, num_samples=len(train_dataset)//BATCH_SIZE, warmup_steps=0)\n",
    "\n",
    "every_sample_test_errs = []\n",
    "every_sample_times = []\n",
    "\n",
    "# full posterior predictive \n",
    "full_predictive = torch.FloatTensor(10000, 10)\n",
    "full_predictive.zero_()\n",
    "\n",
    "for epoch in range(1, 1+NUM_EPOCHS + WARMUP_EPOCHS):\n",
    "    \n",
    "    start = time.time()\n",
    "    \n",
    "    sghmc_mcmc.run(X_train, Y_train)\n",
    "    \n",
    "    if epoch >= WARMUP_EPOCHS:\n",
    "        \n",
    "        sghmc_samples = sghmc_mcmc.get_samples()\n",
    "        predictive = pyro.infer.Predictive(bnn, posterior_samples=sghmc_samples)\n",
    "        start = time.time()\n",
    "        \n",
    "        with torch.no_grad():\n",
    "            epoch_predictive = None\n",
    "            for x, y in val_loader:\n",
    "                prediction = predictive(x)['obs'].to(torch.int64).to(\"cpu\")\n",
    "                if epoch_predictive is None:\n",
    "                    epoch_predictive = prediction\n",
    "                else:\n",
    "                    epoch_predictive = torch.cat((epoch_predictive, prediction), dim=1)\n",
    "                    \n",
    "            for sample in epoch_predictive:\n",
    "                predictive_one_hot = F.one_hot(sample, num_classes=10)\n",
    "                full_predictive = full_predictive + predictive_one_hot\n",
    "                \n",
    "            full_y_hat = torch.argmax(full_predictive, dim=1)\n",
    "            total = Y_val.shape[0]\n",
    "            correct = int((full_y_hat == Y_val).sum())\n",
    "            \n",
    "        end = time.time()\n",
    "        \n",
    "        every_sample_test_errs.append(1.0 - correct/total)\n",
    "        every_sample_times.append(end - start)\n",
    "\n",
    "        print(\"Epoch [{}/{}] test accuracy: {:.4f} time: {:.2f}\".format(epoch-WARMUP_EPOCHS, NUM_EPOCHS, correct/total, end - start))\n",
    "\n",
    "# Save the errors to a file\n",
    "with open(RESULTS_EVERY_SAMPLE, \"w\") as f:\n",
    "    json.dump((every_sample_test_errs, every_sample_times), f)"
   ]
  },
  {
   "cell_type": "markdown",
   "metadata": {},
   "source": [
    "## Recalculating every step"
   ]
  },
  {
   "cell_type": "code",
   "execution_count": null,
   "metadata": {
    "scrolled": true
   },
   "outputs": [],
   "source": [
    "LR = 2e-6\n",
    "MOMENTUM_DECAY = 0.01\n",
    "RESAMPLE_EVERY_N = 0\n",
    "NUM_STEPS = 1 # fixed during hypeparameter search\n",
    "\n",
    "pyro.clear_param_store()\n",
    "\n",
    "bnn = BNN(28*28, HIDDEN_SIZE, 10, device=device).to(device)\n",
    "\n",
    "sghmc = SGHMC(bnn,\n",
    "              subsample_positions=[0, 1],\n",
    "              batch_size=BATCH_SIZE,\n",
    "              learning_rate=LR,\n",
    "              momentum_decay=MOMENTUM_DECAY,\n",
    "              num_steps=NUM_STEPS,\n",
    "              resample_every_n=RESAMPLE_EVERY_N,\n",
    "              obs_info_noise=True,\n",
    "              compute_obs_info=\"every_step\",\n",
    "              device=device)\n",
    "\n",
    "sghmc_mcmc = MCMC(sghmc, num_samples=len(train_dataset)//BATCH_SIZE, warmup_steps=0)\n",
    "\n",
    "every_step_test_errs = []\n",
    "every_step_times = []\n",
    "\n",
    "# full posterior predictive \n",
    "full_predictive = torch.FloatTensor(10000, 10)\n",
    "full_predictive.zero_()\n",
    "\n",
    "for epoch in range(1, 1+NUM_EPOCHS + WARMUP_EPOCHS):\n",
    "    \n",
    "    start = time.time()\n",
    "    \n",
    "    sghmc_mcmc.run(X_train, Y_train)\n",
    "    \n",
    "    if epoch >= WARMUP_EPOCHS:\n",
    "        \n",
    "        sghmc_samples = sghmc_mcmc.get_samples()\n",
    "        predictive = pyro.infer.Predictive(bnn, posterior_samples=sghmc_samples)\n",
    "        start = time.time()\n",
    "        \n",
    "        with torch.no_grad():\n",
    "            epoch_predictive = None\n",
    "            for x, y in val_loader:\n",
    "                prediction = predictive(x)['obs'].to(torch.int64).to(\"cpu\")\n",
    "                if epoch_predictive is None:\n",
    "                    epoch_predictive = prediction\n",
    "                else:\n",
    "                    epoch_predictive = torch.cat((epoch_predictive, prediction), dim=1)\n",
    "                    \n",
    "            for sample in epoch_predictive:\n",
    "                predictive_one_hot = F.one_hot(sample, num_classes=10)\n",
    "                full_predictive = full_predictive + predictive_one_hot\n",
    "                \n",
    "            full_y_hat = torch.argmax(full_predictive, dim=1)\n",
    "            total = Y_val.shape[0]\n",
    "            correct = int((full_y_hat == Y_val).sum())\n",
    "            \n",
    "        end = time.time()\n",
    "        \n",
    "        every_step_test_errs.append(1.0 - correct/total)\n",
    "        every_step_times.append(end - start)\n",
    "\n",
    "        print(\"Epoch [{}/{}] test accuracy: {:.4f} time: {:.2f}\".format(epoch-WARMUP_EPOCHS, NUM_EPOCHS, correct/total, end - start))\n",
    "\n",
    "# Save the errors to a file\n",
    "with open(RESULTS_EVERY_STEP, \"w\") as f:\n",
    "    json.dump((every_step_test_errs, every_step_times), f)"
   ]
  },
  {
   "cell_type": "markdown",
   "metadata": {},
   "source": [
    "### Plot the convergence dynamics and times"
   ]
  },
  {
   "cell_type": "code",
   "execution_count": 13,
   "metadata": {},
   "outputs": [],
   "source": [
    "sns.set_style(\"dark\")\n",
    "\n",
    "# Load the previous results from the files\n",
    "with open(RESULTS_NOINFO, \"r\") as f:\n",
    "    noinfo_test_errs, noinfo_times = json.load(f)\n",
    "with open(RESULTS_START, \"r\") as f:\n",
    "    start_test_errs, start_times = json.load(f)\n",
    "# with open(RESULTS_EVERY_SAMPLE, \"r\") as f:\n",
    "#     every_sample_test_errs, every_sample_times = json.load(f)\n",
    "# with open(RESULTS_EVERY_STEP, \"r\") as f:\n",
    "#     every_step_test_errs, every_step_times = json.load(f)\n",
    "    \n",
    "noinfo_test_errs = np.array(noinfo_test_errs)\n",
    "noinfo_times = np.array(noinfo_times)\n",
    "start_test_errs = np.array(start_test_errs)\n",
    "start_times = np.array(start_times)\n",
    "# every_sample_test_errs = np.array(every_sample_test_errs)\n",
    "# every_sample_times = np.array(every_sample_times)\n",
    "# every_step_test_errs = np.array(every_step_test_errs)\n",
    "# every_step_times = np.array(every_step_times)"
   ]
  },
  {
   "cell_type": "code",
   "execution_count": 15,
   "metadata": {},
   "outputs": [
    {
     "data": {
      "image/png": "[encoded data removed]",
      "text/plain": [
       "<Figure size 1800x1200 with 1 Axes>"
      ]
     },
     "metadata": {},
     "output_type": "display_data"
    }
   ],
   "source": [
    "err_dict = {\n",
    "    'No obs info' : noinfo_test_errs, \n",
    "    'Start' : start_test_errs, \n",
    "    # 'Every sample' : every_sample_test_errs, \n",
    "    # 'Every step' : every_step_test_errs\n",
    "}\n",
    "x = np.arange(1, NUM_EPOCHS+1)\n",
    "lst = []\n",
    "for i in range(len(x)):\n",
    "    for updater in err_dict.keys():\n",
    "        lst.append([x[i], updater, err_dict[updater][i]])\n",
    "\n",
    "df = pd.DataFrame(lst, columns=['iterations', 'updater','test error'])\n",
    "sns.lineplot(data=df.pivot(\"iterations\", \"updater\", \"test error\"))\n",
    "plt.ylabel(\"test error\")\n",
    "plt.show() #dpi=300"
   ]
  },
  {
   "cell_type": "code",
   "execution_count": 16,
   "metadata": {},
   "outputs": [
    {
     "data": {
      "image/png": "[encoded data removed]",
      "text/plain": [
       "<Figure size 1800x1200 with 1 Axes>"
      ]
     },
     "metadata": {},
     "output_type": "display_data"
    }
   ],
   "source": [
    "time_dict = {\n",
    "    'No obs info' : noinfo_times, \n",
    "    'Start' : start_times, \n",
    "    # 'Every sample' : every_sample_times, \n",
    "    # 'Every step' : every_step_times\n",
    "}\n",
    "x = np.arange(1, NUM_EPOCHS+1)\n",
    "lst = []\n",
    "for i in range(len(x)):\n",
    "    for updater in err_dict.keys():\n",
    "        lst.append([x[i], updater, time_dict[updater][i]])\n",
    "\n",
    "df = pd.DataFrame(lst, columns=['iterations', 'updater','sample time'])\n",
    "sns.lineplot(data=df.pivot(\"iterations\", \"updater\", \"sample time\"))\n",
    "plt.ylabel(\"sample time\")\n",
    "plt.show() #dpi=300"
   ]
  }
 ],
 "metadata": {
  "interpreter": {
   "hash": "cbe9c3ac7434982ae7a5f6c05b328c6f78e6b546d2e0ed1cd8306db119296616"
  },
  "kernelspec": {
   "display_name": "atml-assessment",
   "language": "python",
   "name": "python3"
  },
  "language_info": {
   "codemirror_mode": {
    "name": "ipython",
    "version": 3
   },
   "file_extension": ".py",
   "mimetype": "text/x-python",
   "name": "python",
   "nbconvert_exporter": "python",
   "pygments_lexer": "ipython3",
   "version": "3.9.7"
  }
 },
 "nbformat": 4,
 "nbformat_minor": 4
}
