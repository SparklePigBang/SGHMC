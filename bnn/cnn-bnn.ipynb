{
 "cells": [
  {
   "cell_type": "code",
   "execution_count": 1,
   "id": "058c20a4",
   "metadata": {},
   "outputs": [],
   "source": [
    "import sys\n",
    "sys.path.append(\"..\")\n",
    "\n",
    "import time\n",
    "import numpy as np\n",
    "import matplotlib.pyplot as plt\n",
    "\n",
    "import torch\n",
    "from torchvision import datasets, transforms\n",
    "from torch.utils.data import DataLoader\n",
    "import torch.nn.functional as F\n",
    "\n",
    "import torch.nn as nn\n",
    "\n",
    "import seaborn as sns # conda install seaborn\n",
    "import pandas as pd # ^^ this will automatically install pandas\n",
    "\n",
    "import pyro\n",
    "from pyro.infer.mcmc import MCMC\n",
    "import pyro.distributions as dist\n",
    "\n",
    "from kernel.sghmc import SGHMC\n",
    "from kernel.sgld import SGLD\n",
    "from kernel.sgd import SGD\n",
    "from kernel.sgnuts import NUTS as SGNUTS\n",
    "\n",
    "pyro.set_rng_seed(101)"
   ]
  },
  {
   "cell_type": "code",
   "execution_count": 2,
   "id": "b29b88de",
   "metadata": {},
   "outputs": [],
   "source": [
    "assert torch.cuda.is_available()\n",
    "device = torch.device(\"cuda\" if torch.cuda.is_available() else \"cpu\" )"
   ]
  },
  {
   "cell_type": "code",
   "execution_count": 3,
   "id": "e6b6cc04",
   "metadata": {},
   "outputs": [],
   "source": [
    "# Simple dataset wrapper class\n",
    "\n",
    "class Dataset(torch.utils.data.Dataset):\n",
    "    def __init__(self, data, targets):\n",
    "        self.data = data\n",
    "        self.targets = targets\n",
    "        \n",
    "    def __len__(self):\n",
    "        return(len(self.data))\n",
    "    \n",
    "    def __getitem__(self, idx):\n",
    "        return self.data[idx], self.targets[idx]"
   ]
  },
  {
   "cell_type": "markdown",
   "id": "f4cf72cc",
   "metadata": {},
   "source": [
    "### Hyperparams"
   ]
  },
  {
   "cell_type": "code",
   "execution_count": 4,
   "id": "af08685c",
   "metadata": {},
   "outputs": [],
   "source": [
    "BATCH_SIZE = 500\n",
    "NUM_EPOCHS = 800\n",
    "WARMUP_EPOCHS = 150\n",
    "HIDDEN_SIZE = 100"
   ]
  },
  {
   "cell_type": "markdown",
   "id": "e9339186",
   "metadata": {},
   "source": [
    "### Download CIFAR10 and setup datasets / dataloaders"
   ]
  },
  {
   "cell_type": "code",
   "execution_count": 5,
   "id": "60f96971",
   "metadata": {},
   "outputs": [
    {
     "name": "stdout",
     "output_type": "stream",
     "text": [
      "Files already downloaded and verified\n",
      "Files already downloaded and verified\n"
     ]
    }
   ],
   "source": [
    "import ssl\n",
    "ssl._create_default_https_context = ssl._create_unverified_context\n",
    "\n",
    "train_dataset = datasets.CIFAR10('./data', train=True, download=True)\n",
    "\n",
    "val_dataset = datasets.CIFAR10('./data', train=False, download=True)\n",
    "    \n",
    "mean = np.array([0.4912, 0.4823, 0.4468])\n",
    "std = np.array([0.2470, 0.2435, 0.2616])\n",
    "\n",
    "# scale the datasets\n",
    "X_train = torch.FloatTensor(train_dataset.data / 255.0)\n",
    "X_train = torch.reshape(X_train, (len(X_train), 3, 32, 32))\n",
    "Y_train = torch.LongTensor(train_dataset.targets)\n",
    "\n",
    "X_val = torch.FloatTensor(val_dataset.data / 255.0)\n",
    "X_val = torch.reshape(X_val, (len(X_val), 3, 32, 32))\n",
    "Y_val = torch.LongTensor(val_dataset.targets)\n",
    "\n",
    "# redefine the datasets\n",
    "train_dataset = Dataset(X_train, Y_train)\n",
    "val_dataset = Dataset(X_val, Y_val)\n",
    "\n",
    "# setup the dataloaders\n",
    "train_loader = DataLoader(train_dataset, batch_size=BATCH_SIZE, shuffle=True)\n",
    "val_loader = DataLoader(val_dataset, batch_size=BATCH_SIZE, shuffle=False)"
   ]
  },
  {
   "cell_type": "markdown",
   "id": "25885bb0",
   "metadata": {},
   "source": [
    "### Define the Convolutional Bayesian neural network  model"
   ]
  },
  {
   "cell_type": "code",
   "execution_count": 6,
   "id": "883e2552",
   "metadata": {},
   "outputs": [],
   "source": [
    "PyroLinear = pyro.nn.PyroModule[torch.nn.Linear]\n",
    "    \n",
    "class CBNN(pyro.nn.PyroModule):\n",
    "    \n",
    "    def __init__(self, n_channels, hidden_size, output_size, prec=1., device='cpu'):\n",
    "        super().__init__()\n",
    "        # prec is a kwarg that should only used by SGD to set the regularization strength \n",
    "        # recall that a Guassian prior over the weights is equivalent to L2 norm regularization in the non-Bayes setting\n",
    "        \n",
    "        # TODO add gamma priors to precision terms\n",
    "        \n",
    "        self.n_channels = n_channels\n",
    "        self.device = device\n",
    "        \n",
    "        self.conv1 = nn.Conv2d(3, n_channels, kernel_size=3, padding=1)\n",
    "        self.conv1_batchnorm = nn.BatchNorm2d(num_features=n_channels)\n",
    "        self.conv2 = nn.Conv2d(n_channels, n_channels//2, kernel_size=3, padding=1)\n",
    "        self.conv2_batchnorm = nn.BatchNorm2d(num_features=n_channels//2)\n",
    "        \n",
    "        self.fc1 = PyroLinear(8 * 8 * n_channels // 2, hidden_size)\n",
    "        \n",
    "        self.fc1_w_loc = torch.zeros((hidden_size, 8 * 8 * n_channels//2), device=self.device)\n",
    "        self.fc1_w_scale = torch.ones((hidden_size, 8 * 8 * n_channels//2), device=self.device) * prec\n",
    "        \n",
    "        self.fc1_b_loc = torch.zeros((hidden_size), device=self.device)\n",
    "        self.fc1_b_scale = torch.ones((hidden_size), device=self.device) * prec\n",
    "        \n",
    "        self.fc1.weight = pyro.nn.PyroSample(dist.Normal(self.fc1_w_loc, self.fc1_w_scale).to_event(2))\n",
    "        self.fc1.bias   = pyro.nn.PyroSample(dist.Normal(self.fc1_b_loc, self.fc1_b_scale).to_event(1))\n",
    "        \n",
    "        self.fc2 = PyroLinear(hidden_size, output_size)\n",
    "        \n",
    "        self.fc2_w_loc = torch.zeros((output_size, hidden_size), device=self.device)\n",
    "        self.fc2_w_scale = torch.ones((output_size, hidden_size), device=self.device) * prec\n",
    "        \n",
    "        self.fc2_b_loc = torch.zeros((output_size), device=self.device)\n",
    "        self.fc2_b_scale = torch.ones((output_size), device=self.device) * prec\n",
    "        \n",
    "        self.fc2.weight = pyro.nn.PyroSample(dist.Normal(self.fc2_w_loc, self.fc2_w_scale).to_event(2))\n",
    "        self.fc2.bias   = pyro.nn.PyroSample(dist.Normal(self.fc2_b_loc, self.fc2_b_scale).to_event(1))\n",
    "        \n",
    "        self.log_softmax = torch.nn.LogSoftmax(dim=1)\n",
    "\n",
    "    def forward(self, x, y=None):\n",
    "        x = x.to(self.device)\n",
    "        x = self.conv1_batchnorm(self.conv1(x))\n",
    "        x = F.max_pool2d(torch.tanh(x), 2)\n",
    "        x = self.conv2_batchnorm(self.conv2(x))\n",
    "        x = F.max_pool2d(torch.tanh(x), 2)\n",
    "        x = x.view(-1, 8 * 8 * self.n_channels//2)\n",
    "        \n",
    "        x = torch.tanh(self.fc1(x))\n",
    "        x = self.fc2(x)\n",
    "        x = self.log_softmax(x)# output (log) softmax probabilities of each class\n",
    "        \n",
    "        if y is not None:\n",
    "            y = y.to(self.device)\n",
    "            \n",
    "        with pyro.plate(\"data\", x.shape[0]):\n",
    "            obs = pyro.sample(\"obs\", dist.Categorical(logits=x), obs=y)"
   ]
  },
  {
   "cell_type": "markdown",
   "id": "9d5fe53c",
   "metadata": {},
   "source": [
    "### Deeper model\n",
    "\n",
    "*Experimental* doesn't seem to work well at the moment."
   ]
  },
  {
   "cell_type": "code",
   "execution_count": 7,
   "id": "56374d43",
   "metadata": {},
   "outputs": [],
   "source": [
    "PyroLinear = pyro.nn.PyroModule[torch.nn.Linear]\n",
    "    \n",
    "class deep_CBNN(pyro.nn.PyroModule):\n",
    "    \n",
    "    def __init__(self, output_size, prec=1., device='cpu'):\n",
    "        super().__init__()\n",
    "        # prec is a kwarg that should only used by SGD to set the regularization strength \n",
    "        # recall that a Guassian prior over the weights is equivalent to L2 norm regularization in the non-Bayes setting\n",
    "        \n",
    "        # TODO add gamma priors to precision terms\n",
    "        self.device = device\n",
    "        \n",
    "        self.conv1 = nn.Conv2d(3, 32, 3)\n",
    "        self.conv1_batchnorm = nn.BatchNorm2d(num_features=32)\n",
    "        self.conv2 = nn.Conv2d(32, 64, 3)\n",
    "        self.conv2_batchnorm = nn.BatchNorm2d(num_features=64)\n",
    "        self.conv3 = nn.Conv2d(64, 128, 3)\n",
    "        self.conv3_batchnorm = nn.BatchNorm2d(num_features=128)\n",
    "        self.pool = nn.MaxPool2d(2, 2)\n",
    "        \n",
    "        self.fc1 = PyroLinear(128 * 2 * 2, 128)\n",
    "        \n",
    "        self.fc1_w_loc = torch.zeros((128, 128 * 2 * 2), device=self.device)\n",
    "        self.fc1_w_scale = torch.ones((128, 128 * 2 * 2), device=self.device) * prec\n",
    "        \n",
    "        self.fc1_b_loc = torch.zeros((128), device=self.device)\n",
    "        self.fc1_b_scale = torch.ones((128), device=self.device) * prec\n",
    "        \n",
    "        self.fc1.weight = pyro.nn.PyroSample(dist.Normal(self.fc1_w_loc, self.fc1_w_scale).to_event(2))\n",
    "        self.fc1.bias   = pyro.nn.PyroSample(dist.Normal(self.fc1_b_loc, self.fc1_b_scale).to_event(1))\n",
    "        \n",
    "        self.fc2 = PyroLinear(128, 64)\n",
    "        \n",
    "        self.fc2_w_loc = torch.zeros((64, 128), device=self.device)\n",
    "        self.fc2_w_scale = torch.ones((64, 128), device=self.device) * prec\n",
    "        \n",
    "        self.fc2_b_loc = torch.zeros((64), device=self.device)\n",
    "        self.fc2_b_scale = torch.ones((64), device=self.device) * prec\n",
    "        \n",
    "        self.fc2.weight = pyro.nn.PyroSample(dist.Normal(self.fc2_w_loc, self.fc2_w_scale).to_event(2))\n",
    "        self.fc2.bias   = pyro.nn.PyroSample(dist.Normal(self.fc2_b_loc, self.fc2_b_scale).to_event(1))\n",
    "        \n",
    "        self.fc3 = PyroLinear(64, 32)\n",
    "        \n",
    "        self.fc3_w_loc = torch.zeros((32, 64), device=self.device)\n",
    "        self.fc3_w_scale = torch.ones((32, 64), device=self.device) * prec\n",
    "        \n",
    "        self.fc3_b_loc = torch.zeros((32), device=self.device)\n",
    "        self.fc3_b_scale = torch.ones((32), device=self.device) * prec\n",
    "        \n",
    "        self.fc3.weight = pyro.nn.PyroSample(dist.Normal(self.fc3_w_loc, self.fc3_w_scale).to_event(2))\n",
    "        self.fc3.bias   = pyro.nn.PyroSample(dist.Normal(self.fc3_b_loc, self.fc3_b_scale).to_event(1))\n",
    "        \n",
    "        self.fc4 = PyroLinear(32, output_size)\n",
    "        \n",
    "        self.fc4_w_loc = torch.zeros((output_size, 32), device=self.device)\n",
    "        self.fc4_w_scale = torch.ones((output_size, 32), device=self.device) * prec\n",
    "        \n",
    "        self.fc4_b_loc = torch.zeros((output_size), device=self.device)\n",
    "        self.fc4_b_scale = torch.ones((output_size), device=self.device) * prec\n",
    "        \n",
    "        self.fc4.weight = pyro.nn.PyroSample(dist.Normal(self.fc4_w_loc, self.fc4_w_scale).to_event(2))\n",
    "        self.fc4.bias   = pyro.nn.PyroSample(dist.Normal(self.fc4_b_loc, self.fc4_b_scale).to_event(1))\n",
    "        \n",
    "        self.log_softmax = torch.nn.LogSoftmax(dim=1)\n",
    "\n",
    "    def forward(self, x, y=None):\n",
    "        x = x.to(self.device)\n",
    "        x = self.conv1_batchnorm(self.conv1(x))\n",
    "        x = self.pool(torch.tanh(x))\n",
    "        x = self.conv2_batchnorm(self.conv2(x))\n",
    "        x = self.pool(torch.tanh(x))\n",
    "        x = self.conv3_batchnorm(self.conv3(x))\n",
    "        x = self.pool(torch.tanh(x))\n",
    "        x = x.view(-1, 128 * 2 * 2)\n",
    "        \n",
    "        x = torch.tanh(self.fc1(x))\n",
    "        x = torch.tanh(self.fc2(x))\n",
    "        x = torch.tanh(self.fc3(x))\n",
    "        x = self.fc4(x)\n",
    "        x = self.log_softmax(x)# output (log) softmax probabilities of each class\n",
    "        \n",
    "        if y is not None:\n",
    "            y = y.to(self.device)\n",
    "            \n",
    "        with pyro.plate(\"data\", x.shape[0]):\n",
    "            obs = pyro.sample(\"obs\", dist.Categorical(logits=x), obs=y)"
   ]
  },
  {
   "cell_type": "markdown",
   "id": "f06b5534",
   "metadata": {},
   "source": [
    "### Run SGHMC \n",
    "\n",
    "We run SGHMC to sample approximately from the posterior distribution."
   ]
  },
  {
   "cell_type": "code",
   "execution_count": null,
   "id": "cc0c5025",
   "metadata": {
    "scrolled": true
   },
   "outputs": [
    {
     "name": "stderr",
     "output_type": "stream",
     "text": [
      "Sample: 100%|█████████████████████████████████████████████████████████████████| 100/100 [00:05, 17.51it/s, lr=1.00e-06]\n",
      "Sample: 100%|█████████████████████████████████████████████████████████████████| 100/100 [00:03, 27.52it/s, lr=1.00e-06]\n",
      "Sample: 100%|█████████████████████████████████████████████████████████████████| 100/100 [00:03, 27.20it/s, lr=1.00e-06]\n",
      "Sample: 100%|█████████████████████████████████████████████████████████████████| 100/100 [00:03, 27.50it/s, lr=1.00e-06]\n",
      "Sample: 100%|█████████████████████████████████████████████████████████████████| 100/100 [00:03, 27.24it/s, lr=1.00e-06]\n",
      "Sample: 100%|█████████████████████████████████████████████████████████████████| 100/100 [00:03, 27.55it/s, lr=1.00e-06]\n",
      "Sample: 100%|█████████████████████████████████████████████████████████████████| 100/100 [00:03, 27.06it/s, lr=1.00e-06]\n",
      "Sample: 100%|█████████████████████████████████████████████████████████████████| 100/100 [00:03, 26.70it/s, lr=1.00e-06]\n",
      "Sample: 100%|█████████████████████████████████████████████████████████████████| 100/100 [00:03, 26.44it/s, lr=1.00e-06]\n",
      "Sample: 100%|█████████████████████████████████████████████████████████████████| 100/100 [00:03, 26.70it/s, lr=1.00e-06]\n",
      "Sample: 100%|█████████████████████████████████████████████████████████████████| 100/100 [00:03, 26.58it/s, lr=1.00e-06]\n",
      "Sample: 100%|█████████████████████████████████████████████████████████████████| 100/100 [00:03, 26.75it/s, lr=1.00e-06]\n",
      "Sample: 100%|█████████████████████████████████████████████████████████████████| 100/100 [00:03, 26.65it/s, lr=1.00e-06]\n",
      "Sample: 100%|█████████████████████████████████████████████████████████████████| 100/100 [00:03, 26.82it/s, lr=1.00e-06]\n",
      "Sample: 100%|█████████████████████████████████████████████████████████████████| 100/100 [00:03, 26.78it/s, lr=1.00e-06]\n",
      "Sample: 100%|█████████████████████████████████████████████████████████████████| 100/100 [00:03, 26.92it/s, lr=1.00e-06]\n",
      "Sample: 100%|█████████████████████████████████████████████████████████████████| 100/100 [00:03, 26.83it/s, lr=1.00e-06]\n",
      "Sample: 100%|█████████████████████████████████████████████████████████████████| 100/100 [00:03, 27.16it/s, lr=1.00e-06]\n",
      "Sample: 100%|█████████████████████████████████████████████████████████████████| 100/100 [00:03, 27.14it/s, lr=1.00e-06]\n",
      "Sample: 100%|█████████████████████████████████████████████████████████████████| 100/100 [00:03, 26.89it/s, lr=1.00e-06]\n",
      "Sample: 100%|█████████████████████████████████████████████████████████████████| 100/100 [00:03, 26.90it/s, lr=1.00e-06]\n",
      "Sample: 100%|█████████████████████████████████████████████████████████████████| 100/100 [00:03, 27.03it/s, lr=1.00e-06]\n",
      "Sample: 100%|█████████████████████████████████████████████████████████████████| 100/100 [00:03, 27.34it/s, lr=1.00e-06]\n",
      "Sample: 100%|█████████████████████████████████████████████████████████████████| 100/100 [00:03, 27.28it/s, lr=1.00e-06]\n",
      "Sample: 100%|█████████████████████████████████████████████████████████████████| 100/100 [00:03, 27.51it/s, lr=1.00e-06]\n",
      "Sample: 100%|█████████████████████████████████████████████████████████████████| 100/100 [00:03, 26.81it/s, lr=1.00e-06]\n",
      "Sample: 100%|█████████████████████████████████████████████████████████████████| 100/100 [00:03, 27.03it/s, lr=1.00e-06]\n",
      "Sample: 100%|█████████████████████████████████████████████████████████████████| 100/100 [00:03, 27.31it/s, lr=1.00e-06]\n",
      "Sample: 100%|█████████████████████████████████████████████████████████████████| 100/100 [00:03, 27.16it/s, lr=1.00e-06]\n",
      "Sample: 100%|█████████████████████████████████████████████████████████████████| 100/100 [00:03, 26.60it/s, lr=1.00e-06]\n",
      "Sample: 100%|█████████████████████████████████████████████████████████████████| 100/100 [00:03, 27.05it/s, lr=1.00e-06]\n",
      "Sample: 100%|█████████████████████████████████████████████████████████████████| 100/100 [00:03, 27.11it/s, lr=1.00e-06]\n",
      "Sample: 100%|█████████████████████████████████████████████████████████████████| 100/100 [00:03, 27.31it/s, lr=1.00e-06]\n",
      "Sample: 100%|█████████████████████████████████████████████████████████████████| 100/100 [00:03, 27.02it/s, lr=1.00e-06]\n",
      "Sample: 100%|█████████████████████████████████████████████████████████████████| 100/100 [00:03, 27.09it/s, lr=1.00e-06]\n",
      "Sample: 100%|█████████████████████████████████████████████████████████████████| 100/100 [00:03, 27.09it/s, lr=1.00e-06]\n",
      "Sample: 100%|█████████████████████████████████████████████████████████████████| 100/100 [00:03, 27.20it/s, lr=1.00e-06]\n",
      "Sample: 100%|█████████████████████████████████████████████████████████████████| 100/100 [00:03, 26.98it/s, lr=1.00e-06]\n",
      "Sample: 100%|█████████████████████████████████████████████████████████████████| 100/100 [00:03, 27.29it/s, lr=1.00e-06]\n",
      "Sample: 100%|█████████████████████████████████████████████████████████████████| 100/100 [00:03, 27.43it/s, lr=1.00e-06]\n",
      "Sample: 100%|█████████████████████████████████████████████████████████████████| 100/100 [00:03, 27.05it/s, lr=1.00e-06]\n",
      "Sample: 100%|█████████████████████████████████████████████████████████████████| 100/100 [00:03, 26.73it/s, lr=1.00e-06]\n",
      "Sample: 100%|█████████████████████████████████████████████████████████████████| 100/100 [00:03, 26.87it/s, lr=1.00e-06]\n",
      "Sample: 100%|█████████████████████████████████████████████████████████████████| 100/100 [00:03, 26.88it/s, lr=1.00e-06]\n",
      "Sample: 100%|█████████████████████████████████████████████████████████████████| 100/100 [00:03, 26.85it/s, lr=1.00e-06]\n",
      "Sample: 100%|█████████████████████████████████████████████████████████████████| 100/100 [00:03, 26.81it/s, lr=1.00e-06]\n",
      "Sample: 100%|█████████████████████████████████████████████████████████████████| 100/100 [00:03, 26.75it/s, lr=1.00e-06]\n",
      "Sample: 100%|█████████████████████████████████████████████████████████████████| 100/100 [00:03, 27.20it/s, lr=1.00e-06]\n",
      "Sample: 100%|█████████████████████████████████████████████████████████████████| 100/100 [00:03, 27.42it/s, lr=1.00e-06]\n",
      "Sample: 100%|█████████████████████████████████████████████████████████████████| 100/100 [00:03, 27.49it/s, lr=1.00e-06]\n",
      "Sample: 100%|█████████████████████████████████████████████████████████████████| 100/100 [00:03, 27.31it/s, lr=1.00e-06]\n",
      "Sample: 100%|█████████████████████████████████████████████████████████████████| 100/100 [00:03, 27.55it/s, lr=1.00e-06]\n",
      "Sample: 100%|█████████████████████████████████████████████████████████████████| 100/100 [00:03, 27.13it/s, lr=1.00e-06]\n",
      "Sample: 100%|█████████████████████████████████████████████████████████████████| 100/100 [00:03, 26.85it/s, lr=1.00e-06]\n",
      "Sample: 100%|█████████████████████████████████████████████████████████████████| 100/100 [00:03, 27.06it/s, lr=1.00e-06]\n",
      "Sample: 100%|█████████████████████████████████████████████████████████████████| 100/100 [00:03, 27.06it/s, lr=1.00e-06]\n",
      "Sample: 100%|█████████████████████████████████████████████████████████████████| 100/100 [00:03, 26.85it/s, lr=1.00e-06]\n",
      "Sample: 100%|█████████████████████████████████████████████████████████████████| 100/100 [00:03, 26.81it/s, lr=1.00e-06]\n",
      "Sample: 100%|█████████████████████████████████████████████████████████████████| 100/100 [00:03, 26.92it/s, lr=1.00e-06]\n",
      "Sample: 100%|█████████████████████████████████████████████████████████████████| 100/100 [00:03, 26.71it/s, lr=1.00e-06]\n",
      "Sample: 100%|█████████████████████████████████████████████████████████████████| 100/100 [00:03, 26.55it/s, lr=1.00e-06]\n",
      "Sample: 100%|█████████████████████████████████████████████████████████████████| 100/100 [00:03, 26.19it/s, lr=1.00e-06]\n",
      "Sample: 100%|█████████████████████████████████████████████████████████████████| 100/100 [00:03, 26.23it/s, lr=1.00e-06]\n",
      "Sample: 100%|█████████████████████████████████████████████████████████████████| 100/100 [00:03, 26.95it/s, lr=1.00e-06]\n",
      "Sample: 100%|█████████████████████████████████████████████████████████████████| 100/100 [00:03, 26.82it/s, lr=1.00e-06]\n",
      "Sample: 100%|█████████████████████████████████████████████████████████████████| 100/100 [00:03, 26.77it/s, lr=1.00e-06]\n",
      "Sample: 100%|█████████████████████████████████████████████████████████████████| 100/100 [00:03, 26.65it/s, lr=1.00e-06]\n",
      "Sample: 100%|█████████████████████████████████████████████████████████████████| 100/100 [00:03, 26.60it/s, lr=1.00e-06]\n"
     ]
    },
    {
     "name": "stderr",
     "output_type": "stream",
     "text": [
      "Sample: 100%|█████████████████████████████████████████████████████████████████| 100/100 [00:03, 26.65it/s, lr=1.00e-06]\n",
      "Sample: 100%|█████████████████████████████████████████████████████████████████| 100/100 [00:03, 27.30it/s, lr=1.00e-06]\n",
      "Sample: 100%|█████████████████████████████████████████████████████████████████| 100/100 [00:03, 27.68it/s, lr=1.00e-06]\n",
      "Sample: 100%|█████████████████████████████████████████████████████████████████| 100/100 [00:03, 27.53it/s, lr=1.00e-06]\n",
      "Sample: 100%|█████████████████████████████████████████████████████████████████| 100/100 [00:03, 27.24it/s, lr=1.00e-06]\n",
      "Sample: 100%|█████████████████████████████████████████████████████████████████| 100/100 [00:03, 27.14it/s, lr=1.00e-06]\n",
      "Sample: 100%|█████████████████████████████████████████████████████████████████| 100/100 [00:03, 26.76it/s, lr=1.00e-06]\n",
      "Sample: 100%|█████████████████████████████████████████████████████████████████| 100/100 [00:03, 26.59it/s, lr=1.00e-06]\n",
      "Sample: 100%|█████████████████████████████████████████████████████████████████| 100/100 [00:03, 25.75it/s, lr=1.00e-06]\n",
      "Sample: 100%|█████████████████████████████████████████████████████████████████| 100/100 [00:03, 26.34it/s, lr=1.00e-06]\n",
      "Sample: 100%|█████████████████████████████████████████████████████████████████| 100/100 [00:03, 26.87it/s, lr=1.00e-06]\n",
      "Sample: 100%|█████████████████████████████████████████████████████████████████| 100/100 [00:03, 26.95it/s, lr=1.00e-06]\n",
      "Sample: 100%|█████████████████████████████████████████████████████████████████| 100/100 [00:03, 27.40it/s, lr=1.00e-06]\n",
      "Sample: 100%|█████████████████████████████████████████████████████████████████| 100/100 [00:03, 27.53it/s, lr=1.00e-06]\n",
      "Sample: 100%|█████████████████████████████████████████████████████████████████| 100/100 [00:03, 27.58it/s, lr=1.00e-06]\n",
      "Sample: 100%|█████████████████████████████████████████████████████████████████| 100/100 [00:03, 27.55it/s, lr=1.00e-06]\n",
      "Sample: 100%|█████████████████████████████████████████████████████████████████| 100/100 [00:03, 27.58it/s, lr=1.00e-06]\n",
      "Sample: 100%|█████████████████████████████████████████████████████████████████| 100/100 [00:03, 27.59it/s, lr=1.00e-06]\n",
      "Sample: 100%|█████████████████████████████████████████████████████████████████| 100/100 [00:03, 27.28it/s, lr=1.00e-06]\n",
      "Sample: 100%|█████████████████████████████████████████████████████████████████| 100/100 [00:03, 26.38it/s, lr=1.00e-06]\n",
      "Sample: 100%|█████████████████████████████████████████████████████████████████| 100/100 [00:03, 26.64it/s, lr=1.00e-06]\n",
      "Sample: 100%|█████████████████████████████████████████████████████████████████| 100/100 [00:03, 26.60it/s, lr=1.00e-06]\n",
      "Sample: 100%|█████████████████████████████████████████████████████████████████| 100/100 [00:03, 26.04it/s, lr=1.00e-06]\n",
      "Sample: 100%|█████████████████████████████████████████████████████████████████| 100/100 [00:03, 26.89it/s, lr=1.00e-06]\n",
      "Sample: 100%|█████████████████████████████████████████████████████████████████| 100/100 [00:03, 27.34it/s, lr=1.00e-06]\n",
      "Sample: 100%|█████████████████████████████████████████████████████████████████| 100/100 [00:03, 27.41it/s, lr=1.00e-06]\n",
      "Sample: 100%|█████████████████████████████████████████████████████████████████| 100/100 [00:03, 27.55it/s, lr=1.00e-06]\n",
      "Sample: 100%|█████████████████████████████████████████████████████████████████| 100/100 [00:03, 27.10it/s, lr=1.00e-06]\n",
      "Sample: 100%|█████████████████████████████████████████████████████████████████| 100/100 [00:03, 27.51it/s, lr=1.00e-06]\n",
      "Sample: 100%|█████████████████████████████████████████████████████████████████| 100/100 [00:03, 27.40it/s, lr=1.00e-06]\n",
      "Sample: 100%|█████████████████████████████████████████████████████████████████| 100/100 [00:03, 27.40it/s, lr=1.00e-06]\n",
      "Sample: 100%|█████████████████████████████████████████████████████████████████| 100/100 [00:03, 27.28it/s, lr=1.00e-06]\n",
      "Sample: 100%|█████████████████████████████████████████████████████████████████| 100/100 [00:03, 27.43it/s, lr=1.00e-06]\n",
      "Sample: 100%|█████████████████████████████████████████████████████████████████| 100/100 [00:03, 27.28it/s, lr=1.00e-06]\n",
      "Sample: 100%|█████████████████████████████████████████████████████████████████| 100/100 [00:03, 27.54it/s, lr=1.00e-06]\n",
      "Sample: 100%|█████████████████████████████████████████████████████████████████| 100/100 [00:03, 27.34it/s, lr=1.00e-06]\n",
      "Sample: 100%|█████████████████████████████████████████████████████████████████| 100/100 [00:03, 27.03it/s, lr=1.00e-06]\n",
      "Sample: 100%|█████████████████████████████████████████████████████████████████| 100/100 [00:03, 25.88it/s, lr=1.00e-06]\n",
      "Sample: 100%|█████████████████████████████████████████████████████████████████| 100/100 [00:03, 26.21it/s, lr=1.00e-06]\n",
      "Sample: 100%|█████████████████████████████████████████████████████████████████| 100/100 [00:03, 25.98it/s, lr=1.00e-06]\n",
      "Sample: 100%|█████████████████████████████████████████████████████████████████| 100/100 [00:03, 25.75it/s, lr=1.00e-06]\n",
      "Sample: 100%|█████████████████████████████████████████████████████████████████| 100/100 [00:03, 26.60it/s, lr=1.00e-06]\n",
      "Sample: 100%|█████████████████████████████████████████████████████████████████| 100/100 [00:03, 26.44it/s, lr=1.00e-06]\n",
      "Sample: 100%|█████████████████████████████████████████████████████████████████| 100/100 [00:03, 26.53it/s, lr=1.00e-06]\n",
      "Sample: 100%|█████████████████████████████████████████████████████████████████| 100/100 [00:03, 26.95it/s, lr=1.00e-06]\n",
      "Sample: 100%|█████████████████████████████████████████████████████████████████| 100/100 [00:03, 27.28it/s, lr=1.00e-06]\n",
      "Sample: 100%|█████████████████████████████████████████████████████████████████| 100/100 [00:03, 26.75it/s, lr=1.00e-06]\n",
      "Sample: 100%|█████████████████████████████████████████████████████████████████| 100/100 [00:03, 26.61it/s, lr=1.00e-06]\n",
      "Sample: 100%|█████████████████████████████████████████████████████████████████| 100/100 [00:03, 26.92it/s, lr=1.00e-06]\n",
      "Sample: 100%|█████████████████████████████████████████████████████████████████| 100/100 [00:03, 26.77it/s, lr=1.00e-06]\n",
      "Sample: 100%|█████████████████████████████████████████████████████████████████| 100/100 [00:03, 25.77it/s, lr=1.00e-06]\n",
      "Sample: 100%|█████████████████████████████████████████████████████████████████| 100/100 [00:03, 25.87it/s, lr=1.00e-06]\n",
      "Sample: 100%|█████████████████████████████████████████████████████████████████| 100/100 [00:03, 26.85it/s, lr=1.00e-06]\n",
      "Sample: 100%|█████████████████████████████████████████████████████████████████| 100/100 [00:03, 27.02it/s, lr=1.00e-06]\n",
      "Sample: 100%|█████████████████████████████████████████████████████████████████| 100/100 [00:03, 26.21it/s, lr=1.00e-06]\n",
      "Sample: 100%|█████████████████████████████████████████████████████████████████| 100/100 [00:03, 26.47it/s, lr=1.00e-06]\n",
      "Sample: 100%|█████████████████████████████████████████████████████████████████| 100/100 [00:03, 26.89it/s, lr=1.00e-06]\n",
      "Sample: 100%|█████████████████████████████████████████████████████████████████| 100/100 [00:03, 26.18it/s, lr=1.00e-06]\n",
      "Sample: 100%|█████████████████████████████████████████████████████████████████| 100/100 [00:03, 26.20it/s, lr=1.00e-06]\n",
      "Sample: 100%|█████████████████████████████████████████████████████████████████| 100/100 [00:03, 26.73it/s, lr=1.00e-06]\n",
      "Sample: 100%|█████████████████████████████████████████████████████████████████| 100/100 [00:03, 27.19it/s, lr=1.00e-06]\n",
      "Sample: 100%|█████████████████████████████████████████████████████████████████| 100/100 [00:03, 26.98it/s, lr=1.00e-06]\n",
      "Sample: 100%|█████████████████████████████████████████████████████████████████| 100/100 [00:03, 27.13it/s, lr=1.00e-06]\n",
      "Sample: 100%|█████████████████████████████████████████████████████████████████| 100/100 [00:03, 27.35it/s, lr=1.00e-06]\n",
      "Sample: 100%|█████████████████████████████████████████████████████████████████| 100/100 [00:03, 27.28it/s, lr=1.00e-06]\n",
      "Sample: 100%|█████████████████████████████████████████████████████████████████| 100/100 [00:03, 27.05it/s, lr=1.00e-06]\n",
      "Sample: 100%|█████████████████████████████████████████████████████████████████| 100/100 [00:03, 27.19it/s, lr=1.00e-06]\n",
      "Sample: 100%|█████████████████████████████████████████████████████████████████| 100/100 [00:03, 27.13it/s, lr=1.00e-06]\n"
     ]
    },
    {
     "name": "stderr",
     "output_type": "stream",
     "text": [
      "Sample: 100%|█████████████████████████████████████████████████████████████████| 100/100 [00:03, 27.33it/s, lr=1.00e-06]\n",
      "Sample: 100%|█████████████████████████████████████████████████████████████████| 100/100 [00:03, 27.09it/s, lr=1.00e-06]\n",
      "Sample: 100%|█████████████████████████████████████████████████████████████████| 100/100 [00:03, 26.98it/s, lr=1.00e-06]\n",
      "Sample: 100%|█████████████████████████████████████████████████████████████████| 100/100 [00:03, 27.09it/s, lr=1.00e-06]\n",
      "Sample: 100%|█████████████████████████████████████████████████████████████████| 100/100 [00:03, 27.07it/s, lr=1.00e-06]\n",
      "Sample: 100%|█████████████████████████████████████████████████████████████████| 100/100 [00:03, 26.87it/s, lr=1.00e-06]\n",
      "Sample: 100%|█████████████████████████████████████████████████████████████████| 100/100 [00:03, 27.09it/s, lr=1.00e-06]\n",
      "Sample: 100%|█████████████████████████████████████████████████████████████████| 100/100 [00:03, 27.35it/s, lr=1.00e-06]\n",
      "Sample: 100%|█████████████████████████████████████████████████████████████████| 100/100 [00:03, 27.58it/s, lr=1.00e-06]\n",
      "Sample: 100%|█████████████████████████████████████████████████████████████████| 100/100 [00:03, 27.31it/s, lr=1.00e-06]\n",
      "Sample: 100%|█████████████████████████████████████████████████████████████████| 100/100 [00:03, 27.55it/s, lr=1.00e-06]\n",
      "Sample: 100%|█████████████████████████████████████████████████████████████████| 100/100 [00:03, 27.81it/s, lr=1.00e-06]\n",
      "Sample: 100%|█████████████████████████████████████████████████████████████████| 100/100 [00:03, 27.77it/s, lr=1.00e-06]\n",
      "Sample: 100%|█████████████████████████████████████████████████████████████████| 100/100 [00:03, 27.28it/s, lr=1.00e-06]\n"
     ]
    },
    {
     "name": "stdout",
     "output_type": "stream",
     "text": [
      "Epoch [0/800] test accuracy: 0.3867 time: 14.81\n"
     ]
    },
    {
     "name": "stderr",
     "output_type": "stream",
     "text": [
      "Sample: 100%|█████████████████████████████████████████████████████████████████| 100/100 [00:03, 27.48it/s, lr=1.00e-06]\n"
     ]
    },
    {
     "name": "stdout",
     "output_type": "stream",
     "text": [
      "Epoch [1/800] test accuracy: 0.3910 time: 14.86\n"
     ]
    },
    {
     "name": "stderr",
     "output_type": "stream",
     "text": [
      "Sample: 100%|█████████████████████████████████████████████████████████████████| 100/100 [00:03, 27.86it/s, lr=1.00e-06]\n"
     ]
    },
    {
     "name": "stdout",
     "output_type": "stream",
     "text": [
      "Epoch [2/800] test accuracy: 0.3890 time: 14.81\n"
     ]
    },
    {
     "name": "stderr",
     "output_type": "stream",
     "text": [
      "Sample: 100%|█████████████████████████████████████████████████████████████████| 100/100 [00:03, 27.33it/s, lr=1.00e-06]\n"
     ]
    },
    {
     "name": "stdout",
     "output_type": "stream",
     "text": [
      "Epoch [3/800] test accuracy: 0.3905 time: 14.80\n"
     ]
    },
    {
     "name": "stderr",
     "output_type": "stream",
     "text": [
      "Sample: 100%|█████████████████████████████████████████████████████████████████| 100/100 [00:03, 27.40it/s, lr=1.00e-06]\n"
     ]
    },
    {
     "name": "stdout",
     "output_type": "stream",
     "text": [
      "Epoch [4/800] test accuracy: 0.3910 time: 15.14\n"
     ]
    },
    {
     "name": "stderr",
     "output_type": "stream",
     "text": [
      "Sample: 100%|█████████████████████████████████████████████████████████████████| 100/100 [00:03, 27.00it/s, lr=1.00e-06]\n"
     ]
    },
    {
     "name": "stdout",
     "output_type": "stream",
     "text": [
      "Epoch [5/800] test accuracy: 0.3939 time: 14.90\n"
     ]
    },
    {
     "name": "stderr",
     "output_type": "stream",
     "text": [
      "Sample: 100%|█████████████████████████████████████████████████████████████████| 100/100 [00:03, 27.67it/s, lr=1.00e-06]\n"
     ]
    },
    {
     "name": "stdout",
     "output_type": "stream",
     "text": [
      "Epoch [6/800] test accuracy: 0.3952 time: 14.81\n"
     ]
    },
    {
     "name": "stderr",
     "output_type": "stream",
     "text": [
      "Sample: 100%|█████████████████████████████████████████████████████████████████| 100/100 [00:03, 27.31it/s, lr=1.00e-06]\n"
     ]
    },
    {
     "name": "stdout",
     "output_type": "stream",
     "text": [
      "Epoch [7/800] test accuracy: 0.3955 time: 14.79\n"
     ]
    },
    {
     "name": "stderr",
     "output_type": "stream",
     "text": [
      "Sample: 100%|█████████████████████████████████████████████████████████████████| 100/100 [00:03, 27.03it/s, lr=1.00e-06]\n"
     ]
    },
    {
     "name": "stdout",
     "output_type": "stream",
     "text": [
      "Epoch [8/800] test accuracy: 0.3929 time: 14.81\n"
     ]
    },
    {
     "name": "stderr",
     "output_type": "stream",
     "text": [
      "Sample: 100%|█████████████████████████████████████████████████████████████████| 100/100 [00:03, 27.40it/s, lr=1.00e-06]\n"
     ]
    },
    {
     "name": "stdout",
     "output_type": "stream",
     "text": [
      "Epoch [9/800] test accuracy: 0.3948 time: 14.86\n"
     ]
    },
    {
     "name": "stderr",
     "output_type": "stream",
     "text": [
      "Sample: 100%|█████████████████████████████████████████████████████████████████| 100/100 [00:03, 27.50it/s, lr=1.00e-06]\n"
     ]
    },
    {
     "name": "stdout",
     "output_type": "stream",
     "text": [
      "Epoch [10/800] test accuracy: 0.3961 time: 15.00\n"
     ]
    },
    {
     "name": "stderr",
     "output_type": "stream",
     "text": [
      "Sample: 100%|█████████████████████████████████████████████████████████████████| 100/100 [00:03, 26.80it/s, lr=1.00e-06]\n"
     ]
    },
    {
     "name": "stdout",
     "output_type": "stream",
     "text": [
      "Epoch [11/800] test accuracy: 0.3957 time: 15.17\n"
     ]
    },
    {
     "name": "stderr",
     "output_type": "stream",
     "text": [
      "Sample: 100%|█████████████████████████████████████████████████████████████████| 100/100 [00:03, 27.22it/s, lr=1.00e-06]\n"
     ]
    },
    {
     "name": "stdout",
     "output_type": "stream",
     "text": [
      "Epoch [12/800] test accuracy: 0.3963 time: 14.90\n"
     ]
    },
    {
     "name": "stderr",
     "output_type": "stream",
     "text": [
      "Sample: 100%|█████████████████████████████████████████████████████████████████| 100/100 [00:03, 27.31it/s, lr=1.00e-06]\n"
     ]
    },
    {
     "name": "stdout",
     "output_type": "stream",
     "text": [
      "Epoch [13/800] test accuracy: 0.3959 time: 14.83\n"
     ]
    },
    {
     "name": "stderr",
     "output_type": "stream",
     "text": [
      "Sample: 100%|█████████████████████████████████████████████████████████████████| 100/100 [00:03, 27.26it/s, lr=1.00e-06]\n"
     ]
    },
    {
     "name": "stdout",
     "output_type": "stream",
     "text": [
      "Epoch [14/800] test accuracy: 0.3966 time: 14.80\n"
     ]
    },
    {
     "name": "stderr",
     "output_type": "stream",
     "text": [
      "Sample: 100%|█████████████████████████████████████████████████████████████████| 100/100 [00:03, 27.37it/s, lr=1.00e-06]\n"
     ]
    },
    {
     "name": "stdout",
     "output_type": "stream",
     "text": [
      "Epoch [15/800] test accuracy: 0.3972 time: 15.45\n"
     ]
    },
    {
     "name": "stderr",
     "output_type": "stream",
     "text": [
      "Sample: 100%|█████████████████████████████████████████████████████████████████| 100/100 [00:04, 23.32it/s, lr=1.00e-06]\n"
     ]
    },
    {
     "name": "stdout",
     "output_type": "stream",
     "text": [
      "Epoch [16/800] test accuracy: 0.3972 time: 15.80\n"
     ]
    },
    {
     "name": "stderr",
     "output_type": "stream",
     "text": [
      "Sample: 100%|█████████████████████████████████████████████████████████████████| 100/100 [00:03, 25.50it/s, lr=1.00e-06]\n"
     ]
    },
    {
     "name": "stdout",
     "output_type": "stream",
     "text": [
      "Epoch [17/800] test accuracy: 0.3979 time: 16.03\n"
     ]
    },
    {
     "name": "stderr",
     "output_type": "stream",
     "text": [
      "Sample: 100%|█████████████████████████████████████████████████████████████████| 100/100 [00:03, 25.17it/s, lr=1.00e-06]\n"
     ]
    },
    {
     "name": "stdout",
     "output_type": "stream",
     "text": [
      "Epoch [18/800] test accuracy: 0.3973 time: 15.70\n"
     ]
    },
    {
     "name": "stderr",
     "output_type": "stream",
     "text": [
      "Sample: 100%|█████████████████████████████████████████████████████████████████| 100/100 [00:03, 25.96it/s, lr=1.00e-06]\n"
     ]
    },
    {
     "name": "stdout",
     "output_type": "stream",
     "text": [
      "Epoch [19/800] test accuracy: 0.3980 time: 15.44\n"
     ]
    },
    {
     "name": "stderr",
     "output_type": "stream",
     "text": [
      "Sample: 100%|█████████████████████████████████████████████████████████████████| 100/100 [00:03, 25.68it/s, lr=1.00e-06]\n"
     ]
    },
    {
     "name": "stdout",
     "output_type": "stream",
     "text": [
      "Epoch [20/800] test accuracy: 0.3982 time: 15.50\n"
     ]
    },
    {
     "name": "stderr",
     "output_type": "stream",
     "text": [
      "Sample: 100%|█████████████████████████████████████████████████████████████████| 100/100 [00:03, 26.15it/s, lr=1.00e-06]\n"
     ]
    },
    {
     "name": "stdout",
     "output_type": "stream",
     "text": [
      "Epoch [21/800] test accuracy: 0.3983 time: 15.38\n"
     ]
    },
    {
     "name": "stderr",
     "output_type": "stream",
     "text": [
      "Sample: 100%|█████████████████████████████████████████████████████████████████| 100/100 [00:03, 26.38it/s, lr=1.00e-06]\n"
     ]
    },
    {
     "name": "stdout",
     "output_type": "stream",
     "text": [
      "Epoch [22/800] test accuracy: 0.3978 time: 15.20\n"
     ]
    },
    {
     "name": "stderr",
     "output_type": "stream",
     "text": [
      "Sample: 100%|█████████████████████████████████████████████████████████████████| 100/100 [00:03, 25.96it/s, lr=1.00e-06]\n"
     ]
    },
    {
     "name": "stdout",
     "output_type": "stream",
     "text": [
      "Epoch [23/800] test accuracy: 0.3984 time: 15.31\n"
     ]
    },
    {
     "name": "stderr",
     "output_type": "stream",
     "text": [
      "Sample: 100%|█████████████████████████████████████████████████████████████████| 100/100 [00:03, 26.94it/s, lr=1.00e-06]\n"
     ]
    },
    {
     "name": "stdout",
     "output_type": "stream",
     "text": [
      "Epoch [24/800] test accuracy: 0.3984 time: 15.08\n"
     ]
    },
    {
     "name": "stderr",
     "output_type": "stream",
     "text": [
      "Sample: 100%|█████████████████████████████████████████████████████████████████| 100/100 [00:03, 27.23it/s, lr=1.00e-06]\n"
     ]
    },
    {
     "name": "stdout",
     "output_type": "stream",
     "text": [
      "Epoch [25/800] test accuracy: 0.3978 time: 15.18\n"
     ]
    },
    {
     "name": "stderr",
     "output_type": "stream",
     "text": [
      "Sample: 100%|█████████████████████████████████████████████████████████████████| 100/100 [00:03, 27.18it/s, lr=1.00e-06]\n"
     ]
    },
    {
     "name": "stdout",
     "output_type": "stream",
     "text": [
      "Epoch [26/800] test accuracy: 0.3971 time: 15.10\n"
     ]
    },
    {
     "name": "stderr",
     "output_type": "stream",
     "text": [
      "Sample: 100%|█████████████████████████████████████████████████████████████████| 100/100 [00:03, 26.25it/s, lr=1.00e-06]\n"
     ]
    },
    {
     "name": "stdout",
     "output_type": "stream",
     "text": [
      "Epoch [27/800] test accuracy: 0.3966 time: 15.44\n"
     ]
    },
    {
     "name": "stderr",
     "output_type": "stream",
     "text": [
      "Sample: 100%|█████████████████████████████████████████████████████████████████| 100/100 [00:03, 26.80it/s, lr=1.00e-06]\n"
     ]
    },
    {
     "name": "stdout",
     "output_type": "stream",
     "text": [
      "Epoch [28/800] test accuracy: 0.3966 time: 15.05\n"
     ]
    },
    {
     "name": "stderr",
     "output_type": "stream",
     "text": [
      "Sample: 100%|█████████████████████████████████████████████████████████████████| 100/100 [00:03, 27.41it/s, lr=1.00e-06]\n"
     ]
    },
    {
     "name": "stdout",
     "output_type": "stream",
     "text": [
      "Epoch [29/800] test accuracy: 0.3966 time: 15.07\n"
     ]
    },
    {
     "name": "stderr",
     "output_type": "stream",
     "text": [
      "Sample: 100%|█████████████████████████████████████████████████████████████████| 100/100 [00:03, 25.84it/s, lr=1.00e-06]\n"
     ]
    },
    {
     "name": "stdout",
     "output_type": "stream",
     "text": [
      "Epoch [30/800] test accuracy: 0.3956 time: 15.33\n"
     ]
    },
    {
     "name": "stderr",
     "output_type": "stream",
     "text": [
      "Sample: 100%|█████████████████████████████████████████████████████████████████| 100/100 [00:03, 27.29it/s, lr=1.00e-06]\n"
     ]
    },
    {
     "name": "stdout",
     "output_type": "stream",
     "text": [
      "Epoch [31/800] test accuracy: 0.3954 time: 14.94\n"
     ]
    },
    {
     "name": "stderr",
     "output_type": "stream",
     "text": [
      "Sample: 100%|█████████████████████████████████████████████████████████████████| 100/100 [00:03, 26.94it/s, lr=1.00e-06]\n"
     ]
    },
    {
     "name": "stdout",
     "output_type": "stream",
     "text": [
      "Epoch [32/800] test accuracy: 0.3959 time: 15.18\n"
     ]
    },
    {
     "name": "stderr",
     "output_type": "stream",
     "text": [
      "Sample: 100%|█████████████████████████████████████████████████████████████████| 100/100 [00:03, 27.18it/s, lr=1.00e-06]\n"
     ]
    },
    {
     "name": "stdout",
     "output_type": "stream",
     "text": [
      "Epoch [33/800] test accuracy: 0.3964 time: 15.15\n"
     ]
    },
    {
     "name": "stderr",
     "output_type": "stream",
     "text": [
      "Sample: 100%|█████████████████████████████████████████████████████████████████| 100/100 [00:03, 26.82it/s, lr=1.00e-06]\n"
     ]
    },
    {
     "name": "stdout",
     "output_type": "stream",
     "text": [
      "Epoch [34/800] test accuracy: 0.3981 time: 15.09\n"
     ]
    },
    {
     "name": "stderr",
     "output_type": "stream",
     "text": [
      "Sample: 100%|█████████████████████████████████████████████████████████████████| 100/100 [00:03, 27.51it/s, lr=1.00e-06]\n"
     ]
    },
    {
     "name": "stdout",
     "output_type": "stream",
     "text": [
      "Epoch [35/800] test accuracy: 0.3976 time: 15.35\n"
     ]
    },
    {
     "name": "stderr",
     "output_type": "stream",
     "text": [
      "Sample: 100%|█████████████████████████████████████████████████████████████████| 100/100 [00:03, 25.48it/s, lr=1.00e-06]\n"
     ]
    },
    {
     "name": "stdout",
     "output_type": "stream",
     "text": [
      "Epoch [36/800] test accuracy: 0.3985 time: 15.20\n"
     ]
    },
    {
     "name": "stderr",
     "output_type": "stream",
     "text": [
      "Sample: 100%|█████████████████████████████████████████████████████████████████| 100/100 [00:03, 26.83it/s, lr=1.00e-06]\n"
     ]
    },
    {
     "name": "stdout",
     "output_type": "stream",
     "text": [
      "Epoch [37/800] test accuracy: 0.3986 time: 15.25\n"
     ]
    },
    {
     "name": "stderr",
     "output_type": "stream",
     "text": [
      "Sample: 100%|█████████████████████████████████████████████████████████████████| 100/100 [00:03, 27.11it/s, lr=1.00e-06]\n"
     ]
    },
    {
     "name": "stdout",
     "output_type": "stream",
     "text": [
      "Epoch [38/800] test accuracy: 0.3979 time: 14.79\n"
     ]
    },
    {
     "name": "stderr",
     "output_type": "stream",
     "text": [
      "Sample: 100%|█████████████████████████████████████████████████████████████████| 100/100 [00:03, 27.55it/s, lr=1.00e-06]\n"
     ]
    },
    {
     "name": "stdout",
     "output_type": "stream",
     "text": [
      "Epoch [39/800] test accuracy: 0.3986 time: 14.79\n"
     ]
    },
    {
     "name": "stderr",
     "output_type": "stream",
     "text": [
      "Sample: 100%|█████████████████████████████████████████████████████████████████| 100/100 [00:03, 27.78it/s, lr=1.00e-06]\n"
     ]
    },
    {
     "name": "stdout",
     "output_type": "stream",
     "text": [
      "Epoch [40/800] test accuracy: 0.3984 time: 14.77\n"
     ]
    },
    {
     "name": "stderr",
     "output_type": "stream",
     "text": [
      "Sample: 100%|█████████████████████████████████████████████████████████████████| 100/100 [00:03, 27.35it/s, lr=1.00e-06]\n"
     ]
    },
    {
     "name": "stdout",
     "output_type": "stream",
     "text": [
      "Epoch [41/800] test accuracy: 0.3979 time: 14.98\n"
     ]
    },
    {
     "name": "stderr",
     "output_type": "stream",
     "text": [
      "Sample: 100%|█████████████████████████████████████████████████████████████████| 100/100 [00:03, 27.23it/s, lr=1.00e-06]\n"
     ]
    },
    {
     "name": "stdout",
     "output_type": "stream",
     "text": [
      "Epoch [42/800] test accuracy: 0.3977 time: 15.08\n"
     ]
    },
    {
     "name": "stderr",
     "output_type": "stream",
     "text": [
      "Sample: 100%|█████████████████████████████████████████████████████████████████| 100/100 [00:03, 26.88it/s, lr=1.00e-06]\n"
     ]
    },
    {
     "name": "stdout",
     "output_type": "stream",
     "text": [
      "Epoch [43/800] test accuracy: 0.3989 time: 14.98\n"
     ]
    },
    {
     "name": "stderr",
     "output_type": "stream",
     "text": [
      "Sample: 100%|█████████████████████████████████████████████████████████████████| 100/100 [00:03, 27.06it/s, lr=1.00e-06]\n"
     ]
    },
    {
     "name": "stdout",
     "output_type": "stream",
     "text": [
      "Epoch [44/800] test accuracy: 0.3986 time: 14.83\n"
     ]
    },
    {
     "name": "stderr",
     "output_type": "stream",
     "text": [
      "Sample: 100%|█████████████████████████████████████████████████████████████████| 100/100 [00:03, 27.39it/s, lr=1.00e-06]\n"
     ]
    },
    {
     "name": "stdout",
     "output_type": "stream",
     "text": [
      "Epoch [45/800] test accuracy: 0.3986 time: 14.82\n"
     ]
    },
    {
     "name": "stderr",
     "output_type": "stream",
     "text": [
      "Sample: 100%|█████████████████████████████████████████████████████████████████| 100/100 [00:03, 26.67it/s, lr=1.00e-06]\n"
     ]
    },
    {
     "name": "stdout",
     "output_type": "stream",
     "text": [
      "Epoch [46/800] test accuracy: 0.3989 time: 14.85\n"
     ]
    },
    {
     "name": "stderr",
     "output_type": "stream",
     "text": [
      "Sample: 100%|█████████████████████████████████████████████████████████████████| 100/100 [00:03, 27.31it/s, lr=1.00e-06]\n"
     ]
    },
    {
     "name": "stdout",
     "output_type": "stream",
     "text": [
      "Epoch [47/800] test accuracy: 0.3990 time: 14.85\n"
     ]
    },
    {
     "name": "stderr",
     "output_type": "stream",
     "text": [
      "Sample: 100%|█████████████████████████████████████████████████████████████████| 100/100 [00:03, 27.26it/s, lr=1.00e-06]\n"
     ]
    },
    {
     "name": "stdout",
     "output_type": "stream",
     "text": [
      "Epoch [48/800] test accuracy: 0.4002 time: 14.91\n"
     ]
    },
    {
     "name": "stderr",
     "output_type": "stream",
     "text": [
      "Sample: 100%|█████████████████████████████████████████████████████████████████| 100/100 [00:03, 26.92it/s, lr=1.00e-06]\n"
     ]
    },
    {
     "name": "stdout",
     "output_type": "stream",
     "text": [
      "Epoch [49/800] test accuracy: 0.4003 time: 15.07\n"
     ]
    },
    {
     "name": "stderr",
     "output_type": "stream",
     "text": [
      "Sample: 100%|█████████████████████████████████████████████████████████████████| 100/100 [00:03, 27.43it/s, lr=1.00e-06]\n"
     ]
    },
    {
     "name": "stdout",
     "output_type": "stream",
     "text": [
      "Epoch [50/800] test accuracy: 0.4010 time: 14.94\n"
     ]
    },
    {
     "name": "stderr",
     "output_type": "stream",
     "text": [
      "Sample: 100%|█████████████████████████████████████████████████████████████████| 100/100 [00:03, 25.86it/s, lr=1.00e-06]\n"
     ]
    },
    {
     "name": "stdout",
     "output_type": "stream",
     "text": [
      "Epoch [51/800] test accuracy: 0.4006 time: 14.77\n"
     ]
    },
    {
     "name": "stderr",
     "output_type": "stream",
     "text": [
      "Sample: 100%|█████████████████████████████████████████████████████████████████| 100/100 [00:03, 27.30it/s, lr=1.00e-06]\n"
     ]
    },
    {
     "name": "stdout",
     "output_type": "stream",
     "text": [
      "Epoch [52/800] test accuracy: 0.4008 time: 14.82\n"
     ]
    },
    {
     "name": "stderr",
     "output_type": "stream",
     "text": [
      "Sample: 100%|█████████████████████████████████████████████████████████████████| 100/100 [00:03, 27.49it/s, lr=1.00e-06]\n"
     ]
    },
    {
     "name": "stdout",
     "output_type": "stream",
     "text": [
      "Epoch [53/800] test accuracy: 0.4001 time: 14.85\n"
     ]
    },
    {
     "name": "stderr",
     "output_type": "stream",
     "text": [
      "Sample: 100%|█████████████████████████████████████████████████████████████████| 100/100 [00:03, 26.83it/s, lr=1.00e-06]\n"
     ]
    },
    {
     "name": "stdout",
     "output_type": "stream",
     "text": [
      "Epoch [54/800] test accuracy: 0.3998 time: 14.83\n"
     ]
    },
    {
     "name": "stderr",
     "output_type": "stream",
     "text": [
      "Sample: 100%|█████████████████████████████████████████████████████████████████| 100/100 [00:03, 27.32it/s, lr=1.00e-06]\n"
     ]
    },
    {
     "name": "stdout",
     "output_type": "stream",
     "text": [
      "Epoch [55/800] test accuracy: 0.3997 time: 15.13\n"
     ]
    },
    {
     "name": "stderr",
     "output_type": "stream",
     "text": [
      "Sample: 100%|█████████████████████████████████████████████████████████████████| 100/100 [00:03, 27.05it/s, lr=1.00e-06]\n"
     ]
    },
    {
     "name": "stdout",
     "output_type": "stream",
     "text": [
      "Epoch [56/800] test accuracy: 0.3996 time: 14.90\n"
     ]
    },
    {
     "name": "stderr",
     "output_type": "stream",
     "text": [
      "Sample: 100%|█████████████████████████████████████████████████████████████████| 100/100 [00:03, 27.11it/s, lr=1.00e-06]\n"
     ]
    },
    {
     "name": "stdout",
     "output_type": "stream",
     "text": [
      "Epoch [57/800] test accuracy: 0.4005 time: 14.89\n"
     ]
    },
    {
     "name": "stderr",
     "output_type": "stream",
     "text": [
      "Sample: 100%|█████████████████████████████████████████████████████████████████| 100/100 [00:03, 26.50it/s, lr=1.00e-06]\n"
     ]
    },
    {
     "name": "stdout",
     "output_type": "stream",
     "text": [
      "Epoch [58/800] test accuracy: 0.4007 time: 15.54\n"
     ]
    },
    {
     "name": "stderr",
     "output_type": "stream",
     "text": [
      "Sample: 100%|█████████████████████████████████████████████████████████████████| 100/100 [00:03, 26.90it/s, lr=1.00e-06]\n"
     ]
    },
    {
     "name": "stdout",
     "output_type": "stream",
     "text": [
      "Epoch [59/800] test accuracy: 0.4010 time: 15.39\n"
     ]
    },
    {
     "name": "stderr",
     "output_type": "stream",
     "text": [
      "Sample: 100%|█████████████████████████████████████████████████████████████████| 100/100 [00:03, 27.18it/s, lr=1.00e-06]\n"
     ]
    },
    {
     "name": "stdout",
     "output_type": "stream",
     "text": [
      "Epoch [60/800] test accuracy: 0.4000 time: 15.23\n"
     ]
    },
    {
     "name": "stderr",
     "output_type": "stream",
     "text": [
      "Sample: 100%|█████████████████████████████████████████████████████████████████| 100/100 [00:03, 26.75it/s, lr=1.00e-06]\n"
     ]
    },
    {
     "name": "stdout",
     "output_type": "stream",
     "text": [
      "Epoch [61/800] test accuracy: 0.4002 time: 15.59\n"
     ]
    },
    {
     "name": "stderr",
     "output_type": "stream",
     "text": [
      "Sample: 100%|█████████████████████████████████████████████████████████████████| 100/100 [00:03, 26.30it/s, lr=1.00e-06]\n"
     ]
    },
    {
     "name": "stdout",
     "output_type": "stream",
     "text": [
      "Epoch [62/800] test accuracy: 0.4007 time: 15.51\n"
     ]
    },
    {
     "name": "stderr",
     "output_type": "stream",
     "text": [
      "Sample: 100%|█████████████████████████████████████████████████████████████████| 100/100 [00:03, 26.83it/s, lr=1.00e-06]\n"
     ]
    },
    {
     "name": "stdout",
     "output_type": "stream",
     "text": [
      "Epoch [63/800] test accuracy: 0.4011 time: 15.46\n"
     ]
    },
    {
     "name": "stderr",
     "output_type": "stream",
     "text": [
      "Sample: 100%|█████████████████████████████████████████████████████████████████| 100/100 [00:03, 26.34it/s, lr=1.00e-06]\n"
     ]
    },
    {
     "name": "stdout",
     "output_type": "stream",
     "text": [
      "Epoch [64/800] test accuracy: 0.4013 time: 14.85\n"
     ]
    },
    {
     "name": "stderr",
     "output_type": "stream",
     "text": [
      "Sample: 100%|█████████████████████████████████████████████████████████████████| 100/100 [00:03, 27.69it/s, lr=1.00e-06]\n"
     ]
    },
    {
     "name": "stdout",
     "output_type": "stream",
     "text": [
      "Epoch [65/800] test accuracy: 0.4012 time: 14.78\n"
     ]
    },
    {
     "name": "stderr",
     "output_type": "stream",
     "text": [
      "Sample: 100%|█████████████████████████████████████████████████████████████████| 100/100 [00:03, 27.76it/s, lr=1.00e-06]\n"
     ]
    },
    {
     "name": "stdout",
     "output_type": "stream",
     "text": [
      "Epoch [66/800] test accuracy: 0.4006 time: 14.77\n"
     ]
    },
    {
     "name": "stderr",
     "output_type": "stream",
     "text": [
      "Sample: 100%|█████████████████████████████████████████████████████████████████| 100/100 [00:03, 25.58it/s, lr=1.00e-06]\n"
     ]
    },
    {
     "name": "stdout",
     "output_type": "stream",
     "text": [
      "Epoch [67/800] test accuracy: 0.4003 time: 14.92\n"
     ]
    },
    {
     "name": "stderr",
     "output_type": "stream",
     "text": [
      "Sample: 100%|█████████████████████████████████████████████████████████████████| 100/100 [00:03, 26.85it/s, lr=1.00e-06]\n"
     ]
    },
    {
     "name": "stdout",
     "output_type": "stream",
     "text": [
      "Epoch [68/800] test accuracy: 0.4005 time: 15.04\n"
     ]
    },
    {
     "name": "stderr",
     "output_type": "stream",
     "text": [
      "Sample: 100%|█████████████████████████████████████████████████████████████████| 100/100 [00:03, 27.04it/s, lr=1.00e-06]\n"
     ]
    },
    {
     "name": "stdout",
     "output_type": "stream",
     "text": [
      "Epoch [69/800] test accuracy: 0.4003 time: 14.78\n"
     ]
    },
    {
     "name": "stderr",
     "output_type": "stream",
     "text": [
      "Sample: 100%|█████████████████████████████████████████████████████████████████| 100/100 [00:03, 27.34it/s, lr=1.00e-06]\n"
     ]
    },
    {
     "name": "stdout",
     "output_type": "stream",
     "text": [
      "Epoch [70/800] test accuracy: 0.4003 time: 14.77\n"
     ]
    },
    {
     "name": "stderr",
     "output_type": "stream",
     "text": [
      "Sample: 100%|█████████████████████████████████████████████████████████████████| 100/100 [00:03, 27.43it/s, lr=1.00e-06]\n"
     ]
    },
    {
     "name": "stdout",
     "output_type": "stream",
     "text": [
      "Epoch [71/800] test accuracy: 0.4005 time: 14.79\n"
     ]
    },
    {
     "name": "stderr",
     "output_type": "stream",
     "text": [
      "Sample: 100%|█████████████████████████████████████████████████████████████████| 100/100 [00:03, 27.18it/s, lr=1.00e-06]\n"
     ]
    },
    {
     "name": "stdout",
     "output_type": "stream",
     "text": [
      "Epoch [72/800] test accuracy: 0.4006 time: 14.86\n"
     ]
    },
    {
     "name": "stderr",
     "output_type": "stream",
     "text": [
      "Sample: 100%|█████████████████████████████████████████████████████████████████| 100/100 [00:03, 27.37it/s, lr=1.00e-06]\n"
     ]
    },
    {
     "name": "stdout",
     "output_type": "stream",
     "text": [
      "Epoch [73/800] test accuracy: 0.4003 time: 15.13\n"
     ]
    },
    {
     "name": "stderr",
     "output_type": "stream",
     "text": [
      "Sample: 100%|█████████████████████████████████████████████████████████████████| 100/100 [00:03, 27.58it/s, lr=1.00e-06]\n"
     ]
    },
    {
     "name": "stdout",
     "output_type": "stream",
     "text": [
      "Epoch [74/800] test accuracy: 0.4003 time: 15.16\n"
     ]
    },
    {
     "name": "stderr",
     "output_type": "stream",
     "text": [
      "Sample: 100%|█████████████████████████████████████████████████████████████████| 100/100 [00:03, 26.58it/s, lr=1.00e-06]\n"
     ]
    },
    {
     "name": "stdout",
     "output_type": "stream",
     "text": [
      "Epoch [75/800] test accuracy: 0.4012 time: 15.14\n"
     ]
    },
    {
     "name": "stderr",
     "output_type": "stream",
     "text": [
      "Sample: 100%|█████████████████████████████████████████████████████████████████| 100/100 [00:03, 26.85it/s, lr=1.00e-06]\n"
     ]
    },
    {
     "name": "stdout",
     "output_type": "stream",
     "text": [
      "Epoch [76/800] test accuracy: 0.4009 time: 14.71\n"
     ]
    },
    {
     "name": "stderr",
     "output_type": "stream",
     "text": [
      "Sample: 100%|█████████████████████████████████████████████████████████████████| 100/100 [00:03, 27.25it/s, lr=1.00e-06]\n"
     ]
    },
    {
     "name": "stdout",
     "output_type": "stream",
     "text": [
      "Epoch [77/800] test accuracy: 0.4004 time: 14.84\n"
     ]
    },
    {
     "name": "stderr",
     "output_type": "stream",
     "text": [
      "Sample: 100%|█████████████████████████████████████████████████████████████████| 100/100 [00:03, 27.37it/s, lr=1.00e-06]\n"
     ]
    },
    {
     "name": "stdout",
     "output_type": "stream",
     "text": [
      "Epoch [78/800] test accuracy: 0.4000 time: 14.74\n"
     ]
    },
    {
     "name": "stderr",
     "output_type": "stream",
     "text": [
      "Sample: 100%|█████████████████████████████████████████████████████████████████| 100/100 [00:03, 27.24it/s, lr=1.00e-06]\n"
     ]
    },
    {
     "name": "stdout",
     "output_type": "stream",
     "text": [
      "Epoch [79/800] test accuracy: 0.4002 time: 14.74\n"
     ]
    },
    {
     "name": "stderr",
     "output_type": "stream",
     "text": [
      "Sample: 100%|█████████████████████████████████████████████████████████████████| 100/100 [00:03, 26.85it/s, lr=1.00e-06]\n"
     ]
    },
    {
     "name": "stdout",
     "output_type": "stream",
     "text": [
      "Epoch [80/800] test accuracy: 0.4000 time: 14.88\n"
     ]
    },
    {
     "name": "stderr",
     "output_type": "stream",
     "text": [
      "Sample: 100%|█████████████████████████████████████████████████████████████████| 100/100 [00:03, 26.54it/s, lr=1.00e-06]\n"
     ]
    },
    {
     "name": "stdout",
     "output_type": "stream",
     "text": [
      "Epoch [81/800] test accuracy: 0.4003 time: 15.13\n"
     ]
    },
    {
     "name": "stderr",
     "output_type": "stream",
     "text": [
      "Sample: 100%|█████████████████████████████████████████████████████████████████| 100/100 [00:03, 26.91it/s, lr=1.00e-06]\n"
     ]
    },
    {
     "name": "stdout",
     "output_type": "stream",
     "text": [
      "Epoch [82/800] test accuracy: 0.4001 time: 14.81\n"
     ]
    },
    {
     "name": "stderr",
     "output_type": "stream",
     "text": [
      "Sample: 100%|█████████████████████████████████████████████████████████████████| 100/100 [00:03, 26.97it/s, lr=1.00e-06]\n"
     ]
    },
    {
     "name": "stdout",
     "output_type": "stream",
     "text": [
      "Epoch [83/800] test accuracy: 0.4008 time: 14.82\n"
     ]
    },
    {
     "name": "stderr",
     "output_type": "stream",
     "text": [
      "Sample: 100%|█████████████████████████████████████████████████████████████████| 100/100 [00:03, 27.03it/s, lr=1.00e-06]\n"
     ]
    },
    {
     "name": "stdout",
     "output_type": "stream",
     "text": [
      "Epoch [84/800] test accuracy: 0.4009 time: 14.76\n"
     ]
    },
    {
     "name": "stderr",
     "output_type": "stream",
     "text": [
      "Sample: 100%|█████████████████████████████████████████████████████████████████| 100/100 [00:03, 27.47it/s, lr=1.00e-06]\n"
     ]
    },
    {
     "name": "stdout",
     "output_type": "stream",
     "text": [
      "Epoch [85/800] test accuracy: 0.4002 time: 14.75\n"
     ]
    },
    {
     "name": "stderr",
     "output_type": "stream",
     "text": [
      "Sample: 100%|█████████████████████████████████████████████████████████████████| 100/100 [00:03, 27.05it/s, lr=1.00e-06]\n"
     ]
    },
    {
     "name": "stdout",
     "output_type": "stream",
     "text": [
      "Epoch [86/800] test accuracy: 0.4001 time: 14.79\n"
     ]
    },
    {
     "name": "stderr",
     "output_type": "stream",
     "text": [
      "Sample: 100%|█████████████████████████████████████████████████████████████████| 100/100 [00:03, 27.26it/s, lr=1.00e-06]\n"
     ]
    },
    {
     "name": "stdout",
     "output_type": "stream",
     "text": [
      "Epoch [87/800] test accuracy: 0.3999 time: 15.13\n"
     ]
    },
    {
     "name": "stderr",
     "output_type": "stream",
     "text": [
      "Sample: 100%|█████████████████████████████████████████████████████████████████| 100/100 [00:03, 26.81it/s, lr=1.00e-06]\n"
     ]
    },
    {
     "name": "stdout",
     "output_type": "stream",
     "text": [
      "Epoch [88/800] test accuracy: 0.3998 time: 14.92\n"
     ]
    },
    {
     "name": "stderr",
     "output_type": "stream",
     "text": [
      "Sample: 100%|█████████████████████████████████████████████████████████████████| 100/100 [00:03, 27.29it/s, lr=1.00e-06]\n"
     ]
    },
    {
     "name": "stdout",
     "output_type": "stream",
     "text": [
      "Epoch [89/800] test accuracy: 0.3992 time: 14.78\n"
     ]
    },
    {
     "name": "stderr",
     "output_type": "stream",
     "text": [
      "Sample: 100%|█████████████████████████████████████████████████████████████████| 100/100 [00:03, 27.29it/s, lr=1.00e-06]\n"
     ]
    },
    {
     "name": "stdout",
     "output_type": "stream",
     "text": [
      "Epoch [90/800] test accuracy: 0.3994 time: 14.80\n"
     ]
    },
    {
     "name": "stderr",
     "output_type": "stream",
     "text": [
      "Sample: 100%|█████████████████████████████████████████████████████████████████| 100/100 [00:03, 26.86it/s, lr=1.00e-06]\n"
     ]
    },
    {
     "name": "stdout",
     "output_type": "stream",
     "text": [
      "Epoch [91/800] test accuracy: 0.3997 time: 14.79\n"
     ]
    },
    {
     "name": "stderr",
     "output_type": "stream",
     "text": [
      "Sample: 100%|█████████████████████████████████████████████████████████████████| 100/100 [00:03, 27.08it/s, lr=1.00e-06]\n"
     ]
    },
    {
     "name": "stdout",
     "output_type": "stream",
     "text": [
      "Epoch [92/800] test accuracy: 0.3999 time: 14.78\n"
     ]
    },
    {
     "name": "stderr",
     "output_type": "stream",
     "text": [
      "Sample: 100%|█████████████████████████████████████████████████████████████████| 100/100 [00:03, 27.29it/s, lr=1.00e-06]\n"
     ]
    },
    {
     "name": "stdout",
     "output_type": "stream",
     "text": [
      "Epoch [93/800] test accuracy: 0.4001 time: 14.92\n"
     ]
    },
    {
     "name": "stderr",
     "output_type": "stream",
     "text": [
      "Sample: 100%|█████████████████████████████████████████████████████████████████| 100/100 [00:03, 26.96it/s, lr=1.00e-06]\n"
     ]
    },
    {
     "name": "stdout",
     "output_type": "stream",
     "text": [
      "Epoch [94/800] test accuracy: 0.3999 time: 15.19\n"
     ]
    },
    {
     "name": "stderr",
     "output_type": "stream",
     "text": [
      "Sample: 100%|█████████████████████████████████████████████████████████████████| 100/100 [00:03, 26.90it/s, lr=1.00e-06]\n"
     ]
    },
    {
     "name": "stdout",
     "output_type": "stream",
     "text": [
      "Epoch [95/800] test accuracy: 0.3997 time: 14.75\n"
     ]
    },
    {
     "name": "stderr",
     "output_type": "stream",
     "text": [
      "Sample: 100%|█████████████████████████████████████████████████████████████████| 100/100 [00:03, 27.33it/s, lr=1.00e-06]\n"
     ]
    },
    {
     "name": "stdout",
     "output_type": "stream",
     "text": [
      "Epoch [96/800] test accuracy: 0.3997 time: 14.74\n"
     ]
    },
    {
     "name": "stderr",
     "output_type": "stream",
     "text": [
      "Sample: 100%|█████████████████████████████████████████████████████████████████| 100/100 [00:03, 27.50it/s, lr=1.00e-06]\n"
     ]
    },
    {
     "name": "stdout",
     "output_type": "stream",
     "text": [
      "Epoch [97/800] test accuracy: 0.4008 time: 14.80\n"
     ]
    },
    {
     "name": "stderr",
     "output_type": "stream",
     "text": [
      "Sample: 100%|█████████████████████████████████████████████████████████████████| 100/100 [00:03, 27.52it/s, lr=1.00e-06]\n"
     ]
    },
    {
     "name": "stdout",
     "output_type": "stream",
     "text": [
      "Epoch [98/800] test accuracy: 0.4014 time: 14.77\n"
     ]
    },
    {
     "name": "stderr",
     "output_type": "stream",
     "text": [
      "Sample: 100%|█████████████████████████████████████████████████████████████████| 100/100 [00:03, 27.22it/s, lr=1.00e-06]\n"
     ]
    },
    {
     "name": "stdout",
     "output_type": "stream",
     "text": [
      "Epoch [99/800] test accuracy: 0.4014 time: 14.75\n"
     ]
    },
    {
     "name": "stderr",
     "output_type": "stream",
     "text": [
      "Sample: 100%|█████████████████████████████████████████████████████████████████| 100/100 [00:03, 27.30it/s, lr=1.00e-06]\n"
     ]
    },
    {
     "name": "stdout",
     "output_type": "stream",
     "text": [
      "Epoch [100/800] test accuracy: 0.4018 time: 15.06\n"
     ]
    },
    {
     "name": "stderr",
     "output_type": "stream",
     "text": [
      "Sample: 100%|█████████████████████████████████████████████████████████████████| 100/100 [00:03, 26.85it/s, lr=1.00e-06]\n"
     ]
    },
    {
     "name": "stdout",
     "output_type": "stream",
     "text": [
      "Epoch [101/800] test accuracy: 0.4021 time: 14.86\n"
     ]
    },
    {
     "name": "stderr",
     "output_type": "stream",
     "text": [
      "Sample: 100%|█████████████████████████████████████████████████████████████████| 100/100 [00:03, 27.06it/s, lr=1.00e-06]\n"
     ]
    },
    {
     "name": "stdout",
     "output_type": "stream",
     "text": [
      "Epoch [102/800] test accuracy: 0.4018 time: 14.71\n"
     ]
    },
    {
     "name": "stderr",
     "output_type": "stream",
     "text": [
      "Sample: 100%|█████████████████████████████████████████████████████████████████| 100/100 [00:03, 27.45it/s, lr=1.00e-06]\n"
     ]
    },
    {
     "name": "stdout",
     "output_type": "stream",
     "text": [
      "Epoch [103/800] test accuracy: 0.4019 time: 14.71\n"
     ]
    },
    {
     "name": "stderr",
     "output_type": "stream",
     "text": [
      "Sample: 100%|█████████████████████████████████████████████████████████████████| 100/100 [00:03, 27.43it/s, lr=1.00e-06]\n"
     ]
    },
    {
     "name": "stdout",
     "output_type": "stream",
     "text": [
      "Epoch [104/800] test accuracy: 0.4019 time: 14.82\n"
     ]
    },
    {
     "name": "stderr",
     "output_type": "stream",
     "text": [
      "Sample: 100%|█████████████████████████████████████████████████████████████████| 100/100 [00:03, 27.27it/s, lr=1.00e-06]\n"
     ]
    },
    {
     "name": "stdout",
     "output_type": "stream",
     "text": [
      "Epoch [105/800] test accuracy: 0.4021 time: 14.74\n"
     ]
    },
    {
     "name": "stderr",
     "output_type": "stream",
     "text": [
      "Sample: 100%|█████████████████████████████████████████████████████████████████| 100/100 [00:03, 27.41it/s, lr=1.00e-06]\n"
     ]
    },
    {
     "name": "stdout",
     "output_type": "stream",
     "text": [
      "Epoch [106/800] test accuracy: 0.4013 time: 14.90\n"
     ]
    },
    {
     "name": "stderr",
     "output_type": "stream",
     "text": [
      "Sample: 100%|█████████████████████████████████████████████████████████████████| 100/100 [00:03, 26.77it/s, lr=1.00e-06]\n"
     ]
    },
    {
     "name": "stdout",
     "output_type": "stream",
     "text": [
      "Epoch [107/800] test accuracy: 0.4016 time: 15.09\n"
     ]
    },
    {
     "name": "stderr",
     "output_type": "stream",
     "text": [
      "Sample: 100%|█████████████████████████████████████████████████████████████████| 100/100 [00:03, 27.22it/s, lr=1.00e-06]\n"
     ]
    },
    {
     "name": "stdout",
     "output_type": "stream",
     "text": [
      "Epoch [108/800] test accuracy: 0.4020 time: 14.88\n"
     ]
    },
    {
     "name": "stderr",
     "output_type": "stream",
     "text": [
      "Sample: 100%|█████████████████████████████████████████████████████████████████| 100/100 [00:03, 27.38it/s, lr=1.00e-06]\n"
     ]
    },
    {
     "name": "stdout",
     "output_type": "stream",
     "text": [
      "Epoch [109/800] test accuracy: 0.4019 time: 14.79\n"
     ]
    },
    {
     "name": "stderr",
     "output_type": "stream",
     "text": [
      "Sample: 100%|█████████████████████████████████████████████████████████████████| 100/100 [00:03, 27.08it/s, lr=1.00e-06]\n"
     ]
    },
    {
     "name": "stdout",
     "output_type": "stream",
     "text": [
      "Epoch [110/800] test accuracy: 0.4025 time: 14.79\n"
     ]
    },
    {
     "name": "stderr",
     "output_type": "stream",
     "text": [
      "Sample: 100%|█████████████████████████████████████████████████████████████████| 100/100 [00:03, 27.31it/s, lr=1.00e-06]\n"
     ]
    },
    {
     "name": "stdout",
     "output_type": "stream",
     "text": [
      "Epoch [111/800] test accuracy: 0.4027 time: 14.71\n"
     ]
    },
    {
     "name": "stderr",
     "output_type": "stream",
     "text": [
      "Sample: 100%|█████████████████████████████████████████████████████████████████| 100/100 [00:03, 27.08it/s, lr=1.00e-06]\n"
     ]
    },
    {
     "name": "stdout",
     "output_type": "stream",
     "text": [
      "Epoch [112/800] test accuracy: 0.4028 time: 14.77\n"
     ]
    },
    {
     "name": "stderr",
     "output_type": "stream",
     "text": [
      "Sample: 100%|█████████████████████████████████████████████████████████████████| 100/100 [00:03, 26.80it/s, lr=1.00e-06]\n"
     ]
    },
    {
     "name": "stdout",
     "output_type": "stream",
     "text": [
      "Epoch [113/800] test accuracy: 0.4031 time: 15.06\n"
     ]
    },
    {
     "name": "stderr",
     "output_type": "stream",
     "text": [
      "Sample: 100%|█████████████████████████████████████████████████████████████████| 100/100 [00:03, 26.66it/s, lr=1.00e-06]\n"
     ]
    },
    {
     "name": "stdout",
     "output_type": "stream",
     "text": [
      "Epoch [114/800] test accuracy: 0.4035 time: 14.89\n"
     ]
    },
    {
     "name": "stderr",
     "output_type": "stream",
     "text": [
      "Sample: 100%|█████████████████████████████████████████████████████████████████| 100/100 [00:03, 26.91it/s, lr=1.00e-06]\n"
     ]
    },
    {
     "name": "stdout",
     "output_type": "stream",
     "text": [
      "Epoch [115/800] test accuracy: 0.4039 time: 14.75\n"
     ]
    },
    {
     "name": "stderr",
     "output_type": "stream",
     "text": [
      "Sample: 100%|█████████████████████████████████████████████████████████████████| 100/100 [00:03, 26.85it/s, lr=1.00e-06]\n"
     ]
    },
    {
     "name": "stdout",
     "output_type": "stream",
     "text": [
      "Epoch [116/800] test accuracy: 0.4041 time: 14.80\n"
     ]
    },
    {
     "name": "stderr",
     "output_type": "stream",
     "text": [
      "Sample: 100%|█████████████████████████████████████████████████████████████████| 100/100 [00:03, 26.95it/s, lr=1.00e-06]\n"
     ]
    },
    {
     "name": "stdout",
     "output_type": "stream",
     "text": [
      "Epoch [117/800] test accuracy: 0.4038 time: 14.78\n"
     ]
    },
    {
     "name": "stderr",
     "output_type": "stream",
     "text": [
      "Sample: 100%|█████████████████████████████████████████████████████████████████| 100/100 [00:03, 26.91it/s, lr=1.00e-06]\n"
     ]
    },
    {
     "name": "stdout",
     "output_type": "stream",
     "text": [
      "Epoch [118/800] test accuracy: 0.4036 time: 14.79\n"
     ]
    },
    {
     "name": "stderr",
     "output_type": "stream",
     "text": [
      "Sample: 100%|█████████████████████████████████████████████████████████████████| 100/100 [00:03, 26.32it/s, lr=1.00e-06]\n"
     ]
    },
    {
     "name": "stdout",
     "output_type": "stream",
     "text": [
      "Epoch [119/800] test accuracy: 0.4037 time: 14.89\n"
     ]
    },
    {
     "name": "stderr",
     "output_type": "stream",
     "text": [
      "Sample: 100%|█████████████████████████████████████████████████████████████████| 100/100 [00:03, 26.76it/s, lr=1.00e-06]\n"
     ]
    },
    {
     "name": "stdout",
     "output_type": "stream",
     "text": [
      "Epoch [120/800] test accuracy: 0.4041 time: 15.04\n"
     ]
    },
    {
     "name": "stderr",
     "output_type": "stream",
     "text": [
      "Sample: 100%|█████████████████████████████████████████████████████████████████| 100/100 [00:03, 26.77it/s, lr=1.00e-06]\n"
     ]
    },
    {
     "name": "stdout",
     "output_type": "stream",
     "text": [
      "Epoch [121/800] test accuracy: 0.4038 time: 14.87\n"
     ]
    },
    {
     "name": "stderr",
     "output_type": "stream",
     "text": [
      "Sample: 100%|█████████████████████████████████████████████████████████████████| 100/100 [00:03, 27.19it/s, lr=1.00e-06]\n"
     ]
    },
    {
     "name": "stdout",
     "output_type": "stream",
     "text": [
      "Epoch [122/800] test accuracy: 0.4035 time: 14.80\n"
     ]
    },
    {
     "name": "stderr",
     "output_type": "stream",
     "text": [
      "Sample: 100%|█████████████████████████████████████████████████████████████████| 100/100 [00:03, 27.18it/s, lr=1.00e-06]\n"
     ]
    },
    {
     "name": "stdout",
     "output_type": "stream",
     "text": [
      "Epoch [123/800] test accuracy: 0.4037 time: 14.76\n"
     ]
    },
    {
     "name": "stderr",
     "output_type": "stream",
     "text": [
      "Sample: 100%|█████████████████████████████████████████████████████████████████| 100/100 [00:03, 26.99it/s, lr=1.00e-06]\n"
     ]
    },
    {
     "name": "stdout",
     "output_type": "stream",
     "text": [
      "Epoch [124/800] test accuracy: 0.4035 time: 14.80\n"
     ]
    },
    {
     "name": "stderr",
     "output_type": "stream",
     "text": [
      "Sample: 100%|█████████████████████████████████████████████████████████████████| 100/100 [00:03, 26.91it/s, lr=1.00e-06]\n"
     ]
    },
    {
     "name": "stdout",
     "output_type": "stream",
     "text": [
      "Epoch [125/800] test accuracy: 0.4032 time: 14.82\n"
     ]
    },
    {
     "name": "stderr",
     "output_type": "stream",
     "text": [
      "Sample: 100%|█████████████████████████████████████████████████████████████████| 100/100 [00:03, 26.85it/s, lr=1.00e-06]\n"
     ]
    },
    {
     "name": "stdout",
     "output_type": "stream",
     "text": [
      "Epoch [126/800] test accuracy: 0.4035 time: 15.08\n"
     ]
    },
    {
     "name": "stderr",
     "output_type": "stream",
     "text": [
      "Sample: 100%|█████████████████████████████████████████████████████████████████| 100/100 [00:03, 26.65it/s, lr=1.00e-06]\n"
     ]
    },
    {
     "name": "stdout",
     "output_type": "stream",
     "text": [
      "Epoch [127/800] test accuracy: 0.4037 time: 14.86\n"
     ]
    },
    {
     "name": "stderr",
     "output_type": "stream",
     "text": [
      "Sample: 100%|█████████████████████████████████████████████████████████████████| 100/100 [00:03, 27.19it/s, lr=1.00e-06]\n"
     ]
    },
    {
     "name": "stdout",
     "output_type": "stream",
     "text": [
      "Epoch [128/800] test accuracy: 0.4039 time: 14.84\n"
     ]
    },
    {
     "name": "stderr",
     "output_type": "stream",
     "text": [
      "Sample: 100%|█████████████████████████████████████████████████████████████████| 100/100 [00:03, 26.98it/s, lr=1.00e-06]\n"
     ]
    },
    {
     "name": "stdout",
     "output_type": "stream",
     "text": [
      "Epoch [129/800] test accuracy: 0.4048 time: 14.81\n"
     ]
    },
    {
     "name": "stderr",
     "output_type": "stream",
     "text": [
      "Sample: 100%|█████████████████████████████████████████████████████████████████| 100/100 [00:03, 27.46it/s, lr=1.00e-06]\n"
     ]
    },
    {
     "name": "stdout",
     "output_type": "stream",
     "text": [
      "Epoch [130/800] test accuracy: 0.4046 time: 14.87\n"
     ]
    },
    {
     "name": "stderr",
     "output_type": "stream",
     "text": [
      "Sample: 100%|█████████████████████████████████████████████████████████████████| 100/100 [00:03, 27.61it/s, lr=1.00e-06]\n"
     ]
    },
    {
     "name": "stdout",
     "output_type": "stream",
     "text": [
      "Epoch [131/800] test accuracy: 0.4042 time: 14.80\n"
     ]
    },
    {
     "name": "stderr",
     "output_type": "stream",
     "text": [
      "Sample: 100%|█████████████████████████████████████████████████████████████████| 100/100 [00:03, 27.17it/s, lr=1.00e-06]\n"
     ]
    },
    {
     "name": "stdout",
     "output_type": "stream",
     "text": [
      "Epoch [132/800] test accuracy: 0.4035 time: 15.48\n"
     ]
    },
    {
     "name": "stderr",
     "output_type": "stream",
     "text": [
      "Sample: 100%|█████████████████████████████████████████████████████████████████| 100/100 [00:03, 25.84it/s, lr=1.00e-06]\n"
     ]
    },
    {
     "name": "stdout",
     "output_type": "stream",
     "text": [
      "Epoch [133/800] test accuracy: 0.4033 time: 15.67\n"
     ]
    },
    {
     "name": "stderr",
     "output_type": "stream",
     "text": [
      "Sample: 100%|█████████████████████████████████████████████████████████████████| 100/100 [00:03, 26.06it/s, lr=1.00e-06]\n"
     ]
    },
    {
     "name": "stdout",
     "output_type": "stream",
     "text": [
      "Epoch [134/800] test accuracy: 0.4034 time: 15.25\n"
     ]
    },
    {
     "name": "stderr",
     "output_type": "stream",
     "text": [
      "Sample: 100%|█████████████████████████████████████████████████████████████████| 100/100 [00:03, 26.17it/s, lr=1.00e-06]\n"
     ]
    },
    {
     "name": "stdout",
     "output_type": "stream",
     "text": [
      "Epoch [135/800] test accuracy: 0.4040 time: 15.38\n"
     ]
    },
    {
     "name": "stderr",
     "output_type": "stream",
     "text": [
      "Sample: 100%|█████████████████████████████████████████████████████████████████| 100/100 [00:03, 26.32it/s, lr=1.00e-06]\n"
     ]
    },
    {
     "name": "stdout",
     "output_type": "stream",
     "text": [
      "Epoch [136/800] test accuracy: 0.4037 time: 15.24\n"
     ]
    },
    {
     "name": "stderr",
     "output_type": "stream",
     "text": [
      "Sample: 100%|█████████████████████████████████████████████████████████████████| 100/100 [00:03, 27.28it/s, lr=1.00e-06]\n"
     ]
    },
    {
     "name": "stdout",
     "output_type": "stream",
     "text": [
      "Epoch [137/800] test accuracy: 0.4036 time: 14.98\n"
     ]
    },
    {
     "name": "stderr",
     "output_type": "stream",
     "text": [
      "Sample: 100%|█████████████████████████████████████████████████████████████████| 100/100 [00:03, 27.51it/s, lr=1.00e-06]\n"
     ]
    }
   ],
   "source": [
    "LR = 1e-6\n",
    "MOMENTUM_DECAY = 0.01\n",
    "RESAMPLE_EVERY_N = 0\n",
    "NUM_STEPS = 1\n",
    "\n",
    "pyro.clear_param_store()\n",
    "\n",
    "bnn = CBNN(32, HIDDEN_SIZE, 10, device=device).to(device)\n",
    "# bnn = deep_CBNN(10, device=device).to(device)\n",
    "\n",
    "sghmc = SGHMC(bnn,\n",
    "              subsample_positions=[0, 1],\n",
    "              batch_size=BATCH_SIZE,\n",
    "              learning_rate=LR,\n",
    "              momentum_decay=MOMENTUM_DECAY,\n",
    "              num_steps=NUM_STEPS,\n",
    "              resample_every_n=RESAMPLE_EVERY_N,\n",
    "              device=device)\n",
    "\n",
    "sghmc_mcmc = MCMC(sghmc, num_samples=len(train_dataset)//BATCH_SIZE, warmup_steps=0, mp_context=\"spawn\")\n",
    "\n",
    "sghmc_test_errs = []\n",
    "\n",
    "# full posterior predictive \n",
    "full_predictive = torch.FloatTensor(10000, 10)\n",
    "full_predictive.zero_()\n",
    "\n",
    "for epoch in range(1, 1+NUM_EPOCHS + WARMUP_EPOCHS):\n",
    "    bnn.train()\n",
    "    sghmc_mcmc.run(X_train, Y_train)\n",
    "    \n",
    "    if epoch >= WARMUP_EPOCHS:\n",
    "        \n",
    "        sghmc_samples = sghmc_mcmc.get_samples()\n",
    "        bnn.eval()\n",
    "        predictive = pyro.infer.Predictive(bnn, posterior_samples=sghmc_samples)\n",
    "        start = time.time()\n",
    "        \n",
    "        with torch.no_grad():\n",
    "            epoch_predictive = None\n",
    "            for x, y in val_loader:\n",
    "                if epoch_predictive is None:\n",
    "                    epoch_predictive = predictive(x)['obs'].to(torch.int64)\n",
    "                else:\n",
    "                    epoch_predictive = torch.cat((epoch_predictive, predictive(x)['obs'].to(torch.int64)), dim=1)\n",
    "        \n",
    "            epoch_predictive = epoch_predictive.cpu()\n",
    "            \n",
    "            for sample in epoch_predictive:\n",
    "                predictive_one_hot = F.one_hot(sample, num_classes=10)\n",
    "                full_predictive = full_predictive + predictive_one_hot\n",
    "                \n",
    "            full_y_hat = torch.argmax(full_predictive, dim=1)\n",
    "            total = Y_val.shape[0]\n",
    "            correct = int((full_y_hat == Y_val).sum())\n",
    "            \n",
    "        end = time.time()\n",
    "        \n",
    "        sghmc_test_errs.append(1.0 - correct/total)\n",
    "\n",
    "        print(\"Epoch [{}/{}] test accuracy: {:.4f} time: {:.2f}\".format(epoch-WARMUP_EPOCHS, NUM_EPOCHS, correct/total, end - start))"
   ]
  },
  {
   "cell_type": "code",
   "execution_count": null,
   "id": "455ca9f6",
   "metadata": {},
   "outputs": [],
   "source": []
  }
 ],
 "metadata": {
  "kernelspec": {
   "display_name": "Python 3 (ipykernel)",
   "language": "python",
   "name": "python3"
  },
  "language_info": {
   "codemirror_mode": {
    "name": "ipython",
    "version": 3
   },
   "file_extension": ".py",
   "mimetype": "text/x-python",
   "name": "python",
   "nbconvert_exporter": "python",
   "pygments_lexer": "ipython3",
   "version": "3.9.7"
  }
 },
 "nbformat": 4,
 "nbformat_minor": 5
}
